{
  "cells": [
    {
      "cell_type": "markdown",
      "metadata": {
        "id": "view-in-github",
        "colab_type": "text"
      },
      "source": [
        "<a href=\"https://colab.research.google.com/github/mjiii25/22-1_DLAI/blob/main/chapter05_fundamentals-of-ml.ipynb\" target=\"_parent\"><img src=\"https://colab.research.google.com/assets/colab-badge.svg\" alt=\"Open In Colab\"/></a>"
      ]
    },
    {
      "cell_type": "markdown",
      "metadata": {
        "id": "s9A8N6YciB2u"
      },
      "source": [
        "This is a companion notebook for the book [Deep Learning with Python, Second Edition](https://www.manning.com/books/deep-learning-with-python-second-edition?a_aid=keras&a_bid=76564dff). For readability, it only contains runnable code blocks and section titles, and omits everything else in the book: text paragraphs, figures, and pseudocode.\n",
        "\n",
        "**If you want to be able to follow what's going on, I recommend reading the notebook side by side with your copy of the book.**\n",
        "\n",
        "This notebook was generated for TensorFlow 2.6."
      ]
    },
    {
      "cell_type": "markdown",
      "metadata": {
        "id": "Yp0H1ppViB21"
      },
      "source": [
        "# Fundamentals of machine learning"
      ]
    },
    {
      "cell_type": "markdown",
      "metadata": {
        "id": "8K9f3Ay2iB22"
      },
      "source": [
        "## Generalization: The goal of machine learning"
      ]
    },
    {
      "cell_type": "markdown",
      "source": [
        "- Optimization : adjusting a model to get the best performance possible on the training data\n",
        "- Generalization : how well the trained model performs on data it has never seen before"
      ],
      "metadata": {
        "id": "aw3s20hAiQsp"
      }
    },
    {
      "cell_type": "markdown",
      "metadata": {
        "id": "2Ug_H_KYiB23"
      },
      "source": [
        "### Underfitting and overfitting"
      ]
    },
    {
      "cell_type": "markdown",
      "source": [
        "- Underfitting : too simple to explian the variance\n",
        "- Overfitting : too good to be true"
      ],
      "metadata": {
        "id": "PXCniRaKi4WH"
      }
    },
    {
      "cell_type": "markdown",
      "metadata": {
        "id": "fzAcF9nQiB24"
      },
      "source": [
        "#### Noisy training data"
      ]
    },
    {
      "cell_type": "markdown",
      "source": [
        "In real-world datasets, it's fairly common for some inputs to be invalid. (difficulty in recognizing datas)"
      ],
      "metadata": {
        "id": "65Ob3iw5j0zP"
      }
    },
    {
      "cell_type": "markdown",
      "metadata": {
        "id": "iCJrdULaiB24"
      },
      "source": [
        "#### Ambiguous features"
      ]
    },
    {
      "cell_type": "markdown",
      "metadata": {
        "id": "aP2SyQk8iB25"
      },
      "source": [
        "#### Rare features and suspicious correlations"
      ]
    },
    {
      "cell_type": "markdown",
      "metadata": {
        "id": "Joq7R4FniB26"
      },
      "source": [
        "**Adding white-noise channels or all-zeros channels to MNIST**"
      ]
    },
    {
      "cell_type": "code",
      "execution_count": 1,
      "metadata": {
        "id": "GkIYYxA4iB27",
        "outputId": "c6560945-aaf1-4c7d-fc0c-bbeecf11195f",
        "colab": {
          "base_uri": "https://localhost:8080/"
        }
      },
      "outputs": [
        {
          "output_type": "stream",
          "name": "stdout",
          "text": [
            "Downloading data from https://storage.googleapis.com/tensorflow/tf-keras-datasets/mnist.npz\n",
            "11493376/11490434 [==============================] - 0s 0us/step\n",
            "11501568/11490434 [==============================] - 0s 0us/step\n"
          ]
        }
      ],
      "source": [
        "from tensorflow.keras.datasets import mnist\n",
        "import numpy as np\n",
        "\n",
        "(train_images, train_labels), _ = mnist.load_data()\n",
        "train_images = train_images.reshape((60000, 28 * 28))\n",
        "train_images = train_images.astype(\"float32\") / 255\n",
        "\n",
        "train_images_with_noise_channels = np.concatenate(\n",
        "    [train_images, np.random.random((len(train_images), 784))], axis=1)                   # add random noises\n",
        "\n",
        "train_images_with_zeros_channels = np.concatenate(\n",
        "    [train_images, np.zeros((len(train_images), 784))], axis=1)"
      ]
    },
    {
      "cell_type": "code",
      "source": [
        "train_images.shape"
      ],
      "metadata": {
        "id": "48dvr2iklHh2",
        "outputId": "5e94ce00-7077-491f-cf48-cdc61fde1541",
        "colab": {
          "base_uri": "https://localhost:8080/"
        }
      },
      "execution_count": 2,
      "outputs": [
        {
          "output_type": "execute_result",
          "data": {
            "text/plain": [
              "(60000, 784)"
            ]
          },
          "metadata": {},
          "execution_count": 2
        }
      ]
    },
    {
      "cell_type": "code",
      "source": [
        "(len(train_images), 784)"
      ],
      "metadata": {
        "id": "eIh4hJ9PlJ4f",
        "outputId": "83dde64a-a55e-44e4-c8b4-4a61aee2d454",
        "colab": {
          "base_uri": "https://localhost:8080/"
        }
      },
      "execution_count": 5,
      "outputs": [
        {
          "output_type": "execute_result",
          "data": {
            "text/plain": [
              "(60000, 784)"
            ]
          },
          "metadata": {},
          "execution_count": 5
        }
      ]
    },
    {
      "cell_type": "code",
      "source": [
        "train_images_with_zeros_channels.shape"
      ],
      "metadata": {
        "id": "0h8lcq_6lTFL",
        "outputId": "7fa230ab-39a6-40fc-b2f4-c4bd86769f36",
        "colab": {
          "base_uri": "https://localhost:8080/"
        }
      },
      "execution_count": 4,
      "outputs": [
        {
          "output_type": "execute_result",
          "data": {
            "text/plain": [
              "(60000, 1568)"
            ]
          },
          "metadata": {},
          "execution_count": 4
        }
      ]
    },
    {
      "cell_type": "code",
      "source": [
        "np.random.random((len(train_images), 784))"
      ],
      "metadata": {
        "id": "nLt0QRhZlgmi",
        "outputId": "34857ac5-eb45-48d9-918f-65441c233918",
        "colab": {
          "base_uri": "https://localhost:8080/"
        }
      },
      "execution_count": 7,
      "outputs": [
        {
          "output_type": "execute_result",
          "data": {
            "text/plain": [
              "array([[0.56917646, 0.98062116, 0.66567585, ..., 0.98986335, 0.0324368 ,\n",
              "        0.0316645 ],\n",
              "       [0.96919655, 0.36368352, 0.2722961 , ..., 0.639093  , 0.91274763,\n",
              "        0.88301111],\n",
              "       [0.12637665, 0.84663316, 0.82007585, ..., 0.14531497, 0.95675512,\n",
              "        0.42718636],\n",
              "       ...,\n",
              "       [0.69525554, 0.52355716, 0.20407631, ..., 0.0847875 , 0.55145049,\n",
              "        0.32899526],\n",
              "       [0.92031394, 0.1037589 , 0.59535105, ..., 0.59513223, 0.29636388,\n",
              "        0.808731  ],\n",
              "       [0.47446628, 0.39937075, 0.81805282, ..., 0.22795343, 0.73429055,\n",
              "        0.93821997]])"
            ]
          },
          "metadata": {},
          "execution_count": 7
        }
      ]
    },
    {
      "cell_type": "code",
      "source": [
        "np.zeros((len(train_images), 784))"
      ],
      "metadata": {
        "id": "FNR-s18ZlkEU",
        "outputId": "04432494-5dab-430d-9cd1-067ec466cefe",
        "colab": {
          "base_uri": "https://localhost:8080/"
        }
      },
      "execution_count": 8,
      "outputs": [
        {
          "output_type": "execute_result",
          "data": {
            "text/plain": [
              "array([[0., 0., 0., ..., 0., 0., 0.],\n",
              "       [0., 0., 0., ..., 0., 0., 0.],\n",
              "       [0., 0., 0., ..., 0., 0., 0.],\n",
              "       ...,\n",
              "       [0., 0., 0., ..., 0., 0., 0.],\n",
              "       [0., 0., 0., ..., 0., 0., 0.],\n",
              "       [0., 0., 0., ..., 0., 0., 0.]])"
            ]
          },
          "metadata": {},
          "execution_count": 8
        }
      ]
    },
    {
      "cell_type": "markdown",
      "metadata": {
        "id": "BOUr8KfqiB2_"
      },
      "source": [
        "**Training the same model on MNIST data with noise channels or all-zero channels**"
      ]
    },
    {
      "cell_type": "code",
      "execution_count": 9,
      "metadata": {
        "id": "N-tpncnHiB3A",
        "outputId": "5db59224-201c-4652-ca50-f76c1542b63b",
        "colab": {
          "base_uri": "https://localhost:8080/"
        }
      },
      "outputs": [
        {
          "output_type": "stream",
          "name": "stdout",
          "text": [
            "Epoch 1/10\n",
            "375/375 [==============================] - 8s 20ms/step - loss: 0.6207 - accuracy: 0.8138 - val_loss: 0.2905 - val_accuracy: 0.9100\n",
            "Epoch 2/10\n",
            "375/375 [==============================] - 9s 23ms/step - loss: 0.2516 - accuracy: 0.9224 - val_loss: 0.2130 - val_accuracy: 0.9373\n",
            "Epoch 3/10\n",
            "375/375 [==============================] - 7s 18ms/step - loss: 0.1635 - accuracy: 0.9501 - val_loss: 0.1512 - val_accuracy: 0.9562\n",
            "Epoch 4/10\n",
            "375/375 [==============================] - 7s 18ms/step - loss: 0.1144 - accuracy: 0.9639 - val_loss: 0.1336 - val_accuracy: 0.9599\n",
            "Epoch 5/10\n",
            "375/375 [==============================] - 7s 19ms/step - loss: 0.0850 - accuracy: 0.9723 - val_loss: 0.1255 - val_accuracy: 0.9645\n",
            "Epoch 6/10\n",
            "375/375 [==============================] - 7s 19ms/step - loss: 0.0615 - accuracy: 0.9804 - val_loss: 0.1515 - val_accuracy: 0.9566\n",
            "Epoch 7/10\n",
            "375/375 [==============================] - 7s 18ms/step - loss: 0.0475 - accuracy: 0.9848 - val_loss: 0.1386 - val_accuracy: 0.9640\n",
            "Epoch 8/10\n",
            "375/375 [==============================] - 7s 18ms/step - loss: 0.0352 - accuracy: 0.9883 - val_loss: 0.1585 - val_accuracy: 0.9573\n",
            "Epoch 9/10\n",
            "375/375 [==============================] - 7s 18ms/step - loss: 0.0248 - accuracy: 0.9919 - val_loss: 0.1231 - val_accuracy: 0.9707\n",
            "Epoch 10/10\n",
            "375/375 [==============================] - 8s 20ms/step - loss: 0.0204 - accuracy: 0.9933 - val_loss: 0.1427 - val_accuracy: 0.9686\n",
            "Epoch 1/10\n",
            "375/375 [==============================] - 8s 21ms/step - loss: 0.2852 - accuracy: 0.9167 - val_loss: 0.1685 - val_accuracy: 0.9492\n",
            "Epoch 2/10\n",
            "375/375 [==============================] - 7s 18ms/step - loss: 0.1193 - accuracy: 0.9641 - val_loss: 0.1168 - val_accuracy: 0.9651\n",
            "Epoch 3/10\n",
            "375/375 [==============================] - 9s 25ms/step - loss: 0.0797 - accuracy: 0.9767 - val_loss: 0.0868 - val_accuracy: 0.9746\n",
            "Epoch 4/10\n",
            "375/375 [==============================] - 10s 26ms/step - loss: 0.0573 - accuracy: 0.9832 - val_loss: 0.0835 - val_accuracy: 0.9743\n",
            "Epoch 5/10\n",
            "375/375 [==============================] - 10s 28ms/step - loss: 0.0423 - accuracy: 0.9877 - val_loss: 0.0797 - val_accuracy: 0.9774\n",
            "Epoch 6/10\n",
            "375/375 [==============================] - 11s 28ms/step - loss: 0.0318 - accuracy: 0.9908 - val_loss: 0.0869 - val_accuracy: 0.9757\n",
            "Epoch 7/10\n",
            "375/375 [==============================] - 9s 25ms/step - loss: 0.0240 - accuracy: 0.9929 - val_loss: 0.0865 - val_accuracy: 0.9755\n",
            "Epoch 8/10\n",
            "375/375 [==============================] - 7s 20ms/step - loss: 0.0186 - accuracy: 0.9945 - val_loss: 0.0829 - val_accuracy: 0.9793\n",
            "Epoch 9/10\n",
            "375/375 [==============================] - 7s 19ms/step - loss: 0.0145 - accuracy: 0.9958 - val_loss: 0.0826 - val_accuracy: 0.9793\n",
            "Epoch 10/10\n",
            "375/375 [==============================] - 7s 19ms/step - loss: 0.0111 - accuracy: 0.9970 - val_loss: 0.0982 - val_accuracy: 0.9777\n"
          ]
        }
      ],
      "source": [
        "from tensorflow import keras\n",
        "from tensorflow.keras import layers\n",
        "\n",
        "def get_model():                                                                   # define our model\n",
        "    model = keras.Sequential([\n",
        "        layers.Dense(512, activation=\"relu\"),\n",
        "        layers.Dense(10, activation=\"softmax\")\n",
        "    ])\n",
        "    model.compile(optimizer=\"rmsprop\",\n",
        "                  loss=\"sparse_categorical_crossentropy\",\n",
        "                  metrics=[\"accuracy\"])\n",
        "    return model\n",
        "\n",
        "model = get_model()\n",
        "history_noise = model.fit(\n",
        "    train_images_with_noise_channels, train_labels,\n",
        "    epochs=10,\n",
        "    batch_size=128,\n",
        "    validation_split=0.2)\n",
        "\n",
        "model = get_model()\n",
        "history_zeros = model.fit(\n",
        "    train_images_with_zeros_channels, train_labels,\n",
        "    epochs=10,\n",
        "    batch_size=128,\n",
        "    validation_split=0.2)"
      ]
    },
    {
      "cell_type": "code",
      "source": [
        "model = get_model()\n",
        "history1 = model.fit(\n",
        "    train_images, train_labels,\n",
        "    epochs = 10,\n",
        "    batch_size = 128,\n",
        "    validation_split = 0.2\n",
        ")"
      ],
      "metadata": {
        "id": "SqfWAIxyl6rY",
        "outputId": "7885ad2e-163f-426b-bda8-0818bf7724ec",
        "colab": {
          "base_uri": "https://localhost:8080/"
        }
      },
      "execution_count": 10,
      "outputs": [
        {
          "output_type": "stream",
          "name": "stdout",
          "text": [
            "Epoch 1/10\n",
            "375/375 [==============================] - 5s 12ms/step - loss: 0.2913 - accuracy: 0.9152 - val_loss: 0.1544 - val_accuracy: 0.9558\n",
            "Epoch 2/10\n",
            "375/375 [==============================] - 4s 11ms/step - loss: 0.1198 - accuracy: 0.9656 - val_loss: 0.1089 - val_accuracy: 0.9668\n",
            "Epoch 3/10\n",
            "375/375 [==============================] - 4s 11ms/step - loss: 0.0777 - accuracy: 0.9769 - val_loss: 0.0980 - val_accuracy: 0.9718\n",
            "Epoch 4/10\n",
            "375/375 [==============================] - 4s 12ms/step - loss: 0.0563 - accuracy: 0.9837 - val_loss: 0.0859 - val_accuracy: 0.9749\n",
            "Epoch 5/10\n",
            "375/375 [==============================] - 4s 12ms/step - loss: 0.0415 - accuracy: 0.9881 - val_loss: 0.0821 - val_accuracy: 0.9762\n",
            "Epoch 6/10\n",
            "375/375 [==============================] - 5s 12ms/step - loss: 0.0316 - accuracy: 0.9907 - val_loss: 0.1062 - val_accuracy: 0.9680\n",
            "Epoch 7/10\n",
            "375/375 [==============================] - 4s 12ms/step - loss: 0.0233 - accuracy: 0.9935 - val_loss: 0.0770 - val_accuracy: 0.9787\n",
            "Epoch 8/10\n",
            "375/375 [==============================] - 4s 12ms/step - loss: 0.0183 - accuracy: 0.9947 - val_loss: 0.0879 - val_accuracy: 0.9778\n",
            "Epoch 9/10\n",
            "375/375 [==============================] - 4s 12ms/step - loss: 0.0136 - accuracy: 0.9961 - val_loss: 0.0904 - val_accuracy: 0.9773\n",
            "Epoch 10/10\n",
            "375/375 [==============================] - 4s 12ms/step - loss: 0.0105 - accuracy: 0.9970 - val_loss: 0.0909 - val_accuracy: 0.9791\n"
          ]
        }
      ]
    },
    {
      "cell_type": "markdown",
      "metadata": {
        "id": "oQamuWjiiB3C"
      },
      "source": [
        "**Plotting a validation accuracy comparison**"
      ]
    },
    {
      "cell_type": "code",
      "execution_count": 11,
      "metadata": {
        "id": "nMbIn2BsiB3D",
        "outputId": "6cf06ad8-bcdd-403f-b8b5-15952e7b1a4d",
        "colab": {
          "base_uri": "https://localhost:8080/",
          "height": 313
        }
      },
      "outputs": [
        {
          "output_type": "execute_result",
          "data": {
            "text/plain": [
              "<matplotlib.legend.Legend at 0x7f72d5eee950>"
            ]
          },
          "metadata": {},
          "execution_count": 11
        },
        {
          "output_type": "display_data",
          "data": {
            "text/plain": [
              "<Figure size 432x288 with 1 Axes>"
            ],
            "image/png": "[encoded data removed]"
          },
          "metadata": {
            "needs_background": "light"
          }
        }
      ],
      "source": [
        "import matplotlib.pyplot as plt\n",
        "val_acc_noise = history_noise.history[\"val_accuracy\"]\n",
        "val_acc_zeros = history_zeros.history[\"val_accuracy\"]\n",
        "epochs = range(1, 11)\n",
        "plt.plot(epochs, val_acc_noise, \"b-\",\n",
        "         label=\"Validation accuracy with noise channels\")\n",
        "plt.plot(epochs, val_acc_zeros, \"b--\",\n",
        "         label=\"Validation accuracy with zeros channels\")\n",
        "plt.title(\"Effect of noise channels on validation accuracy\")\n",
        "plt.xlabel(\"Epochs\")\n",
        "plt.ylabel(\"Accuracy\")\n",
        "plt.legend()"
      ]
    },
    {
      "cell_type": "markdown",
      "source": [
        "- noise channel has bad performance.\n",
        "- not recommended to add random noise in our classification."
      ],
      "metadata": {
        "id": "eolDPJBIm5sZ"
      }
    },
    {
      "cell_type": "code",
      "source": [
        "import matplotlib.pyplot as plt\n",
        "val_acc = history1.history[\"val_accuracy\"]\n",
        "val_acc_zeros = history_zeros.history[\"val_accuracy\"]\n",
        "epochs = range(1, 11)\n",
        "plt.plot(epochs, val_acc_noise, \"b-\",\n",
        "         label=\"Validation accuracy with original data\")\n",
        "plt.plot(epochs, val_acc_zeros, \"b--\",\n",
        "         label=\"Validation accuracy with zeros channels\")\n",
        "plt.title(\"Effect of noise channels on validation accuracy\")\n",
        "plt.xlabel(\"Epochs\")\n",
        "plt.ylabel(\"Accuracy\")\n",
        "plt.legend()"
      ],
      "metadata": {
        "id": "lJdwFgMRm9Tz",
        "outputId": "5dae3dbe-5776-4f44-bc9e-347807285dfe",
        "colab": {
          "base_uri": "https://localhost:8080/",
          "height": 313
        }
      },
      "execution_count": 13,
      "outputs": [
        {
          "output_type": "execute_result",
          "data": {
            "text/plain": [
              "<matplotlib.legend.Legend at 0x7f72d5b6c3d0>"
            ]
          },
          "metadata": {},
          "execution_count": 13
        },
        {
          "output_type": "display_data",
          "data": {
            "text/plain": [
              "<Figure size 432x288 with 1 Axes>"
            ],
            "image/png": "[encoded data removed]"
          },
          "metadata": {
            "needs_background": "light"
          }
        }
      ]
    },
    {
      "cell_type": "markdown",
      "source": [
        "- They show similar performance."
      ],
      "metadata": {
        "id": "cBybmTNpnSu0"
      }
    },
    {
      "cell_type": "markdown",
      "metadata": {
        "id": "xuLbxBLriB3D"
      },
      "source": [
        "### The nature of generalization in deep learning"
      ]
    },
    {
      "cell_type": "markdown",
      "source": [
        "- deep learning models can be trained to fit anything, as long as they have enough representational power."
      ],
      "metadata": {
        "id": "UYYaOT7Hno-I"
      }
    },
    {
      "cell_type": "markdown",
      "source": [
        "- Even though there is no relationship between the inputs and the shuffled labels, the training loss goes down just fine.\n",
        "- Naturally, the validation loss does not improve at all over time."
      ],
      "metadata": {
        "id": "DrRS5vMzn4FA"
      }
    },
    {
      "cell_type": "markdown",
      "metadata": {
        "id": "g_6mnQWfiB3E"
      },
      "source": [
        "**Fitting a MNIST model with randomly shuffled labels**"
      ]
    },
    {
      "cell_type": "code",
      "execution_count": 14,
      "metadata": {
        "id": "DgB3-4l9iB3F",
        "outputId": "8685a90c-08d3-47da-e002-a1b2a538a99d",
        "colab": {
          "base_uri": "https://localhost:8080/"
        }
      },
      "outputs": [
        {
          "output_type": "stream",
          "name": "stdout",
          "text": [
            "Epoch 1/100\n",
            "375/375 [==============================] - 5s 12ms/step - loss: 2.3181 - accuracy: 0.1010 - val_loss: 2.3075 - val_accuracy: 0.1042\n",
            "Epoch 2/100\n",
            "375/375 [==============================] - 4s 11ms/step - loss: 2.3006 - accuracy: 0.1152 - val_loss: 2.3128 - val_accuracy: 0.0984\n",
            "Epoch 3/100\n",
            "375/375 [==============================] - 4s 11ms/step - loss: 2.2915 - accuracy: 0.1257 - val_loss: 2.3176 - val_accuracy: 0.1034\n",
            "Epoch 4/100\n",
            "375/375 [==============================] - 4s 12ms/step - loss: 2.2791 - accuracy: 0.1369 - val_loss: 2.3304 - val_accuracy: 0.1024\n",
            "Epoch 5/100\n",
            "375/375 [==============================] - 4s 11ms/step - loss: 2.2611 - accuracy: 0.1524 - val_loss: 2.3452 - val_accuracy: 0.1026\n",
            "Epoch 6/100\n",
            "375/375 [==============================] - 4s 11ms/step - loss: 2.2408 - accuracy: 0.1682 - val_loss: 2.3572 - val_accuracy: 0.1046\n",
            "Epoch 7/100\n",
            "375/375 [==============================] - 4s 11ms/step - loss: 2.2178 - accuracy: 0.1785 - val_loss: 2.3571 - val_accuracy: 0.1076\n",
            "Epoch 8/100\n",
            "375/375 [==============================] - 4s 11ms/step - loss: 2.1898 - accuracy: 0.1972 - val_loss: 2.3804 - val_accuracy: 0.1045\n",
            "Epoch 9/100\n",
            "375/375 [==============================] - 4s 11ms/step - loss: 2.1601 - accuracy: 0.2144 - val_loss: 2.3995 - val_accuracy: 0.0982\n",
            "Epoch 10/100\n",
            "375/375 [==============================] - 4s 11ms/step - loss: 2.1288 - accuracy: 0.2317 - val_loss: 2.4205 - val_accuracy: 0.0994\n",
            "Epoch 11/100\n",
            "375/375 [==============================] - 4s 12ms/step - loss: 2.0962 - accuracy: 0.2460 - val_loss: 2.4538 - val_accuracy: 0.0997\n",
            "Epoch 12/100\n",
            "375/375 [==============================] - 4s 11ms/step - loss: 2.0619 - accuracy: 0.2629 - val_loss: 2.4738 - val_accuracy: 0.1011\n",
            "Epoch 13/100\n",
            "375/375 [==============================] - 5s 13ms/step - loss: 2.0270 - accuracy: 0.2788 - val_loss: 2.4923 - val_accuracy: 0.1009\n",
            "Epoch 14/100\n",
            "375/375 [==============================] - 4s 12ms/step - loss: 1.9936 - accuracy: 0.2906 - val_loss: 2.5173 - val_accuracy: 0.0987\n",
            "Epoch 15/100\n",
            "375/375 [==============================] - 4s 12ms/step - loss: 1.9583 - accuracy: 0.3091 - val_loss: 2.5674 - val_accuracy: 0.1018\n",
            "Epoch 16/100\n",
            "375/375 [==============================] - 4s 11ms/step - loss: 1.9228 - accuracy: 0.3244 - val_loss: 2.5961 - val_accuracy: 0.1000\n",
            "Epoch 17/100\n",
            "375/375 [==============================] - 4s 11ms/step - loss: 1.8879 - accuracy: 0.3363 - val_loss: 2.6133 - val_accuracy: 0.1006\n",
            "Epoch 18/100\n",
            "375/375 [==============================] - 4s 12ms/step - loss: 1.8542 - accuracy: 0.3501 - val_loss: 2.6512 - val_accuracy: 0.1006\n",
            "Epoch 19/100\n",
            "375/375 [==============================] - 5s 13ms/step - loss: 1.8214 - accuracy: 0.3631 - val_loss: 2.6798 - val_accuracy: 0.0975\n",
            "Epoch 20/100\n",
            "375/375 [==============================] - 5s 12ms/step - loss: 1.7878 - accuracy: 0.3763 - val_loss: 2.7299 - val_accuracy: 0.0979\n",
            "Epoch 21/100\n",
            "375/375 [==============================] - 5s 12ms/step - loss: 1.7545 - accuracy: 0.3897 - val_loss: 2.7647 - val_accuracy: 0.0997\n",
            "Epoch 22/100\n",
            "375/375 [==============================] - 4s 11ms/step - loss: 1.7237 - accuracy: 0.4024 - val_loss: 2.8062 - val_accuracy: 0.0947\n",
            "Epoch 23/100\n",
            "375/375 [==============================] - 4s 11ms/step - loss: 1.6939 - accuracy: 0.4160 - val_loss: 2.8400 - val_accuracy: 0.0980\n",
            "Epoch 24/100\n",
            "375/375 [==============================] - 4s 11ms/step - loss: 1.6624 - accuracy: 0.4268 - val_loss: 2.8845 - val_accuracy: 0.0985\n",
            "Epoch 25/100\n",
            "375/375 [==============================] - 4s 11ms/step - loss: 1.6324 - accuracy: 0.4377 - val_loss: 2.9168 - val_accuracy: 0.1017\n",
            "Epoch 26/100\n",
            "375/375 [==============================] - 4s 11ms/step - loss: 1.6026 - accuracy: 0.4483 - val_loss: 2.9592 - val_accuracy: 0.0970\n",
            "Epoch 27/100\n",
            "375/375 [==============================] - 4s 11ms/step - loss: 1.5750 - accuracy: 0.4579 - val_loss: 3.0043 - val_accuracy: 0.1028\n",
            "Epoch 28/100\n",
            "375/375 [==============================] - 4s 11ms/step - loss: 1.5470 - accuracy: 0.4712 - val_loss: 3.0837 - val_accuracy: 0.1003\n",
            "Epoch 29/100\n",
            "375/375 [==============================] - 4s 11ms/step - loss: 1.5198 - accuracy: 0.4802 - val_loss: 3.0887 - val_accuracy: 0.1008\n",
            "Epoch 30/100\n",
            "375/375 [==============================] - 5s 12ms/step - loss: 1.4936 - accuracy: 0.4906 - val_loss: 3.1359 - val_accuracy: 0.0989\n",
            "Epoch 31/100\n",
            "375/375 [==============================] - 4s 12ms/step - loss: 1.4646 - accuracy: 0.4988 - val_loss: 3.2041 - val_accuracy: 0.1002\n",
            "Epoch 32/100\n",
            "375/375 [==============================] - 4s 11ms/step - loss: 1.4427 - accuracy: 0.5087 - val_loss: 3.2177 - val_accuracy: 0.1051\n",
            "Epoch 33/100\n",
            "375/375 [==============================] - 4s 11ms/step - loss: 1.4159 - accuracy: 0.5175 - val_loss: 3.2772 - val_accuracy: 0.0989\n",
            "Epoch 34/100\n",
            "375/375 [==============================] - 4s 11ms/step - loss: 1.3916 - accuracy: 0.5281 - val_loss: 3.3238 - val_accuracy: 0.1011\n",
            "Epoch 35/100\n",
            "375/375 [==============================] - 4s 11ms/step - loss: 1.3686 - accuracy: 0.5355 - val_loss: 3.3707 - val_accuracy: 0.1041\n",
            "Epoch 36/100\n",
            "375/375 [==============================] - 4s 11ms/step - loss: 1.3443 - accuracy: 0.5450 - val_loss: 3.4159 - val_accuracy: 0.1006\n",
            "Epoch 37/100\n",
            "375/375 [==============================] - 4s 11ms/step - loss: 1.3208 - accuracy: 0.5507 - val_loss: 3.4575 - val_accuracy: 0.1013\n",
            "Epoch 38/100\n",
            "375/375 [==============================] - 4s 11ms/step - loss: 1.2996 - accuracy: 0.5597 - val_loss: 3.5098 - val_accuracy: 0.0997\n",
            "Epoch 39/100\n",
            "375/375 [==============================] - 4s 12ms/step - loss: 1.2764 - accuracy: 0.5675 - val_loss: 3.5735 - val_accuracy: 0.0989\n",
            "Epoch 40/100\n",
            "375/375 [==============================] - 4s 11ms/step - loss: 1.2561 - accuracy: 0.5770 - val_loss: 3.6065 - val_accuracy: 0.1023\n",
            "Epoch 41/100\n",
            "375/375 [==============================] - 4s 11ms/step - loss: 1.2348 - accuracy: 0.5852 - val_loss: 3.6522 - val_accuracy: 0.1054\n",
            "Epoch 42/100\n",
            "375/375 [==============================] - 4s 12ms/step - loss: 1.2127 - accuracy: 0.5910 - val_loss: 3.7252 - val_accuracy: 0.1024\n",
            "Epoch 43/100\n",
            "375/375 [==============================] - 4s 11ms/step - loss: 1.1921 - accuracy: 0.5991 - val_loss: 3.7734 - val_accuracy: 0.1080\n",
            "Epoch 44/100\n",
            "375/375 [==============================] - 4s 11ms/step - loss: 1.1756 - accuracy: 0.6037 - val_loss: 3.8131 - val_accuracy: 0.1049\n",
            "Epoch 45/100\n",
            "375/375 [==============================] - 4s 11ms/step - loss: 1.1533 - accuracy: 0.6146 - val_loss: 3.8650 - val_accuracy: 0.1018\n",
            "Epoch 46/100\n",
            "375/375 [==============================] - 4s 11ms/step - loss: 1.1369 - accuracy: 0.6181 - val_loss: 3.9287 - val_accuracy: 0.1023\n",
            "Epoch 47/100\n",
            "375/375 [==============================] - 4s 11ms/step - loss: 1.1162 - accuracy: 0.6269 - val_loss: 3.9684 - val_accuracy: 0.1044\n",
            "Epoch 48/100\n",
            "375/375 [==============================] - 4s 11ms/step - loss: 1.1016 - accuracy: 0.6307 - val_loss: 4.0301 - val_accuracy: 0.1028\n",
            "Epoch 49/100\n",
            "375/375 [==============================] - 4s 11ms/step - loss: 1.0816 - accuracy: 0.6404 - val_loss: 4.1016 - val_accuracy: 0.1013\n",
            "Epoch 50/100\n",
            "375/375 [==============================] - 4s 11ms/step - loss: 1.0629 - accuracy: 0.6451 - val_loss: 4.1740 - val_accuracy: 0.1016\n",
            "Epoch 51/100\n",
            "375/375 [==============================] - 4s 11ms/step - loss: 1.0486 - accuracy: 0.6489 - val_loss: 4.1935 - val_accuracy: 0.1004\n",
            "Epoch 52/100\n",
            "375/375 [==============================] - 4s 11ms/step - loss: 1.0298 - accuracy: 0.6565 - val_loss: 4.2433 - val_accuracy: 0.1020\n",
            "Epoch 53/100\n",
            "375/375 [==============================] - 4s 11ms/step - loss: 1.0137 - accuracy: 0.6627 - val_loss: 4.3000 - val_accuracy: 0.1007\n",
            "Epoch 54/100\n",
            "375/375 [==============================] - 4s 11ms/step - loss: 0.9989 - accuracy: 0.6670 - val_loss: 4.3914 - val_accuracy: 0.1025\n",
            "Epoch 55/100\n",
            "375/375 [==============================] - 4s 11ms/step - loss: 0.9843 - accuracy: 0.6725 - val_loss: 4.4251 - val_accuracy: 0.1023\n",
            "Epoch 56/100\n",
            "375/375 [==============================] - 4s 11ms/step - loss: 0.9664 - accuracy: 0.6796 - val_loss: 4.4625 - val_accuracy: 0.1031\n",
            "Epoch 57/100\n",
            "375/375 [==============================] - 4s 11ms/step - loss: 0.9537 - accuracy: 0.6833 - val_loss: 4.5314 - val_accuracy: 0.1022\n",
            "Epoch 58/100\n",
            "375/375 [==============================] - 4s 11ms/step - loss: 0.9367 - accuracy: 0.6886 - val_loss: 4.5934 - val_accuracy: 0.1058\n",
            "Epoch 59/100\n",
            "375/375 [==============================] - 4s 12ms/step - loss: 0.9243 - accuracy: 0.6952 - val_loss: 4.6937 - val_accuracy: 0.1042\n",
            "Epoch 60/100\n",
            "375/375 [==============================] - 4s 11ms/step - loss: 0.9102 - accuracy: 0.7004 - val_loss: 4.7298 - val_accuracy: 0.1002\n",
            "Epoch 61/100\n",
            "375/375 [==============================] - 4s 11ms/step - loss: 0.8966 - accuracy: 0.7041 - val_loss: 4.7502 - val_accuracy: 0.1018\n",
            "Epoch 62/100\n",
            "375/375 [==============================] - 4s 12ms/step - loss: 0.8813 - accuracy: 0.7105 - val_loss: 4.8672 - val_accuracy: 0.1007\n",
            "Epoch 63/100\n",
            "375/375 [==============================] - 4s 11ms/step - loss: 0.8684 - accuracy: 0.7137 - val_loss: 4.9002 - val_accuracy: 0.0988\n",
            "Epoch 64/100\n",
            "375/375 [==============================] - 4s 11ms/step - loss: 0.8527 - accuracy: 0.7196 - val_loss: 4.9377 - val_accuracy: 0.1014\n",
            "Epoch 65/100\n",
            "375/375 [==============================] - 5s 12ms/step - loss: 0.8412 - accuracy: 0.7220 - val_loss: 5.0434 - val_accuracy: 0.1018\n",
            "Epoch 66/100\n",
            "375/375 [==============================] - 4s 11ms/step - loss: 0.8303 - accuracy: 0.7288 - val_loss: 5.0935 - val_accuracy: 0.1019\n",
            "Epoch 67/100\n",
            "375/375 [==============================] - 4s 11ms/step - loss: 0.8173 - accuracy: 0.7304 - val_loss: 5.1449 - val_accuracy: 0.1016\n",
            "Epoch 68/100\n",
            "375/375 [==============================] - 4s 11ms/step - loss: 0.8042 - accuracy: 0.7361 - val_loss: 5.1944 - val_accuracy: 0.1007\n",
            "Epoch 69/100\n",
            "375/375 [==============================] - 4s 11ms/step - loss: 0.7900 - accuracy: 0.7410 - val_loss: 5.2826 - val_accuracy: 0.0986\n",
            "Epoch 70/100\n",
            "375/375 [==============================] - 4s 11ms/step - loss: 0.7804 - accuracy: 0.7451 - val_loss: 5.3575 - val_accuracy: 0.1004\n",
            "Epoch 71/100\n",
            "375/375 [==============================] - 4s 11ms/step - loss: 0.7683 - accuracy: 0.7485 - val_loss: 5.4033 - val_accuracy: 0.0998\n",
            "Epoch 72/100\n",
            "375/375 [==============================] - 4s 11ms/step - loss: 0.7565 - accuracy: 0.7538 - val_loss: 5.4364 - val_accuracy: 0.1019\n",
            "Epoch 73/100\n",
            "375/375 [==============================] - 4s 11ms/step - loss: 0.7455 - accuracy: 0.7569 - val_loss: 5.4990 - val_accuracy: 0.1039\n",
            "Epoch 74/100\n",
            "375/375 [==============================] - 4s 11ms/step - loss: 0.7338 - accuracy: 0.7621 - val_loss: 5.5834 - val_accuracy: 0.1003\n",
            "Epoch 75/100\n",
            "375/375 [==============================] - 4s 11ms/step - loss: 0.7247 - accuracy: 0.7620 - val_loss: 5.6307 - val_accuracy: 0.1022\n",
            "Epoch 76/100\n",
            "375/375 [==============================] - 4s 11ms/step - loss: 0.7127 - accuracy: 0.7671 - val_loss: 5.7409 - val_accuracy: 0.1040\n",
            "Epoch 77/100\n",
            "375/375 [==============================] - 4s 11ms/step - loss: 0.7008 - accuracy: 0.7716 - val_loss: 5.8215 - val_accuracy: 0.1002\n",
            "Epoch 78/100\n",
            "375/375 [==============================] - 4s 11ms/step - loss: 0.6925 - accuracy: 0.7738 - val_loss: 5.8654 - val_accuracy: 0.1017\n",
            "Epoch 79/100\n",
            "375/375 [==============================] - 4s 11ms/step - loss: 0.6815 - accuracy: 0.7780 - val_loss: 5.8759 - val_accuracy: 0.1027\n",
            "Epoch 80/100\n",
            "375/375 [==============================] - 4s 11ms/step - loss: 0.6702 - accuracy: 0.7802 - val_loss: 5.9991 - val_accuracy: 0.1018\n",
            "Epoch 81/100\n",
            "375/375 [==============================] - 4s 11ms/step - loss: 0.6602 - accuracy: 0.7859 - val_loss: 6.0386 - val_accuracy: 0.1052\n",
            "Epoch 82/100\n",
            "375/375 [==============================] - 4s 11ms/step - loss: 0.6515 - accuracy: 0.7884 - val_loss: 6.0680 - val_accuracy: 0.1014\n",
            "Epoch 83/100\n",
            "375/375 [==============================] - 4s 11ms/step - loss: 0.6398 - accuracy: 0.7916 - val_loss: 6.1882 - val_accuracy: 0.1037\n",
            "Epoch 84/100\n",
            "375/375 [==============================] - 4s 11ms/step - loss: 0.6324 - accuracy: 0.7964 - val_loss: 6.2453 - val_accuracy: 0.1008\n",
            "Epoch 85/100\n",
            "375/375 [==============================] - 4s 11ms/step - loss: 0.6221 - accuracy: 0.7987 - val_loss: 6.3207 - val_accuracy: 0.0993\n",
            "Epoch 86/100\n",
            "375/375 [==============================] - 4s 11ms/step - loss: 0.6146 - accuracy: 0.8011 - val_loss: 6.3695 - val_accuracy: 0.1018\n",
            "Epoch 87/100\n",
            "375/375 [==============================] - 4s 11ms/step - loss: 0.6045 - accuracy: 0.8063 - val_loss: 6.4247 - val_accuracy: 0.1023\n",
            "Epoch 88/100\n",
            "375/375 [==============================] - 4s 11ms/step - loss: 0.5971 - accuracy: 0.8058 - val_loss: 6.5447 - val_accuracy: 0.1032\n",
            "Epoch 89/100\n",
            "375/375 [==============================] - 4s 11ms/step - loss: 0.5864 - accuracy: 0.8111 - val_loss: 6.5712 - val_accuracy: 0.1013\n",
            "Epoch 90/100\n",
            "375/375 [==============================] - 4s 11ms/step - loss: 0.5786 - accuracy: 0.8130 - val_loss: 6.6128 - val_accuracy: 0.1025\n",
            "Epoch 91/100\n",
            "375/375 [==============================] - 4s 11ms/step - loss: 0.5714 - accuracy: 0.8150 - val_loss: 6.7075 - val_accuracy: 0.1058\n",
            "Epoch 92/100\n",
            "375/375 [==============================] - 4s 12ms/step - loss: 0.5626 - accuracy: 0.8207 - val_loss: 6.7758 - val_accuracy: 0.0991\n",
            "Epoch 93/100\n",
            "375/375 [==============================] - 4s 11ms/step - loss: 0.5558 - accuracy: 0.8232 - val_loss: 6.8261 - val_accuracy: 0.1042\n",
            "Epoch 94/100\n",
            "375/375 [==============================] - 4s 11ms/step - loss: 0.5464 - accuracy: 0.8262 - val_loss: 6.8946 - val_accuracy: 0.1026\n",
            "Epoch 95/100\n",
            "375/375 [==============================] - 4s 11ms/step - loss: 0.5392 - accuracy: 0.8278 - val_loss: 6.9434 - val_accuracy: 0.1009\n",
            "Epoch 96/100\n",
            "375/375 [==============================] - 4s 11ms/step - loss: 0.5313 - accuracy: 0.8285 - val_loss: 7.0483 - val_accuracy: 0.1022\n",
            "Epoch 97/100\n",
            "375/375 [==============================] - 4s 11ms/step - loss: 0.5244 - accuracy: 0.8327 - val_loss: 7.1056 - val_accuracy: 0.1011\n",
            "Epoch 98/100\n",
            "375/375 [==============================] - 4s 11ms/step - loss: 0.5162 - accuracy: 0.8343 - val_loss: 7.1537 - val_accuracy: 0.1028\n",
            "Epoch 99/100\n",
            "375/375 [==============================] - 4s 11ms/step - loss: 0.5098 - accuracy: 0.8370 - val_loss: 7.2570 - val_accuracy: 0.1037\n",
            "Epoch 100/100\n",
            "375/375 [==============================] - 4s 11ms/step - loss: 0.5003 - accuracy: 0.8397 - val_loss: 7.2913 - val_accuracy: 0.1019\n"
          ]
        },
        {
          "output_type": "execute_result",
          "data": {
            "text/plain": [
              "<keras.callbacks.History at 0x7f72d5a881d0>"
            ]
          },
          "metadata": {},
          "execution_count": 14
        }
      ],
      "source": [
        "(train_images, train_labels), _ = mnist.load_data()\n",
        "train_images = train_images.reshape((60000, 28 * 28))\n",
        "train_images = train_images.astype(\"float32\") / 255\n",
        "\n",
        "random_train_labels = train_labels[:]\n",
        "np.random.shuffle(random_train_labels)\n",
        "\n",
        "model = keras.Sequential([\n",
        "    layers.Dense(512, activation=\"relu\"),\n",
        "    layers.Dense(10, activation=\"softmax\")\n",
        "])\n",
        "model.compile(optimizer=\"rmsprop\",\n",
        "              loss=\"sparse_categorical_crossentropy\",\n",
        "              metrics=[\"accuracy\"])\n",
        "model.fit(train_images, random_train_labels,\n",
        "          epochs=100,\n",
        "          batch_size=128,\n",
        "          validation_split=0.2)"
      ]
    },
    {
      "cell_type": "markdown",
      "source": [
        "- accuracy increases as the model fitting continues.\n",
        "- BUT bad validation accuracy, need to check our data."
      ],
      "metadata": {
        "id": "qrhneguKoW-p"
      }
    },
    {
      "cell_type": "markdown",
      "metadata": {
        "id": "fDNGI636iB3F"
      },
      "source": [
        "#### The manifold hypothesis"
      ]
    },
    {
      "cell_type": "markdown",
      "source": [
        "- all natural data lies on a low-dimensional manifold within the high-dimensional space where it is encoded.\n"
      ],
      "metadata": {
        "id": "4wkhpKFPpNaL"
      }
    },
    {
      "cell_type": "markdown",
      "metadata": {
        "id": "znmdZhGriB3G"
      },
      "source": [
        "#### Interpolation as a source of generalization"
      ]
    },
    {
      "cell_type": "markdown",
      "source": [
        "- manifold interpolation : intermediate point on the latent manifold (모두 유효한 값으로 보임)\n",
        "- linear interpolation : average in the encoding space (두 그림의 평균, 합쳐진 것이므로 뚜렷하게 구분되지 않음)"
      ],
      "metadata": {
        "id": "OXxwJGPopo3h"
      }
    },
    {
      "cell_type": "markdown",
      "metadata": {
        "id": "9MmuF1-UiB3G"
      },
      "source": [
        "#### Why deep learning works"
      ]
    },
    {
      "cell_type": "markdown",
      "metadata": {
        "id": "0JRVZWfniB3H"
      },
      "source": [
        "#### Training data is paramount"
      ]
    },
    {
      "cell_type": "markdown",
      "source": [
        "- Deep learning is curve fitting.\n",
        "- For a model to perform well, it needs to be trained on a dense sampling of its input space."
      ],
      "metadata": {
        "id": "2wFMw62XqGoD"
      }
    },
    {
      "cell_type": "markdown",
      "metadata": {
        "id": "qiB--QRqiB3H"
      },
      "source": [
        "## Evaluating machine-learning models"
      ]
    },
    {
      "cell_type": "markdown",
      "source": [
        "- goal is to achieve models that generalize\n",
        "- reliably measure the generalization power of your model"
      ],
      "metadata": {
        "id": "lLqdl_HlqeRl"
      }
    },
    {
      "cell_type": "markdown",
      "metadata": {
        "id": "4n0xP3_YiB3H"
      },
      "source": [
        "### Training, validation, and test sets"
      ]
    },
    {
      "cell_type": "markdown",
      "source": [
        "- tuning parameters and hyperparameters is a form of learning.\n",
        "- tuning is based on its performance on validation set.\n",
        "- tuning a low would cause information leak.\n",
        "\n",
        "> test set 따로 두기"
      ],
      "metadata": {
        "id": "xDcYXXIQqpEu"
      }
    },
    {
      "cell_type": "markdown",
      "metadata": {
        "id": "GFdrmk6riB3I"
      },
      "source": [
        "#### Simple hold-out validation"
      ]
    },
    {
      "cell_type": "markdown",
      "metadata": {
        "id": "_sUxr1XqiB3I"
      },
      "source": [
        "#### K-fold validation"
      ]
    },
    {
      "cell_type": "markdown",
      "source": [
        "- when we have small data"
      ],
      "metadata": {
        "id": "gp1qV_z-rgtF"
      }
    },
    {
      "cell_type": "code",
      "source": [
        "k = 3\n",
        "num_validation_samples = len(data) // k\n",
        "np.random.shuffle(data)\n",
        "validation_scores = []\n",
        "\n",
        "for fold in range(k) :\n",
        "  validation_data = data[num_validation_samples * fold : num_validation_samples * (fold + 1)]             # selects the validation data partition\n",
        "  training_data = np.concatenate(\n",
        "      data[:num_validation_samples * fold],\n",
        "      data[num_validation_samples * (fold + 1)])\n",
        "  \n",
        "  model = get_model()                                                                                     # creates a brand-new instance of the model (untrained)\n",
        "  model.fit(training_data, ...)\n",
        "  validation_scroe = model.evaluate(validation_data, ...)\n",
        "  validation_scores.append(validation_scores)\n",
        "\n",
        "validation_score = np.average(validation_scores)                                                          # validation score : average of the validation scores of the K folds\n",
        "\n",
        "model = get_model()                                                                                       # trains the final model on all non-test data available\n",
        "model.fit(data, ...)\n",
        "test_score = model.evaluate(test_data, ...)"
      ],
      "metadata": {
        "id": "XgviLkeSsAfG",
        "outputId": "afb0347d-da2a-4efc-e1d2-acec091553d4",
        "colab": {
          "base_uri": "https://localhost:8080/",
          "height": 245
        }
      },
      "execution_count": 15,
      "outputs": [
        {
          "output_type": "error",
          "ename": "NameError",
          "evalue": "ignored",
          "traceback": [
            "\u001b[0;31m---------------------------------------------------------------------------\u001b[0m",
            "\u001b[0;31mNameError\u001b[0m                                 Traceback (most recent call last)",
            "\u001b[0;32m<ipython-input-15-091e0c8e3b4f>\u001b[0m in \u001b[0;36m<module>\u001b[0;34m()\u001b[0m\n\u001b[1;32m      1\u001b[0m \u001b[0mk\u001b[0m \u001b[0;34m=\u001b[0m \u001b[0;36m3\u001b[0m\u001b[0;34m\u001b[0m\u001b[0;34m\u001b[0m\u001b[0m\n\u001b[0;32m----> 2\u001b[0;31m \u001b[0mnum_validation_samples\u001b[0m \u001b[0;34m=\u001b[0m \u001b[0mlen\u001b[0m\u001b[0;34m(\u001b[0m\u001b[0mdata\u001b[0m\u001b[0;34m)\u001b[0m \u001b[0;34m//\u001b[0m \u001b[0mk\u001b[0m\u001b[0;34m\u001b[0m\u001b[0;34m\u001b[0m\u001b[0m\n\u001b[0m\u001b[1;32m      3\u001b[0m \u001b[0mnp\u001b[0m\u001b[0;34m.\u001b[0m\u001b[0mrandom\u001b[0m\u001b[0;34m.\u001b[0m\u001b[0mshuffle\u001b[0m\u001b[0;34m(\u001b[0m\u001b[0mdata\u001b[0m\u001b[0;34m)\u001b[0m\u001b[0;34m\u001b[0m\u001b[0;34m\u001b[0m\u001b[0m\n\u001b[1;32m      4\u001b[0m \u001b[0mvalidation_scores\u001b[0m \u001b[0;34m=\u001b[0m \u001b[0;34m[\u001b[0m\u001b[0;34m]\u001b[0m\u001b[0;34m\u001b[0m\u001b[0;34m\u001b[0m\u001b[0m\n\u001b[1;32m      5\u001b[0m \u001b[0;34m\u001b[0m\u001b[0m\n",
            "\u001b[0;31mNameError\u001b[0m: name 'data' is not defined"
          ]
        }
      ]
    },
    {
      "cell_type": "markdown",
      "metadata": {
        "id": "avp0xNQriB3J"
      },
      "source": [
        "#### Iterated K-fold validation with shuffling"
      ]
    },
    {
      "cell_type": "markdown",
      "source": [
        "- for situations in which you have relatively little data available and you need to evaluate your model as precisely as possible\n",
        "- applying K-fold validation multiple times, shuffling the data every time before splitting it K ways"
      ],
      "metadata": {
        "id": "y0r-V-puttTA"
      }
    },
    {
      "cell_type": "markdown",
      "metadata": {
        "id": "sWo-6TFHiB3J"
      },
      "source": [
        "### Beating a common-sense baseline"
      ]
    },
    {
      "cell_type": "markdown",
      "metadata": {
        "id": "un9B3SNsiB3J"
      },
      "source": [
        "### Things to keep in mind about model evaluation"
      ]
    },
    {
      "cell_type": "markdown",
      "source": [
        "- Data representativeness : randomly shuffle data before splitting it\n",
        "- The arrow of time : If you are predicting future event, don't shuffle. Use future data as test set.\n",
        "- Redundancy in your data : remove redundant data before the start."
      ],
      "metadata": {
        "id": "ZsPI9wxYt9DQ"
      }
    },
    {
      "cell_type": "markdown",
      "metadata": {
        "id": "FlmhhOtWiB3J"
      },
      "source": [
        "## Improving model fit"
      ]
    },
    {
      "cell_type": "markdown",
      "source": [
        "- To achieve the perfect fit, you must first overfit.\n",
        "- Once you have such a model, you'll focus on refining generalization by fighting overfitting."
      ],
      "metadata": {
        "id": "7g9rO5mVuU0G"
      }
    },
    {
      "cell_type": "markdown",
      "metadata": {
        "id": "6J0aKBGyiB3K"
      },
      "source": [
        "### Tuning key gradient descent parameters"
      ]
    },
    {
      "cell_type": "markdown",
      "metadata": {
        "id": "nDzys_IgiB3K"
      },
      "source": [
        "**Training a MNIST model with an incorrectly high learning rate**"
      ]
    },
    {
      "cell_type": "code",
      "execution_count": 16,
      "metadata": {
        "id": "DJN_C0mSiB3K",
        "outputId": "52d0da76-be82-407c-e4b5-c575939465c2",
        "colab": {
          "base_uri": "https://localhost:8080/"
        }
      },
      "outputs": [
        {
          "output_type": "stream",
          "name": "stdout",
          "text": [
            "Epoch 1/10\n",
            "375/375 [==============================] - 5s 13ms/step - loss: 688.8575 - accuracy: 0.4079 - val_loss: 2.2777 - val_accuracy: 0.2590\n",
            "Epoch 2/10\n",
            "375/375 [==============================] - 5s 12ms/step - loss: 4.7953 - accuracy: 0.2576 - val_loss: 2.1823 - val_accuracy: 0.2582\n",
            "Epoch 3/10\n",
            "375/375 [==============================] - 5s 13ms/step - loss: 2.8620 - accuracy: 0.2423 - val_loss: 2.2782 - val_accuracy: 0.2864\n",
            "Epoch 4/10\n",
            "375/375 [==============================] - 5s 12ms/step - loss: 3.0879 - accuracy: 0.2325 - val_loss: 2.9486 - val_accuracy: 0.2521\n",
            "Epoch 5/10\n",
            "375/375 [==============================] - 5s 12ms/step - loss: 2.8752 - accuracy: 0.2240 - val_loss: 2.1713 - val_accuracy: 0.2537\n",
            "Epoch 6/10\n",
            "375/375 [==============================] - 5s 12ms/step - loss: 3.5928 - accuracy: 0.2451 - val_loss: 2.2363 - val_accuracy: 0.2998\n",
            "Epoch 7/10\n",
            "375/375 [==============================] - 5s 13ms/step - loss: 2.4497 - accuracy: 0.2511 - val_loss: 2.6505 - val_accuracy: 0.2594\n",
            "Epoch 8/10\n",
            "375/375 [==============================] - 5s 12ms/step - loss: 2.4033 - accuracy: 0.2602 - val_loss: 2.2070 - val_accuracy: 0.2063\n",
            "Epoch 9/10\n",
            "375/375 [==============================] - 5s 12ms/step - loss: 2.5466 - accuracy: 0.2586 - val_loss: 2.0055 - val_accuracy: 0.2599\n",
            "Epoch 10/10\n",
            "375/375 [==============================] - 5s 12ms/step - loss: 2.3629 - accuracy: 0.2610 - val_loss: 2.6401 - val_accuracy: 0.3310\n"
          ]
        },
        {
          "output_type": "execute_result",
          "data": {
            "text/plain": [
              "<keras.callbacks.History at 0x7f72d0d6bd50>"
            ]
          },
          "metadata": {},
          "execution_count": 16
        }
      ],
      "source": [
        "(train_images, train_labels), _ = mnist.load_data()\n",
        "train_images = train_images.reshape((60000, 28 * 28))\n",
        "train_images = train_images.astype(\"float32\") / 255\n",
        "\n",
        "model = keras.Sequential([\n",
        "    layers.Dense(512, activation=\"relu\"),\n",
        "    layers.Dense(10, activation=\"softmax\")\n",
        "])\n",
        "model.compile(optimizer=keras.optimizers.RMSprop(1.),\n",
        "              loss=\"sparse_categorical_crossentropy\",\n",
        "              metrics=[\"accuracy\"])\n",
        "model.fit(train_images, train_labels,\n",
        "          epochs=10,\n",
        "          batch_size=128,\n",
        "          validation_split=0.2)"
      ]
    },
    {
      "cell_type": "markdown",
      "metadata": {
        "id": "03fuLtE4iB3L"
      },
      "source": [
        "**The same model with a more appropriate learning rate**"
      ]
    },
    {
      "cell_type": "code",
      "execution_count": 17,
      "metadata": {
        "id": "7_GWYfF4iB3L",
        "outputId": "662abe6f-2a41-44db-8c30-9ce2b4c552a8",
        "colab": {
          "base_uri": "https://localhost:8080/"
        }
      },
      "outputs": [
        {
          "output_type": "stream",
          "name": "stdout",
          "text": [
            "Epoch 1/10\n",
            "375/375 [==============================] - 5s 12ms/step - loss: 0.3612 - accuracy: 0.9124 - val_loss: 0.1647 - val_accuracy: 0.9541\n",
            "Epoch 2/10\n",
            "375/375 [==============================] - 4s 12ms/step - loss: 0.1427 - accuracy: 0.9637 - val_loss: 0.1571 - val_accuracy: 0.9634\n",
            "Epoch 3/10\n",
            "375/375 [==============================] - 4s 12ms/step - loss: 0.1174 - accuracy: 0.9723 - val_loss: 0.2029 - val_accuracy: 0.9613\n",
            "Epoch 4/10\n",
            "375/375 [==============================] - 4s 12ms/step - loss: 0.0982 - accuracy: 0.9788 - val_loss: 0.2271 - val_accuracy: 0.9653\n",
            "Epoch 5/10\n",
            "375/375 [==============================] - 4s 12ms/step - loss: 0.0901 - accuracy: 0.9817 - val_loss: 0.2024 - val_accuracy: 0.9708\n",
            "Epoch 6/10\n",
            "375/375 [==============================] - 4s 12ms/step - loss: 0.0775 - accuracy: 0.9843 - val_loss: 0.2530 - val_accuracy: 0.9691\n",
            "Epoch 7/10\n",
            "375/375 [==============================] - 4s 12ms/step - loss: 0.0762 - accuracy: 0.9860 - val_loss: 0.2880 - val_accuracy: 0.9673\n",
            "Epoch 8/10\n",
            "375/375 [==============================] - 5s 12ms/step - loss: 0.0683 - accuracy: 0.9880 - val_loss: 0.2761 - val_accuracy: 0.9726\n",
            "Epoch 9/10\n",
            "375/375 [==============================] - 4s 12ms/step - loss: 0.0647 - accuracy: 0.9895 - val_loss: 0.2901 - val_accuracy: 0.9714\n",
            "Epoch 10/10\n",
            "375/375 [==============================] - 4s 12ms/step - loss: 0.0574 - accuracy: 0.9905 - val_loss: 0.3291 - val_accuracy: 0.9714\n"
          ]
        },
        {
          "output_type": "execute_result",
          "data": {
            "text/plain": [
              "<keras.callbacks.History at 0x7f72d0d57090>"
            ]
          },
          "metadata": {},
          "execution_count": 17
        }
      ],
      "source": [
        "model = keras.Sequential([\n",
        "    layers.Dense(512, activation=\"relu\"),\n",
        "    layers.Dense(10, activation=\"softmax\")\n",
        "])\n",
        "model.compile(optimizer=keras.optimizers.RMSprop(1e-2),\n",
        "              loss=\"sparse_categorical_crossentropy\",\n",
        "              metrics=[\"accuracy\"])\n",
        "model.fit(train_images, train_labels,\n",
        "          epochs=10,\n",
        "          batch_size=128,\n",
        "          validation_split=0.2)"
      ]
    },
    {
      "cell_type": "markdown",
      "metadata": {
        "id": "zlWz66pkiB3M"
      },
      "source": [
        "### Leveraging better architecture priors"
      ]
    },
    {
      "cell_type": "markdown",
      "metadata": {
        "id": "_wTNc7YUiB3M"
      },
      "source": [
        "### Increasing model capacity"
      ]
    },
    {
      "cell_type": "markdown",
      "source": [
        "- If you manage to get to a model that fits, you need to get your model to start overfitting."
      ],
      "metadata": {
        "id": "CxeSp7StvX9s"
      }
    },
    {
      "cell_type": "markdown",
      "metadata": {
        "id": "hZBLBseZiB3M"
      },
      "source": [
        "**A simple logistic regression on MNIST**"
      ]
    },
    {
      "cell_type": "code",
      "execution_count": 18,
      "metadata": {
        "id": "XXMjAYS4iB3N",
        "outputId": "c782902a-539d-4cfc-83b1-adffa950affd",
        "colab": {
          "base_uri": "https://localhost:8080/"
        }
      },
      "outputs": [
        {
          "output_type": "stream",
          "name": "stdout",
          "text": [
            "Epoch 1/20\n",
            "375/375 [==============================] - 2s 4ms/step - loss: 0.6714 - accuracy: 0.8354 - val_loss: 0.3596 - val_accuracy: 0.9051\n",
            "Epoch 2/20\n",
            "375/375 [==============================] - 1s 3ms/step - loss: 0.3518 - accuracy: 0.9034 - val_loss: 0.3079 - val_accuracy: 0.9144\n",
            "Epoch 3/20\n",
            "375/375 [==============================] - 1s 3ms/step - loss: 0.3158 - accuracy: 0.9119 - val_loss: 0.2903 - val_accuracy: 0.9193\n",
            "Epoch 4/20\n",
            "375/375 [==============================] - 1s 3ms/step - loss: 0.2994 - accuracy: 0.9164 - val_loss: 0.2832 - val_accuracy: 0.9213\n",
            "Epoch 5/20\n",
            "375/375 [==============================] - 1s 3ms/step - loss: 0.2898 - accuracy: 0.9186 - val_loss: 0.2765 - val_accuracy: 0.9239\n",
            "Epoch 6/20\n",
            "375/375 [==============================] - 1s 3ms/step - loss: 0.2832 - accuracy: 0.9208 - val_loss: 0.2718 - val_accuracy: 0.9256\n",
            "Epoch 7/20\n",
            "375/375 [==============================] - 1s 3ms/step - loss: 0.2784 - accuracy: 0.9219 - val_loss: 0.2697 - val_accuracy: 0.9267\n",
            "Epoch 8/20\n",
            "375/375 [==============================] - 1s 3ms/step - loss: 0.2742 - accuracy: 0.9233 - val_loss: 0.2676 - val_accuracy: 0.9273\n",
            "Epoch 9/20\n",
            "375/375 [==============================] - 1s 4ms/step - loss: 0.2713 - accuracy: 0.9240 - val_loss: 0.2658 - val_accuracy: 0.9273\n",
            "Epoch 10/20\n",
            "375/375 [==============================] - 1s 3ms/step - loss: 0.2688 - accuracy: 0.9254 - val_loss: 0.2639 - val_accuracy: 0.9287\n",
            "Epoch 11/20\n",
            "375/375 [==============================] - 1s 3ms/step - loss: 0.2666 - accuracy: 0.9261 - val_loss: 0.2629 - val_accuracy: 0.9287\n",
            "Epoch 12/20\n",
            "375/375 [==============================] - 1s 3ms/step - loss: 0.2649 - accuracy: 0.9266 - val_loss: 0.2626 - val_accuracy: 0.9295\n",
            "Epoch 13/20\n",
            "375/375 [==============================] - 1s 3ms/step - loss: 0.2632 - accuracy: 0.9270 - val_loss: 0.2628 - val_accuracy: 0.9287\n",
            "Epoch 14/20\n",
            "375/375 [==============================] - 1s 3ms/step - loss: 0.2620 - accuracy: 0.9275 - val_loss: 0.2606 - val_accuracy: 0.9306\n",
            "Epoch 15/20\n",
            "375/375 [==============================] - 1s 3ms/step - loss: 0.2606 - accuracy: 0.9285 - val_loss: 0.2611 - val_accuracy: 0.9305\n",
            "Epoch 16/20\n",
            "375/375 [==============================] - 1s 3ms/step - loss: 0.2594 - accuracy: 0.9285 - val_loss: 0.2617 - val_accuracy: 0.9310\n",
            "Epoch 17/20\n",
            "375/375 [==============================] - 1s 3ms/step - loss: 0.2585 - accuracy: 0.9289 - val_loss: 0.2622 - val_accuracy: 0.9302\n",
            "Epoch 18/20\n",
            "375/375 [==============================] - 1s 3ms/step - loss: 0.2574 - accuracy: 0.9297 - val_loss: 0.2616 - val_accuracy: 0.9307\n",
            "Epoch 19/20\n",
            "375/375 [==============================] - 1s 3ms/step - loss: 0.2567 - accuracy: 0.9296 - val_loss: 0.2603 - val_accuracy: 0.9312\n",
            "Epoch 20/20\n",
            "375/375 [==============================] - 1s 3ms/step - loss: 0.2555 - accuracy: 0.9306 - val_loss: 0.2612 - val_accuracy: 0.9307\n"
          ]
        }
      ],
      "source": [
        "model = keras.Sequential([layers.Dense(10, activation=\"softmax\")])\n",
        "model.compile(optimizer=\"rmsprop\",\n",
        "              loss=\"sparse_categorical_crossentropy\",\n",
        "              metrics=[\"accuracy\"])\n",
        "history_small_model = model.fit(\n",
        "    train_images, train_labels,\n",
        "    epochs=20,\n",
        "    batch_size=128,\n",
        "    validation_split=0.2)"
      ]
    },
    {
      "cell_type": "code",
      "execution_count": 19,
      "metadata": {
        "id": "_ul-wfzqiB3N",
        "outputId": "7dfb4ba9-4620-4838-d399-851a05a6a32a",
        "colab": {
          "base_uri": "https://localhost:8080/",
          "height": 313
        }
      },
      "outputs": [
        {
          "output_type": "execute_result",
          "data": {
            "text/plain": [
              "<matplotlib.legend.Legend at 0x7f72cf7c0c50>"
            ]
          },
          "metadata": {},
          "execution_count": 19
        },
        {
          "output_type": "display_data",
          "data": {
            "text/plain": [
              "<Figure size 432x288 with 1 Axes>"
            ],
            "image/png": "[encoded data removed]"
          },
          "metadata": {
            "needs_background": "light"
          }
        }
      ],
      "source": [
        "import matplotlib.pyplot as plt\n",
        "val_loss = history_small_model.history[\"val_loss\"]\n",
        "epochs = range(1, 21)\n",
        "plt.plot(epochs, val_loss, \"b--\",\n",
        "         label=\"Validation loss\")\n",
        "plt.title(\"Effect of insufficient model capacity on validation loss\")\n",
        "plt.xlabel(\"Epochs\")\n",
        "plt.ylabel(\"Loss\")\n",
        "plt.legend()"
      ]
    },
    {
      "cell_type": "code",
      "execution_count": 20,
      "metadata": {
        "id": "BKcn_PGriB3O",
        "outputId": "12466069-1b72-4166-a2c0-8e67a19d6b93",
        "colab": {
          "base_uri": "https://localhost:8080/"
        }
      },
      "outputs": [
        {
          "output_type": "stream",
          "name": "stdout",
          "text": [
            "Epoch 1/20\n",
            "375/375 [==============================] - 3s 6ms/step - loss: 0.3668 - accuracy: 0.8957 - val_loss: 0.1871 - val_accuracy: 0.9473\n",
            "Epoch 2/20\n",
            "375/375 [==============================] - 2s 6ms/step - loss: 0.1648 - accuracy: 0.9511 - val_loss: 0.1455 - val_accuracy: 0.9585\n",
            "Epoch 3/20\n",
            "375/375 [==============================] - 2s 6ms/step - loss: 0.1171 - accuracy: 0.9647 - val_loss: 0.1137 - val_accuracy: 0.9654\n",
            "Epoch 4/20\n",
            "375/375 [==============================] - 2s 6ms/step - loss: 0.0889 - accuracy: 0.9731 - val_loss: 0.1112 - val_accuracy: 0.9676\n",
            "Epoch 5/20\n",
            "375/375 [==============================] - 2s 6ms/step - loss: 0.0714 - accuracy: 0.9784 - val_loss: 0.1096 - val_accuracy: 0.9675\n",
            "Epoch 6/20\n",
            "375/375 [==============================] - 2s 6ms/step - loss: 0.0580 - accuracy: 0.9824 - val_loss: 0.0992 - val_accuracy: 0.9705\n",
            "Epoch 7/20\n",
            "375/375 [==============================] - 2s 6ms/step - loss: 0.0472 - accuracy: 0.9856 - val_loss: 0.0960 - val_accuracy: 0.9726\n",
            "Epoch 8/20\n",
            "375/375 [==============================] - 2s 5ms/step - loss: 0.0400 - accuracy: 0.9875 - val_loss: 0.0979 - val_accuracy: 0.9758\n",
            "Epoch 9/20\n",
            "375/375 [==============================] - 2s 5ms/step - loss: 0.0338 - accuracy: 0.9898 - val_loss: 0.1011 - val_accuracy: 0.9739\n",
            "Epoch 10/20\n",
            "375/375 [==============================] - 2s 5ms/step - loss: 0.0280 - accuracy: 0.9912 - val_loss: 0.0968 - val_accuracy: 0.9754\n",
            "Epoch 11/20\n",
            "375/375 [==============================] - 2s 5ms/step - loss: 0.0233 - accuracy: 0.9928 - val_loss: 0.1056 - val_accuracy: 0.9737\n",
            "Epoch 12/20\n",
            "375/375 [==============================] - 3s 7ms/step - loss: 0.0198 - accuracy: 0.9942 - val_loss: 0.1070 - val_accuracy: 0.9756\n",
            "Epoch 13/20\n",
            "375/375 [==============================] - 2s 5ms/step - loss: 0.0171 - accuracy: 0.9951 - val_loss: 0.1114 - val_accuracy: 0.9758\n",
            "Epoch 14/20\n",
            "375/375 [==============================] - 2s 5ms/step - loss: 0.0143 - accuracy: 0.9954 - val_loss: 0.1071 - val_accuracy: 0.9772\n",
            "Epoch 15/20\n",
            "375/375 [==============================] - 2s 5ms/step - loss: 0.0119 - accuracy: 0.9965 - val_loss: 0.1136 - val_accuracy: 0.9772\n",
            "Epoch 16/20\n",
            "375/375 [==============================] - 2s 5ms/step - loss: 0.0094 - accuracy: 0.9970 - val_loss: 0.1281 - val_accuracy: 0.9760\n",
            "Epoch 17/20\n",
            "375/375 [==============================] - 2s 5ms/step - loss: 0.0094 - accuracy: 0.9969 - val_loss: 0.1254 - val_accuracy: 0.9772\n",
            "Epoch 18/20\n",
            "375/375 [==============================] - 2s 5ms/step - loss: 0.0068 - accuracy: 0.9978 - val_loss: 0.1393 - val_accuracy: 0.9746\n",
            "Epoch 19/20\n",
            "375/375 [==============================] - 2s 6ms/step - loss: 0.0066 - accuracy: 0.9982 - val_loss: 0.1360 - val_accuracy: 0.9762\n",
            "Epoch 20/20\n",
            "375/375 [==============================] - 2s 6ms/step - loss: 0.0059 - accuracy: 0.9983 - val_loss: 0.1419 - val_accuracy: 0.9761\n"
          ]
        }
      ],
      "source": [
        "model = keras.Sequential([\n",
        "    layers.Dense(96, activation=\"relu\"),\n",
        "    layers.Dense(96, activation=\"relu\"),\n",
        "    layers.Dense(10, activation=\"softmax\"),\n",
        "])\n",
        "model.compile(optimizer=\"rmsprop\",\n",
        "              loss=\"sparse_categorical_crossentropy\",\n",
        "              metrics=[\"accuracy\"])\n",
        "history_large_model = model.fit(\n",
        "    train_images, train_labels,\n",
        "    epochs=20,\n",
        "    batch_size=128,\n",
        "    validation_split=0.2)"
      ]
    },
    {
      "cell_type": "code",
      "source": [
        "import matplotlib.pyplot as plt\n",
        "val_loss = history_large_model.history[\"val_loss\"]\n",
        "epochs = range(1, 21)\n",
        "plt.plot(epochs, val_loss, \"b--\",\n",
        "         label=\"Validation loss\")\n",
        "plt.title(\"Effect of large model capacity on validation loss\")\n",
        "plt.xlabel(\"Epochs\")\n",
        "plt.ylabel(\"Loss\")\n",
        "plt.legend()"
      ],
      "metadata": {
        "id": "1Tkewxh81Cia",
        "outputId": "b063e7ee-f199-4d75-85a1-0d7b33c44dda",
        "colab": {
          "base_uri": "https://localhost:8080/",
          "height": 313
        }
      },
      "execution_count": 21,
      "outputs": [
        {
          "output_type": "execute_result",
          "data": {
            "text/plain": [
              "<matplotlib.legend.Legend at 0x7f72cf5c8650>"
            ]
          },
          "metadata": {},
          "execution_count": 21
        },
        {
          "output_type": "display_data",
          "data": {
            "text/plain": [
              "<Figure size 432x288 with 1 Axes>"
            ],
            "image/png": "[encoded data removed]"
          },
          "metadata": {
            "needs_background": "light"
          }
        }
      ]
    },
    {
      "cell_type": "markdown",
      "source": [
        "- better result, better loss\n",
        "- at the end the model is overfitting, time to solve this problem."
      ],
      "metadata": {
        "id": "yYza-wH30-By"
      }
    },
    {
      "cell_type": "markdown",
      "metadata": {
        "id": "O5EbyroViB3P"
      },
      "source": [
        "## Improving generalization"
      ]
    },
    {
      "cell_type": "markdown",
      "metadata": {
        "id": "x7V2CcoTiB3P"
      },
      "source": [
        "### Dataset curation"
      ]
    },
    {
      "cell_type": "markdown",
      "metadata": {
        "id": "6_BK5k1ziB3P"
      },
      "source": [
        "### Feature engineering"
      ]
    },
    {
      "cell_type": "markdown",
      "source": [
        "- process of using your own knowledge about the data to make the algorithm work better by applying hardcoded(non-learned) transformations to the data\n",
        "\n",
        "- good features allow you to solve problems using fewer resources\n",
        "- good features let you solve a problem with far less data"
      ],
      "metadata": {
        "id": "d51bFzrCwImJ"
      }
    },
    {
      "cell_type": "markdown",
      "metadata": {
        "id": "8Oth5qa9iB3P"
      },
      "source": [
        "### Using early stopping"
      ]
    },
    {
      "cell_type": "markdown",
      "source": [
        "- Interrupt training long before you've reached the minimum possible training loss.\n",
        "- In Keras, it's typical to do this with an EarlStopping callback."
      ],
      "metadata": {
        "id": "gse43_ZAwpPg"
      }
    },
    {
      "cell_type": "markdown",
      "metadata": {
        "id": "24RSruXkiB3Q"
      },
      "source": [
        "### Regularizing your model"
      ]
    },
    {
      "cell_type": "markdown",
      "source": [
        "- Regularization techniques are a set of best practices that actively impede the model's ability to fit perfectly to the training data."
      ],
      "metadata": {
        "id": "CY6AhaMnw8j2"
      }
    },
    {
      "cell_type": "markdown",
      "metadata": {
        "id": "MtMDgK-iiB3Q"
      },
      "source": [
        "#### Reducing the network's size"
      ]
    },
    {
      "cell_type": "markdown",
      "source": [
        "- The simplest way to prevent overfitting is to reduce the size of the model."
      ],
      "metadata": {
        "id": "DwIZcTAMxHNs"
      }
    },
    {
      "cell_type": "markdown",
      "metadata": {
        "id": "AkayV2ANiB3Q"
      },
      "source": [
        "**Original model**"
      ]
    },
    {
      "cell_type": "code",
      "execution_count": 22,
      "metadata": {
        "id": "W845qcpUiB3Q",
        "outputId": "8788331a-6c40-41a4-e65e-b8bdccdc4347",
        "colab": {
          "base_uri": "https://localhost:8080/"
        }
      },
      "outputs": [
        {
          "output_type": "stream",
          "name": "stdout",
          "text": [
            "Downloading data from https://storage.googleapis.com/tensorflow/tf-keras-datasets/imdb.npz\n",
            "17465344/17464789 [==============================] - 0s 0us/step\n",
            "17473536/17464789 [==============================] - 0s 0us/step\n",
            "Epoch 1/20\n",
            "30/30 [==============================] - 3s 64ms/step - loss: 0.5093 - accuracy: 0.7929 - val_loss: 0.3854 - val_accuracy: 0.8680\n",
            "Epoch 2/20\n",
            "30/30 [==============================] - 1s 43ms/step - loss: 0.3116 - accuracy: 0.9039 - val_loss: 0.3267 - val_accuracy: 0.8719\n",
            "Epoch 3/20\n",
            "30/30 [==============================] - 1s 42ms/step - loss: 0.2326 - accuracy: 0.9263 - val_loss: 0.2842 - val_accuracy: 0.8896\n",
            "Epoch 4/20\n",
            "30/30 [==============================] - 2s 74ms/step - loss: 0.1865 - accuracy: 0.9412 - val_loss: 0.2795 - val_accuracy: 0.8872\n",
            "Epoch 5/20\n",
            "30/30 [==============================] - 1s 44ms/step - loss: 0.1529 - accuracy: 0.9519 - val_loss: 0.2780 - val_accuracy: 0.8887\n",
            "Epoch 6/20\n",
            "30/30 [==============================] - 1s 39ms/step - loss: 0.1261 - accuracy: 0.9625 - val_loss: 0.2842 - val_accuracy: 0.8883\n",
            "Epoch 7/20\n",
            "30/30 [==============================] - 1s 43ms/step - loss: 0.1082 - accuracy: 0.9671 - val_loss: 0.2977 - val_accuracy: 0.8867\n",
            "Epoch 8/20\n",
            "30/30 [==============================] - 1s 39ms/step - loss: 0.0878 - accuracy: 0.9757 - val_loss: 0.3211 - val_accuracy: 0.8814\n",
            "Epoch 9/20\n",
            "30/30 [==============================] - 1s 39ms/step - loss: 0.0747 - accuracy: 0.9800 - val_loss: 0.3366 - val_accuracy: 0.8844\n",
            "Epoch 10/20\n",
            "30/30 [==============================] - 1s 39ms/step - loss: 0.0622 - accuracy: 0.9840 - val_loss: 0.3644 - val_accuracy: 0.8762\n",
            "Epoch 11/20\n",
            "30/30 [==============================] - 1s 39ms/step - loss: 0.0482 - accuracy: 0.9889 - val_loss: 0.4097 - val_accuracy: 0.8751\n",
            "Epoch 12/20\n",
            "30/30 [==============================] - 1s 39ms/step - loss: 0.0446 - accuracy: 0.9893 - val_loss: 0.4172 - val_accuracy: 0.8735\n",
            "Epoch 13/20\n",
            "30/30 [==============================] - 1s 38ms/step - loss: 0.0342 - accuracy: 0.9931 - val_loss: 0.4464 - val_accuracy: 0.8711\n",
            "Epoch 14/20\n",
            "30/30 [==============================] - 1s 39ms/step - loss: 0.0284 - accuracy: 0.9939 - val_loss: 0.4945 - val_accuracy: 0.8678\n",
            "Epoch 15/20\n",
            "30/30 [==============================] - 1s 39ms/step - loss: 0.0224 - accuracy: 0.9963 - val_loss: 0.4981 - val_accuracy: 0.8722\n",
            "Epoch 16/20\n",
            "30/30 [==============================] - 1s 39ms/step - loss: 0.0194 - accuracy: 0.9965 - val_loss: 0.5354 - val_accuracy: 0.8704\n",
            "Epoch 17/20\n",
            "30/30 [==============================] - 1s 38ms/step - loss: 0.0127 - accuracy: 0.9985 - val_loss: 0.5633 - val_accuracy: 0.8689\n",
            "Epoch 18/20\n",
            "30/30 [==============================] - 1s 39ms/step - loss: 0.0127 - accuracy: 0.9983 - val_loss: 0.5990 - val_accuracy: 0.8671\n",
            "Epoch 19/20\n",
            "30/30 [==============================] - 1s 38ms/step - loss: 0.0093 - accuracy: 0.9992 - val_loss: 0.6281 - val_accuracy: 0.8667\n",
            "Epoch 20/20\n",
            "30/30 [==============================] - 1s 38ms/step - loss: 0.0076 - accuracy: 0.9993 - val_loss: 0.6645 - val_accuracy: 0.8663\n"
          ]
        }
      ],
      "source": [
        "from tensorflow.keras.datasets import imdb\n",
        "(train_data, train_labels), _ = imdb.load_data(num_words=10000)\n",
        "\n",
        "def vectorize_sequences(sequences, dimension=10000):\n",
        "    results = np.zeros((len(sequences), dimension))\n",
        "    for i, sequence in enumerate(sequences):\n",
        "        results[i, sequence] = 1.\n",
        "    return results\n",
        "train_data = vectorize_sequences(train_data)\n",
        "\n",
        "model = keras.Sequential([\n",
        "    layers.Dense(16, activation=\"relu\"),\n",
        "    layers.Dense(16, activation=\"relu\"),\n",
        "    layers.Dense(1, activation=\"sigmoid\")\n",
        "])\n",
        "model.compile(optimizer=\"rmsprop\",\n",
        "              loss=\"binary_crossentropy\",\n",
        "              metrics=[\"accuracy\"])\n",
        "history_original = model.fit(train_data, train_labels,\n",
        "                             epochs=20, batch_size=512, validation_split=0.4)"
      ]
    },
    {
      "cell_type": "markdown",
      "metadata": {
        "id": "sqDH4kgViB3R"
      },
      "source": [
        "**Version of the model with lower capacity**"
      ]
    },
    {
      "cell_type": "code",
      "execution_count": 27,
      "metadata": {
        "id": "pqL7VxY9iB3R",
        "outputId": "0c980e21-94cb-4a69-ec3a-0b81ef75cf8e",
        "colab": {
          "base_uri": "https://localhost:8080/"
        }
      },
      "outputs": [
        {
          "output_type": "stream",
          "name": "stdout",
          "text": [
            "Epoch 1/20\n",
            "30/30 [==============================] - 2s 50ms/step - loss: 0.5752 - accuracy: 0.7695 - val_loss: 0.4740 - val_accuracy: 0.8601\n",
            "Epoch 2/20\n",
            "30/30 [==============================] - 1s 35ms/step - loss: 0.4079 - accuracy: 0.8852 - val_loss: 0.3826 - val_accuracy: 0.8759\n",
            "Epoch 3/20\n",
            "30/30 [==============================] - 1s 36ms/step - loss: 0.3182 - accuracy: 0.9070 - val_loss: 0.3331 - val_accuracy: 0.8811\n",
            "Epoch 4/20\n",
            "30/30 [==============================] - 1s 35ms/step - loss: 0.2607 - accuracy: 0.9225 - val_loss: 0.2985 - val_accuracy: 0.8911\n",
            "Epoch 5/20\n",
            "30/30 [==============================] - 1s 35ms/step - loss: 0.2223 - accuracy: 0.9308 - val_loss: 0.2827 - val_accuracy: 0.8914\n",
            "Epoch 6/20\n",
            "30/30 [==============================] - 1s 34ms/step - loss: 0.1918 - accuracy: 0.9403 - val_loss: 0.2764 - val_accuracy: 0.8928\n",
            "Epoch 7/20\n",
            "30/30 [==============================] - 1s 34ms/step - loss: 0.1685 - accuracy: 0.9481 - val_loss: 0.2834 - val_accuracy: 0.8837\n",
            "Epoch 8/20\n",
            "30/30 [==============================] - 1s 34ms/step - loss: 0.1497 - accuracy: 0.9566 - val_loss: 0.2786 - val_accuracy: 0.8906\n",
            "Epoch 9/20\n",
            "30/30 [==============================] - 1s 34ms/step - loss: 0.1338 - accuracy: 0.9605 - val_loss: 0.2820 - val_accuracy: 0.8860\n",
            "Epoch 10/20\n",
            "30/30 [==============================] - 1s 34ms/step - loss: 0.1196 - accuracy: 0.9666 - val_loss: 0.2796 - val_accuracy: 0.8906\n",
            "Epoch 11/20\n",
            "30/30 [==============================] - 1s 34ms/step - loss: 0.1076 - accuracy: 0.9708 - val_loss: 0.2873 - val_accuracy: 0.8890\n",
            "Epoch 12/20\n",
            "30/30 [==============================] - 2s 53ms/step - loss: 0.0969 - accuracy: 0.9738 - val_loss: 0.2973 - val_accuracy: 0.8858\n",
            "Epoch 13/20\n",
            "30/30 [==============================] - 1s 44ms/step - loss: 0.0864 - accuracy: 0.9773 - val_loss: 0.3156 - val_accuracy: 0.8842\n",
            "Epoch 14/20\n",
            "30/30 [==============================] - 1s 35ms/step - loss: 0.0790 - accuracy: 0.9805 - val_loss: 0.3191 - val_accuracy: 0.8845\n",
            "Epoch 15/20\n",
            "30/30 [==============================] - 1s 34ms/step - loss: 0.0700 - accuracy: 0.9829 - val_loss: 0.3327 - val_accuracy: 0.8827\n",
            "Epoch 16/20\n",
            "30/30 [==============================] - 1s 34ms/step - loss: 0.0632 - accuracy: 0.9859 - val_loss: 0.3478 - val_accuracy: 0.8821\n",
            "Epoch 17/20\n",
            "30/30 [==============================] - 1s 35ms/step - loss: 0.0570 - accuracy: 0.9875 - val_loss: 0.3617 - val_accuracy: 0.8825\n",
            "Epoch 18/20\n",
            "30/30 [==============================] - 1s 35ms/step - loss: 0.0509 - accuracy: 0.9890 - val_loss: 0.3806 - val_accuracy: 0.8790\n",
            "Epoch 19/20\n",
            "30/30 [==============================] - 1s 35ms/step - loss: 0.0454 - accuracy: 0.9897 - val_loss: 0.3953 - val_accuracy: 0.8786\n",
            "Epoch 20/20\n",
            "30/30 [==============================] - 1s 34ms/step - loss: 0.0403 - accuracy: 0.9919 - val_loss: 0.4144 - val_accuracy: 0.8776\n"
          ]
        }
      ],
      "source": [
        "model = keras.Sequential([\n",
        "    layers.Dense(4, activation=\"relu\"),\n",
        "    layers.Dense(4, activation=\"relu\"),\n",
        "    layers.Dense(1, activation=\"sigmoid\")\n",
        "])\n",
        "model.compile(optimizer=\"rmsprop\",\n",
        "              loss=\"binary_crossentropy\",\n",
        "              metrics=[\"accuracy\"])\n",
        "history_smaller_model = model.fit(\n",
        "    train_data, train_labels,\n",
        "    epochs=20, batch_size=512, validation_split=0.4)"
      ]
    },
    {
      "cell_type": "code",
      "source": [
        "import matplotlib.pyplot as plt\n",
        "val_loss = history_original.history[\"val_loss\"]\n",
        "val_loss2 = history_smaller_model.history[\"val_loss\"]\n",
        "epochs = range(1, 21)\n",
        "plt.plot(epochs, val_loss, \"b--\",\n",
        "         label=\"Validation loss of original model\")\n",
        "plt.plot(epochs, val_loss2, \"b-\",\n",
        "         label=\"Validation loss of smaller model\")\n",
        "plt.title(\"Effect of smaller model capacity on validation loss\")\n",
        "plt.xlabel(\"Epochs\")\n",
        "plt.ylabel(\"Loss\")\n",
        "plt.legend()"
      ],
      "metadata": {
        "id": "9XsxbWCd1le8",
        "outputId": "7fb73f99-4217-460b-b2e3-f4faaad9acb0",
        "colab": {
          "base_uri": "https://localhost:8080/",
          "height": 313
        }
      },
      "execution_count": 28,
      "outputs": [
        {
          "output_type": "execute_result",
          "data": {
            "text/plain": [
              "<matplotlib.legend.Legend at 0x7f72c6e702d0>"
            ]
          },
          "metadata": {},
          "execution_count": 28
        },
        {
          "output_type": "display_data",
          "data": {
            "text/plain": [
              "<Figure size 432x288 with 1 Axes>"
            ],
            "image/png": "[encoded data removed]"
          },
          "metadata": {
            "needs_background": "light"
          }
        }
      ]
    },
    {
      "cell_type": "markdown",
      "source": [
        "- validation of smaller model does not overfit BUT bad performance"
      ],
      "metadata": {
        "id": "qT0BHXXQ2FqQ"
      }
    },
    {
      "cell_type": "markdown",
      "metadata": {
        "id": "Mznz7qwxiB3S"
      },
      "source": [
        "**Version of the model with higher capacity**"
      ]
    },
    {
      "cell_type": "code",
      "execution_count": 29,
      "metadata": {
        "id": "zTZKzbxjiB3S",
        "outputId": "afcdccb3-7fb9-4891-cd71-993559f7b595",
        "colab": {
          "base_uri": "https://localhost:8080/"
        }
      },
      "outputs": [
        {
          "output_type": "stream",
          "name": "stdout",
          "text": [
            "Epoch 1/20\n",
            "30/30 [==============================] - 11s 351ms/step - loss: 0.5434 - accuracy: 0.7446 - val_loss: 0.3020 - val_accuracy: 0.8815\n",
            "Epoch 2/20\n",
            "30/30 [==============================] - 10s 347ms/step - loss: 0.2556 - accuracy: 0.8971 - val_loss: 0.2665 - val_accuracy: 0.8945\n",
            "Epoch 3/20\n",
            "30/30 [==============================] - 10s 342ms/step - loss: 0.1589 - accuracy: 0.9404 - val_loss: 0.2797 - val_accuracy: 0.8904\n",
            "Epoch 4/20\n",
            "30/30 [==============================] - 10s 335ms/step - loss: 0.0886 - accuracy: 0.9717 - val_loss: 0.3717 - val_accuracy: 0.8862\n",
            "Epoch 5/20\n",
            "30/30 [==============================] - 9s 301ms/step - loss: 0.1113 - accuracy: 0.9766 - val_loss: 0.4039 - val_accuracy: 0.8653\n",
            "Epoch 6/20\n",
            "30/30 [==============================] - 10s 336ms/step - loss: 0.0077 - accuracy: 0.9997 - val_loss: 0.4906 - val_accuracy: 0.8887\n",
            "Epoch 7/20\n",
            "30/30 [==============================] - 9s 299ms/step - loss: 8.8643e-04 - accuracy: 0.9999 - val_loss: 0.5923 - val_accuracy: 0.8879\n",
            "Epoch 8/20\n",
            "30/30 [==============================] - 9s 299ms/step - loss: 1.4337e-04 - accuracy: 1.0000 - val_loss: 0.7183 - val_accuracy: 0.8868\n",
            "Epoch 9/20\n",
            "30/30 [==============================] - 9s 299ms/step - loss: 2.5400e-05 - accuracy: 1.0000 - val_loss: 0.8094 - val_accuracy: 0.8850\n",
            "Epoch 10/20\n",
            "30/30 [==============================] - 9s 302ms/step - loss: 5.5608e-06 - accuracy: 1.0000 - val_loss: 0.9168 - val_accuracy: 0.8851\n",
            "Epoch 11/20\n",
            "30/30 [==============================] - 9s 300ms/step - loss: 1.4730e-06 - accuracy: 1.0000 - val_loss: 0.9961 - val_accuracy: 0.8841\n",
            "Epoch 12/20\n",
            "30/30 [==============================] - 9s 300ms/step - loss: 4.4849e-07 - accuracy: 1.0000 - val_loss: 1.0813 - val_accuracy: 0.8849\n",
            "Epoch 13/20\n",
            "30/30 [==============================] - 9s 300ms/step - loss: 1.4674e-07 - accuracy: 1.0000 - val_loss: 1.1569 - val_accuracy: 0.8851\n",
            "Epoch 14/20\n",
            "30/30 [==============================] - 9s 299ms/step - loss: 6.1762e-08 - accuracy: 1.0000 - val_loss: 1.2025 - val_accuracy: 0.8833\n",
            "Epoch 15/20\n",
            "30/30 [==============================] - 9s 310ms/step - loss: 3.1991e-08 - accuracy: 1.0000 - val_loss: 1.2386 - val_accuracy: 0.8828\n",
            "Epoch 16/20\n",
            "30/30 [==============================] - 9s 300ms/step - loss: 2.0692e-08 - accuracy: 1.0000 - val_loss: 1.2622 - val_accuracy: 0.8827\n",
            "Epoch 17/20\n",
            "30/30 [==============================] - 9s 302ms/step - loss: 1.5177e-08 - accuracy: 1.0000 - val_loss: 1.2849 - val_accuracy: 0.8832\n",
            "Epoch 18/20\n",
            "30/30 [==============================] - 9s 302ms/step - loss: 1.1981e-08 - accuracy: 1.0000 - val_loss: 1.2942 - val_accuracy: 0.8828\n",
            "Epoch 19/20\n",
            "30/30 [==============================] - 9s 300ms/step - loss: 9.9067e-09 - accuracy: 1.0000 - val_loss: 1.3080 - val_accuracy: 0.8828\n",
            "Epoch 20/20\n",
            "30/30 [==============================] - 9s 300ms/step - loss: 8.4301e-09 - accuracy: 1.0000 - val_loss: 1.3173 - val_accuracy: 0.8827\n"
          ]
        }
      ],
      "source": [
        "model = keras.Sequential([\n",
        "    layers.Dense(512, activation=\"relu\"),\n",
        "    layers.Dense(512, activation=\"relu\"),\n",
        "    layers.Dense(1, activation=\"sigmoid\")\n",
        "])\n",
        "model.compile(optimizer=\"rmsprop\",\n",
        "              loss=\"binary_crossentropy\",\n",
        "              metrics=[\"accuracy\"])\n",
        "history_larger_model = model.fit(\n",
        "    train_data, train_labels,\n",
        "    epochs=20, batch_size=512, validation_split=0.4)"
      ]
    },
    {
      "cell_type": "code",
      "source": [
        "import matplotlib.pyplot as plt\n",
        "val_loss = history_original.history[\"val_loss\"]\n",
        "val_loss2 = history_larger_model.history[\"val_loss\"]\n",
        "epochs = range(1, 21)\n",
        "plt.plot(epochs, val_loss, \"b--\",\n",
        "         label=\"Validation loss of original model\")\n",
        "plt.plot(epochs, val_loss2, \"b-\",\n",
        "         label=\"Validation loss of larger model\")\n",
        "plt.title(\"Effect of larger model capacity on validation loss\")\n",
        "plt.xlabel(\"Epochs\")\n",
        "plt.ylabel(\"Loss\")\n",
        "plt.legend()"
      ],
      "metadata": {
        "id": "UbLeOXX22Xxh",
        "outputId": "1efc5691-18c5-42cc-a0d4-f09d5adb7523",
        "colab": {
          "base_uri": "https://localhost:8080/",
          "height": 313
        }
      },
      "execution_count": 30,
      "outputs": [
        {
          "output_type": "execute_result",
          "data": {
            "text/plain": [
              "<matplotlib.legend.Legend at 0x7f72c59dcfd0>"
            ]
          },
          "metadata": {},
          "execution_count": 30
        },
        {
          "output_type": "display_data",
          "data": {
            "text/plain": [
              "<Figure size 432x288 with 1 Axes>"
            ],
            "image/png": "[encoded data removed]"
          },
          "metadata": {
            "needs_background": "light"
          }
        }
      ]
    },
    {
      "cell_type": "markdown",
      "source": [
        "- looks better than larger model BUT original model has overfitting after epoch#5."
      ],
      "metadata": {
        "id": "ZkYWivGQ3nKG"
      }
    },
    {
      "cell_type": "markdown",
      "metadata": {
        "id": "TPhnxJtKiB3T"
      },
      "source": [
        "#### Adding weight regularization"
      ]
    },
    {
      "cell_type": "markdown",
      "source": [
        "- SImpler models are less likely to overfit than complex ones\n",
        "- Simple model is a model where the parameter values has less entropy\n",
        "\n",
        "- L1 : LASSO / L2 : Ridge"
      ],
      "metadata": {
        "id": "2S1wb-CayGOa"
      }
    },
    {
      "cell_type": "markdown",
      "metadata": {
        "id": "Jj5XU_0hiB3T"
      },
      "source": [
        "**Adding L2 weight regularization to the model (LASSO)**"
      ]
    },
    {
      "cell_type": "code",
      "execution_count": 31,
      "metadata": {
        "id": "jyChxaBRiB3U",
        "outputId": "0db5b4ad-695b-487f-ff1b-5d9e0cc26ad0",
        "colab": {
          "base_uri": "https://localhost:8080/"
        }
      },
      "outputs": [
        {
          "output_type": "stream",
          "name": "stdout",
          "text": [
            "Epoch 1/20\n",
            "30/30 [==============================] - 2s 54ms/step - loss: 0.5927 - accuracy: 0.7815 - val_loss: 0.4776 - val_accuracy: 0.8432\n",
            "Epoch 2/20\n",
            "30/30 [==============================] - 1s 38ms/step - loss: 0.3923 - accuracy: 0.8975 - val_loss: 0.3917 - val_accuracy: 0.8775\n",
            "Epoch 3/20\n",
            "30/30 [==============================] - 1s 38ms/step - loss: 0.3299 - accuracy: 0.9133 - val_loss: 0.3617 - val_accuracy: 0.8890\n",
            "Epoch 4/20\n",
            "30/30 [==============================] - 1s 41ms/step - loss: 0.2981 - accuracy: 0.9238 - val_loss: 0.3561 - val_accuracy: 0.8909\n",
            "Epoch 5/20\n",
            "30/30 [==============================] - 1s 39ms/step - loss: 0.2745 - accuracy: 0.9338 - val_loss: 0.3601 - val_accuracy: 0.8868\n",
            "Epoch 6/20\n",
            "30/30 [==============================] - 1s 39ms/step - loss: 0.2625 - accuracy: 0.9348 - val_loss: 0.3881 - val_accuracy: 0.8761\n",
            "Epoch 7/20\n",
            "30/30 [==============================] - 1s 39ms/step - loss: 0.2504 - accuracy: 0.9429 - val_loss: 0.3751 - val_accuracy: 0.8804\n",
            "Epoch 8/20\n",
            "30/30 [==============================] - 1s 47ms/step - loss: 0.2470 - accuracy: 0.9435 - val_loss: 0.3808 - val_accuracy: 0.8797\n",
            "Epoch 9/20\n",
            "30/30 [==============================] - 1s 39ms/step - loss: 0.2409 - accuracy: 0.9445 - val_loss: 0.3765 - val_accuracy: 0.8805\n",
            "Epoch 10/20\n",
            "30/30 [==============================] - 1s 38ms/step - loss: 0.2294 - accuracy: 0.9504 - val_loss: 0.4054 - val_accuracy: 0.8707\n",
            "Epoch 11/20\n",
            "30/30 [==============================] - 2s 61ms/step - loss: 0.2297 - accuracy: 0.9487 - val_loss: 0.4404 - val_accuracy: 0.8603\n",
            "Epoch 12/20\n",
            "30/30 [==============================] - 1s 45ms/step - loss: 0.2250 - accuracy: 0.9529 - val_loss: 0.3859 - val_accuracy: 0.8796\n",
            "Epoch 13/20\n",
            "30/30 [==============================] - 1s 43ms/step - loss: 0.2225 - accuracy: 0.9509 - val_loss: 0.3973 - val_accuracy: 0.8770\n",
            "Epoch 14/20\n",
            "30/30 [==============================] - 1s 40ms/step - loss: 0.2171 - accuracy: 0.9525 - val_loss: 0.3932 - val_accuracy: 0.8799\n",
            "Epoch 15/20\n",
            "30/30 [==============================] - 1s 38ms/step - loss: 0.2144 - accuracy: 0.9540 - val_loss: 0.4044 - val_accuracy: 0.8750\n",
            "Epoch 16/20\n",
            "30/30 [==============================] - 1s 39ms/step - loss: 0.2118 - accuracy: 0.9548 - val_loss: 0.4033 - val_accuracy: 0.8761\n",
            "Epoch 17/20\n",
            "30/30 [==============================] - 1s 39ms/step - loss: 0.2106 - accuracy: 0.9557 - val_loss: 0.4568 - val_accuracy: 0.8616\n",
            "Epoch 18/20\n",
            "30/30 [==============================] - 1s 39ms/step - loss: 0.2081 - accuracy: 0.9575 - val_loss: 0.4124 - val_accuracy: 0.8752\n",
            "Epoch 19/20\n",
            "30/30 [==============================] - 1s 38ms/step - loss: 0.2013 - accuracy: 0.9603 - val_loss: 0.4136 - val_accuracy: 0.8743\n",
            "Epoch 20/20\n",
            "30/30 [==============================] - 1s 41ms/step - loss: 0.1979 - accuracy: 0.9615 - val_loss: 0.4714 - val_accuracy: 0.8592\n"
          ]
        }
      ],
      "source": [
        "from tensorflow.keras import regularizers\n",
        "model = keras.Sequential([\n",
        "    layers.Dense(16,\n",
        "                 kernel_regularizer=regularizers.l2(0.002),\n",
        "                 activation=\"relu\"),\n",
        "    layers.Dense(16,\n",
        "                 kernel_regularizer=regularizers.l2(0.002),\n",
        "                 activation=\"relu\"),\n",
        "    layers.Dense(1, activation=\"sigmoid\")\n",
        "])\n",
        "model.compile(optimizer=\"rmsprop\",\n",
        "              loss=\"binary_crossentropy\",\n",
        "              metrics=[\"accuracy\"])\n",
        "history_l2_reg = model.fit(\n",
        "    train_data, train_labels,\n",
        "    epochs=20, batch_size=512, validation_split=0.4)"
      ]
    },
    {
      "cell_type": "code",
      "source": [
        "import matplotlib.pyplot as plt\n",
        "val_loss = history_original.history[\"val_loss\"]\n",
        "val_loss2 = history_l2_reg.history[\"val_loss\"]\n",
        "epochs = range(1, 21)\n",
        "plt.plot(epochs, val_loss, \"b--\",\n",
        "         label=\"Validation loss of original model\")\n",
        "plt.plot(epochs, val_loss2, \"b-\",\n",
        "         label=\"Validation loss of original model with L2 regularization\")\n",
        "plt.title(\"Effect of L2 regularization on validation loss\")\n",
        "plt.xlabel(\"Epochs\")\n",
        "plt.ylabel(\"Loss\")\n",
        "plt.legend()"
      ],
      "metadata": {
        "id": "Ki9E7tZ23zdp",
        "outputId": "d5df2fd1-a3fe-48be-a47e-c53abf8d5e8e",
        "colab": {
          "base_uri": "https://localhost:8080/",
          "height": 313
        }
      },
      "execution_count": 32,
      "outputs": [
        {
          "output_type": "execute_result",
          "data": {
            "text/plain": [
              "<matplotlib.legend.Legend at 0x7f72c5533410>"
            ]
          },
          "metadata": {},
          "execution_count": 32
        },
        {
          "output_type": "display_data",
          "data": {
            "text/plain": [
              "<Figure size 432x288 with 1 Axes>"
            ],
            "image/png": "[encoded data removed]"
          },
          "metadata": {
            "needs_background": "light"
          }
        }
      ]
    },
    {
      "cell_type": "markdown",
      "source": [
        "- validation is low, overfitting prevented\n",
        "- BUT loss is worse than original one"
      ],
      "metadata": {
        "id": "jKaRuTlr4BYp"
      }
    },
    {
      "cell_type": "markdown",
      "metadata": {
        "id": "HBHVQY_7iB3U"
      },
      "source": [
        "**Different weight regularizers available in Keras**"
      ]
    },
    {
      "cell_type": "code",
      "execution_count": 33,
      "metadata": {
        "id": "PgJwkx-WiB3V",
        "outputId": "d040d223-996f-4433-a5ba-ca4605ecbe1d",
        "colab": {
          "base_uri": "https://localhost:8080/"
        }
      },
      "outputs": [
        {
          "output_type": "execute_result",
          "data": {
            "text/plain": [
              "<keras.regularizers.L1L2 at 0x7f72c54be810>"
            ]
          },
          "metadata": {},
          "execution_count": 33
        }
      ],
      "source": [
        "from tensorflow.keras import regularizers\n",
        "regularizers.l1(0.001)\n",
        "regularizers.l1_l2(l1=0.001, l2=0.001)"
      ]
    },
    {
      "cell_type": "markdown",
      "metadata": {
        "id": "oN9ECUZSiB3V"
      },
      "source": [
        "#### Adding dropout"
      ]
    },
    {
      "cell_type": "markdown",
      "source": [
        "- Randomly dropping out(setting to zero) a number of output features of the layer during training"
      ],
      "metadata": {
        "id": "pQ9huQ28y6nq"
      }
    },
    {
      "cell_type": "markdown",
      "metadata": {
        "id": "9SRj8pckiB3W"
      },
      "source": [
        "**Adding dropout to the IMDB model**"
      ]
    },
    {
      "cell_type": "code",
      "execution_count": 34,
      "metadata": {
        "id": "WRTMDt3siB3W",
        "outputId": "045133ef-a8be-499a-8a6f-1c8cdb8f1949",
        "colab": {
          "base_uri": "https://localhost:8080/"
        }
      },
      "outputs": [
        {
          "output_type": "stream",
          "name": "stdout",
          "text": [
            "Epoch 1/20\n",
            "30/30 [==============================] - 3s 60ms/step - loss: 0.6200 - accuracy: 0.6450 - val_loss: 0.5011 - val_accuracy: 0.8523\n",
            "Epoch 2/20\n",
            "30/30 [==============================] - 2s 52ms/step - loss: 0.5004 - accuracy: 0.7747 - val_loss: 0.3967 - val_accuracy: 0.8749\n",
            "Epoch 3/20\n",
            "30/30 [==============================] - 1s 48ms/step - loss: 0.4241 - accuracy: 0.8315 - val_loss: 0.3455 - val_accuracy: 0.8826\n",
            "Epoch 4/20\n",
            "30/30 [==============================] - 1s 37ms/step - loss: 0.3667 - accuracy: 0.8666 - val_loss: 0.3104 - val_accuracy: 0.8852\n",
            "Epoch 5/20\n",
            "30/30 [==============================] - 1s 37ms/step - loss: 0.3196 - accuracy: 0.8887 - val_loss: 0.2904 - val_accuracy: 0.8889\n",
            "Epoch 6/20\n",
            "30/30 [==============================] - 1s 37ms/step - loss: 0.2817 - accuracy: 0.9067 - val_loss: 0.2814 - val_accuracy: 0.8907\n",
            "Epoch 7/20\n",
            "30/30 [==============================] - 1s 37ms/step - loss: 0.2509 - accuracy: 0.9172 - val_loss: 0.2825 - val_accuracy: 0.8895\n",
            "Epoch 8/20\n",
            "30/30 [==============================] - 1s 47ms/step - loss: 0.2155 - accuracy: 0.9279 - val_loss: 0.2994 - val_accuracy: 0.8889\n",
            "Epoch 9/20\n",
            "30/30 [==============================] - 2s 50ms/step - loss: 0.2006 - accuracy: 0.9352 - val_loss: 0.3064 - val_accuracy: 0.8905\n",
            "Epoch 10/20\n",
            "30/30 [==============================] - 1s 41ms/step - loss: 0.1791 - accuracy: 0.9386 - val_loss: 0.3148 - val_accuracy: 0.8888\n",
            "Epoch 11/20\n",
            "30/30 [==============================] - 1s 49ms/step - loss: 0.1627 - accuracy: 0.9453 - val_loss: 0.3283 - val_accuracy: 0.8880\n",
            "Epoch 12/20\n",
            "30/30 [==============================] - 1s 38ms/step - loss: 0.1451 - accuracy: 0.9515 - val_loss: 0.3624 - val_accuracy: 0.8872\n",
            "Epoch 13/20\n",
            "30/30 [==============================] - 1s 39ms/step - loss: 0.1333 - accuracy: 0.9533 - val_loss: 0.3952 - val_accuracy: 0.8855\n",
            "Epoch 14/20\n",
            "30/30 [==============================] - 1s 39ms/step - loss: 0.1201 - accuracy: 0.9577 - val_loss: 0.3948 - val_accuracy: 0.8825\n",
            "Epoch 15/20\n",
            "30/30 [==============================] - 1s 38ms/step - loss: 0.1105 - accuracy: 0.9613 - val_loss: 0.4702 - val_accuracy: 0.8835\n",
            "Epoch 16/20\n",
            "30/30 [==============================] - 1s 40ms/step - loss: 0.1042 - accuracy: 0.9621 - val_loss: 0.4675 - val_accuracy: 0.8827\n",
            "Epoch 17/20\n",
            "30/30 [==============================] - 1s 38ms/step - loss: 0.0947 - accuracy: 0.9671 - val_loss: 0.5344 - val_accuracy: 0.8797\n",
            "Epoch 18/20\n",
            "30/30 [==============================] - 1s 40ms/step - loss: 0.0962 - accuracy: 0.9656 - val_loss: 0.5025 - val_accuracy: 0.8780\n",
            "Epoch 19/20\n",
            "30/30 [==============================] - 1s 45ms/step - loss: 0.0912 - accuracy: 0.9673 - val_loss: 0.5467 - val_accuracy: 0.8802\n",
            "Epoch 20/20\n",
            "30/30 [==============================] - 1s 37ms/step - loss: 0.0829 - accuracy: 0.9696 - val_loss: 0.6200 - val_accuracy: 0.8778\n"
          ]
        }
      ],
      "source": [
        "model = keras.Sequential([\n",
        "    layers.Dense(16, activation=\"relu\"),\n",
        "    layers.Dropout(0.5),\n",
        "    layers.Dense(16, activation=\"relu\"),\n",
        "    layers.Dropout(0.5),\n",
        "    layers.Dense(1, activation=\"sigmoid\")\n",
        "])\n",
        "model.compile(optimizer=\"rmsprop\",\n",
        "              loss=\"binary_crossentropy\",\n",
        "              metrics=[\"accuracy\"])\n",
        "history_dropout = model.fit(\n",
        "    train_data, train_labels,\n",
        "    epochs=20, batch_size=512, validation_split=0.4)"
      ]
    },
    {
      "cell_type": "code",
      "source": [
        "import matplotlib.pyplot as plt\n",
        "val_loss = history_original.history[\"val_loss\"]\n",
        "val_loss2 = history_dropout.history[\"val_loss\"]\n",
        "epochs = range(1, 21)\n",
        "plt.plot(epochs, val_loss, \"b--\",\n",
        "         label=\"Validation loss of original model\")\n",
        "plt.plot(epochs, val_loss2, \"b-\",\n",
        "         label=\"Validation loss of original model with dropout regularization\")\n",
        "plt.title(\"Effect of Dropout regularization on validation loss\")\n",
        "plt.xlabel(\"Epochs\")\n",
        "plt.ylabel(\"Loss\")\n",
        "plt.legend()"
      ],
      "metadata": {
        "id": "4Vzu4wzs4Rte",
        "outputId": "8d9a5d41-2f84-412e-b50c-ff1d3408ecfa",
        "colab": {
          "base_uri": "https://localhost:8080/",
          "height": 313
        }
      },
      "execution_count": 35,
      "outputs": [
        {
          "output_type": "execute_result",
          "data": {
            "text/plain": [
              "<matplotlib.legend.Legend at 0x7f72c5ee4590>"
            ]
          },
          "metadata": {},
          "execution_count": 35
        },
        {
          "output_type": "display_data",
          "data": {
            "text/plain": [
              "<Figure size 432x288 with 1 Axes>"
            ],
            "image/png": "[encoded data removed]"
          },
          "metadata": {
            "needs_background": "light"
          }
        }
      ]
    },
    {
      "cell_type": "markdown",
      "source": [
        "- better result than original model"
      ],
      "metadata": {
        "id": "mHGfknW-4c-H"
      }
    },
    {
      "cell_type": "markdown",
      "metadata": {
        "id": "ByqevOd3iB3W"
      },
      "source": [
        "## Summary"
      ]
    }
  ],
  "metadata": {
    "colab": {
      "collapsed_sections": [],
      "name": "chapter05_fundamentals-of-ml.i",
      "provenance": [],
      "toc_visible": true,
      "include_colab_link": true
    },
    "kernelspec": {
      "display_name": "Python 3",
      "language": "python",
      "name": "python3"
    },
    "language_info": {
      "codemirror_mode": {
        "name": "ipython",
        "version": 3
      },
      "file_extension": ".py",
      "mimetype": "text/x-python",
      "name": "python",
      "nbconvert_exporter": "python",
      "pygments_lexer": "ipython3",
      "version": "3.7.0"
    }
  },
  "nbformat": 4,
  "nbformat_minor": 0
}