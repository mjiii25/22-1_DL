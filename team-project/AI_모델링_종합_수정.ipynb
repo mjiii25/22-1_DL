{
  "nbformat": 4,
  "nbformat_minor": 0,
  "metadata": {
    "colab": {
      "name": "AI 모델링 종합_",
      "private_outputs": true,
      "provenance": [],
      "include_colab_link": true
    },
    "kernelspec": {
      "name": "python3",
      "display_name": "Python 3"
    },
    "language_info": {
      "name": "python"
    },
    "accelerator": "GPU"
  },
  "cells": [
    {
      "cell_type": "markdown",
      "metadata": {
        "id": "view-in-github",
        "colab_type": "text"
      },
      "source": [
        "<a href=\"https://colab.research.google.com/github/mjiii25/22-1_DLAI/blob/main/team-project/AI_%EB%AA%A8%EB%8D%B8%EB%A7%81_%EC%A2%85%ED%95%A9_%EC%88%98%EC%A0%95.ipynb\" target=\"_parent\"><img src=\"https://colab.research.google.com/assets/colab-badge.svg\" alt=\"Open In Colab\"/></a>"
      ]
    },
    {
      "cell_type": "markdown",
      "source": [
        "# 1. 데이터 불러오기"
      ],
      "metadata": {
        "id": "Hetd7rFnPWRI"
      }
    },
    {
      "cell_type": "code",
      "execution_count": null,
      "metadata": {
        "id": "XtSTejoENxoU"
      },
      "outputs": [],
      "source": [
        "from google.colab import drive\n",
        "drive.mount(\"/content/drive\")"
      ]
    },
    {
      "cell_type": "code",
      "source": [
        "# data path\n",
        "dpath = \"/content/drive/MyDrive/\""
      ],
      "metadata": {
        "id": "WqIdQSrvOD_j"
      },
      "execution_count": null,
      "outputs": []
    },
    {
      "cell_type": "code",
      "source": [
        "# import data\n",
        "import pandas as pd\n",
        "train_features = pd.read_csv(dpath+\"training_set_features.csv\")\n",
        "train_labels = pd.read_csv(dpath+\"training_set_labels.csv\")\n",
        "test_features = pd.read_csv(dpath+\"test_set_features.csv\")"
      ],
      "metadata": {
        "id": "-3UumU13O6OJ"
      },
      "execution_count": null,
      "outputs": []
    },
    {
      "cell_type": "markdown",
      "source": [
        "# 2. 머신러닝 모형\n"
      ],
      "metadata": {
        "id": "LdnOkPABPeGM"
      }
    },
    {
      "cell_type": "code",
      "source": [
        "import pandas as pd\n",
        "import numpy as np\n",
        "import matplotlib.pyplot as plt\n",
        "import seaborn as sns"
      ],
      "metadata": {
        "id": "M9j_HRmnPs-x"
      },
      "execution_count": null,
      "outputs": []
    },
    {
      "cell_type": "code",
      "source": [
        "train_labels.info()"
      ],
      "metadata": {
        "id": "Uhwpc5NVQYkI"
      },
      "execution_count": null,
      "outputs": []
    },
    {
      "cell_type": "code",
      "source": [
        "train_features.isnull().sum()"
      ],
      "metadata": {
        "id": "aY4-EcbMQb__"
      },
      "execution_count": null,
      "outputs": []
    },
    {
      "cell_type": "code",
      "source": [
        "# NA값이 전체 데이터수의 5% 이상 채워져 있는 칼럼의 경우 삭제\n",
        "# 아직 24개의 칼럼\n",
        "train_features2 = train_features[['respondent_id','h1n1_concern', 'h1n1_knowledge', 'behavioral_antiviral_meds',\n",
        "                                  'behavioral_avoidance', 'behavioral_face_mask', 'behavioral_wash_hands',\n",
        "                                  'behavioral_large_gatherings', 'behavioral_outside_home','behavioral_touch_face',\n",
        "                                  'chronic_med_condition', 'child_under_6_months', 'health_worker','opinion_h1n1_vacc_effective',\n",
        "                                  'opinion_h1n1_risk','opinion_h1n1_sick_from_vacc', 'opinion_seas_vacc_effective',\n",
        "                                  'opinion_seas_risk', 'opinion_seas_sick_from_vacc', 'age_group',\n",
        "                                  'race', 'sex', 'hhs_geo_region', 'census_msa','household_adults', 'household_children']]"
      ],
      "metadata": {
        "id": "AGcELRk8QsVX"
      },
      "execution_count": null,
      "outputs": []
    },
    {
      "cell_type": "code",
      "source": [
        "train_features2.info()"
      ],
      "metadata": {
        "id": "m4UrzQipS3p9"
      },
      "execution_count": null,
      "outputs": []
    },
    {
      "cell_type": "markdown",
      "source": [
        "* Train for h1n1 vaccine"
      ],
      "metadata": {
        "id": "aQMRrRrSbqlm"
      }
    },
    {
      "cell_type": "code",
      "source": [
        "train_h1n1 = train_features2[['respondent_id','h1n1_concern', 'h1n1_knowledge', \n",
        "                             'behavioral_antiviral_meds','behavioral_avoidance', 'behavioral_face_mask', 'behavioral_wash_hands',\n",
        "                             'behavioral_large_gatherings', 'behavioral_outside_home','behavioral_touch_face',\n",
        "                             'chronic_med_condition', 'child_under_6_months', 'health_worker',\n",
        "                             'opinion_h1n1_vacc_effective','opinion_h1n1_risk','opinion_h1n1_sick_from_vacc', \n",
        "                             'age_group','race', 'sex', 'hhs_geo_region', 'census_msa','household_adults', 'household_children']]\n",
        "train_h1n1 = pd.merge(train_h1n1,train_labels[['respondent_id', 'h1n1_vaccine']], how='inner', on= 'respondent_id')"
      ],
      "metadata": {
        "id": "PL94tWqmT0ZT"
      },
      "execution_count": null,
      "outputs": []
    },
    {
      "cell_type": "code",
      "source": [
        "list_h1n1_drop_index = train_h1n1[(train_h1n1['h1n1_concern'].isnull()==True)|(train_h1n1['h1n1_knowledge'].isnull()==True)|\n",
        "           (train_h1n1['behavioral_antiviral_meds'].isnull()==True)|(train_h1n1['behavioral_avoidance'].isnull()==True)|\n",
        "           (train_h1n1['behavioral_face_mask'].isnull()==True)|(train_h1n1['behavioral_wash_hands'].isnull()==True)|\n",
        "           (train_h1n1['behavioral_large_gatherings'].isnull()==True)|(train_h1n1['behavioral_outside_home'].isnull()==True)|\n",
        "           (train_h1n1['behavioral_touch_face'].isnull()==True)|(train_h1n1['chronic_med_condition'].isnull()==True)|\n",
        "           (train_h1n1['child_under_6_months'].isnull()==True)|(train_h1n1['health_worker'].isnull()==True)|\n",
        "           (train_h1n1['opinion_h1n1_vacc_effective'].isnull()==True)|(train_h1n1['opinion_h1n1_risk'].isnull()==True)|\n",
        "           (train_h1n1['opinion_h1n1_sick_from_vacc'].isnull()==True)|\n",
        "           (train_h1n1['household_adults'].isnull()==True)|(train_h1n1['household_children'].isnull()==True)].index.tolist()\n",
        "\n",
        "print(len(list_h1n1_drop_index), '개의 (null이 하나 이상 포함된)행이 있음')"
      ],
      "metadata": {
        "id": "mdvYXMHwXfJj"
      },
      "execution_count": null,
      "outputs": []
    },
    {
      "cell_type": "code",
      "source": [
        "# 그냥 저것들을 싹 날릴 경우, 대략 7%의 데이터 손실 발생\n",
        "train_h1n1 = train_h1n1.drop(list_h1n1_drop_index, axis=0)"
      ],
      "metadata": {
        "id": "SZWIuyBYbace"
      },
      "execution_count": null,
      "outputs": []
    },
    {
      "cell_type": "code",
      "source": [
        "train_h1n1.isnull().sum()"
      ],
      "metadata": {
        "id": "-mxNWPl9baNo"
      },
      "execution_count": null,
      "outputs": []
    },
    {
      "cell_type": "code",
      "source": [
        "# index 다시 부여\n",
        "train_h1n1 = train_h1n1.reset_index(drop=True)"
      ],
      "metadata": {
        "id": "nnXyReaxbaAG"
      },
      "execution_count": null,
      "outputs": []
    },
    {
      "cell_type": "markdown",
      "source": [
        "* Train for Seasonal Vaccine"
      ],
      "metadata": {
        "id": "jbbQYIW8b0kx"
      }
    },
    {
      "cell_type": "code",
      "source": [
        "train_seasonal = train_features2[['respondent_id','behavioral_antiviral_meds','behavioral_avoidance', 'behavioral_face_mask', \n",
        "                                  'behavioral_wash_hands','behavioral_large_gatherings', 'behavioral_outside_home',\n",
        "                                  'behavioral_touch_face','chronic_med_condition', 'child_under_6_months', 'health_worker',\n",
        "                                  'opinion_seas_vacc_effective','opinion_seas_risk','opinion_seas_sick_from_vacc', \n",
        "                                  'age_group','race', 'sex', 'hhs_geo_region', 'census_msa','household_adults', 'household_children']]\n",
        "train_seasonal = pd.merge(train_seasonal,train_labels[['respondent_id', 'seasonal_vaccine']], how='inner', on= 'respondent_id')"
      ],
      "metadata": {
        "id": "67toHnjfbYmN"
      },
      "execution_count": null,
      "outputs": []
    },
    {
      "cell_type": "code",
      "source": [
        "list_seasonal_drop_index = train_seasonal[(train_seasonal['behavioral_antiviral_meds'].isnull()==True)|\n",
        "                                          (train_seasonal['behavioral_avoidance'].isnull()==True)|\n",
        "                                          (train_seasonal['behavioral_face_mask'].isnull()==True)|\n",
        "                                          (train_seasonal['behavioral_wash_hands'].isnull()==True)|\n",
        "                                          (train_seasonal['behavioral_large_gatherings'].isnull()==True)|\n",
        "                                          (train_seasonal['behavioral_outside_home'].isnull()==True)|\n",
        "                                          (train_seasonal['behavioral_touch_face'].isnull()==True)|\n",
        "                                          (train_seasonal['chronic_med_condition'].isnull()==True)|\n",
        "                                          (train_seasonal['child_under_6_months'].isnull()==True)|\n",
        "                                          (train_seasonal['health_worker'].isnull()==True)|\n",
        "                                          (train_seasonal['opinion_seas_vacc_effective'].isnull()==True)|\n",
        "                                          (train_seasonal['opinion_seas_risk'].isnull()==True)|\n",
        "                                          (train_seasonal['opinion_seas_sick_from_vacc'].isnull()==True)|\n",
        "                                          (train_seasonal['household_adults'].isnull()==True)|\n",
        "                                          (train_seasonal['household_children'].isnull()==True)].index.tolist()\n",
        "\n",
        "print(len(list_seasonal_drop_index), '개의 (null이 하나 이상 포함된)행이 있음')"
      ],
      "metadata": {
        "id": "jPx-pIh7b-mg"
      },
      "execution_count": null,
      "outputs": []
    },
    {
      "cell_type": "code",
      "source": [
        "# 그냥 저것들을 싹 날릴 경우, 대략 6%의 데이터 손실 발생\n",
        "train_seasonal = train_seasonal.drop(list_seasonal_drop_index, axis=0)"
      ],
      "metadata": {
        "id": "pjgws0ksb-eI"
      },
      "execution_count": null,
      "outputs": []
    },
    {
      "cell_type": "code",
      "source": [
        "# index 다시 부여\n",
        "train_seasonal = train_seasonal.reset_index(drop=True)"
      ],
      "metadata": {
        "id": "hPMkcnRJb-Ts"
      },
      "execution_count": null,
      "outputs": []
    },
    {
      "cell_type": "code",
      "source": [
        "train_seasonal.info()"
      ],
      "metadata": {
        "id": "I4zUdM8Nb-LZ"
      },
      "execution_count": null,
      "outputs": []
    },
    {
      "cell_type": "code",
      "source": [
        "from sklearn.model_selection import train_test_split\n",
        "from sklearn.linear_model import LogisticRegression    \n",
        "from sklearn.naive_bayes import GaussianNB         \n",
        "from sklearn.tree import DecisionTreeClassifier \n",
        "from sklearn.ensemble import RandomForestClassifier\n",
        "\n",
        "from sklearn.metrics import accuracy_score\n",
        "from sklearn.metrics import f1_score\n",
        "from sklearn.metrics import recall_score\n",
        "from sklearn.metrics import precision_score"
      ],
      "metadata": {
        "id": "VRnc_GALb-Bs"
      },
      "execution_count": null,
      "outputs": []
    },
    {
      "cell_type": "code",
      "source": [
        "## age_group\n",
        "\n",
        "train_h1n1.loc[train_h1n1['age_group'] == '18 - 34 Years', 'age_group'] = 1\n",
        "train_h1n1.loc[train_h1n1['age_group'] == '35 - 44 Years', 'age_group'] = 2\n",
        "train_h1n1.loc[train_h1n1['age_group'] == '45 - 54 Years', 'age_group'] = 3\n",
        "train_h1n1.loc[train_h1n1['age_group'] == '55 - 64 Years', 'age_group'] = 4\n",
        "train_h1n1.loc[train_h1n1['age_group'] == '65+ Years', 'age_group'] = 5\n",
        "\n",
        "\n",
        "## race\n",
        "\n",
        "train_h1n1.loc[train_h1n1['race'] == 'White', 'race'] = 1\n",
        "train_h1n1.loc[train_h1n1['race'] == 'Black', 'race'] = 2\n",
        "train_h1n1.loc[train_h1n1['race'] == 'Other or Multiple', 'race'] = 3\n",
        "train_h1n1.loc[train_h1n1['race'] == 'Hispanic', 'race'] = 4\n",
        "\n",
        "## sex\n",
        "\n",
        "train_h1n1.loc[train_h1n1['sex'] == 'Female', 'sex'] = 1\n",
        "train_h1n1.loc[train_h1n1['sex'] == 'Male', 'sex'] = 2\n",
        "\n",
        "from sklearn import preprocessing\n",
        "\n",
        "le = preprocessing.LabelEncoder()\n",
        "le.fit(train_h1n1['hhs_geo_region'])\n",
        "\n",
        "print(le.classes_)\n",
        "train_h1n1['hhs_geo_region'] = le.transform(train_h1n1['hhs_geo_region'])\n",
        "\n",
        "## census_msa\n",
        "\n",
        "train_h1n1.loc[train_h1n1['census_msa'] == 'Non-MSA', 'census_msa'] = 1\n",
        "train_h1n1.loc[train_h1n1['census_msa'] == 'MSA, Not Principle  City', 'census_msa'] = 2\n",
        "train_h1n1.loc[train_h1n1['census_msa'] == 'MSA, Principle City', 'census_msa'] = 3"
      ],
      "metadata": {
        "id": "Djw5cVMjb91E"
      },
      "execution_count": null,
      "outputs": []
    },
    {
      "cell_type": "code",
      "source": [
        "feature = train_h1n1.iloc[:,1:-1]\n",
        "target = train_h1n1['h1n1_vaccine']\n",
        "x_train, x_valid, y_train, y_valid = train_test_split(feature, target, test_size=0.2,shuffle=True,      \n",
        "                                                          stratify=target,  random_state=1234) "
      ],
      "metadata": {
        "id": "E1eSf_D9cwCd"
      },
      "execution_count": null,
      "outputs": []
    },
    {
      "cell_type": "code",
      "source": [
        "# 분류 score 계산\n",
        "def score(pred, y_test):\n",
        "    print(' accuracy  : ', accuracy_score(y_test, pred))\n",
        "    print(' f1-score  : ', f1_score(y_test, pred))\n",
        "    print(' recall    : ', recall_score(y_test, pred))\n",
        "    print(' precision : ', precision_score(y_test, pred))\n",
        "    return accuracy_score(y_test, pred), f1_score(y_test, pred), recall_score(y_test, pred), precision_score(y_test, pred)"
      ],
      "metadata": {
        "id": "A_tJozMNcv3C"
      },
      "execution_count": null,
      "outputs": []
    },
    {
      "cell_type": "code",
      "source": [
        "def logistic_reg(x_train, y_train, x_valid, y_valid):\n",
        "    \n",
        "    # 모델 분류 수행\n",
        "    reg = LogisticRegression(random_state=0, max_iter=500)\n",
        "    reg.fit(x_train, y_train)\n",
        "    pred = reg.predict(x_valid)   \n",
        "    print(reg.predict_proba(x_valid))\n",
        "    \n",
        "    # 분류 score 계산\n",
        "    accuracy, f1, recall, precision = score(pred, y_valid)\n",
        "    return accuracy, f1, recall, precision"
      ],
      "metadata": {
        "id": "tddslrxkcvqZ"
      },
      "execution_count": null,
      "outputs": []
    },
    {
      "cell_type": "code",
      "source": [
        "logistic_reg(x_train, y_train, x_valid, y_valid)"
      ],
      "metadata": {
        "id": "pq9xl_K-c_96"
      },
      "execution_count": null,
      "outputs": []
    },
    {
      "cell_type": "code",
      "source": [
        "def dt_clf(x_train, y_train, x_valid, y_valid):\n",
        "    \n",
        "    # 모델 분류 수행\n",
        "    clf = DecisionTreeClassifier(max_depth=16, random_state=0)\n",
        "    clf.fit(x_train, y_train)\n",
        "    pred = clf.predict(x_valid)\n",
        "    k = clf.predict_log_proba\n",
        "    print(clf.predict_proba)\n",
        "          \n",
        "    \n",
        "    # 분류 score 계산\n",
        "    accuracy, f1, recall, precision = score(pred, y_valid)\n",
        "    return accuracy, f1, recall, precision"
      ],
      "metadata": {
        "id": "xj7EG9z2c_zO"
      },
      "execution_count": null,
      "outputs": []
    },
    {
      "cell_type": "code",
      "source": [
        "dt_clf(x_train, y_train, x_valid, y_valid)"
      ],
      "metadata": {
        "id": "Y8k0frHOc_pB"
      },
      "execution_count": null,
      "outputs": []
    },
    {
      "cell_type": "code",
      "source": [
        "def randomforest_clf(x_train, y_train, x_valid, y_valid):\n",
        "    \n",
        "    # 모델 분류 수행\n",
        "    clf = RandomForestClassifier(max_depth=16, random_state=0)\n",
        "    clf.fit(x_train, y_train)\n",
        "    pred = clf.predict(x_valid)\n",
        "    \n",
        "    # 분류 score 계산\n",
        "    accuracy, f1, recall, precision = score(pred, y_valid)\n",
        "    return accuracy, f1, recall, precision"
      ],
      "metadata": {
        "id": "1g3_cDRxc_cE"
      },
      "execution_count": null,
      "outputs": []
    },
    {
      "cell_type": "code",
      "source": [
        "randomforest_clf(x_train, y_train, x_valid, y_valid)"
      ],
      "metadata": {
        "id": "2GgPEQvSboo6"
      },
      "execution_count": null,
      "outputs": []
    },
    {
      "cell_type": "markdown",
      "source": [
        "# 3. 딥러닝 모델"
      ],
      "metadata": {
        "id": "O0HrG8lCVCvE"
      }
    },
    {
      "cell_type": "markdown",
      "source": [
        "# 1) 코드1 ~> 기본적인 모형 (너무 단순해서 걱정)\n"
      ],
      "metadata": {
        "id": "ahNFE6yeVG4-"
      }
    },
    {
      "cell_type": "markdown",
      "source": [
        "#### h1n1 모델"
      ],
      "metadata": {
        "id": "3_iZhzdnNBXu"
      }
    },
    {
      "cell_type": "code",
      "source": [
        "train_h1n1 = pd.read_csv(dpath+'/train_h1n1_ver1.csv')\n",
        "train_seasonal = pd.read_csv(dpath+'train_seasonal_ver1.csv')"
      ],
      "metadata": {
        "id": "4HBsqjnyVLjj"
      },
      "execution_count": null,
      "outputs": []
    },
    {
      "cell_type": "code",
      "source": [
        "print(train_h1n1.shape)\n",
        "train_h1n1.head()"
      ],
      "metadata": {
        "id": "Sa5-yf9LddUm"
      },
      "execution_count": null,
      "outputs": []
    },
    {
      "cell_type": "markdown",
      "source": [
        "* 모델 정의"
      ],
      "metadata": {
        "id": "5WVta9bpd1cv"
      }
    },
    {
      "cell_type": "code",
      "source": [
        "from tensorflow import keras\n",
        "from tensorflow.keras import layers\n",
        "\n",
        "model_h1n1 = keras.Sequential([\n",
        "                               layers.Dense(16, activation=\"relu\"),\n",
        "                               layers.Dense(16, activation=\"relu\"),\n",
        "                               layers.Dense(8, activation=\"relu\"),\n",
        "                               layers.Dense(4, activation=\"relu\"),\n",
        "                               layers.Dense(1, activation=\"sigmoid\")\n",
        "])"
      ],
      "metadata": {
        "id": "4ENKjNYsdrxx"
      },
      "execution_count": null,
      "outputs": []
    },
    {
      "cell_type": "code",
      "source": [
        "model_h1n1.compile(optimizer=\"rmsprop\",\n",
        "                   loss=\"binary_crossentropy\",\n",
        "                   metrics=[\"accuracy\"])    "
      ],
      "metadata": {
        "id": "fG3FBFnR8GQB"
      },
      "execution_count": null,
      "outputs": []
    },
    {
      "cell_type": "code",
      "source": [
        "# X_val_h1n1 = X_train_h1n1[:5000]\n",
        "# partial_X_train_h1n1 = X_train_h1n1[5000:]\n",
        "\n",
        "# y_val_h1n1 = y_train_h1n1[:5000]\n",
        "# partial_y_train_h1n1 = y_train_h1n1[5000:]"
      ],
      "metadata": {
        "id": "jWiha0aReFl1"
      },
      "execution_count": null,
      "outputs": []
    },
    {
      "cell_type": "code",
      "source": [
        "from sklearn.model_selection import train_test_split\n",
        "\n",
        "feature = train_h1n1.iloc[:,1:-1]\n",
        "target = train_h1n1['h1n1_vaccine']\n",
        "\n",
        "x_train_h1n1, x_valid_h1n1, y_train_h1n1, y_valid_h1n1 = train_test_split(feature, target, test_size=0.2,shuffle=True,\n",
        "                                                                          stratify=target,  random_state=1234) "
      ],
      "metadata": {
        "id": "x3kTXcTVpWFB"
      },
      "execution_count": null,
      "outputs": []
    },
    {
      "cell_type": "code",
      "source": [
        "history_h1n1 = model_h1n1.fit(x_train_h1n1,\n",
        "                              y_train_h1n1,\n",
        "                              epochs=20,\n",
        "                              batch_size=512,\n",
        "                              validation_data=(x_valid_h1n1, y_valid_h1n1))"
      ],
      "metadata": {
        "id": "CsuCOQjVeL4-"
      },
      "execution_count": null,
      "outputs": []
    },
    {
      "cell_type": "code",
      "source": [
        "# loss result\n",
        "\n",
        "import matplotlib.pyplot as plt\n",
        "\n",
        "history_dict_h1n1 = history_h1n1.history\n",
        "loss_values_h1n1 = history_dict_h1n1[\"loss\"]\n",
        "val_loss_values_h1n1 = history_dict_h1n1[\"val_loss\"]\n",
        "\n",
        "epochs = range(1, len(loss_values_h1n1) + 1)\n",
        "plt.plot(epochs, loss_values_h1n1, \"bo\", label=\"Training loss\")\n",
        "plt.plot(epochs, val_loss_values_h1n1, \"b\", label=\"Validation loss\")\n",
        "plt.title(\"Training and validation loss of h1n1 vaccine\")\n",
        "plt.xlabel(\"Epochs\")\n",
        "plt.ylabel(\"Loss\")\n",
        "plt.legend()\n",
        "plt.show()"
      ],
      "metadata": {
        "id": "GEXCr7qIeV-g"
      },
      "execution_count": null,
      "outputs": []
    },
    {
      "cell_type": "code",
      "source": [
        "# accuracy result\n",
        "\n",
        "plt.clf()\n",
        "acc_h1n1 = history_dict_h1n1[\"accuracy\"]\n",
        "val_acc_h1n1 = history_dict_h1n1[\"val_accuracy\"]\n",
        "plt.plot(epochs, acc_h1n1, \"bo\", label=\"Training acc\")\n",
        "plt.plot(epochs, val_acc_h1n1, \"b\", label=\"Validation acc\")\n",
        "plt.title(\"Training and validation accuracy of h1n1 vaccine\")\n",
        "plt.xlabel(\"Epochs\")\n",
        "plt.ylabel(\"Accuracy\")\n",
        "plt.legend()\n",
        "plt.show()"
      ],
      "metadata": {
        "id": "CvPruFnTealc"
      },
      "execution_count": null,
      "outputs": []
    },
    {
      "cell_type": "markdown",
      "source": [
        "#### seasonal 모델"
      ],
      "metadata": {
        "id": "ifwlLAgFND2A"
      }
    },
    {
      "cell_type": "code",
      "source": [
        "## age_group\n",
        "\n",
        "train_seasonal.loc[train_seasonal['age_group'] == '18 - 34 Years', 'age_group'] = 1\n",
        "train_seasonal.loc[train_seasonal['age_group'] == '35 - 44 Years', 'age_group'] = 2\n",
        "train_seasonal.loc[train_seasonal['age_group'] == '45 - 54 Years', 'age_group'] = 3\n",
        "train_seasonal.loc[train_seasonal['age_group'] == '55 - 64 Years', 'age_group'] = 4\n",
        "train_seasonal.loc[train_seasonal['age_group'] == '65+ Years', 'age_group'] = 5\n",
        "\n",
        "\n",
        "## race\n",
        "\n",
        "train_seasonal.loc[train_seasonal['race'] == 'White', 'race'] = 1\n",
        "train_seasonal.loc[train_seasonal['race'] == 'Black', 'race'] = 2\n",
        "train_seasonal.loc[train_seasonal['race'] == 'Other or Multiple', 'race'] = 3\n",
        "train_seasonal.loc[train_seasonal['race'] == 'Hispanic', 'race'] = 4\n",
        "\n",
        "\n",
        "## sex\n",
        "\n",
        "train_seasonal.loc[train_seasonal['sex'] == 'Female', 'sex'] = 1\n",
        "train_seasonal.loc[train_seasonal['sex'] == 'Male', 'sex'] = 2\n",
        "\n",
        "\n",
        "## hhs_geo_region\n",
        "\n",
        "from sklearn import preprocessing\n",
        "\n",
        "le = preprocessing.LabelEncoder()\n",
        "le.fit(train_seasonal['hhs_geo_region'])\n",
        "\n",
        "print(le.classes_)\n",
        "train_seasonal['hhs_geo_region'] = le.transform(train_seasonal['hhs_geo_region'])\n",
        "\n",
        "\n",
        "## census_msa\n",
        "\n",
        "train_seasonal.loc[train_seasonal['census_msa'] == 'Non-MSA', 'census_msa'] = 1\n",
        "train_seasonal.loc[train_seasonal['census_msa'] == 'MSA, Not Principle  City', 'census_msa'] = 2\n",
        "train_seasonal.loc[train_seasonal['census_msa'] == 'MSA, Principle City', 'census_msa'] = 3\n"
      ],
      "metadata": {
        "id": "vQWag62vekRn"
      },
      "execution_count": null,
      "outputs": []
    },
    {
      "cell_type": "code",
      "source": [
        "# 모델 훈련을 위해 데이터타입 변환해주기\n",
        "\n",
        "train_seasonal['age_group'] = train_seasonal['age_group'].astype(np.int64)\n",
        "train_seasonal['race'] = train_seasonal['race'].astype(np.int64)\n",
        "train_seasonal['sex'] = train_seasonal['sex'].astype(np.int64)\n",
        "train_seasonal['census_msa'] = train_seasonal['census_msa'].astype(np.int64)"
      ],
      "metadata": {
        "id": "hoReETlxQPAY"
      },
      "execution_count": null,
      "outputs": []
    },
    {
      "cell_type": "markdown",
      "source": [
        "- 모델 정의"
      ],
      "metadata": {
        "id": "-b_JY8lFNU2r"
      }
    },
    {
      "cell_type": "code",
      "source": [
        "from tensorflow import keras\n",
        "from tensorflow.keras import layers\n",
        "\n",
        "model_seasonal = keras.Sequential([\n",
        "                                   layers.Dense(16, activation=\"relu\"),\n",
        "                                   layers.Dense(16, activation=\"relu\"),\n",
        "                                   layers.Dense(4, activation=\"relu\"),\n",
        "                                   layers.Dense(4, activation=\"relu\"),                                   \n",
        "                                   layers.Dense(1, activation=\"sigmoid\")\n",
        "])"
      ],
      "metadata": {
        "id": "_RsKoz8mfKsC"
      },
      "execution_count": null,
      "outputs": []
    },
    {
      "cell_type": "code",
      "source": [
        "model_seasonal.compile(optimizer=\"rmsprop\",\n",
        "                       loss=\"binary_crossentropy\",\n",
        "                       metrics=[\"accuracy\"])    "
      ],
      "metadata": {
        "id": "DScwpCgGfOGc"
      },
      "execution_count": null,
      "outputs": []
    },
    {
      "cell_type": "code",
      "source": [
        "from sklearn.model_selection import train_test_split\n",
        "\n",
        "feature = train_seasonal.iloc[:,1:-1]\n",
        "target = train_seasonal['seasonal_vaccine']\n",
        "\n",
        "x_train_seasonal, x_valid_seasonal, y_train_seasonal, y_valid_seasonal = train_test_split(feature, target, test_size=0.2,shuffle=True,\n",
        "                                                                                          stratify=target,  random_state=1234) "
      ],
      "metadata": {
        "id": "HR3XAcFTqy8N"
      },
      "execution_count": null,
      "outputs": []
    },
    {
      "cell_type": "code",
      "source": [
        "history_seasonal = model_seasonal.fit(x_train_seasonal,\n",
        "                                      y_train_seasonal,\n",
        "                                      epochs=20,\n",
        "                                      batch_size=512,\n",
        "                                      validation_data=(x_valid_seasonal, y_valid_seasonal))"
      ],
      "metadata": {
        "id": "wyYfzE3pr-Xg"
      },
      "execution_count": null,
      "outputs": []
    },
    {
      "cell_type": "code",
      "source": [
        "# loss result\n",
        "\n",
        "import matplotlib.pyplot as plt\n",
        "\n",
        "history_dict_seasonal = history_seasonal.history\n",
        "loss_values_seasonal = history_dict_seasonal[\"loss\"]\n",
        "val_loss_values_seasonal = history_dict_seasonal[\"val_loss\"]\n",
        "\n",
        "epochs = range(1, len(loss_values_seasonal) + 1)\n",
        "plt.plot(epochs, loss_values_seasonal, \"bo\", label=\"Training loss\")\n",
        "plt.plot(epochs, val_loss_values_seasonal, \"b\", label=\"Validation loss\")\n",
        "plt.title(\"Training and validation loss of seasonal vaccine\")\n",
        "plt.xlabel(\"Epochs\")\n",
        "plt.ylabel(\"Loss\")\n",
        "plt.legend()\n",
        "plt.show()"
      ],
      "metadata": {
        "id": "kwjto1F6fXTt"
      },
      "execution_count": null,
      "outputs": []
    },
    {
      "cell_type": "code",
      "source": [
        "# accuracy result\n",
        "\n",
        "plt.clf()\n",
        "acc_seasonal = history_dict_seasonal[\"accuracy\"]\n",
        "val_acc_seasonal = history_dict_seasonal[\"val_accuracy\"]\n",
        "plt.plot(epochs, acc_seasonal, \"bo\", label=\"Training acc\")\n",
        "plt.plot(epochs, val_acc_seasonal, \"b\", label=\"Validation acc\")\n",
        "plt.title(\"Training and validation accuracy of seasonal vaccine\")\n",
        "plt.xlabel(\"Epochs\")\n",
        "plt.ylabel(\"Accuracy\")\n",
        "plt.legend()\n",
        "plt.show()"
      ],
      "metadata": {
        "id": "UIWDSCrZfbm6"
      },
      "execution_count": null,
      "outputs": []
    },
    {
      "cell_type": "markdown",
      "source": [
        "# 2) 코드2 ~> 인공신경망 모델"
      ],
      "metadata": {
        "id": "7Ly3SfNJywST"
      }
    },
    {
      "cell_type": "code",
      "source": [
        "import csv\n",
        "import pandas as pd\n",
        "import numpy as np\n",
        "import matplotlib.pyplot as plt\n",
        "from sklearn.neural_network import MLPRegressor\n",
        "from sklearn.metrics import accuracy_score, classification_report, roc_auc_score\n",
        "from sklearn.model_selection import GridSearchCV\n",
        "from sklearn.preprocessing import OrdinalEncoder\n",
        "from sklearn.preprocessing import StandardScaler\n",
        "from sklearn.model_selection import StratifiedShuffleSplit\n",
        "from sklearn.model_selection import train_test_split"
      ],
      "metadata": {
        "id": "36Pte4RezGWV"
      },
      "execution_count": null,
      "outputs": []
    },
    {
      "cell_type": "code",
      "source": [
        "training_features_data = pd.read_csv(dpath+\"training_set_features.csv\")\n",
        "training_set_labels = pd.read_csv(dpath+\"training_set_labels.csv\")\n",
        "test_features_data = pd.read_csv(dpath+\"test_set_features.csv\")"
      ],
      "metadata": {
        "id": "HNCdybvuzc5q"
      },
      "execution_count": null,
      "outputs": []
    },
    {
      "cell_type": "code",
      "source": [
        "# 결측치 처리\n",
        "\n",
        "# float types -> mean 값으로 대체\n",
        "training_features_data=training_features_data.fillna(training_features_data.mean())\n",
        "\n",
        "# string types -> null값을 'out-of-category'\n",
        "training_features_data=training_features_data.fillna('out-of-category')"
      ],
      "metadata": {
        "id": "5el-vPRzz81W"
      },
      "execution_count": null,
      "outputs": []
    },
    {
      "cell_type": "code",
      "source": [
        "training_features_data.isna().sum()"
      ],
      "metadata": {
        "id": "tChcK2nR0OlV"
      },
      "execution_count": null,
      "outputs": []
    },
    {
      "cell_type": "code",
      "source": [
        "# encoding categorical features (str -> float)\n",
        "\n",
        "enc = OrdinalEncoder()\n",
        "\n",
        "enc.fit(training_features_data)\n",
        "training_features_data_arr=enc.transform(training_features_data)\n",
        "\n",
        "col_names_list=training_features_data.columns\n",
        "encoded_categorical_df=pd.DataFrame(training_features_data_arr, columns=col_names_list)"
      ],
      "metadata": {
        "id": "GM9BF8w20SD-"
      },
      "execution_count": null,
      "outputs": []
    },
    {
      "cell_type": "code",
      "source": [
        "# normalization(make all values bet. 0-1)\n",
        "\n",
        "scaler = StandardScaler()\n",
        "scaler.fit(encoded_categorical_df)\n",
        "normalized_arr=scaler.transform(encoded_categorical_df)\n",
        "\n",
        "normalized_df=pd.DataFrame(normalized_arr, columns=col_names_list)"
      ],
      "metadata": {
        "id": "EpNknkj_0ga1"
      },
      "execution_count": null,
      "outputs": []
    },
    {
      "cell_type": "code",
      "source": [
        "# check if data types are correct or not \n",
        "\n",
        "normalized_df.info()"
      ],
      "metadata": {
        "id": "V1FquagJ0jb8"
      },
      "execution_count": null,
      "outputs": []
    },
    {
      "cell_type": "code",
      "source": [
        "#check types of test dataset\n",
        "test_features_data.info()"
      ],
      "metadata": {
        "id": "qYhhvq6G0mt9"
      },
      "execution_count": null,
      "outputs": []
    },
    {
      "cell_type": "code",
      "source": [
        "# 결측치 처리\n",
        "\n",
        "# float types -> mean 값으로 대체\n",
        "test_features_data=test_features_data.fillna(test_features_data.mean())\n",
        "\n",
        "## string types -> null값을 'out-of-category'\n",
        "test_features_data=test_features_data.fillna('out-of-category')"
      ],
      "metadata": {
        "id": "Hc6vAmRH0p_9"
      },
      "execution_count": null,
      "outputs": []
    },
    {
      "cell_type": "code",
      "source": [
        "test_features_data.isna().sum()"
      ],
      "metadata": {
        "id": "puAxXtUY03FN"
      },
      "execution_count": null,
      "outputs": []
    },
    {
      "cell_type": "code",
      "source": [
        "#encoding categorical features  (str -> float)\n",
        "enc = OrdinalEncoder()\n",
        "enc.fit(test_features_data)\n",
        "test_features_data_arr=enc.transform(test_features_data)\n",
        "\n",
        "col_names_list=test_features_data.columns\n",
        "test_encoded_categorical_df=pd.DataFrame(test_features_data_arr, columns=col_names_list)"
      ],
      "metadata": {
        "id": "jxP6hfGS06hn"
      },
      "execution_count": null,
      "outputs": []
    },
    {
      "cell_type": "code",
      "source": [
        "#check data types\n",
        "test_encoded_categorical_df.info()"
      ],
      "metadata": {
        "id": "IdejAEDd0_B5"
      },
      "execution_count": null,
      "outputs": []
    },
    {
      "cell_type": "code",
      "source": [
        "#normalization(bet. 0-1)\n",
        "\n",
        "#using minmax scaler(look up)\n",
        "test_normalized_arr=scaler.transform(test_encoded_categorical_df)\n",
        "test_normalized_df=pd.DataFrame(test_normalized_arr, columns=col_names_list)"
      ],
      "metadata": {
        "id": "czfETncj1CdR"
      },
      "execution_count": null,
      "outputs": []
    },
    {
      "cell_type": "code",
      "source": [
        "# split df to X and Y\n",
        "y = training_set_labels.loc[:, 'seasonal_vaccine'].values\n",
        "X = normalized_df"
      ],
      "metadata": {
        "id": "07mFkM0X1Flb"
      },
      "execution_count": null,
      "outputs": []
    },
    {
      "cell_type": "code",
      "source": [
        "# 80: training set, 20: test set\n",
        "X_train, X_test, y_train, y_test = train_test_split(X, y, test_size = 0.2, stratify = y)\n",
        "\n",
        "# 5 fold CV\n",
        "cv = StratifiedShuffleSplit(n_splits=5, random_state = 42)"
      ],
      "metadata": {
        "id": "qTQbdq5e1Ido"
      },
      "execution_count": null,
      "outputs": []
    },
    {
      "cell_type": "code",
      "source": [
        "# display test scores and return result string and indexes of false samples\n",
        "def display_test_scores(test, pred):\n",
        "    str_out = \"\"\n",
        "    str_out += (\"TEST SCORES\\n\")\n",
        "    str_out += (\"\\n\")\n",
        "\n",
        "    #print AUC score\n",
        "    auc = roc_auc_score(test, pred)\n",
        "    str_out += (\"AUC: {:.4f}\\n\".format(auc))\n",
        "    str_out += (\"\\n\")\n",
        "    \n",
        "    false_indexes = np.where(test != pred)\n",
        "    return str_out, false_indexes"
      ],
      "metadata": {
        "id": "PdLhFmg31Zyz"
      },
      "execution_count": null,
      "outputs": []
    },
    {
      "cell_type": "code",
      "source": [
        "# NN with 1 layer\n",
        "nn_1 = MLPRegressor(tol=1e-5, hidden_layer_sizes=10, random_state=0, solver='adam', activation='relu', max_iter=1000, batch_size=2048)\n",
        "nn_1.fit(X, y)\n",
        "\n",
        "# prediction results\n",
        "y_pred = nn_1.predict(test_normalized_df)"
      ],
      "metadata": {
        "id": "N8l4wSBF1dQj"
      },
      "execution_count": null,
      "outputs": []
    },
    {
      "cell_type": "code",
      "source": [
        "# NN with 1 layer\n",
        "nn_2 = MLPRegressor(tol=1e-5, hidden_layer_sizes=10, random_state=0, solver='adam', activation='logistic', max_iter=1000, batch_size=512)\n",
        "nn_2.fit(X, y)\n",
        "\n",
        "# prediction results\n",
        "y_pred_2 = nn_2.predict(test_normalized_df)"
      ],
      "metadata": {
        "id": "JkyCFDsb1gLi"
      },
      "execution_count": null,
      "outputs": []
    },
    {
      "cell_type": "code",
      "source": [
        "np.sum(np.logical_or(np.array(y_pred_2) > 1, np.array(y_pred_2) < 0), axis=0)\n",
        "y_pred_2 = 1/(1+np.exp(-y_pred_2))"
      ],
      "metadata": {
        "id": "jSjiD8T81qwe"
      },
      "execution_count": null,
      "outputs": []
    },
    {
      "cell_type": "code",
      "source": [
        "df_pred_seasonal_vaccine=pd.DataFrame(y_pred_2, columns=['seasonal_vaccine'])\n",
        "df_pred_seasonal_vaccine[\"respondent_id\"] = df_pred_seasonal_vaccine.index\n",
        "\n",
        "df_pred_seasonal_vaccine=df_pred_seasonal_vaccine[['respondent_id', 'seasonal_vaccine']]\n",
        "\n",
        "df_pred_seasonal_vaccine.to_csv('df_seasonal_nn_log.csv', columns=['respondent_id', 'seasonal_vaccine'], \n",
        "                            index=False, sep=',')"
      ],
      "metadata": {
        "id": "q8zwnPME2IJv"
      },
      "execution_count": null,
      "outputs": []
    },
    {
      "cell_type": "code",
      "source": [
        "df_pred_seasonal_vaccine.head()"
      ],
      "metadata": {
        "id": "D6q32RQG2QKJ"
      },
      "execution_count": null,
      "outputs": []
    },
    {
      "cell_type": "code",
      "source": [
        "df_pred_h1n1 = pd.read_csv(dpath+\"df_h1n1_nn_log_son.csv\",\n",
        "                    sep=',')\n",
        "\n",
        "df_pred_h1n1.head()"
      ],
      "metadata": {
        "id": "IWeHducy2TJ5"
      },
      "execution_count": null,
      "outputs": []
    },
    {
      "cell_type": "code",
      "source": [
        "df_final = df_pred_h1n1.merge(df_pred_seasonal_vaccine, on=\"respondent_id\", how = 'inner')\n",
        "\n",
        "df_final['respondent_id'] = df_final['respondent_id'].astype(int) + 26707"
      ],
      "metadata": {
        "id": "ffu-mmps2tYz"
      },
      "execution_count": null,
      "outputs": []
    },
    {
      "cell_type": "code",
      "source": [
        "df_final.to_csv('df_nn_log.csv', columns=['respondent_id', 'h1n1_vaccine', 'seasonal_vaccine' ], \n",
        "                            index=False, sep=',')"
      ],
      "metadata": {
        "id": "T6R4uVz-4cQd"
      },
      "execution_count": null,
      "outputs": []
    },
    {
      "cell_type": "code",
      "source": [
        "df_final.head()"
      ],
      "metadata": {
        "id": "Vyl2bRGb-1ss"
      },
      "execution_count": null,
      "outputs": []
    },
    {
      "cell_type": "code",
      "source": [
        ""
      ],
      "metadata": {
        "id": "aUHtnIfnA9DX"
      },
      "execution_count": null,
      "outputs": []
    },
    {
      "cell_type": "markdown",
      "source": [
        "### 예측하기"
      ],
      "metadata": {
        "id": "bhonNAK5CcUH"
      }
    },
    {
      "cell_type": "code",
      "source": [
        "print(test_features.shape)\n",
        "test_features.head()"
      ],
      "metadata": {
        "id": "Zx4Ehqf1Ceus"
      },
      "execution_count": null,
      "outputs": []
    },
    {
      "cell_type": "code",
      "source": [
        ""
      ],
      "metadata": {
        "id": "2MfIJ75dCjEN"
      },
      "execution_count": null,
      "outputs": []
    }
  ]
}