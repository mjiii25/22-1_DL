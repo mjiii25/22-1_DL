{
  "nbformat": 4,
  "nbformat_minor": 0,
  "metadata": {
    "colab": {
      "name": "Untitled19.ipynb",
      "provenance": [],
      "toc_visible": true,
      "authorship_tag": "ABX9TyNBPJad74NmFi9v4x1sd56Z",
      "include_colab_link": true
    },
    "kernelspec": {
      "name": "python3",
      "display_name": "Python 3"
    },
    "language_info": {
      "name": "python"
    },
    "accelerator": "GPU"
  },
  "cells": [
    {
      "cell_type": "markdown",
      "metadata": {
        "id": "view-in-github",
        "colab_type": "text"
      },
      "source": [
        "<a href=\"https://colab.research.google.com/github/mjiii25/22-1_DLAI/blob/main/team-project/modeling-dl.ipynb\" target=\"_parent\"><img src=\"https://colab.research.google.com/assets/colab-badge.svg\" alt=\"Open In Colab\"/></a>"
      ]
    },
    {
      "cell_type": "markdown",
      "source": [
        "# 데이터 불러오기"
      ],
      "metadata": {
        "id": "Hetd7rFnPWRI"
      }
    },
    {
      "cell_type": "code",
      "execution_count": 1,
      "metadata": {
        "id": "XtSTejoENxoU",
        "colab": {
          "base_uri": "https://localhost:8080/"
        },
        "outputId": "b6ec821f-0ea5-47b0-8945-1cf6e6bf027f"
      },
      "outputs": [
        {
          "output_type": "stream",
          "name": "stdout",
          "text": [
            "Mounted at /content/drive\n"
          ]
        }
      ],
      "source": [
        "from google.colab import drive\n",
        "drive.mount(\"/content/drive\")"
      ]
    },
    {
      "cell_type": "code",
      "source": [
        "# data path\n",
        "dpath = \"/content/drive/MyDrive/\""
      ],
      "metadata": {
        "id": "WqIdQSrvOD_j"
      },
      "execution_count": 2,
      "outputs": []
    },
    {
      "cell_type": "code",
      "source": [
        "import pandas as pd\n",
        "import numpy as np\n",
        "import matplotlib.pyplot as plt\n",
        "import seaborn as sns"
      ],
      "metadata": {
        "id": "C3UNv3WmtoxT"
      },
      "execution_count": 3,
      "outputs": []
    },
    {
      "cell_type": "markdown",
      "source": [
        "# h1n1 model.ver1"
      ],
      "metadata": {
        "id": "ahNFE6yeVG4-"
      }
    },
    {
      "cell_type": "code",
      "source": [
        "train_h1n1_ver1 = pd.read_csv('/content/drive/MyDrive/22-1_DLAI_Team_Project/train_h1n1_ver1.csv')"
      ],
      "metadata": {
        "id": "Kb69hj9RcI8P"
      },
      "execution_count": 4,
      "outputs": []
    },
    {
      "cell_type": "code",
      "source": [
        "print(train_h1n1_ver1.shape)\n",
        "train_h1n1_ver1.head()"
      ],
      "metadata": {
        "id": "1CWSrjETcg3w",
        "colab": {
          "base_uri": "https://localhost:8080/",
          "height": 318
        },
        "outputId": "d5db9281-7fd2-4988-c9f6-97783335c392"
      },
      "execution_count": 5,
      "outputs": [
        {
          "output_type": "stream",
          "name": "stdout",
          "text": [
            "(24828, 24)\n"
          ]
        },
        {
          "output_type": "execute_result",
          "data": {
            "text/plain": [
              "   respondent_id  h1n1_concern  h1n1_knowledge  behavioral_antiviral_meds  \\\n",
              "0              0           1.0             0.0                        0.0   \n",
              "1              1           3.0             2.0                        0.0   \n",
              "2              2           1.0             1.0                        0.0   \n",
              "3              3           1.0             1.0                        0.0   \n",
              "4              4           2.0             1.0                        0.0   \n",
              "\n",
              "   behavioral_avoidance  behavioral_face_mask  behavioral_wash_hands  \\\n",
              "0                   0.0                   0.0                    0.0   \n",
              "1                   1.0                   0.0                    1.0   \n",
              "2                   1.0                   0.0                    0.0   \n",
              "3                   1.0                   0.0                    1.0   \n",
              "4                   1.0                   0.0                    1.0   \n",
              "\n",
              "   behavioral_large_gatherings  behavioral_outside_home  \\\n",
              "0                          0.0                      1.0   \n",
              "1                          0.0                      1.0   \n",
              "2                          0.0                      0.0   \n",
              "3                          1.0                      0.0   \n",
              "4                          1.0                      0.0   \n",
              "\n",
              "   behavioral_touch_face  ...  opinion_h1n1_risk  opinion_h1n1_sick_from_vacc  \\\n",
              "0                    1.0  ...                1.0                          2.0   \n",
              "1                    1.0  ...                4.0                          4.0   \n",
              "2                    0.0  ...                1.0                          1.0   \n",
              "3                    0.0  ...                3.0                          5.0   \n",
              "4                    1.0  ...                3.0                          2.0   \n",
              "\n",
              "   age_group  race  sex  hhs_geo_region  census_msa  household_adults  \\\n",
              "0          4     1    1               8           1               0.0   \n",
              "1          2     1    2               1           2               0.0   \n",
              "2          1     1    2               9           2               2.0   \n",
              "3          5     1    1               5           3               0.0   \n",
              "4          3     1    1               9           2               1.0   \n",
              "\n",
              "   household_children  h1n1_vaccine  \n",
              "0                 0.0             0  \n",
              "1                 0.0             0  \n",
              "2                 0.0             0  \n",
              "3                 0.0             0  \n",
              "4                 0.0             0  \n",
              "\n",
              "[5 rows x 24 columns]"
            ],
            "text/html": [
              "\n",
              "  <div id=\"df-19ebcbaf-9fbc-499b-a482-8639993bad0a\">\n",
              "    <div class=\"colab-df-container\">\n",
              "      <div>\n",
              "<style scoped>\n",
              "    .dataframe tbody tr th:only-of-type {\n",
              "        vertical-align: middle;\n",
              "    }\n",
              "\n",
              "    .dataframe tbody tr th {\n",
              "        vertical-align: top;\n",
              "    }\n",
              "\n",
              "    .dataframe thead th {\n",
              "        text-align: right;\n",
              "    }\n",
              "</style>\n",
              "<table border=\"1\" class=\"dataframe\">\n",
              "  <thead>\n",
              "    <tr style=\"text-align: right;\">\n",
              "      <th></th>\n",
              "      <th>respondent_id</th>\n",
              "      <th>h1n1_concern</th>\n",
              "      <th>h1n1_knowledge</th>\n",
              "      <th>behavioral_antiviral_meds</th>\n",
              "      <th>behavioral_avoidance</th>\n",
              "      <th>behavioral_face_mask</th>\n",
              "      <th>behavioral_wash_hands</th>\n",
              "      <th>behavioral_large_gatherings</th>\n",
              "      <th>behavioral_outside_home</th>\n",
              "      <th>behavioral_touch_face</th>\n",
              "      <th>...</th>\n",
              "      <th>opinion_h1n1_risk</th>\n",
              "      <th>opinion_h1n1_sick_from_vacc</th>\n",
              "      <th>age_group</th>\n",
              "      <th>race</th>\n",
              "      <th>sex</th>\n",
              "      <th>hhs_geo_region</th>\n",
              "      <th>census_msa</th>\n",
              "      <th>household_adults</th>\n",
              "      <th>household_children</th>\n",
              "      <th>h1n1_vaccine</th>\n",
              "    </tr>\n",
              "  </thead>\n",
              "  <tbody>\n",
              "    <tr>\n",
              "      <th>0</th>\n",
              "      <td>0</td>\n",
              "      <td>1.0</td>\n",
              "      <td>0.0</td>\n",
              "      <td>0.0</td>\n",
              "      <td>0.0</td>\n",
              "      <td>0.0</td>\n",
              "      <td>0.0</td>\n",
              "      <td>0.0</td>\n",
              "      <td>1.0</td>\n",
              "      <td>1.0</td>\n",
              "      <td>...</td>\n",
              "      <td>1.0</td>\n",
              "      <td>2.0</td>\n",
              "      <td>4</td>\n",
              "      <td>1</td>\n",
              "      <td>1</td>\n",
              "      <td>8</td>\n",
              "      <td>1</td>\n",
              "      <td>0.0</td>\n",
              "      <td>0.0</td>\n",
              "      <td>0</td>\n",
              "    </tr>\n",
              "    <tr>\n",
              "      <th>1</th>\n",
              "      <td>1</td>\n",
              "      <td>3.0</td>\n",
              "      <td>2.0</td>\n",
              "      <td>0.0</td>\n",
              "      <td>1.0</td>\n",
              "      <td>0.0</td>\n",
              "      <td>1.0</td>\n",
              "      <td>0.0</td>\n",
              "      <td>1.0</td>\n",
              "      <td>1.0</td>\n",
              "      <td>...</td>\n",
              "      <td>4.0</td>\n",
              "      <td>4.0</td>\n",
              "      <td>2</td>\n",
              "      <td>1</td>\n",
              "      <td>2</td>\n",
              "      <td>1</td>\n",
              "      <td>2</td>\n",
              "      <td>0.0</td>\n",
              "      <td>0.0</td>\n",
              "      <td>0</td>\n",
              "    </tr>\n",
              "    <tr>\n",
              "      <th>2</th>\n",
              "      <td>2</td>\n",
              "      <td>1.0</td>\n",
              "      <td>1.0</td>\n",
              "      <td>0.0</td>\n",
              "      <td>1.0</td>\n",
              "      <td>0.0</td>\n",
              "      <td>0.0</td>\n",
              "      <td>0.0</td>\n",
              "      <td>0.0</td>\n",
              "      <td>0.0</td>\n",
              "      <td>...</td>\n",
              "      <td>1.0</td>\n",
              "      <td>1.0</td>\n",
              "      <td>1</td>\n",
              "      <td>1</td>\n",
              "      <td>2</td>\n",
              "      <td>9</td>\n",
              "      <td>2</td>\n",
              "      <td>2.0</td>\n",
              "      <td>0.0</td>\n",
              "      <td>0</td>\n",
              "    </tr>\n",
              "    <tr>\n",
              "      <th>3</th>\n",
              "      <td>3</td>\n",
              "      <td>1.0</td>\n",
              "      <td>1.0</td>\n",
              "      <td>0.0</td>\n",
              "      <td>1.0</td>\n",
              "      <td>0.0</td>\n",
              "      <td>1.0</td>\n",
              "      <td>1.0</td>\n",
              "      <td>0.0</td>\n",
              "      <td>0.0</td>\n",
              "      <td>...</td>\n",
              "      <td>3.0</td>\n",
              "      <td>5.0</td>\n",
              "      <td>5</td>\n",
              "      <td>1</td>\n",
              "      <td>1</td>\n",
              "      <td>5</td>\n",
              "      <td>3</td>\n",
              "      <td>0.0</td>\n",
              "      <td>0.0</td>\n",
              "      <td>0</td>\n",
              "    </tr>\n",
              "    <tr>\n",
              "      <th>4</th>\n",
              "      <td>4</td>\n",
              "      <td>2.0</td>\n",
              "      <td>1.0</td>\n",
              "      <td>0.0</td>\n",
              "      <td>1.0</td>\n",
              "      <td>0.0</td>\n",
              "      <td>1.0</td>\n",
              "      <td>1.0</td>\n",
              "      <td>0.0</td>\n",
              "      <td>1.0</td>\n",
              "      <td>...</td>\n",
              "      <td>3.0</td>\n",
              "      <td>2.0</td>\n",
              "      <td>3</td>\n",
              "      <td>1</td>\n",
              "      <td>1</td>\n",
              "      <td>9</td>\n",
              "      <td>2</td>\n",
              "      <td>1.0</td>\n",
              "      <td>0.0</td>\n",
              "      <td>0</td>\n",
              "    </tr>\n",
              "  </tbody>\n",
              "</table>\n",
              "<p>5 rows × 24 columns</p>\n",
              "</div>\n",
              "      <button class=\"colab-df-convert\" onclick=\"convertToInteractive('df-19ebcbaf-9fbc-499b-a482-8639993bad0a')\"\n",
              "              title=\"Convert this dataframe to an interactive table.\"\n",
              "              style=\"display:none;\">\n",
              "        \n",
              "  <svg xmlns=\"http://www.w3.org/2000/svg\" height=\"24px\"viewBox=\"0 0 24 24\"\n",
              "       width=\"24px\">\n",
              "    <path d=\"M0 0h24v24H0V0z\" fill=\"none\"/>\n",
              "    <path d=\"M18.56 5.44l.94 2.06.94-2.06 2.06-.94-2.06-.94-.94-2.06-.94 2.06-2.06.94zm-11 1L8.5 8.5l.94-2.06 2.06-.94-2.06-.94L8.5 2.5l-.94 2.06-2.06.94zm10 10l.94 2.06.94-2.06 2.06-.94-2.06-.94-.94-2.06-.94 2.06-2.06.94z\"/><path d=\"M17.41 7.96l-1.37-1.37c-.4-.4-.92-.59-1.43-.59-.52 0-1.04.2-1.43.59L10.3 9.45l-7.72 7.72c-.78.78-.78 2.05 0 2.83L4 21.41c.39.39.9.59 1.41.59.51 0 1.02-.2 1.41-.59l7.78-7.78 2.81-2.81c.8-.78.8-2.07 0-2.86zM5.41 20L4 18.59l7.72-7.72 1.47 1.35L5.41 20z\"/>\n",
              "  </svg>\n",
              "      </button>\n",
              "      \n",
              "  <style>\n",
              "    .colab-df-container {\n",
              "      display:flex;\n",
              "      flex-wrap:wrap;\n",
              "      gap: 12px;\n",
              "    }\n",
              "\n",
              "    .colab-df-convert {\n",
              "      background-color: #E8F0FE;\n",
              "      border: none;\n",
              "      border-radius: 50%;\n",
              "      cursor: pointer;\n",
              "      display: none;\n",
              "      fill: #1967D2;\n",
              "      height: 32px;\n",
              "      padding: 0 0 0 0;\n",
              "      width: 32px;\n",
              "    }\n",
              "\n",
              "    .colab-df-convert:hover {\n",
              "      background-color: #E2EBFA;\n",
              "      box-shadow: 0px 1px 2px rgba(60, 64, 67, 0.3), 0px 1px 3px 1px rgba(60, 64, 67, 0.15);\n",
              "      fill: #174EA6;\n",
              "    }\n",
              "\n",
              "    [theme=dark] .colab-df-convert {\n",
              "      background-color: #3B4455;\n",
              "      fill: #D2E3FC;\n",
              "    }\n",
              "\n",
              "    [theme=dark] .colab-df-convert:hover {\n",
              "      background-color: #434B5C;\n",
              "      box-shadow: 0px 1px 3px 1px rgba(0, 0, 0, 0.15);\n",
              "      filter: drop-shadow(0px 1px 2px rgba(0, 0, 0, 0.3));\n",
              "      fill: #FFFFFF;\n",
              "    }\n",
              "  </style>\n",
              "\n",
              "      <script>\n",
              "        const buttonEl =\n",
              "          document.querySelector('#df-19ebcbaf-9fbc-499b-a482-8639993bad0a button.colab-df-convert');\n",
              "        buttonEl.style.display =\n",
              "          google.colab.kernel.accessAllowed ? 'block' : 'none';\n",
              "\n",
              "        async function convertToInteractive(key) {\n",
              "          const element = document.querySelector('#df-19ebcbaf-9fbc-499b-a482-8639993bad0a');\n",
              "          const dataTable =\n",
              "            await google.colab.kernel.invokeFunction('convertToInteractive',\n",
              "                                                     [key], {});\n",
              "          if (!dataTable) return;\n",
              "\n",
              "          const docLinkHtml = 'Like what you see? Visit the ' +\n",
              "            '<a target=\"_blank\" href=https://colab.research.google.com/notebooks/data_table.ipynb>data table notebook</a>'\n",
              "            + ' to learn more about interactive tables.';\n",
              "          element.innerHTML = '';\n",
              "          dataTable['output_type'] = 'display_data';\n",
              "          await google.colab.output.renderOutput(dataTable, element);\n",
              "          const docLink = document.createElement('div');\n",
              "          docLink.innerHTML = docLinkHtml;\n",
              "          element.appendChild(docLink);\n",
              "        }\n",
              "      </script>\n",
              "    </div>\n",
              "  </div>\n",
              "  "
            ]
          },
          "metadata": {},
          "execution_count": 5
        }
      ]
    },
    {
      "cell_type": "code",
      "source": [
        "## split feature and target, train set and validation set\n",
        "\n",
        "from sklearn.model_selection import train_test_split\n",
        "\n",
        "feature = train_h1n1_ver1.iloc[:,1:-1]\n",
        "target = train_h1n1_ver1['h1n1_vaccine']\n",
        "\n",
        "x_train_h1n1_ver1, x_valid_h1n1_ver1, y_train_h1n1_ver1, y_valid_h1n1_ver1 = train_test_split(feature, target, test_size=0.2,shuffle=True,\n",
        "                                                                                              stratify=target,  random_state=1234) "
      ],
      "metadata": {
        "id": "tEpKxPgUcpAF"
      },
      "execution_count": 7,
      "outputs": []
    },
    {
      "cell_type": "markdown",
      "source": [
        "### layer effect"
      ],
      "metadata": {
        "id": "Iv1UHc3EOpOf"
      }
    },
    {
      "cell_type": "markdown",
      "source": [
        "#### layer 3개"
      ],
      "metadata": {
        "id": "An5Y_N3NugHH"
      }
    },
    {
      "cell_type": "code",
      "source": [
        "## loss: 0.4390 - accuracy: 0.8098 - val_loss: 0.4555 - val_accuracy: 0.8004\n",
        "## loss: 0.4379 - accuracy: 0.8089 - val_loss: 0.4540 - val_accuracy: 0.7996\n",
        "## loss: 0.4369 - accuracy: 0.8092 - val_loss: 0.4529 - val_accuracy: 0.8039\n",
        "\n",
        "\n",
        "\n",
        "from tensorflow import keras\n",
        "from tensorflow.keras import layers\n",
        "from keras import regularizers\n",
        "\n",
        "\n",
        "# building model\n",
        "\n",
        "model_h1n1_ver1 = keras.Sequential([\n",
        "                                    layers.Dense(16, activation = \"relu\"),\n",
        "                                    layers.Dense(16, activation = \"relu\"),\n",
        "                                    layers.Dense(1, activation = \"sigmoid\")\n",
        "])\n",
        "\n",
        "\n",
        "# compiling model\n",
        "\n",
        "model_h1n1_ver1.compile(optimizer = \"rmsprop\",\n",
        "                        loss = \"binary_crossentropy\",\n",
        "                        metrics = [\"accuracy\"])\n",
        "\n",
        "\n",
        "\n",
        "# fitting model\n",
        "\n",
        "history_h1n1_ver1 = model_h1n1_ver1.fit(x_train_h1n1_ver1,\n",
        "                                        y_train_h1n1_ver1,\n",
        "                                        epochs = 20,\n",
        "                                        batch_size = 512,\n",
        "                                        validation_data = (x_valid_h1n1_ver1, y_valid_h1n1_ver1))\n"
      ],
      "metadata": {
        "id": "EMJKkJl3dzeh",
        "outputId": "57eed3ba-a523-4533-8a1d-2f1c75e52c49",
        "colab": {
          "base_uri": "https://localhost:8080/"
        }
      },
      "execution_count": null,
      "outputs": [
        {
          "output_type": "stream",
          "name": "stdout",
          "text": [
            "Epoch 1/20\n",
            "39/39 [==============================] - 4s 9ms/step - loss: 0.5245 - accuracy: 0.7835 - val_loss: 0.5078 - val_accuracy: 0.7823\n",
            "Epoch 2/20\n",
            "39/39 [==============================] - 0s 4ms/step - loss: 0.4994 - accuracy: 0.7865 - val_loss: 0.4946 - val_accuracy: 0.7847\n",
            "Epoch 3/20\n",
            "39/39 [==============================] - 0s 4ms/step - loss: 0.4854 - accuracy: 0.7909 - val_loss: 0.4871 - val_accuracy: 0.7859\n",
            "Epoch 4/20\n",
            "39/39 [==============================] - 0s 4ms/step - loss: 0.4766 - accuracy: 0.7938 - val_loss: 0.4808 - val_accuracy: 0.7922\n",
            "Epoch 5/20\n",
            "39/39 [==============================] - 0s 4ms/step - loss: 0.4702 - accuracy: 0.7977 - val_loss: 0.4757 - val_accuracy: 0.7946\n",
            "Epoch 6/20\n",
            "39/39 [==============================] - 0s 4ms/step - loss: 0.4646 - accuracy: 0.7997 - val_loss: 0.4715 - val_accuracy: 0.7976\n",
            "Epoch 7/20\n",
            "39/39 [==============================] - 0s 4ms/step - loss: 0.4604 - accuracy: 0.8017 - val_loss: 0.4689 - val_accuracy: 0.8002\n",
            "Epoch 8/20\n",
            "39/39 [==============================] - 0s 4ms/step - loss: 0.4565 - accuracy: 0.8031 - val_loss: 0.4663 - val_accuracy: 0.8023\n",
            "Epoch 9/20\n",
            "39/39 [==============================] - 0s 4ms/step - loss: 0.4535 - accuracy: 0.8040 - val_loss: 0.4633 - val_accuracy: 0.8014\n",
            "Epoch 10/20\n",
            "39/39 [==============================] - 0s 4ms/step - loss: 0.4505 - accuracy: 0.8050 - val_loss: 0.4614 - val_accuracy: 0.8053\n",
            "Epoch 11/20\n",
            "39/39 [==============================] - 0s 4ms/step - loss: 0.4487 - accuracy: 0.8052 - val_loss: 0.4624 - val_accuracy: 0.8012\n",
            "Epoch 12/20\n",
            "39/39 [==============================] - 0s 4ms/step - loss: 0.4467 - accuracy: 0.8063 - val_loss: 0.4588 - val_accuracy: 0.8041\n",
            "Epoch 13/20\n",
            "39/39 [==============================] - 0s 4ms/step - loss: 0.4452 - accuracy: 0.8073 - val_loss: 0.4573 - val_accuracy: 0.8045\n",
            "Epoch 14/20\n",
            "39/39 [==============================] - 0s 4ms/step - loss: 0.4437 - accuracy: 0.8076 - val_loss: 0.4571 - val_accuracy: 0.8047\n",
            "Epoch 15/20\n",
            "39/39 [==============================] - 0s 4ms/step - loss: 0.4425 - accuracy: 0.8094 - val_loss: 0.4553 - val_accuracy: 0.8057\n",
            "Epoch 16/20\n",
            "39/39 [==============================] - 0s 4ms/step - loss: 0.4411 - accuracy: 0.8089 - val_loss: 0.4544 - val_accuracy: 0.8051\n",
            "Epoch 17/20\n",
            "39/39 [==============================] - 0s 4ms/step - loss: 0.4398 - accuracy: 0.8085 - val_loss: 0.4535 - val_accuracy: 0.8055\n",
            "Epoch 18/20\n",
            "39/39 [==============================] - 0s 4ms/step - loss: 0.4388 - accuracy: 0.8105 - val_loss: 0.4533 - val_accuracy: 0.8037\n",
            "Epoch 19/20\n",
            "39/39 [==============================] - 0s 4ms/step - loss: 0.4380 - accuracy: 0.8101 - val_loss: 0.4554 - val_accuracy: 0.8012\n",
            "Epoch 20/20\n",
            "39/39 [==============================] - 0s 4ms/step - loss: 0.4369 - accuracy: 0.8092 - val_loss: 0.4529 - val_accuracy: 0.8039\n"
          ]
        }
      ]
    },
    {
      "cell_type": "markdown",
      "source": [
        "#### layer 8개\n",
        "- 레이어를 많이 쌓을수록 정확도가 증가함, 모델의 성능이 좋아짐"
      ],
      "metadata": {
        "id": "1nuPUssHuvfR"
      }
    },
    {
      "cell_type": "code",
      "source": [
        "## loss: 0.4053 - accuracy: 0.8209 - val_loss: 0.4523 - val_accuracy: 0.7988\n",
        "## loss: 0.3947 - accuracy: 0.8295 - val_loss: 0.4539 - val_accuracy: 0.8083\n",
        "## loss: 0.3946 - accuracy: 0.8300 - val_loss: 0.4770 - val_accuracy: 0.8035\n",
        "\n",
        "\n",
        "\n",
        "from tensorflow import keras\n",
        "from tensorflow.keras import layers\n",
        "from keras import regularizers\n",
        "\n",
        "\n",
        "# building model\n",
        "\n",
        "model_h1n1_ver1 = keras.Sequential([\n",
        "                                    layers.Dense(256, activation = \"relu\"),\n",
        "                                    layers.Dense(256, activation = \"relu\"),\n",
        "                                    layers.Dense(128, activation = \"relu\"),\n",
        "                                    layers.Dense(64, activation = \"relu\"),\n",
        "                                    layers.Dense(64, activation = \"relu\"),\n",
        "                                    layers.Dense(16, activation = \"relu\"),\n",
        "                                    layers.Dense(16, activation = \"relu\"),\n",
        "                                    layers.Dense(1, activation = \"sigmoid\")\n",
        "])\n",
        "\n",
        "\n",
        "# compiling model\n",
        "\n",
        "model_h1n1_ver1.compile(optimizer = \"rmsprop\",\n",
        "                        loss = \"binary_crossentropy\",\n",
        "                        metrics = [\"accuracy\"])\n",
        "\n",
        "\n",
        "\n",
        "# fitting model\n",
        "\n",
        "history_h1n1_ver1 = model_h1n1_ver1.fit(x_train_h1n1_ver1,\n",
        "                                        y_train_h1n1_ver1,\n",
        "                                        epochs = 20,\n",
        "                                        batch_size = 512,\n",
        "                                        validation_data = (x_valid_h1n1_ver1, y_valid_h1n1_ver1))\n"
      ],
      "metadata": {
        "id": "qzbU91aIis0X",
        "outputId": "4c6e34b1-d2c1-4555-ff2b-a66201e412a5",
        "colab": {
          "base_uri": "https://localhost:8080/"
        }
      },
      "execution_count": null,
      "outputs": [
        {
          "output_type": "stream",
          "name": "stdout",
          "text": [
            "Epoch 1/20\n",
            "39/39 [==============================] - 1s 10ms/step - loss: 0.5072 - accuracy: 0.7872 - val_loss: 0.4850 - val_accuracy: 0.7845\n",
            "Epoch 2/20\n",
            "39/39 [==============================] - 0s 6ms/step - loss: 0.4688 - accuracy: 0.7978 - val_loss: 0.4772 - val_accuracy: 0.7920\n",
            "Epoch 3/20\n",
            "39/39 [==============================] - 0s 6ms/step - loss: 0.4633 - accuracy: 0.7998 - val_loss: 0.4650 - val_accuracy: 0.7966\n",
            "Epoch 4/20\n",
            "39/39 [==============================] - 0s 6ms/step - loss: 0.4525 - accuracy: 0.8045 - val_loss: 0.4649 - val_accuracy: 0.8053\n",
            "Epoch 5/20\n",
            "39/39 [==============================] - 0s 5ms/step - loss: 0.4502 - accuracy: 0.8054 - val_loss: 0.4652 - val_accuracy: 0.7950\n",
            "Epoch 6/20\n",
            "39/39 [==============================] - 0s 5ms/step - loss: 0.4436 - accuracy: 0.8093 - val_loss: 0.4545 - val_accuracy: 0.8075\n",
            "Epoch 7/20\n",
            "39/39 [==============================] - 0s 5ms/step - loss: 0.4422 - accuracy: 0.8092 - val_loss: 0.4541 - val_accuracy: 0.8055\n",
            "Epoch 8/20\n",
            "39/39 [==============================] - 0s 5ms/step - loss: 0.4361 - accuracy: 0.8119 - val_loss: 0.4522 - val_accuracy: 0.8081\n",
            "Epoch 9/20\n",
            "39/39 [==============================] - 0s 5ms/step - loss: 0.4340 - accuracy: 0.8134 - val_loss: 0.4812 - val_accuracy: 0.8081\n",
            "Epoch 10/20\n",
            "39/39 [==============================] - 0s 5ms/step - loss: 0.4280 - accuracy: 0.8165 - val_loss: 0.4624 - val_accuracy: 0.7932\n",
            "Epoch 11/20\n",
            "39/39 [==============================] - 0s 5ms/step - loss: 0.4286 - accuracy: 0.8159 - val_loss: 0.4463 - val_accuracy: 0.8097\n",
            "Epoch 12/20\n",
            "39/39 [==============================] - 0s 6ms/step - loss: 0.4242 - accuracy: 0.8170 - val_loss: 0.4524 - val_accuracy: 0.8045\n",
            "Epoch 13/20\n",
            "39/39 [==============================] - 0s 6ms/step - loss: 0.4187 - accuracy: 0.8183 - val_loss: 0.4541 - val_accuracy: 0.8045\n",
            "Epoch 14/20\n",
            "39/39 [==============================] - 0s 5ms/step - loss: 0.4178 - accuracy: 0.8197 - val_loss: 0.4583 - val_accuracy: 0.7998\n",
            "Epoch 15/20\n",
            "39/39 [==============================] - 0s 5ms/step - loss: 0.4126 - accuracy: 0.8223 - val_loss: 0.4583 - val_accuracy: 0.8097\n",
            "Epoch 16/20\n",
            "39/39 [==============================] - 0s 5ms/step - loss: 0.4101 - accuracy: 0.8255 - val_loss: 0.4484 - val_accuracy: 0.8075\n",
            "Epoch 17/20\n",
            "39/39 [==============================] - 0s 6ms/step - loss: 0.4095 - accuracy: 0.8236 - val_loss: 0.4466 - val_accuracy: 0.8101\n",
            "Epoch 18/20\n",
            "39/39 [==============================] - 0s 6ms/step - loss: 0.4012 - accuracy: 0.8287 - val_loss: 0.4542 - val_accuracy: 0.8035\n",
            "Epoch 19/20\n",
            "39/39 [==============================] - 0s 5ms/step - loss: 0.3979 - accuracy: 0.8287 - val_loss: 0.4561 - val_accuracy: 0.8075\n",
            "Epoch 20/20\n",
            "39/39 [==============================] - 0s 5ms/step - loss: 0.3946 - accuracy: 0.8300 - val_loss: 0.4770 - val_accuracy: 0.8035\n"
          ]
        }
      ]
    },
    {
      "cell_type": "markdown",
      "source": [
        "## **L1, L2 regularization effect**"
      ],
      "metadata": {
        "id": "gMLRK_yLkO8i"
      }
    },
    {
      "cell_type": "markdown",
      "source": [
        "**layer 8개 + L1 regularization 1개**"
      ],
      "metadata": {
        "id": "EPDy6bZgvYEm"
      }
    },
    {
      "cell_type": "code",
      "source": [
        "## loss: 0.4478 - accuracy: 0.8116 - val_loss: 0.4607 - val_accuracy: 0.8091\n",
        "## loss: 0.4432 - accuracy: 0.8161 - val_loss: 0.4617 - val_accuracy: 0.8069\n",
        "## loss: 0.4400 - accuracy: 0.8159 - val_loss: 0.4609 - val_accuracy: 0.8085\n",
        "\n",
        "\n",
        "\n",
        "from tensorflow import keras\n",
        "from tensorflow.keras import layers\n",
        "from keras import regularizers\n",
        "\n",
        "\n",
        "# building model\n",
        "\n",
        "model_h1n1_ver1_L1_1 = keras.Sequential([\n",
        "                                         layers.Dense(256, activation = \"relu\"),\n",
        "                                         layers.Dense(256, activation = \"relu\"),\n",
        "                                         layers.Dense(128, activation = \"relu\", kernel_regularizer = regularizers.l1(0.001)),\n",
        "                                         layers.Dense(64, activation = \"relu\"),\n",
        "                                         layers.Dense(64, activation = \"relu\"),\n",
        "                                         layers.Dense(16, activation = \"relu\"),\n",
        "                                         layers.Dense(16, activation = \"relu\"),\n",
        "                                         layers.Dense(1, activation = \"sigmoid\")\n",
        "])\n",
        "\n",
        "\n",
        "# compiling model\n",
        "\n",
        "model_h1n1_ver1_L1_1.compile(optimizer = \"rmsprop\",\n",
        "                             loss = \"binary_crossentropy\",\n",
        "                             metrics = [\"accuracy\"])\n",
        "\n",
        "\n",
        "\n",
        "# fitting model\n",
        "\n",
        "history_h1n1_ver1_L1_1 = model_h1n1_ver1_L1_1.fit(x_train_h1n1_ver1,\n",
        "                                                  y_train_h1n1_ver1,\n",
        "                                                  epochs = 20,\n",
        "                                                  batch_size = 512,\n",
        "                                                  validation_data = (x_valid_h1n1_ver1, y_valid_h1n1_ver1))\n"
      ],
      "metadata": {
        "id": "QgdZW1gxu_tH",
        "outputId": "a439216e-f361-48a7-aa70-5ec5e4c87120",
        "colab": {
          "base_uri": "https://localhost:8080/"
        }
      },
      "execution_count": null,
      "outputs": [
        {
          "output_type": "stream",
          "name": "stdout",
          "text": [
            "Epoch 1/20\n",
            "39/39 [==============================] - 2s 10ms/step - loss: 1.8873 - accuracy: 0.7716 - val_loss: 1.3764 - val_accuracy: 0.7859\n",
            "Epoch 2/20\n",
            "39/39 [==============================] - 0s 6ms/step - loss: 1.0645 - accuracy: 0.7953 - val_loss: 0.7947 - val_accuracy: 0.7932\n",
            "Epoch 3/20\n",
            "39/39 [==============================] - 0s 5ms/step - loss: 0.6448 - accuracy: 0.8002 - val_loss: 0.5570 - val_accuracy: 0.8039\n",
            "Epoch 4/20\n",
            "39/39 [==============================] - 0s 6ms/step - loss: 0.5302 - accuracy: 0.8000 - val_loss: 0.5402 - val_accuracy: 0.7729\n",
            "Epoch 5/20\n",
            "39/39 [==============================] - 0s 6ms/step - loss: 0.5033 - accuracy: 0.8019 - val_loss: 0.4972 - val_accuracy: 0.8047\n",
            "Epoch 6/20\n",
            "39/39 [==============================] - 0s 5ms/step - loss: 0.4859 - accuracy: 0.8061 - val_loss: 0.4868 - val_accuracy: 0.8049\n",
            "Epoch 7/20\n",
            "39/39 [==============================] - 0s 5ms/step - loss: 0.4764 - accuracy: 0.8071 - val_loss: 0.4810 - val_accuracy: 0.8041\n",
            "Epoch 8/20\n",
            "39/39 [==============================] - 0s 5ms/step - loss: 0.4702 - accuracy: 0.8106 - val_loss: 0.4870 - val_accuracy: 0.7970\n",
            "Epoch 9/20\n",
            "39/39 [==============================] - 0s 5ms/step - loss: 0.4627 - accuracy: 0.8118 - val_loss: 0.4931 - val_accuracy: 0.8041\n",
            "Epoch 10/20\n",
            "39/39 [==============================] - 0s 6ms/step - loss: 0.4602 - accuracy: 0.8129 - val_loss: 0.4735 - val_accuracy: 0.8093\n",
            "Epoch 11/20\n",
            "39/39 [==============================] - 0s 7ms/step - loss: 0.4590 - accuracy: 0.8113 - val_loss: 0.4651 - val_accuracy: 0.8093\n",
            "Epoch 12/20\n",
            "39/39 [==============================] - 0s 6ms/step - loss: 0.4546 - accuracy: 0.8113 - val_loss: 0.4689 - val_accuracy: 0.8079\n",
            "Epoch 13/20\n",
            "39/39 [==============================] - 0s 6ms/step - loss: 0.4512 - accuracy: 0.8142 - val_loss: 0.4717 - val_accuracy: 0.8099\n",
            "Epoch 14/20\n",
            "39/39 [==============================] - 0s 5ms/step - loss: 0.4488 - accuracy: 0.8145 - val_loss: 0.4658 - val_accuracy: 0.8041\n",
            "Epoch 15/20\n",
            "39/39 [==============================] - 0s 6ms/step - loss: 0.4485 - accuracy: 0.8135 - val_loss: 0.4649 - val_accuracy: 0.8115\n",
            "Epoch 16/20\n",
            "39/39 [==============================] - 0s 5ms/step - loss: 0.4458 - accuracy: 0.8160 - val_loss: 0.4716 - val_accuracy: 0.7958\n",
            "Epoch 17/20\n",
            "39/39 [==============================] - 0s 5ms/step - loss: 0.4451 - accuracy: 0.8136 - val_loss: 0.4638 - val_accuracy: 0.8087\n",
            "Epoch 18/20\n",
            "39/39 [==============================] - 0s 5ms/step - loss: 0.4428 - accuracy: 0.8154 - val_loss: 0.4656 - val_accuracy: 0.8021\n",
            "Epoch 19/20\n",
            "39/39 [==============================] - 0s 6ms/step - loss: 0.4432 - accuracy: 0.8145 - val_loss: 0.4634 - val_accuracy: 0.8067\n",
            "Epoch 20/20\n",
            "39/39 [==============================] - 0s 6ms/step - loss: 0.4400 - accuracy: 0.8159 - val_loss: 0.4609 - val_accuracy: 0.8085\n"
          ]
        }
      ]
    },
    {
      "cell_type": "markdown",
      "source": [
        "**layer 8개 + L1 regularization 2개**"
      ],
      "metadata": {
        "id": "8EacR7X8wHHU"
      }
    },
    {
      "cell_type": "code",
      "source": [
        "## loss: 0.4559 - accuracy: 0.8156 - val_loss: 0.4747 - val_accuracy: 0.8095\n",
        "## loss: 0.4521 - accuracy: 0.8152 - val_loss: 0.4667 - val_accuracy: 0.8115\n",
        "## loss: 0.4504 - accuracy: 0.8168 - val_loss: 0.4705 - val_accuracy: 0.8111\n",
        "\n",
        "\n",
        "\n",
        "from tensorflow import keras\n",
        "from tensorflow.keras import layers\n",
        "from keras import regularizers\n",
        "\n",
        "\n",
        "# building model\n",
        "\n",
        "model_h1n1_ver1_L1_2 = keras.Sequential([\n",
        "                                         layers.Dense(256, activation = \"relu\"),\n",
        "                                         layers.Dense(256, activation = \"relu\"),\n",
        "                                         layers.Dense(128, activation = \"relu\", kernel_regularizer = regularizers.l1(0.001)),\n",
        "                                         layers.Dense(64, activation = \"relu\"),\n",
        "                                         layers.Dense(64, activation = \"relu\"),\n",
        "                                         layers.Dense(16, activation = \"relu\", kernel_regularizer = regularizers.l1(0.001)),\n",
        "                                         layers.Dense(16, activation = \"relu\"),\n",
        "                                         layers.Dense(1, activation = \"sigmoid\")\n",
        "])\n",
        "\n",
        "\n",
        "# compiling model\n",
        "\n",
        "model_h1n1_ver1_L1_2.compile(optimizer = \"rmsprop\",\n",
        "                             loss = \"binary_crossentropy\",\n",
        "                             metrics = [\"accuracy\"])\n",
        "\n",
        "\n",
        "\n",
        "# fitting model\n",
        "\n",
        "history_h1n1_ver1_L1_2 = model_h1n1_ver1_L1_2.fit(x_train_h1n1_ver1,\n",
        "                                                  y_train_h1n1_ver1,\n",
        "                                                  epochs = 20,\n",
        "                                                  batch_size = 512,\n",
        "                                                  validation_data = (x_valid_h1n1_ver1, y_valid_h1n1_ver1))\n"
      ],
      "metadata": {
        "colab": {
          "base_uri": "https://localhost:8080/"
        },
        "id": "lFxMGdzuviu-",
        "outputId": "d3527cfc-91d4-4933-b44e-c28c3ac3971d"
      },
      "execution_count": null,
      "outputs": [
        {
          "output_type": "stream",
          "name": "stdout",
          "text": [
            "Epoch 1/20\n",
            "39/39 [==============================] - 1s 10ms/step - loss: 2.0294 - accuracy: 0.7835 - val_loss: 1.5169 - val_accuracy: 0.7980\n",
            "Epoch 2/20\n",
            "39/39 [==============================] - 0s 6ms/step - loss: 1.1901 - accuracy: 0.7926 - val_loss: 0.9020 - val_accuracy: 0.7952\n",
            "Epoch 3/20\n",
            "39/39 [==============================] - 0s 5ms/step - loss: 0.7377 - accuracy: 0.7982 - val_loss: 0.6328 - val_accuracy: 0.8061\n",
            "Epoch 4/20\n",
            "39/39 [==============================] - 0s 7ms/step - loss: 0.5871 - accuracy: 0.8009 - val_loss: 0.5670 - val_accuracy: 0.8053\n",
            "Epoch 5/20\n",
            "39/39 [==============================] - 0s 6ms/step - loss: 0.5417 - accuracy: 0.8042 - val_loss: 0.5544 - val_accuracy: 0.8035\n",
            "Epoch 6/20\n",
            "39/39 [==============================] - 0s 7ms/step - loss: 0.5175 - accuracy: 0.8056 - val_loss: 0.5142 - val_accuracy: 0.8081\n",
            "Epoch 7/20\n",
            "39/39 [==============================] - 0s 7ms/step - loss: 0.5023 - accuracy: 0.8050 - val_loss: 0.5197 - val_accuracy: 0.7932\n",
            "Epoch 8/20\n",
            "39/39 [==============================] - 0s 6ms/step - loss: 0.4910 - accuracy: 0.8092 - val_loss: 0.5185 - val_accuracy: 0.8008\n",
            "Epoch 9/20\n",
            "39/39 [==============================] - 0s 7ms/step - loss: 0.4846 - accuracy: 0.8078 - val_loss: 0.5049 - val_accuracy: 0.8039\n",
            "Epoch 10/20\n",
            "39/39 [==============================] - 0s 6ms/step - loss: 0.4791 - accuracy: 0.8111 - val_loss: 0.4955 - val_accuracy: 0.7964\n",
            "Epoch 11/20\n",
            "39/39 [==============================] - 0s 7ms/step - loss: 0.4729 - accuracy: 0.8106 - val_loss: 0.4853 - val_accuracy: 0.8077\n",
            "Epoch 12/20\n",
            "39/39 [==============================] - 0s 6ms/step - loss: 0.4681 - accuracy: 0.8123 - val_loss: 0.4851 - val_accuracy: 0.8079\n",
            "Epoch 13/20\n",
            "39/39 [==============================] - 0s 7ms/step - loss: 0.4650 - accuracy: 0.8137 - val_loss: 0.4833 - val_accuracy: 0.8099\n",
            "Epoch 14/20\n",
            "39/39 [==============================] - 0s 6ms/step - loss: 0.4649 - accuracy: 0.8114 - val_loss: 0.4815 - val_accuracy: 0.8031\n",
            "Epoch 15/20\n",
            "39/39 [==============================] - 0s 6ms/step - loss: 0.4605 - accuracy: 0.8140 - val_loss: 0.4786 - val_accuracy: 0.8043\n",
            "Epoch 16/20\n",
            "39/39 [==============================] - 0s 5ms/step - loss: 0.4576 - accuracy: 0.8140 - val_loss: 0.4744 - val_accuracy: 0.8111\n",
            "Epoch 17/20\n",
            "39/39 [==============================] - 0s 5ms/step - loss: 0.4567 - accuracy: 0.8170 - val_loss: 0.4789 - val_accuracy: 0.8031\n",
            "Epoch 18/20\n",
            "39/39 [==============================] - 0s 6ms/step - loss: 0.4549 - accuracy: 0.8166 - val_loss: 0.5030 - val_accuracy: 0.7729\n",
            "Epoch 19/20\n",
            "39/39 [==============================] - 0s 6ms/step - loss: 0.4557 - accuracy: 0.8158 - val_loss: 0.4733 - val_accuracy: 0.8111\n",
            "Epoch 20/20\n",
            "39/39 [==============================] - 0s 7ms/step - loss: 0.4504 - accuracy: 0.8168 - val_loss: 0.4705 - val_accuracy: 0.8111\n"
          ]
        }
      ]
    },
    {
      "cell_type": "markdown",
      "source": [
        "**layer 8개 + L2 regularization 1개**"
      ],
      "metadata": {
        "id": "Mz23yypjwVMP"
      }
    },
    {
      "cell_type": "code",
      "source": [
        "## loss: 0.4100 - accuracy: 0.8219 - val_loss: 0.4545 - val_accuracy: 0.7978\n",
        "## loss: 0.4119 - accuracy: 0.8213 - val_loss: 0.4513 - val_accuracy: 0.8087\n",
        "## loss: 0.4046 - accuracy: 0.8270 - val_loss: 0.4522 - val_accuracy: 0.8041\n",
        "\n",
        "\n",
        "\n",
        "\n",
        "from tensorflow import keras\n",
        "from tensorflow.keras import layers\n",
        "from keras import regularizers\n",
        "\n",
        "\n",
        "# building model\n",
        "\n",
        "model_h1n1_ver1_L2_1 = keras.Sequential([\n",
        "                                         layers.Dense(256, activation = \"relu\"),\n",
        "                                         layers.Dense(256, activation = \"relu\"),\n",
        "                                         layers.Dense(128, activation = \"relu\", kernel_regularizer = regularizers.l2(0.001)),\n",
        "                                         layers.Dense(64, activation = \"relu\"),\n",
        "                                         layers.Dense(64, activation = \"relu\"),\n",
        "                                         layers.Dense(16, activation = \"relu\"),\n",
        "                                         layers.Dense(16, activation = \"relu\"),\n",
        "                                         layers.Dense(1, activation = \"sigmoid\")\n",
        "])\n",
        "\n",
        "\n",
        "# compiling model\n",
        "\n",
        "model_h1n1_ver1_L2_1.compile(optimizer = \"rmsprop\",\n",
        "                             loss = \"binary_crossentropy\",\n",
        "                             metrics = [\"accuracy\"])\n",
        "\n",
        "\n",
        "\n",
        "# fitting model\n",
        "\n",
        "history_h1n1_ver1_L2_1 = model_h1n1_ver1_L2_1.fit(x_train_h1n1_ver1,\n",
        "                                                  y_train_h1n1_ver1,\n",
        "                                                  epochs = 20,\n",
        "                                                  batch_size = 512,\n",
        "                                                  validation_data = (x_valid_h1n1_ver1, y_valid_h1n1_ver1))\n"
      ],
      "metadata": {
        "outputId": "785381f4-e4b5-4ab0-a437-bcf760e3e902",
        "colab": {
          "base_uri": "https://localhost:8080/"
        },
        "id": "uZZVInR9wVMQ"
      },
      "execution_count": null,
      "outputs": [
        {
          "output_type": "stream",
          "name": "stdout",
          "text": [
            "Epoch 1/20\n",
            "39/39 [==============================] - 1s 11ms/step - loss: 0.6230 - accuracy: 0.7792 - val_loss: 0.5654 - val_accuracy: 0.7910\n",
            "Epoch 2/20\n",
            "39/39 [==============================] - 0s 5ms/step - loss: 0.5314 - accuracy: 0.7963 - val_loss: 0.5505 - val_accuracy: 0.7666\n",
            "Epoch 3/20\n",
            "39/39 [==============================] - 0s 5ms/step - loss: 0.4933 - accuracy: 0.8005 - val_loss: 0.5034 - val_accuracy: 0.7821\n",
            "Epoch 4/20\n",
            "39/39 [==============================] - 0s 7ms/step - loss: 0.4769 - accuracy: 0.8033 - val_loss: 0.4838 - val_accuracy: 0.8012\n",
            "Epoch 5/20\n",
            "39/39 [==============================] - 0s 7ms/step - loss: 0.4640 - accuracy: 0.8068 - val_loss: 0.4785 - val_accuracy: 0.8067\n",
            "Epoch 6/20\n",
            "39/39 [==============================] - 0s 6ms/step - loss: 0.4572 - accuracy: 0.8064 - val_loss: 0.4985 - val_accuracy: 0.7714\n",
            "Epoch 7/20\n",
            "39/39 [==============================] - 0s 5ms/step - loss: 0.4522 - accuracy: 0.8102 - val_loss: 0.4657 - val_accuracy: 0.8075\n",
            "Epoch 8/20\n",
            "39/39 [==============================] - 0s 6ms/step - loss: 0.4464 - accuracy: 0.8112 - val_loss: 0.4664 - val_accuracy: 0.7992\n",
            "Epoch 9/20\n",
            "39/39 [==============================] - 0s 6ms/step - loss: 0.4429 - accuracy: 0.8141 - val_loss: 0.4632 - val_accuracy: 0.7944\n",
            "Epoch 10/20\n",
            "39/39 [==============================] - 0s 6ms/step - loss: 0.4378 - accuracy: 0.8128 - val_loss: 0.4536 - val_accuracy: 0.8079\n",
            "Epoch 11/20\n",
            "39/39 [==============================] - 0s 6ms/step - loss: 0.4343 - accuracy: 0.8129 - val_loss: 0.4643 - val_accuracy: 0.7994\n",
            "Epoch 12/20\n",
            "39/39 [==============================] - 0s 5ms/step - loss: 0.4303 - accuracy: 0.8170 - val_loss: 0.4490 - val_accuracy: 0.8117\n",
            "Epoch 13/20\n",
            "39/39 [==============================] - 0s 6ms/step - loss: 0.4247 - accuracy: 0.8171 - val_loss: 0.4865 - val_accuracy: 0.8035\n",
            "Epoch 14/20\n",
            "39/39 [==============================] - 0s 7ms/step - loss: 0.4237 - accuracy: 0.8166 - val_loss: 0.4512 - val_accuracy: 0.8113\n",
            "Epoch 15/20\n",
            "39/39 [==============================] - 0s 6ms/step - loss: 0.4210 - accuracy: 0.8185 - val_loss: 0.4469 - val_accuracy: 0.8115\n",
            "Epoch 16/20\n",
            "39/39 [==============================] - 0s 5ms/step - loss: 0.4203 - accuracy: 0.8185 - val_loss: 0.4467 - val_accuracy: 0.8101\n",
            "Epoch 17/20\n",
            "39/39 [==============================] - 0s 6ms/step - loss: 0.4135 - accuracy: 0.8243 - val_loss: 0.4546 - val_accuracy: 0.8087\n",
            "Epoch 18/20\n",
            "39/39 [==============================] - 0s 6ms/step - loss: 0.4115 - accuracy: 0.8246 - val_loss: 0.4510 - val_accuracy: 0.8113\n",
            "Epoch 19/20\n",
            "39/39 [==============================] - 0s 6ms/step - loss: 0.4136 - accuracy: 0.8209 - val_loss: 0.4580 - val_accuracy: 0.8071\n",
            "Epoch 20/20\n",
            "39/39 [==============================] - 0s 5ms/step - loss: 0.4046 - accuracy: 0.8270 - val_loss: 0.4522 - val_accuracy: 0.8041\n"
          ]
        }
      ]
    },
    {
      "cell_type": "markdown",
      "source": [
        "**layer 8개 + L2 regularization 2개**"
      ],
      "metadata": {
        "id": "O28WjQWPwwZa"
      }
    },
    {
      "cell_type": "code",
      "source": [
        "## loss: 0.4104 - accuracy: 0.8234 - val_loss: 0.4648 - val_accuracy: 0.8115\n",
        "## loss: 0.4155 - accuracy: 0.8243 - val_loss: 0.4608 - val_accuracy: 0.8071\n",
        "## loss: 0.4105 - accuracy: 0.8206 - val_loss: 0.4517 - val_accuracy: 0.8047\n",
        "\n",
        "\n",
        "\n",
        "from tensorflow import keras\n",
        "from tensorflow.keras import layers\n",
        "from keras import regularizers\n",
        "\n",
        "\n",
        "# building model\n",
        "\n",
        "model_h1n1_ver1_L2_2 = keras.Sequential([\n",
        "                                         layers.Dense(256, activation = \"relu\"),\n",
        "                                         layers.Dense(256, activation = \"relu\"),\n",
        "                                         layers.Dense(128, activation = \"relu\", kernel_regularizer = regularizers.l2(0.001)),\n",
        "                                         layers.Dense(64, activation = \"relu\"),\n",
        "                                         layers.Dense(64, activation = \"relu\"),\n",
        "                                         layers.Dense(16, activation = \"relu\", kernel_regularizer = regularizers.l2(0.001)),\n",
        "                                         layers.Dense(16, activation = \"relu\"),\n",
        "                                         layers.Dense(1, activation = \"sigmoid\")\n",
        "])\n",
        "\n",
        "\n",
        "# compiling model\n",
        "\n",
        "model_h1n1_ver1_L2_2.compile(optimizer = \"rmsprop\",\n",
        "                             loss = \"binary_crossentropy\",\n",
        "                             metrics = [\"accuracy\"])\n",
        "\n",
        "\n",
        "\n",
        "# fitting model\n",
        "\n",
        "history_h1n1_ver1_L2_2 = model_h1n1_ver1_L2_2.fit(x_train_h1n1_ver1,\n",
        "                                                  y_train_h1n1_ver1,\n",
        "                                                  epochs = 20,\n",
        "                                                  batch_size = 512,\n",
        "                                                  validation_data = (x_valid_h1n1_ver1, y_valid_h1n1_ver1))\n"
      ],
      "metadata": {
        "outputId": "bf5043fc-8043-4b57-c2fc-bcb6d3b7b50b",
        "colab": {
          "base_uri": "https://localhost:8080/"
        },
        "id": "xJt90wFIwwZb"
      },
      "execution_count": null,
      "outputs": [
        {
          "output_type": "stream",
          "name": "stdout",
          "text": [
            "Epoch 1/20\n",
            "39/39 [==============================] - 1s 11ms/step - loss: 0.6428 - accuracy: 0.7808 - val_loss: 0.5819 - val_accuracy: 0.7876\n",
            "Epoch 2/20\n",
            "39/39 [==============================] - 0s 6ms/step - loss: 0.5443 - accuracy: 0.7954 - val_loss: 0.5310 - val_accuracy: 0.7940\n",
            "Epoch 3/20\n",
            "39/39 [==============================] - 0s 5ms/step - loss: 0.5068 - accuracy: 0.7972 - val_loss: 0.4974 - val_accuracy: 0.8059\n",
            "Epoch 4/20\n",
            "39/39 [==============================] - 0s 6ms/step - loss: 0.4844 - accuracy: 0.8004 - val_loss: 0.4836 - val_accuracy: 0.8073\n",
            "Epoch 5/20\n",
            "39/39 [==============================] - 0s 5ms/step - loss: 0.4727 - accuracy: 0.8057 - val_loss: 0.5025 - val_accuracy: 0.7729\n",
            "Epoch 6/20\n",
            "39/39 [==============================] - 0s 6ms/step - loss: 0.4648 - accuracy: 0.8063 - val_loss: 0.4699 - val_accuracy: 0.8045\n",
            "Epoch 7/20\n",
            "39/39 [==============================] - 0s 6ms/step - loss: 0.4573 - accuracy: 0.8085 - val_loss: 0.4799 - val_accuracy: 0.8089\n",
            "Epoch 8/20\n",
            "39/39 [==============================] - 0s 5ms/step - loss: 0.4522 - accuracy: 0.8079 - val_loss: 0.4718 - val_accuracy: 0.7986\n",
            "Epoch 9/20\n",
            "39/39 [==============================] - 0s 5ms/step - loss: 0.4461 - accuracy: 0.8127 - val_loss: 0.4664 - val_accuracy: 0.7990\n",
            "Epoch 10/20\n",
            "39/39 [==============================] - 0s 6ms/step - loss: 0.4432 - accuracy: 0.8100 - val_loss: 0.4547 - val_accuracy: 0.8091\n",
            "Epoch 11/20\n",
            "39/39 [==============================] - 0s 7ms/step - loss: 0.4398 - accuracy: 0.8126 - val_loss: 0.4621 - val_accuracy: 0.8041\n",
            "Epoch 12/20\n",
            "39/39 [==============================] - 0s 6ms/step - loss: 0.4340 - accuracy: 0.8154 - val_loss: 0.4704 - val_accuracy: 0.8075\n",
            "Epoch 13/20\n",
            "39/39 [==============================] - 0s 5ms/step - loss: 0.4317 - accuracy: 0.8136 - val_loss: 0.4883 - val_accuracy: 0.8029\n",
            "Epoch 14/20\n",
            "39/39 [==============================] - 0s 6ms/step - loss: 0.4289 - accuracy: 0.8170 - val_loss: 0.4815 - val_accuracy: 0.8043\n",
            "Epoch 15/20\n",
            "39/39 [==============================] - 0s 6ms/step - loss: 0.4267 - accuracy: 0.8187 - val_loss: 0.4558 - val_accuracy: 0.8023\n",
            "Epoch 16/20\n",
            "39/39 [==============================] - 0s 7ms/step - loss: 0.4234 - accuracy: 0.8194 - val_loss: 0.4560 - val_accuracy: 0.8059\n",
            "Epoch 17/20\n",
            "39/39 [==============================] - 0s 6ms/step - loss: 0.4201 - accuracy: 0.8191 - val_loss: 0.4535 - val_accuracy: 0.8121\n",
            "Epoch 18/20\n",
            "39/39 [==============================] - 0s 5ms/step - loss: 0.4161 - accuracy: 0.8192 - val_loss: 0.4672 - val_accuracy: 0.7874\n",
            "Epoch 19/20\n",
            "39/39 [==============================] - 0s 6ms/step - loss: 0.4152 - accuracy: 0.8203 - val_loss: 0.4828 - val_accuracy: 0.7753\n",
            "Epoch 20/20\n",
            "39/39 [==============================] - 0s 6ms/step - loss: 0.4105 - accuracy: 0.8206 - val_loss: 0.4517 - val_accuracy: 0.8047\n"
          ]
        }
      ]
    },
    {
      "cell_type": "markdown",
      "source": [
        "**layer 8개 + L1&L2 regularization 1개**"
      ],
      "metadata": {
        "id": "ZZ2PUgi-xUIF"
      }
    },
    {
      "cell_type": "code",
      "source": [
        "## loss: 0.4500 - accuracy: 0.8158 - val_loss: 0.4707 - val_accuracy: 0.8127\n",
        "## loss: 0.4509 - accuracy: 0.8160 - val_loss: 0.4650 - val_accuracy: 0.8103\n",
        "## loss: 0.4507 - accuracy: 0.8181 - val_loss: 0.4669 - val_accuracy: 0.8101\n",
        "\n",
        "\n",
        "\n",
        "from tensorflow import keras\n",
        "from tensorflow.keras import layers\n",
        "from keras import regularizers\n",
        "\n",
        "\n",
        "# building model\n",
        "\n",
        "model_h1n1_ver1_L12 = keras.Sequential([\n",
        "                                        layers.Dense(256, activation = \"relu\"),\n",
        "                                        layers.Dense(256, activation = \"relu\"),\n",
        "                                        layers.Dense(128, activation = \"relu\", kernel_regularizer = regularizers.l1_l2(l1 = 0.001, l2 = 0.001)),\n",
        "                                        layers.Dense(64, activation = \"relu\"),\n",
        "                                        layers.Dense(64, activation = \"relu\"),\n",
        "                                        layers.Dense(16, activation = \"relu\", kernel_regularizer = regularizers.l1_l2(l1 = 0.001, l2 = 0.001)),\n",
        "                                        layers.Dense(16, activation = \"relu\"),\n",
        "                                        layers.Dense(1, activation = \"sigmoid\")\n",
        "])\n",
        "\n",
        "\n",
        "# compiling model\n",
        "\n",
        "model_h1n1_ver1_L12.compile(optimizer = \"rmsprop\",\n",
        "                            loss = \"binary_crossentropy\",\n",
        "                            metrics = [\"accuracy\"])\n",
        "\n",
        "\n",
        "\n",
        "# fitting model\n",
        "\n",
        "history_h1n1_ver1_L12 = model_h1n1_ver1_L12.fit(x_train_h1n1_ver1,\n",
        "                                                y_train_h1n1_ver1,\n",
        "                                                epochs = 20,\n",
        "                                                batch_size = 512,\n",
        "                                                validation_data = (x_valid_h1n1_ver1, y_valid_h1n1_ver1))\n"
      ],
      "metadata": {
        "outputId": "17da42e6-3c4d-4d89-a8d9-9caf54ebbe01",
        "colab": {
          "base_uri": "https://localhost:8080/"
        },
        "id": "Wl02C3JDxUIk"
      },
      "execution_count": null,
      "outputs": [
        {
          "output_type": "stream",
          "name": "stdout",
          "text": [
            "Epoch 1/20\n",
            "39/39 [==============================] - 2s 13ms/step - loss: 2.1120 - accuracy: 0.7755 - val_loss: 1.5613 - val_accuracy: 0.7859\n",
            "Epoch 2/20\n",
            "39/39 [==============================] - 0s 9ms/step - loss: 1.1962 - accuracy: 0.7859 - val_loss: 0.8990 - val_accuracy: 0.7859\n",
            "Epoch 3/20\n",
            "39/39 [==============================] - 0s 8ms/step - loss: 0.7280 - accuracy: 0.7879 - val_loss: 0.6200 - val_accuracy: 0.7867\n",
            "Epoch 4/20\n",
            "39/39 [==============================] - 0s 9ms/step - loss: 0.5807 - accuracy: 0.7977 - val_loss: 0.5736 - val_accuracy: 0.8006\n",
            "Epoch 5/20\n",
            "39/39 [==============================] - 0s 9ms/step - loss: 0.5365 - accuracy: 0.8014 - val_loss: 0.5306 - val_accuracy: 0.8041\n",
            "Epoch 6/20\n",
            "39/39 [==============================] - 0s 9ms/step - loss: 0.5102 - accuracy: 0.8045 - val_loss: 0.5071 - val_accuracy: 0.8051\n",
            "Epoch 7/20\n",
            "39/39 [==============================] - 0s 9ms/step - loss: 0.4947 - accuracy: 0.8058 - val_loss: 0.4964 - val_accuracy: 0.8067\n",
            "Epoch 8/20\n",
            "39/39 [==============================] - 0s 9ms/step - loss: 0.4852 - accuracy: 0.8064 - val_loss: 0.5137 - val_accuracy: 0.8002\n",
            "Epoch 9/20\n",
            "39/39 [==============================] - 0s 8ms/step - loss: 0.4794 - accuracy: 0.8104 - val_loss: 0.4990 - val_accuracy: 0.7964\n",
            "Epoch 10/20\n",
            "39/39 [==============================] - 0s 7ms/step - loss: 0.4755 - accuracy: 0.8096 - val_loss: 0.4823 - val_accuracy: 0.8059\n",
            "Epoch 11/20\n",
            "39/39 [==============================] - 0s 6ms/step - loss: 0.4685 - accuracy: 0.8091 - val_loss: 0.4873 - val_accuracy: 0.8083\n",
            "Epoch 12/20\n",
            "39/39 [==============================] - 0s 6ms/step - loss: 0.4699 - accuracy: 0.8079 - val_loss: 0.4895 - val_accuracy: 0.8101\n",
            "Epoch 13/20\n",
            "39/39 [==============================] - 0s 6ms/step - loss: 0.4634 - accuracy: 0.8093 - val_loss: 0.4801 - val_accuracy: 0.8099\n",
            "Epoch 14/20\n",
            "39/39 [==============================] - 0s 6ms/step - loss: 0.4622 - accuracy: 0.8112 - val_loss: 0.4761 - val_accuracy: 0.8037\n",
            "Epoch 15/20\n",
            "39/39 [==============================] - 0s 6ms/step - loss: 0.4602 - accuracy: 0.8114 - val_loss: 0.4931 - val_accuracy: 0.8067\n",
            "Epoch 16/20\n",
            "39/39 [==============================] - 0s 6ms/step - loss: 0.4562 - accuracy: 0.8142 - val_loss: 0.4768 - val_accuracy: 0.8023\n",
            "Epoch 17/20\n",
            "39/39 [==============================] - 0s 7ms/step - loss: 0.4556 - accuracy: 0.8115 - val_loss: 0.4895 - val_accuracy: 0.7874\n",
            "Epoch 18/20\n",
            "39/39 [==============================] - 0s 6ms/step - loss: 0.4547 - accuracy: 0.8147 - val_loss: 0.4738 - val_accuracy: 0.8095\n",
            "Epoch 19/20\n",
            "39/39 [==============================] - 0s 6ms/step - loss: 0.4501 - accuracy: 0.8151 - val_loss: 0.4813 - val_accuracy: 0.8107\n",
            "Epoch 20/20\n",
            "39/39 [==============================] - 0s 6ms/step - loss: 0.4507 - accuracy: 0.8181 - val_loss: 0.4669 - val_accuracy: 0.8101\n"
          ]
        }
      ]
    },
    {
      "cell_type": "markdown",
      "source": [
        "### visualize"
      ],
      "metadata": {
        "id": "w53aXFmUk0Ic"
      }
    },
    {
      "cell_type": "code",
      "source": [
        "# L1, L2 regularization effect on training loss\n",
        "\n",
        "\n",
        "import matplotlib.pyplot as plt\n",
        "\n",
        "history_dict_h1n1_ver1_L1_1 = history_h1n1_ver1_L1_1.history\n",
        "history_dict_h1n1_ver1_L1_2 = history_h1n1_ver1_L1_2.history\n",
        "history_dict_h1n1_ver1_L2_1 = history_h1n1_ver1_L2_1.history\n",
        "history_dict_h1n1_ver1_L2_2 = history_h1n1_ver1_L2_2.history\n",
        "history_dict_h1n1_ver1_L12 = history_h1n1_ver1_L12.history\n",
        "\n",
        "loss_values_h1n1_ver1_L1_1 = history_dict_h1n1_ver1_L1_1[\"loss\"]\n",
        "loss_values_h1n1_ver1_L1_2 = history_dict_h1n1_ver1_L1_2[\"loss\"]\n",
        "loss_values_h1n1_ver1_L2_1 = history_dict_h1n1_ver1_L2_1[\"loss\"]\n",
        "loss_values_h1n1_ver1_L2_2 = history_dict_h1n1_ver1_L2_2[\"loss\"]\n",
        "loss_values_h1n1_ver1_L12 = history_dict_h1n1_ver1_L12[\"loss\"]\n",
        "\n",
        "\n",
        "epochs = range(1, len(loss_values_h1n1_ver1_L1_1) + 1)\n",
        "\n",
        "\n",
        "plt.plot(epochs, loss_values_h1n1_ver1_L1_1, label=\"one L1 loss\")\n",
        "plt.plot(epochs, loss_values_h1n1_ver1_L1_2, label=\"two L1 loss\")\n",
        "plt.plot(epochs, loss_values_h1n1_ver1_L2_1, label=\"one L2 loss\")\n",
        "plt.plot(epochs, loss_values_h1n1_ver1_L2_2, label=\"two L2 loss\")\n",
        "plt.plot(epochs, loss_values_h1n1_ver1_L12, label=\"both L1 and L2 loss\")\n",
        "\n",
        "\n",
        "plt.title(\"L1 and L2 regularization loss on training set (ver1)\")\n",
        "plt.xlabel(\"Epochs\")\n",
        "plt.ylabel(\"Loss\")\n",
        "plt.ylim([0.3,0.9])\n",
        "plt.legend()\n",
        "plt.show()"
      ],
      "metadata": {
        "colab": {
          "base_uri": "https://localhost:8080/",
          "height": 295
        },
        "id": "NX48FTxxYDJU",
        "outputId": "fe16a637-c240-45cf-f38e-fae52cfb9224"
      },
      "execution_count": null,
      "outputs": [
        {
          "output_type": "display_data",
          "data": {
            "text/plain": [
              "<Figure size 432x288 with 1 Axes>"
            ],
            "image/png": "[encoded data removed]"
          },
          "metadata": {
            "needs_background": "light"
          }
        }
      ]
    },
    {
      "cell_type": "code",
      "source": [
        "# L1, L2 regularization effect on training accuracy\n",
        "\n",
        "\n",
        "import matplotlib.pyplot as plt\n",
        "\n",
        "\n",
        "acc_values_h1n1_ver1_L1_1 = history_dict_h1n1_ver1_L1_1[\"accuracy\"]\n",
        "acc_values_h1n1_ver1_L1_2 = history_dict_h1n1_ver1_L1_2[\"accuracy\"]\n",
        "acc_values_h1n1_ver1_L2_1 = history_dict_h1n1_ver1_L2_1[\"accuracy\"]\n",
        "acc_values_h1n1_ver1_L2_2 = history_dict_h1n1_ver1_L2_2[\"accuracy\"]\n",
        "acc_values_h1n1_ver1_L12 = history_dict_h1n1_ver1_L12[\"accuracy\"]\n",
        "\n",
        "epochs = range(1, len(acc_values_h1n1_ver1_L1_1) + 1)\n",
        "\n",
        "\n",
        "plt.plot(epochs, acc_values_h1n1_ver1_L1_1, label=\"one L1 accuracy\")\n",
        "plt.plot(epochs, acc_values_h1n1_ver1_L1_2, label=\"two L1 accuracy\")\n",
        "plt.plot(epochs, acc_values_h1n1_ver1_L2_1, label=\"one L2 accuracy\")\n",
        "plt.plot(epochs, acc_values_h1n1_ver1_L2_2, label=\"two L2 accuracy\")\n",
        "plt.plot(epochs, acc_values_h1n1_ver1_L12, label=\"both L1 and L2 accuracy\")\n",
        "\n",
        "plt.title(\"L1 and L2 regularization accuracy on training set (ver1)\")\n",
        "plt.xlabel(\"Epochs\")\n",
        "plt.ylabel(\"Accuracy\")\n",
        "plt.ylim([0.78, 0.85])\n",
        "plt.legend()\n",
        "plt.show()"
      ],
      "metadata": {
        "id": "_8ahGC8SpDih",
        "outputId": "7f09a5b4-c001-4cee-a713-99a03b79ace6",
        "colab": {
          "base_uri": "https://localhost:8080/",
          "height": 295
        }
      },
      "execution_count": null,
      "outputs": [
        {
          "output_type": "display_data",
          "data": {
            "text/plain": [
              "<Figure size 432x288 with 1 Axes>"
            ],
            "image/png": "[encoded data removed]"
          },
          "metadata": {
            "needs_background": "light"
          }
        }
      ]
    },
    {
      "cell_type": "code",
      "source": [
        "# L1, L2 regularization effect on validation loss\n",
        "\n",
        "\n",
        "import matplotlib.pyplot as plt\n",
        "\n",
        "history_dict_h1n1_ver1_L1_1 = history_h1n1_ver1_L1_1.history\n",
        "history_dict_h1n1_ver1_L1_2 = history_h1n1_ver1_L1_2.history\n",
        "history_dict_h1n1_ver1_L2_1 = history_h1n1_ver1_L2_1.history\n",
        "history_dict_h1n1_ver1_L2_2 = history_h1n1_ver1_L2_2.history\n",
        "history_dict_h1n1_ver1_L12 = history_h1n1_ver1_L12.history\n",
        "\n",
        "val_loss_values_h1n1_ver1_L1_1 = history_dict_h1n1_ver1_L1_1[\"val_loss\"]\n",
        "val_loss_values_h1n1_ver1_L1_2 = history_dict_h1n1_ver1_L1_2[\"val_loss\"]\n",
        "val_loss_values_h1n1_ver1_L2_1 = history_dict_h1n1_ver1_L2_1[\"val_loss\"]\n",
        "val_loss_values_h1n1_ver1_L2_2 = history_dict_h1n1_ver1_L2_2[\"val_loss\"]\n",
        "val_loss_values_h1n1_ver1_L12 = history_dict_h1n1_ver1_L12[\"val_loss\"]\n",
        "\n",
        "\n",
        "epochs = range(1, len(val_loss_values_h1n1_ver1_L1_1) + 1)\n",
        "\n",
        "\n",
        "plt.plot(epochs, val_loss_values_h1n1_ver1_L1_1, label=\"one L1 val_loss\")\n",
        "plt.plot(epochs, val_loss_values_h1n1_ver1_L1_2, label=\"two L1 val_loss\")\n",
        "plt.plot(epochs, val_loss_values_h1n1_ver1_L2_1, label=\"one L2 val_loss\")\n",
        "plt.plot(epochs, val_loss_values_h1n1_ver1_L2_2, label=\"two L2 val_loss\")\n",
        "plt.plot(epochs, val_loss_values_h1n1_ver1_L12, label=\"both L1 and L2 val_loss\")\n",
        "\n",
        "\n",
        "plt.title(\"L1 and L2 regularization loss on validation set (ver1)\")\n",
        "plt.xlabel(\"Epochs\")\n",
        "plt.ylabel(\"Validation Loss\")\n",
        "plt.ylim([0.3,0.9])\n",
        "plt.legend()\n",
        "plt.show()"
      ],
      "metadata": {
        "id": "4g31bW1Xq9Ni",
        "outputId": "8ccb3eb6-5d95-43c5-c894-533b1a5e658b",
        "colab": {
          "base_uri": "https://localhost:8080/",
          "height": 295
        }
      },
      "execution_count": null,
      "outputs": [
        {
          "output_type": "display_data",
          "data": {
            "text/plain": [
              "<Figure size 432x288 with 1 Axes>"
            ],
            "image/png": "[encoded data removed]"
          },
          "metadata": {
            "needs_background": "light"
          }
        }
      ]
    },
    {
      "cell_type": "code",
      "source": [
        "# L1, L2 regularization effect on validation accuracy\n",
        "\n",
        "\n",
        "import matplotlib.pyplot as plt\n",
        "\n",
        "history_dict_h1n1_ver1_L1_1 = history_h1n1_ver1_L1_1.history\n",
        "history_dict_h1n1_ver1_L1_2 = history_h1n1_ver1_L1_2.history\n",
        "history_dict_h1n1_ver1_L2_1 = history_h1n1_ver1_L2_1.history\n",
        "history_dict_h1n1_ver1_L2_2 = history_h1n1_ver1_L2_2.history\n",
        "history_dict_h1n1_ver1_L12 = history_h1n1_ver1_L12.history\n",
        "\n",
        "\n",
        "val_acc_values_h1n1_ver1_L1_1 = history_dict_h1n1_ver1_L1_1[\"val_accuracy\"]\n",
        "val_acc_values_h1n1_ver1_L1_2 = history_dict_h1n1_ver1_L1_2[\"val_accuracy\"]\n",
        "val_acc_values_h1n1_ver1_L2_1 = history_dict_h1n1_ver1_L2_1[\"val_accuracy\"]\n",
        "val_acc_values_h1n1_ver1_L2_2 = history_dict_h1n1_ver1_L2_2[\"val_accuracy\"]\n",
        "val_acc_values_h1n1_ver1_L12 = history_dict_h1n1_ver1_L12[\"val_accuracy\"]\n",
        "\n",
        "\n",
        "\n",
        "epochs = range(1, len(val_acc_values_h1n1_ver1_L1_1) + 1)\n",
        "\n",
        "\n",
        "plt.plot(epochs, val_acc_values_h1n1_ver1_L1_1, label=\"one L1 val_accuracy\")\n",
        "plt.plot(epochs, val_acc_values_h1n1_ver1_L1_2, label=\"two L1 val_accuracy\")\n",
        "plt.plot(epochs, val_acc_values_h1n1_ver1_L2_1, label=\"one L2 val_accuracy\")\n",
        "plt.plot(epochs, val_acc_values_h1n1_ver1_L2_2, label=\"two L2 val_accuracy\")\n",
        "plt.plot(epochs, val_acc_values_h1n1_ver1_L12, label=\"both L1 and L2 val_accuracy\")\n",
        "\n",
        "\n",
        "plt.title(\"L1 and L2 regularization effect on validation accuracy (ver1)\")\n",
        "plt.xlabel(\"Epochs\")\n",
        "plt.ylabel(\"Validation Accuracy\")\n",
        "plt.legend()\n",
        "plt.show()"
      ],
      "metadata": {
        "id": "IwthylX9mZhb",
        "outputId": "a0bbc22e-b041-4972-e82c-75cbaa53b371",
        "colab": {
          "base_uri": "https://localhost:8080/",
          "height": 295
        }
      },
      "execution_count": null,
      "outputs": [
        {
          "output_type": "display_data",
          "data": {
            "text/plain": [
              "<Figure size 432x288 with 1 Axes>"
            ],
            "image/png": "[encoded data removed]"
          },
          "metadata": {
            "needs_background": "light"
          }
        }
      ]
    },
    {
      "cell_type": "markdown",
      "source": [
        "## **Hyperparameter effect**"
      ],
      "metadata": {
        "id": "qJlUJiUAQx1A"
      }
    },
    {
      "cell_type": "markdown",
      "source": [
        "**0.005**"
      ],
      "metadata": {
        "id": "eJmfz_nTX5tE"
      }
    },
    {
      "cell_type": "code",
      "source": [
        "## 0.005\n",
        "## loss: 0.4081 - accuracy: 0.8263 - val_loss: 0.4562 - val_accuracy: 0.8125\n",
        "## loss: 0.4136 - accuracy: 0.8236 - val_loss: 0.4530 - val_accuracy: 0.8107\n",
        "## loss: 0.4016 - accuracy: 0.8263 - val_loss: 0.4890 - val_accuracy: 0.7708\n",
        "\n",
        "\n",
        "from tensorflow import keras\n",
        "from tensorflow.keras import layers\n",
        "from keras import regularizers\n",
        "\n",
        "\n",
        "# building model\n",
        "\n",
        "model_h1n1_ver1_one = keras.Sequential([\n",
        "                                        layers.Dense(256, activation = \"relu\"),\n",
        "                                        layers.Dense(256, activation = \"relu\"),\n",
        "                                        layers.Dense(128, activation = \"relu\", kernel_regularizer = regularizers.l2(0.005)),\n",
        "                                        layers.Dense(64, activation = \"relu\"),\n",
        "                                        layers.Dense(64, activation = \"relu\"),\n",
        "                                        layers.Dense(16, activation = \"relu\", kernel_regularizer = regularizers.l2(0.005)),\n",
        "                                        layers.Dense(16, activation = \"relu\"),\n",
        "                                        layers.Dense(1, activation = \"sigmoid\")\n",
        "])\n",
        "\n",
        "\n",
        "# compiling model\n",
        "\n",
        "model_h1n1_ver1_one.compile(optimizer = \"rmsprop\",\n",
        "                            loss = \"binary_crossentropy\",\n",
        "                            metrics = [\"accuracy\"])\n",
        "\n",
        "\n",
        "\n",
        "# fitting model\n",
        "\n",
        "history_h1n1_ver1_one = model_h1n1_ver1_one.fit(x_train_h1n1_ver1,\n",
        "                                                y_train_h1n1_ver1,\n",
        "                                                epochs = 20,\n",
        "                                                batch_size = 512,\n",
        "                                                validation_data = (x_valid_h1n1_ver1, y_valid_h1n1_ver1))\n"
      ],
      "metadata": {
        "outputId": "b9edc418-7d40-4314-f913-2ef920e1264b",
        "colab": {
          "base_uri": "https://localhost:8080/"
        },
        "id": "lyaGXIXEy-gS"
      },
      "execution_count": 26,
      "outputs": [
        {
          "output_type": "stream",
          "name": "stdout",
          "text": [
            "Epoch 1/20\n",
            "39/39 [==============================] - 1s 11ms/step - loss: 1.1100 - accuracy: 0.7870 - val_loss: 0.8585 - val_accuracy: 0.7940\n",
            "Epoch 2/20\n",
            "39/39 [==============================] - 0s 5ms/step - loss: 0.7253 - accuracy: 0.7928 - val_loss: 0.6258 - val_accuracy: 0.8045\n",
            "Epoch 3/20\n",
            "39/39 [==============================] - 0s 5ms/step - loss: 0.5664 - accuracy: 0.7999 - val_loss: 0.5297 - val_accuracy: 0.8027\n",
            "Epoch 4/20\n",
            "39/39 [==============================] - 0s 6ms/step - loss: 0.5079 - accuracy: 0.8031 - val_loss: 0.4996 - val_accuracy: 0.8067\n",
            "Epoch 5/20\n",
            "39/39 [==============================] - 0s 8ms/step - loss: 0.4836 - accuracy: 0.8024 - val_loss: 0.5037 - val_accuracy: 0.7996\n",
            "Epoch 6/20\n",
            "39/39 [==============================] - 0s 5ms/step - loss: 0.4679 - accuracy: 0.8059 - val_loss: 0.4701 - val_accuracy: 0.8053\n",
            "Epoch 7/20\n",
            "39/39 [==============================] - 0s 5ms/step - loss: 0.4586 - accuracy: 0.8058 - val_loss: 0.4781 - val_accuracy: 0.7918\n",
            "Epoch 8/20\n",
            "39/39 [==============================] - 0s 5ms/step - loss: 0.4550 - accuracy: 0.8076 - val_loss: 0.4680 - val_accuracy: 0.8063\n",
            "Epoch 9/20\n",
            "39/39 [==============================] - 0s 7ms/step - loss: 0.4500 - accuracy: 0.8094 - val_loss: 0.4602 - val_accuracy: 0.8091\n",
            "Epoch 10/20\n",
            "39/39 [==============================] - 0s 7ms/step - loss: 0.4452 - accuracy: 0.8125 - val_loss: 0.4636 - val_accuracy: 0.7984\n",
            "Epoch 11/20\n",
            "39/39 [==============================] - 0s 6ms/step - loss: 0.4445 - accuracy: 0.8106 - val_loss: 0.4591 - val_accuracy: 0.8035\n",
            "Epoch 12/20\n",
            "39/39 [==============================] - 0s 5ms/step - loss: 0.4396 - accuracy: 0.8117 - val_loss: 0.4624 - val_accuracy: 0.8095\n",
            "Epoch 13/20\n",
            "39/39 [==============================] - 0s 6ms/step - loss: 0.4354 - accuracy: 0.8159 - val_loss: 0.4565 - val_accuracy: 0.8093\n",
            "Epoch 14/20\n",
            "39/39 [==============================] - 0s 5ms/step - loss: 0.4369 - accuracy: 0.8131 - val_loss: 0.4488 - val_accuracy: 0.8089\n",
            "Epoch 15/20\n",
            "39/39 [==============================] - 0s 7ms/step - loss: 0.4304 - accuracy: 0.8163 - val_loss: 0.4515 - val_accuracy: 0.8111\n",
            "Epoch 16/20\n",
            "39/39 [==============================] - 0s 5ms/step - loss: 0.4316 - accuracy: 0.8156 - val_loss: 0.4478 - val_accuracy: 0.8119\n",
            "Epoch 17/20\n",
            "39/39 [==============================] - 0s 6ms/step - loss: 0.4264 - accuracy: 0.8179 - val_loss: 0.4558 - val_accuracy: 0.8119\n",
            "Epoch 18/20\n",
            "39/39 [==============================] - 0s 7ms/step - loss: 0.4261 - accuracy: 0.8184 - val_loss: 0.4515 - val_accuracy: 0.8099\n",
            "Epoch 19/20\n",
            "39/39 [==============================] - 0s 5ms/step - loss: 0.4218 - accuracy: 0.8197 - val_loss: 0.4586 - val_accuracy: 0.7940\n",
            "Epoch 20/20\n",
            "39/39 [==============================] - 0s 7ms/step - loss: 0.4202 - accuracy: 0.8211 - val_loss: 0.4690 - val_accuracy: 0.7795\n"
          ]
        }
      ]
    },
    {
      "cell_type": "markdown",
      "source": [
        "**0.002**"
      ],
      "metadata": {
        "id": "Gr5K8h1iX7r7"
      }
    },
    {
      "cell_type": "code",
      "source": [
        "## 0.002\n",
        "## loss: 0.4007 - accuracy: 0.8284 - val_loss: 0.4547 - val_accuracy: 0.8119\n",
        "## loss: 0.4005 - accuracy: 0.8272 - val_loss: 0.4566 - val_accuracy: 0.8067\n",
        "## loss: 0.4068 - accuracy: 0.8259 - val_loss: 0.4733 - val_accuracy: 0.8087\n",
        "\n",
        "\n",
        "\n",
        "from tensorflow import keras\n",
        "from tensorflow.keras import layers\n",
        "from keras import regularizers\n",
        "\n",
        "\n",
        "# building model\n",
        "\n",
        "model_h1n1_ver1_two = keras.Sequential([\n",
        "                                        layers.Dense(256, activation = \"relu\"),\n",
        "                                        layers.Dense(256, activation = \"relu\"),\n",
        "                                        layers.Dense(128, activation = \"relu\", kernel_regularizer = regularizers.l2(0.002)),\n",
        "                                        layers.Dense(64, activation = \"relu\"),\n",
        "                                        layers.Dense(64, activation = \"relu\"),\n",
        "                                        layers.Dense(16, activation = \"relu\", kernel_regularizer = regularizers.l2(0.002)),\n",
        "                                        layers.Dense(16, activation = \"relu\"),\n",
        "                                        layers.Dense(1, activation = \"sigmoid\")\n",
        "])\n",
        "\n",
        "\n",
        "# compiling model\n",
        "\n",
        "model_h1n1_ver1_two.compile(optimizer = \"rmsprop\",\n",
        "                            loss = \"binary_crossentropy\",\n",
        "                            metrics = [\"accuracy\"])\n",
        "\n",
        "\n",
        "\n",
        "# fitting model\n",
        "\n",
        "history_h1n1_ver1_two = model_h1n1_ver1_two.fit(x_train_h1n1_ver1,\n",
        "                                                y_train_h1n1_ver1,\n",
        "                                                epochs = 20,\n",
        "                                                batch_size = 512,\n",
        "                                                validation_data = (x_valid_h1n1_ver1, y_valid_h1n1_ver1))\n"
      ],
      "metadata": {
        "colab": {
          "base_uri": "https://localhost:8080/"
        },
        "id": "lP812d3PRTfL",
        "outputId": "c1f15d43-8def-425d-ca94-4f4677613ddd"
      },
      "execution_count": 27,
      "outputs": [
        {
          "output_type": "stream",
          "name": "stdout",
          "text": [
            "Epoch 1/20\n",
            "39/39 [==============================] - 1s 11ms/step - loss: 0.7775 - accuracy: 0.7699 - val_loss: 0.6691 - val_accuracy: 0.7900\n",
            "Epoch 2/20\n",
            "39/39 [==============================] - 0s 5ms/step - loss: 0.6100 - accuracy: 0.7978 - val_loss: 0.5684 - val_accuracy: 0.8045\n",
            "Epoch 3/20\n",
            "39/39 [==============================] - 0s 5ms/step - loss: 0.5369 - accuracy: 0.8012 - val_loss: 0.5166 - val_accuracy: 0.8051\n",
            "Epoch 4/20\n",
            "39/39 [==============================] - 0s 5ms/step - loss: 0.5006 - accuracy: 0.8010 - val_loss: 0.4910 - val_accuracy: 0.8043\n",
            "Epoch 5/20\n",
            "39/39 [==============================] - 0s 7ms/step - loss: 0.4793 - accuracy: 0.8048 - val_loss: 0.4794 - val_accuracy: 0.8043\n",
            "Epoch 6/20\n",
            "39/39 [==============================] - 0s 5ms/step - loss: 0.4708 - accuracy: 0.8056 - val_loss: 0.4937 - val_accuracy: 0.7984\n",
            "Epoch 7/20\n",
            "39/39 [==============================] - 0s 5ms/step - loss: 0.4596 - accuracy: 0.8089 - val_loss: 0.4659 - val_accuracy: 0.8083\n",
            "Epoch 8/20\n",
            "39/39 [==============================] - 0s 6ms/step - loss: 0.4548 - accuracy: 0.8079 - val_loss: 0.4628 - val_accuracy: 0.8073\n",
            "Epoch 9/20\n",
            "39/39 [==============================] - 0s 6ms/step - loss: 0.4486 - accuracy: 0.8099 - val_loss: 0.4581 - val_accuracy: 0.8079\n",
            "Epoch 10/20\n",
            "39/39 [==============================] - 0s 5ms/step - loss: 0.4459 - accuracy: 0.8089 - val_loss: 0.4766 - val_accuracy: 0.7990\n",
            "Epoch 11/20\n",
            "39/39 [==============================] - 0s 6ms/step - loss: 0.4429 - accuracy: 0.8134 - val_loss: 0.4667 - val_accuracy: 0.7964\n",
            "Epoch 12/20\n",
            "39/39 [==============================] - 0s 7ms/step - loss: 0.4362 - accuracy: 0.8147 - val_loss: 0.4545 - val_accuracy: 0.8087\n",
            "Epoch 13/20\n",
            "39/39 [==============================] - 0s 5ms/step - loss: 0.4330 - accuracy: 0.8162 - val_loss: 0.4509 - val_accuracy: 0.8081\n",
            "Epoch 14/20\n",
            "39/39 [==============================] - 0s 6ms/step - loss: 0.4332 - accuracy: 0.8150 - val_loss: 0.4661 - val_accuracy: 0.8103\n",
            "Epoch 15/20\n",
            "39/39 [==============================] - 0s 5ms/step - loss: 0.4294 - accuracy: 0.8155 - val_loss: 0.4824 - val_accuracy: 0.7799\n",
            "Epoch 16/20\n",
            "39/39 [==============================] - 0s 6ms/step - loss: 0.4251 - accuracy: 0.8176 - val_loss: 0.4670 - val_accuracy: 0.8109\n",
            "Epoch 17/20\n",
            "39/39 [==============================] - 0s 5ms/step - loss: 0.4232 - accuracy: 0.8208 - val_loss: 0.4460 - val_accuracy: 0.8117\n",
            "Epoch 18/20\n",
            "39/39 [==============================] - 0s 6ms/step - loss: 0.4197 - accuracy: 0.8210 - val_loss: 0.4729 - val_accuracy: 0.7811\n",
            "Epoch 19/20\n",
            "39/39 [==============================] - 0s 5ms/step - loss: 0.4204 - accuracy: 0.8207 - val_loss: 0.4465 - val_accuracy: 0.8105\n",
            "Epoch 20/20\n",
            "39/39 [==============================] - 0s 5ms/step - loss: 0.4152 - accuracy: 0.8239 - val_loss: 0.4547 - val_accuracy: 0.8115\n"
          ]
        }
      ]
    },
    {
      "cell_type": "markdown",
      "source": [
        "**0.001(original)**"
      ],
      "metadata": {
        "id": "86oBSCxHX-RO"
      }
    },
    {
      "cell_type": "code",
      "source": [
        "## 0.001\n",
        "## loss: 0.4076 - accuracy: 0.8232 - val_loss: 0.4590 - val_accuracy: 0.8065\n",
        "## loss: 0.3939 - accuracy: 0.8296 - val_loss: 0.4674 - val_accuracy: 0.8053\n",
        "## loss: 0.4100 - accuracy: 0.8231 - val_loss: 0.4600 - val_accuracy: 0.8021\n",
        "\n",
        "\n",
        "\n",
        "from tensorflow import keras\n",
        "from tensorflow.keras import layers\n",
        "from keras import regularizers\n",
        "\n",
        "\n",
        "# building model\n",
        "\n",
        "model_h1n1_ver1_three = keras.Sequential([\n",
        "                                          layers.Dense(256, activation = \"relu\"),\n",
        "                                          layers.Dense(256, activation = \"relu\"),\n",
        "                                          layers.Dense(128, activation = \"relu\", kernel_regularizer = regularizers.l2(0.001)),\n",
        "                                          layers.Dense(64, activation = \"relu\"),\n",
        "                                          layers.Dense(64, activation = \"relu\"),\n",
        "                                          layers.Dense(16, activation = \"relu\", kernel_regularizer = regularizers.l2(0.001)),\n",
        "                                          layers.Dense(16, activation = \"relu\"),\n",
        "                                          layers.Dense(1, activation = \"sigmoid\")\n",
        "])\n",
        "\n",
        "\n",
        "# compiling model\n",
        "\n",
        "model_h1n1_ver1_three.compile(optimizer = \"rmsprop\",\n",
        "                               loss = \"binary_crossentropy\",\n",
        "                               metrics = [\"accuracy\"])\n",
        "\n",
        "\n",
        "\n",
        "# fitting model\n",
        "\n",
        "history_h1n1_ver1_three = model_h1n1_ver1_three.fit(x_train_h1n1_ver1,\n",
        "                                                     y_train_h1n1_ver1,\n",
        "                                                     epochs = 20,\n",
        "                                                     batch_size = 512,\n",
        "                                                     validation_data = (x_valid_h1n1_ver1, y_valid_h1n1_ver1))\n"
      ],
      "metadata": {
        "colab": {
          "base_uri": "https://localhost:8080/"
        },
        "id": "FJeOEEXnRnt4",
        "outputId": "101988a9-bad3-4506-fb8a-72ba639679c0"
      },
      "execution_count": 28,
      "outputs": [
        {
          "output_type": "stream",
          "name": "stdout",
          "text": [
            "Epoch 1/20\n",
            "39/39 [==============================] - 1s 11ms/step - loss: 0.6515 - accuracy: 0.7736 - val_loss: 0.5871 - val_accuracy: 0.7888\n",
            "Epoch 2/20\n",
            "39/39 [==============================] - 0s 7ms/step - loss: 0.5453 - accuracy: 0.7941 - val_loss: 0.5260 - val_accuracy: 0.8008\n",
            "Epoch 3/20\n",
            "39/39 [==============================] - 0s 6ms/step - loss: 0.5071 - accuracy: 0.8011 - val_loss: 0.5011 - val_accuracy: 0.8047\n",
            "Epoch 4/20\n",
            "39/39 [==============================] - 0s 6ms/step - loss: 0.4858 - accuracy: 0.8030 - val_loss: 0.4950 - val_accuracy: 0.8045\n",
            "Epoch 5/20\n",
            "39/39 [==============================] - 0s 6ms/step - loss: 0.4744 - accuracy: 0.8047 - val_loss: 0.4845 - val_accuracy: 0.8047\n",
            "Epoch 6/20\n",
            "39/39 [==============================] - 0s 6ms/step - loss: 0.4659 - accuracy: 0.8072 - val_loss: 0.4756 - val_accuracy: 0.8081\n",
            "Epoch 7/20\n",
            "39/39 [==============================] - 0s 6ms/step - loss: 0.4593 - accuracy: 0.8069 - val_loss: 0.4663 - val_accuracy: 0.8063\n",
            "Epoch 8/20\n",
            "39/39 [==============================] - 0s 6ms/step - loss: 0.4526 - accuracy: 0.8120 - val_loss: 0.4893 - val_accuracy: 0.7793\n",
            "Epoch 9/20\n",
            "39/39 [==============================] - 0s 6ms/step - loss: 0.4498 - accuracy: 0.8107 - val_loss: 0.4607 - val_accuracy: 0.8089\n",
            "Epoch 10/20\n",
            "39/39 [==============================] - 0s 7ms/step - loss: 0.4426 - accuracy: 0.8153 - val_loss: 0.4568 - val_accuracy: 0.8117\n",
            "Epoch 11/20\n",
            "39/39 [==============================] - 0s 5ms/step - loss: 0.4382 - accuracy: 0.8157 - val_loss: 0.4550 - val_accuracy: 0.8117\n",
            "Epoch 12/20\n",
            "39/39 [==============================] - 0s 6ms/step - loss: 0.4352 - accuracy: 0.8145 - val_loss: 0.4537 - val_accuracy: 0.8091\n",
            "Epoch 13/20\n",
            "39/39 [==============================] - 0s 6ms/step - loss: 0.4317 - accuracy: 0.8180 - val_loss: 0.4518 - val_accuracy: 0.8087\n",
            "Epoch 14/20\n",
            "39/39 [==============================] - 0s 5ms/step - loss: 0.4277 - accuracy: 0.8192 - val_loss: 0.4536 - val_accuracy: 0.8031\n",
            "Epoch 15/20\n",
            "39/39 [==============================] - 0s 5ms/step - loss: 0.4273 - accuracy: 0.8180 - val_loss: 0.4500 - val_accuracy: 0.8107\n",
            "Epoch 16/20\n",
            "39/39 [==============================] - 0s 5ms/step - loss: 0.4222 - accuracy: 0.8237 - val_loss: 0.4565 - val_accuracy: 0.8089\n",
            "Epoch 17/20\n",
            "39/39 [==============================] - 0s 6ms/step - loss: 0.4195 - accuracy: 0.8214 - val_loss: 0.4599 - val_accuracy: 0.7928\n",
            "Epoch 18/20\n",
            "39/39 [==============================] - 0s 6ms/step - loss: 0.4186 - accuracy: 0.8230 - val_loss: 0.4557 - val_accuracy: 0.8103\n",
            "Epoch 19/20\n",
            "39/39 [==============================] - 0s 5ms/step - loss: 0.4140 - accuracy: 0.8265 - val_loss: 0.4565 - val_accuracy: 0.8081\n",
            "Epoch 20/20\n",
            "39/39 [==============================] - 0s 6ms/step - loss: 0.4158 - accuracy: 0.8230 - val_loss: 0.4492 - val_accuracy: 0.8103\n"
          ]
        }
      ]
    },
    {
      "cell_type": "markdown",
      "source": [
        "**0.0005**"
      ],
      "metadata": {
        "id": "jkX-9MMPYBv3"
      }
    },
    {
      "cell_type": "code",
      "source": [
        "## 0.0005\n",
        "## loss: 0.4115 - accuracy: 0.8228 - val_loss: 0.4528 - val_accuracy: 0.8065\n",
        "## loss: 0.4084 - accuracy: 0.8241 - val_loss: 0.4575 - val_accuracy: 0.7992\n",
        "## loss: 0.4106 - accuracy: 0.8241 - val_loss: 0.4538 - val_accuracy: 0.8117\n",
        "\n",
        "\n",
        "\n",
        "from tensorflow import keras\n",
        "from tensorflow.keras import layers\n",
        "from keras import regularizers\n",
        "\n",
        "\n",
        "# building model\n",
        "\n",
        "model_h1n1_ver1_four = keras.Sequential([\n",
        "                                         layers.Dense(256, activation = \"relu\"),\n",
        "                                         layers.Dense(256, activation = \"relu\"),\n",
        "                                         layers.Dense(128, activation = \"relu\", kernel_regularizer = regularizers.l2(0.0005)),\n",
        "                                         layers.Dense(64, activation = \"relu\"),\n",
        "                                         layers.Dense(64, activation = \"relu\"),\n",
        "                                         layers.Dense(16, activation = \"relu\", kernel_regularizer = regularizers.l2(0.0005)),\n",
        "                                         layers.Dense(16, activation = \"relu\"),\n",
        "                                         layers.Dense(1, activation = \"sigmoid\")\n",
        "])\n",
        "\n",
        "\n",
        "# compiling model\n",
        "\n",
        "model_h1n1_ver1_four.compile(optimizer = \"rmsprop\",\n",
        "                             loss = \"binary_crossentropy\",\n",
        "                             metrics = [\"accuracy\"])\n",
        "\n",
        "\n",
        "\n",
        "# fitting model\n",
        "\n",
        "history_h1n1_ver1_four = model_h1n1_ver1_four.fit(x_train_h1n1_ver1,\n",
        "                                                  y_train_h1n1_ver1,\n",
        "                                                  epochs = 20,\n",
        "                                                  batch_size = 512,\n",
        "                                                  validation_data = (x_valid_h1n1_ver1, y_valid_h1n1_ver1))\n"
      ],
      "metadata": {
        "colab": {
          "base_uri": "https://localhost:8080/"
        },
        "id": "Wkbw97h3SKvf",
        "outputId": "96620751-dcc0-4448-e138-1ba71d8e95ee"
      },
      "execution_count": 29,
      "outputs": [
        {
          "output_type": "stream",
          "name": "stdout",
          "text": [
            "Epoch 1/20\n",
            "39/39 [==============================] - 2s 11ms/step - loss: 0.5864 - accuracy: 0.7859 - val_loss: 0.5460 - val_accuracy: 0.7859\n",
            "Epoch 2/20\n",
            "39/39 [==============================] - 0s 7ms/step - loss: 0.5205 - accuracy: 0.7908 - val_loss: 0.5043 - val_accuracy: 0.8029\n",
            "Epoch 3/20\n",
            "39/39 [==============================] - 0s 7ms/step - loss: 0.4965 - accuracy: 0.7976 - val_loss: 0.4959 - val_accuracy: 0.7958\n",
            "Epoch 4/20\n",
            "39/39 [==============================] - 0s 10ms/step - loss: 0.4844 - accuracy: 0.7999 - val_loss: 0.4815 - val_accuracy: 0.8061\n",
            "Epoch 5/20\n",
            "39/39 [==============================] - 0s 10ms/step - loss: 0.4702 - accuracy: 0.8035 - val_loss: 0.5071 - val_accuracy: 0.8051\n",
            "Epoch 6/20\n",
            "39/39 [==============================] - 0s 10ms/step - loss: 0.4653 - accuracy: 0.8052 - val_loss: 0.4672 - val_accuracy: 0.8073\n",
            "Epoch 7/20\n",
            "39/39 [==============================] - 0s 8ms/step - loss: 0.4602 - accuracy: 0.8078 - val_loss: 0.4649 - val_accuracy: 0.8075\n",
            "Epoch 8/20\n",
            "39/39 [==============================] - 0s 8ms/step - loss: 0.4509 - accuracy: 0.8092 - val_loss: 0.4638 - val_accuracy: 0.8111\n",
            "Epoch 9/20\n",
            "39/39 [==============================] - 0s 9ms/step - loss: 0.4482 - accuracy: 0.8101 - val_loss: 0.4700 - val_accuracy: 0.8051\n",
            "Epoch 10/20\n",
            "39/39 [==============================] - 0s 8ms/step - loss: 0.4415 - accuracy: 0.8118 - val_loss: 0.4610 - val_accuracy: 0.8089\n",
            "Epoch 11/20\n",
            "39/39 [==============================] - 0s 9ms/step - loss: 0.4414 - accuracy: 0.8144 - val_loss: 0.4714 - val_accuracy: 0.8085\n",
            "Epoch 12/20\n",
            "39/39 [==============================] - 0s 9ms/step - loss: 0.4354 - accuracy: 0.8125 - val_loss: 0.4557 - val_accuracy: 0.8115\n",
            "Epoch 13/20\n",
            "39/39 [==============================] - 0s 8ms/step - loss: 0.4327 - accuracy: 0.8151 - val_loss: 0.4862 - val_accuracy: 0.7815\n",
            "Epoch 14/20\n",
            "39/39 [==============================] - 0s 7ms/step - loss: 0.4294 - accuracy: 0.8174 - val_loss: 0.4540 - val_accuracy: 0.8127\n",
            "Epoch 15/20\n",
            "39/39 [==============================] - 0s 7ms/step - loss: 0.4279 - accuracy: 0.8175 - val_loss: 0.4577 - val_accuracy: 0.8057\n",
            "Epoch 16/20\n",
            "39/39 [==============================] - 0s 11ms/step - loss: 0.4227 - accuracy: 0.8201 - val_loss: 0.4657 - val_accuracy: 0.7924\n",
            "Epoch 17/20\n",
            "39/39 [==============================] - 0s 12ms/step - loss: 0.4219 - accuracy: 0.8185 - val_loss: 0.4586 - val_accuracy: 0.8077\n",
            "Epoch 18/20\n",
            "39/39 [==============================] - 0s 11ms/step - loss: 0.4173 - accuracy: 0.8208 - val_loss: 0.4607 - val_accuracy: 0.7976\n",
            "Epoch 19/20\n",
            "39/39 [==============================] - 0s 9ms/step - loss: 0.4134 - accuracy: 0.8229 - val_loss: 0.4543 - val_accuracy: 0.8097\n",
            "Epoch 20/20\n",
            "39/39 [==============================] - 0s 10ms/step - loss: 0.4114 - accuracy: 0.8245 - val_loss: 0.4558 - val_accuracy: 0.8061\n"
          ]
        }
      ]
    },
    {
      "cell_type": "markdown",
      "source": [
        "**0.0001**"
      ],
      "metadata": {
        "id": "DqmU26y3YEJn"
      }
    },
    {
      "cell_type": "code",
      "source": [
        "## 0.0001\n",
        "## loss: 0.4093 - accuracy: 0.8249 - val_loss: 0.4621 - val_accuracy: 0.8113\n",
        "## loss: 0.4050 - accuracy: 0.8230 - val_loss: 0.4580 - val_accuracy: 0.8095\n",
        "## loss: 0.4038 - accuracy: 0.8252 - val_loss: 0.4700 - val_accuracy: 0.8067\n",
        "\n",
        "\n",
        "\n",
        "from tensorflow import keras\n",
        "from tensorflow.keras import layers\n",
        "from keras import regularizers\n",
        "\n",
        "\n",
        "# building model\n",
        "\n",
        "model_h1n1_ver1_five = keras.Sequential([\n",
        "                                         layers.Dense(256, activation = \"relu\"),\n",
        "                                         layers.Dense(256, activation = \"relu\"),\n",
        "                                         layers.Dense(128, activation = \"relu\", kernel_regularizer = regularizers.l2(0.0001)),\n",
        "                                         layers.Dense(64, activation = \"relu\"),\n",
        "                                         layers.Dense(64, activation = \"relu\"),\n",
        "                                         layers.Dense(16, activation = \"relu\", kernel_regularizer = regularizers.l2(0.0001)),\n",
        "                                         layers.Dense(16, activation = \"relu\"),\n",
        "                                         layers.Dense(1, activation = \"sigmoid\")\n",
        "])\n",
        "\n",
        "\n",
        "# compiling model\n",
        "\n",
        "model_h1n1_ver1_five.compile(optimizer = \"rmsprop\",\n",
        "                             loss = \"binary_crossentropy\",\n",
        "                             metrics = [\"accuracy\"])\n",
        "\n",
        "\n",
        "\n",
        "# fitting model\n",
        "\n",
        "history_h1n1_ver1_five = model_h1n1_ver1_five.fit(x_train_h1n1_ver1,\n",
        "                                                  y_train_h1n1_ver1,\n",
        "                                                  epochs = 20,\n",
        "                                                  batch_size = 512,\n",
        "                                                  validation_data = (x_valid_h1n1_ver1, y_valid_h1n1_ver1))\n"
      ],
      "metadata": {
        "colab": {
          "base_uri": "https://localhost:8080/"
        },
        "id": "ICqmcRjSS6ym",
        "outputId": "513b7d45-fbc5-43f3-f8b3-1eddf7d266c9"
      },
      "execution_count": 30,
      "outputs": [
        {
          "output_type": "stream",
          "name": "stdout",
          "text": [
            "Epoch 1/20\n",
            "39/39 [==============================] - 3s 32ms/step - loss: 0.5237 - accuracy: 0.7808 - val_loss: 0.4952 - val_accuracy: 0.7859\n",
            "Epoch 2/20\n",
            "39/39 [==============================] - 0s 9ms/step - loss: 0.4807 - accuracy: 0.7866 - val_loss: 0.4819 - val_accuracy: 0.7970\n",
            "Epoch 3/20\n",
            "39/39 [==============================] - 0s 8ms/step - loss: 0.4717 - accuracy: 0.7956 - val_loss: 0.4785 - val_accuracy: 0.7936\n",
            "Epoch 4/20\n",
            "39/39 [==============================] - 0s 9ms/step - loss: 0.4614 - accuracy: 0.8038 - val_loss: 0.4773 - val_accuracy: 0.8021\n",
            "Epoch 5/20\n",
            "39/39 [==============================] - 0s 8ms/step - loss: 0.4583 - accuracy: 0.8038 - val_loss: 0.4603 - val_accuracy: 0.8081\n",
            "Epoch 6/20\n",
            "39/39 [==============================] - 0s 9ms/step - loss: 0.4504 - accuracy: 0.8068 - val_loss: 0.4586 - val_accuracy: 0.8057\n",
            "Epoch 7/20\n",
            "39/39 [==============================] - 0s 9ms/step - loss: 0.4463 - accuracy: 0.8091 - val_loss: 0.4741 - val_accuracy: 0.7920\n",
            "Epoch 8/20\n",
            "39/39 [==============================] - 0s 9ms/step - loss: 0.4451 - accuracy: 0.8081 - val_loss: 0.4618 - val_accuracy: 0.8049\n",
            "Epoch 9/20\n",
            "39/39 [==============================] - 0s 7ms/step - loss: 0.4415 - accuracy: 0.8119 - val_loss: 0.4520 - val_accuracy: 0.8095\n",
            "Epoch 10/20\n",
            "39/39 [==============================] - 0s 6ms/step - loss: 0.4359 - accuracy: 0.8145 - val_loss: 0.4516 - val_accuracy: 0.8077\n",
            "Epoch 11/20\n",
            "39/39 [==============================] - 0s 5ms/step - loss: 0.4325 - accuracy: 0.8148 - val_loss: 0.4517 - val_accuracy: 0.8093\n",
            "Epoch 12/20\n",
            "39/39 [==============================] - 0s 6ms/step - loss: 0.4294 - accuracy: 0.8163 - val_loss: 0.4621 - val_accuracy: 0.7954\n",
            "Epoch 13/20\n",
            "39/39 [==============================] - 0s 6ms/step - loss: 0.4241 - accuracy: 0.8180 - val_loss: 0.4584 - val_accuracy: 0.7948\n",
            "Epoch 14/20\n",
            "39/39 [==============================] - 0s 5ms/step - loss: 0.4214 - accuracy: 0.8197 - val_loss: 0.4690 - val_accuracy: 0.7982\n",
            "Epoch 15/20\n",
            "39/39 [==============================] - 0s 6ms/step - loss: 0.4190 - accuracy: 0.8183 - val_loss: 0.4707 - val_accuracy: 0.8087\n",
            "Epoch 16/20\n",
            "39/39 [==============================] - 0s 6ms/step - loss: 0.4140 - accuracy: 0.8230 - val_loss: 0.4544 - val_accuracy: 0.8039\n",
            "Epoch 17/20\n",
            "39/39 [==============================] - 0s 6ms/step - loss: 0.4108 - accuracy: 0.8224 - val_loss: 0.4558 - val_accuracy: 0.8069\n",
            "Epoch 18/20\n",
            "39/39 [==============================] - 0s 9ms/step - loss: 0.4072 - accuracy: 0.8244 - val_loss: 0.4574 - val_accuracy: 0.7994\n",
            "Epoch 19/20\n",
            "39/39 [==============================] - 0s 9ms/step - loss: 0.4019 - accuracy: 0.8255 - val_loss: 0.4740 - val_accuracy: 0.7964\n",
            "Epoch 20/20\n",
            "39/39 [==============================] - 0s 9ms/step - loss: 0.4015 - accuracy: 0.8281 - val_loss: 0.4604 - val_accuracy: 0.8017\n"
          ]
        }
      ]
    },
    {
      "cell_type": "markdown",
      "source": [
        "### visualize"
      ],
      "metadata": {
        "id": "HvvDYzibXYB_"
      }
    },
    {
      "cell_type": "code",
      "source": [
        "# Hyperparameter effect on training loss\n",
        "\n",
        "\n",
        "import matplotlib.pyplot as plt\n",
        "\n",
        "history_dict_h1n1_ver1_one = history_h1n1_ver1_one.history\n",
        "history_dict_h1n1_ver1_two = history_h1n1_ver1_two.history\n",
        "history_dict_h1n1_ver1_three = history_h1n1_ver1_three.history\n",
        "history_dict_h1n1_ver1_four = history_h1n1_ver1_four.history\n",
        "history_dict_h1n1_ver1_five = history_h1n1_ver1_five.history\n",
        "\n",
        "loss_values_h1n1_ver1_one = history_dict_h1n1_ver1_one[\"loss\"]\n",
        "loss_values_h1n1_ver1_two = history_dict_h1n1_ver1_two[\"loss\"]\n",
        "loss_values_h1n1_ver1_three = history_dict_h1n1_ver1_three[\"loss\"]\n",
        "loss_values_h1n1_ver1_four = history_dict_h1n1_ver1_four[\"loss\"]\n",
        "loss_values_h1n1_ver1_five = history_dict_h1n1_ver1_five[\"loss\"]\n",
        "\n",
        "\n",
        "epochs = range(1, len(loss_values_h1n1_ver1_one) + 1)\n",
        "\n",
        "\n",
        "plt.plot(epochs, loss_values_h1n1_ver1_one, label=\"0.005\")\n",
        "plt.plot(epochs, loss_values_h1n1_ver1_two, label=\"0.002\")\n",
        "plt.plot(epochs, loss_values_h1n1_ver1_three, label=\"0.001(original)\")\n",
        "plt.plot(epochs, loss_values_h1n1_ver1_four, label=\"0.0005\")\n",
        "plt.plot(epochs, loss_values_h1n1_ver1_five, label=\"0.0001\")\n",
        "\n",
        "\n",
        "plt.title(\"Hyperparameter loss on training set (ver1)\")\n",
        "plt.xlabel(\"Epochs\")\n",
        "plt.ylabel(\"Loss\")\n",
        "plt.ylim([0.3,0.6])\n",
        "plt.legend()\n",
        "plt.show()"
      ],
      "metadata": {
        "colab": {
          "base_uri": "https://localhost:8080/",
          "height": 295
        },
        "outputId": "56f24d86-9b60-4ab0-843f-6ace0b08ac5e",
        "id": "bhVsAzkqTbQc"
      },
      "execution_count": 35,
      "outputs": [
        {
          "output_type": "display_data",
          "data": {
            "text/plain": [
              "<Figure size 432x288 with 1 Axes>"
            ],
            "image/png": "[encoded data removed]"
          },
          "metadata": {
            "needs_background": "light"
          }
        }
      ]
    },
    {
      "cell_type": "code",
      "source": [
        "# Hyperparameter effect on training accuracy\n",
        "\n",
        "\n",
        "import matplotlib.pyplot as plt\n",
        "\n",
        "\n",
        "acc_values_h1n1_ver1_one = history_dict_h1n1_ver1_one[\"accuracy\"]\n",
        "acc_values_h1n1_ver1_two = history_dict_h1n1_ver1_two[\"accuracy\"]\n",
        "acc_values_h1n1_ver1_three = history_dict_h1n1_ver1_three[\"accuracy\"]\n",
        "acc_values_h1n1_ver1_four = history_dict_h1n1_ver1_four[\"accuracy\"]\n",
        "acc_values_h1n1_ver1_five = history_dict_h1n1_ver1_five[\"accuracy\"]\n",
        "\n",
        "epochs = range(1, len(acc_values_h1n1_ver1_one) + 1)\n",
        "\n",
        "\n",
        "plt.plot(epochs, acc_values_h1n1_ver1_one, label=\"0.005\")\n",
        "plt.plot(epochs, acc_values_h1n1_ver1_two, label=\"0.002\")\n",
        "plt.plot(epochs, acc_values_h1n1_ver1_three, label=\"0.001(original)\")\n",
        "plt.plot(epochs, acc_values_h1n1_ver1_four, label=\"0.0005\")\n",
        "plt.plot(epochs, acc_values_h1n1_ver1_five, label=\"0.0001\")\n",
        "\n",
        "plt.title(\"Hyperparameter accuracy on training set (ver1)\")\n",
        "plt.xlabel(\"Epochs\")\n",
        "plt.ylabel(\"Accuracy\")\n",
        "#plt.ylim([0.78, 0.85])\n",
        "plt.legend()\n",
        "plt.show()"
      ],
      "metadata": {
        "outputId": "7f698407-9ca8-4e41-a588-c7adef9486da",
        "colab": {
          "base_uri": "https://localhost:8080/",
          "height": 295
        },
        "id": "0N-us3TETbQu"
      },
      "execution_count": 36,
      "outputs": [
        {
          "output_type": "display_data",
          "data": {
            "text/plain": [
              "<Figure size 432x288 with 1 Axes>"
            ],
            "image/png": "[encoded data removed]"
          },
          "metadata": {
            "needs_background": "light"
          }
        }
      ]
    },
    {
      "cell_type": "code",
      "source": [
        "# Hyperparameter effect on validation loss\n",
        "\n",
        "\n",
        "import matplotlib.pyplot as plt\n",
        "\n",
        "\n",
        "val_loss_values_h1n1_ver1_one = history_dict_h1n1_ver1_one[\"val_loss\"]\n",
        "val_loss_values_h1n1_ver1_two = history_dict_h1n1_ver1_two[\"val_loss\"]\n",
        "val_loss_values_h1n1_ver1_three = history_dict_h1n1_ver1_three[\"val_loss\"]\n",
        "val_loss_values_h1n1_ver1_four = history_dict_h1n1_ver1_four[\"val_loss\"]\n",
        "val_loss_values_h1n1_ver1_five = history_dict_h1n1_ver1_five[\"val_loss\"]\n",
        "\n",
        "\n",
        "epochs = range(1, len(val_loss_values_h1n1_ver1_one) + 1)\n",
        "\n",
        "\n",
        "plt.plot(epochs, val_loss_values_h1n1_ver1_one, label=\"0.005\")\n",
        "plt.plot(epochs, val_loss_values_h1n1_ver1_two, label=\"0.002\")\n",
        "plt.plot(epochs, val_loss_values_h1n1_ver1_three, label=\"0.001(original)\")\n",
        "plt.plot(epochs, val_loss_values_h1n1_ver1_four, label=\"0.0005\")\n",
        "plt.plot(epochs, val_loss_values_h1n1_ver1_five, label=\"0.0001\")\n",
        "\n",
        "\n",
        "plt.title(\"Hyperparameter loss on validation set (ver1)\")\n",
        "plt.xlabel(\"Epochs\")\n",
        "plt.ylabel(\"Validation Loss\")\n",
        "plt.ylim([0.4,0.6])\n",
        "plt.legend()\n",
        "plt.show()"
      ],
      "metadata": {
        "outputId": "9fc5bc1a-1422-4785-ae03-ff079198f13f",
        "colab": {
          "base_uri": "https://localhost:8080/",
          "height": 295
        },
        "id": "_rUVvfRsTbQv"
      },
      "execution_count": 39,
      "outputs": [
        {
          "output_type": "display_data",
          "data": {
            "text/plain": [
              "<Figure size 432x288 with 1 Axes>"
            ],
            "image/png": "[encoded data removed]"
          },
          "metadata": {
            "needs_background": "light"
          }
        }
      ]
    },
    {
      "cell_type": "code",
      "source": [
        "# Hyperparameter effect on validation accuracy\n",
        "\n",
        "\n",
        "import matplotlib.pyplot as plt\n",
        "\n",
        "\n",
        "\n",
        "val_acc_values_h1n1_ver1_one = history_dict_h1n1_ver1_one[\"val_accuracy\"]\n",
        "val_acc_values_h1n1_ver1_two = history_dict_h1n1_ver1_two[\"val_accuracy\"]\n",
        "val_acc_values_h1n1_ver1_three = history_dict_h1n1_ver1_three[\"val_accuracy\"]\n",
        "val_acc_values_h1n1_ver1_four = history_dict_h1n1_ver1_four[\"val_accuracy\"]\n",
        "val_acc_values_h1n1_ver1_five = history_dict_h1n1_ver1_five[\"val_accuracy\"]\n",
        "\n",
        "\n",
        "\n",
        "epochs = range(1, len(val_acc_values_h1n1_ver1_one) + 1)\n",
        "\n",
        "\n",
        "plt.plot(epochs, val_acc_values_h1n1_ver1_one, label=\"0.005\")\n",
        "plt.plot(epochs, val_acc_values_h1n1_ver1_two, label=\"0.002\")\n",
        "plt.plot(epochs, val_acc_values_h1n1_ver1_three, label=\"0.001(original)\")\n",
        "plt.plot(epochs, val_acc_values_h1n1_ver1_four, label=\"0.0005\")\n",
        "plt.plot(epochs, val_acc_values_h1n1_ver1_five, label=\"0.0001\")\n",
        "\n",
        "\n",
        "plt.title(\"Hyperparameter effect on validation accuracy (ver1)\")\n",
        "plt.xlabel(\"Epochs\")\n",
        "plt.ylabel(\"Validation Accuracy\")\n",
        "plt.legend()\n",
        "plt.show()"
      ],
      "metadata": {
        "outputId": "79ac36f9-e287-4c10-f4b7-28a890b3c6b4",
        "colab": {
          "base_uri": "https://localhost:8080/",
          "height": 295
        },
        "id": "Vt4x0IoBTbQv"
      },
      "execution_count": 40,
      "outputs": [
        {
          "output_type": "display_data",
          "data": {
            "text/plain": [
              "<Figure size 432x288 with 1 Axes>"
            ],
            "image/png": "[encoded data removed]"
          },
          "metadata": {
            "needs_background": "light"
          }
        }
      ]
    },
    {
      "cell_type": "markdown",
      "source": [
        "## **Dropout effect**"
      ],
      "metadata": {
        "id": "oO6KbPEQZ_aD"
      }
    },
    {
      "cell_type": "markdown",
      "source": [
        "**# dropout = 1**"
      ],
      "metadata": {
        "id": "hfWrn3N4Z_aS"
      }
    },
    {
      "cell_type": "code",
      "source": [
        "## one dropout\n",
        "## loss: 0.4186 - accuracy: 0.8195 - val_loss: 0.4526 - val_accuracy: 0.8041\n",
        "## loss: 0.4119 - accuracy: 0.8216 - val_loss: 0.4562 - val_accuracy: 0.7986\n",
        "## loss: 0.4155 - accuracy: 0.8216 - val_loss: 0.4561 - val_accuracy: 0.8061\n",
        "\n",
        "\n",
        "from tensorflow import keras\n",
        "from tensorflow.keras import layers\n",
        "from keras import regularizers\n",
        "\n",
        "\n",
        "# building model\n",
        "\n",
        "model_h1n1_ver1_onedr = keras.Sequential([\n",
        "                                          layers.Dense(256, activation = \"relu\"),\n",
        "                                          layers.Dense(256, activation = \"relu\"),\n",
        "                                          layers.Dense(128, activation = \"relu\", kernel_regularizer = regularizers.l2(0.001)),\n",
        "                                          layers.Dense(64, activation = \"relu\"),\n",
        "                                          layers.Dropout(0.5),\n",
        "                                          layers.Dense(64, activation = \"relu\"),\n",
        "                                          layers.Dense(16, activation = \"relu\", kernel_regularizer = regularizers.l2(0.001)),\n",
        "                                          layers.Dense(16, activation = \"relu\"),\n",
        "                                          layers.Dense(1, activation = \"sigmoid\")\n",
        "])\n",
        "\n",
        "\n",
        "# compiling model\n",
        "\n",
        "model_h1n1_ver1_onedr.compile(optimizer = \"rmsprop\",\n",
        "                              loss = \"binary_crossentropy\",\n",
        "                              metrics = [\"accuracy\"])\n",
        "\n",
        "\n",
        "\n",
        "# fitting model\n",
        "\n",
        "history_h1n1_ver1_onedr = model_h1n1_ver1_onedr.fit(x_train_h1n1_ver1,\n",
        "                                                    y_train_h1n1_ver1,\n",
        "                                                    epochs = 20,\n",
        "                                                    batch_size = 512,\n",
        "                                                    validation_data = (x_valid_h1n1_ver1, y_valid_h1n1_ver1))\n"
      ],
      "metadata": {
        "outputId": "0630a1b2-35bf-4943-b5c6-4de5a3104b00",
        "colab": {
          "base_uri": "https://localhost:8080/"
        },
        "id": "NbHmbng7Z_aS"
      },
      "execution_count": 43,
      "outputs": [
        {
          "output_type": "stream",
          "name": "stdout",
          "text": [
            "Epoch 1/20\n",
            "39/39 [==============================] - 2s 16ms/step - loss: 0.6479 - accuracy: 0.7852 - val_loss: 0.5861 - val_accuracy: 0.7861\n",
            "Epoch 2/20\n",
            "39/39 [==============================] - 0s 9ms/step - loss: 0.5563 - accuracy: 0.7915 - val_loss: 0.5378 - val_accuracy: 0.7918\n",
            "Epoch 3/20\n",
            "39/39 [==============================] - 0s 8ms/step - loss: 0.5191 - accuracy: 0.7979 - val_loss: 0.5099 - val_accuracy: 0.8055\n",
            "Epoch 4/20\n",
            "39/39 [==============================] - 0s 9ms/step - loss: 0.4979 - accuracy: 0.8027 - val_loss: 0.4945 - val_accuracy: 0.8055\n",
            "Epoch 5/20\n",
            "39/39 [==============================] - 0s 9ms/step - loss: 0.4834 - accuracy: 0.8026 - val_loss: 0.4854 - val_accuracy: 0.8079\n",
            "Epoch 6/20\n",
            "39/39 [==============================] - 0s 10ms/step - loss: 0.4718 - accuracy: 0.8077 - val_loss: 0.4777 - val_accuracy: 0.8071\n",
            "Epoch 7/20\n",
            "39/39 [==============================] - 0s 9ms/step - loss: 0.4666 - accuracy: 0.8064 - val_loss: 0.4703 - val_accuracy: 0.8065\n",
            "Epoch 8/20\n",
            "39/39 [==============================] - 0s 9ms/step - loss: 0.4561 - accuracy: 0.8085 - val_loss: 0.4657 - val_accuracy: 0.8085\n",
            "Epoch 9/20\n",
            "39/39 [==============================] - 0s 9ms/step - loss: 0.4522 - accuracy: 0.8102 - val_loss: 0.4660 - val_accuracy: 0.8010\n",
            "Epoch 10/20\n",
            "39/39 [==============================] - 0s 9ms/step - loss: 0.4482 - accuracy: 0.8134 - val_loss: 0.4636 - val_accuracy: 0.8097\n",
            "Epoch 11/20\n",
            "39/39 [==============================] - 0s 9ms/step - loss: 0.4422 - accuracy: 0.8138 - val_loss: 0.4577 - val_accuracy: 0.8043\n",
            "Epoch 12/20\n",
            "39/39 [==============================] - 1s 13ms/step - loss: 0.4383 - accuracy: 0.8150 - val_loss: 0.4581 - val_accuracy: 0.8101\n",
            "Epoch 13/20\n",
            "39/39 [==============================] - 0s 12ms/step - loss: 0.4343 - accuracy: 0.8140 - val_loss: 0.4531 - val_accuracy: 0.8121\n",
            "Epoch 14/20\n",
            "39/39 [==============================] - 0s 6ms/step - loss: 0.4307 - accuracy: 0.8161 - val_loss: 0.4687 - val_accuracy: 0.7849\n",
            "Epoch 15/20\n",
            "39/39 [==============================] - 0s 5ms/step - loss: 0.4277 - accuracy: 0.8175 - val_loss: 0.4549 - val_accuracy: 0.7992\n",
            "Epoch 16/20\n",
            "39/39 [==============================] - 0s 5ms/step - loss: 0.4260 - accuracy: 0.8170 - val_loss: 0.4601 - val_accuracy: 0.8083\n",
            "Epoch 17/20\n",
            "39/39 [==============================] - 0s 5ms/step - loss: 0.4213 - accuracy: 0.8190 - val_loss: 0.4652 - val_accuracy: 0.7934\n",
            "Epoch 18/20\n",
            "39/39 [==============================] - 0s 6ms/step - loss: 0.4218 - accuracy: 0.8198 - val_loss: 0.4541 - val_accuracy: 0.7986\n",
            "Epoch 19/20\n",
            "39/39 [==============================] - 0s 5ms/step - loss: 0.4134 - accuracy: 0.8234 - val_loss: 0.4505 - val_accuracy: 0.8041\n",
            "Epoch 20/20\n",
            "39/39 [==============================] - 0s 7ms/step - loss: 0.4155 - accuracy: 0.8216 - val_loss: 0.4561 - val_accuracy: 0.8061\n"
          ]
        }
      ]
    },
    {
      "cell_type": "markdown",
      "source": [
        "**# dropout = 2**"
      ],
      "metadata": {
        "id": "QXCRCLzEZ_aT"
      }
    },
    {
      "cell_type": "code",
      "source": [
        "## two dropout\n",
        "## loss: 0.4225 - accuracy: 0.8194 - val_loss: 0.4630 - val_accuracy: 0.8023\n",
        "## loss: 0.4112 - accuracy: 0.8211 - val_loss: 0.4725 - val_accuracy: 0.7793\n",
        "## loss: 0.4187 - accuracy: 0.8181 - val_loss: 0.4520 - val_accuracy: 0.8109\n",
        "\n",
        "\n",
        "from tensorflow import keras\n",
        "from tensorflow.keras import layers\n",
        "from keras import regularizers\n",
        "\n",
        "\n",
        "# building model\n",
        "\n",
        "model_h1n1_ver1_twodr = keras.Sequential([\n",
        "                                          layers.Dense(256, activation = \"relu\"),\n",
        "                                          layers.Dense(256, activation = \"relu\"),\n",
        "                                          layers.Dense(128, activation = \"relu\", kernel_regularizer = regularizers.l2(0.001)),\n",
        "                                          layers.Dense(64, activation = \"relu\"),\n",
        "                                          layers.Dropout(0.5),\n",
        "                                          layers.Dense(64, activation = \"relu\"),\n",
        "                                          layers.Dropout(0.5),\n",
        "                                          layers.Dense(16, activation = \"relu\", kernel_regularizer = regularizers.l2(0.001)),\n",
        "                                          layers.Dense(16, activation = \"relu\"),\n",
        "                                          layers.Dense(1, activation = \"sigmoid\")\n",
        "])\n",
        "\n",
        "\n",
        "# compiling model\n",
        "\n",
        "model_h1n1_ver1_twodr.compile(optimizer = \"rmsprop\",\n",
        "                              loss = \"binary_crossentropy\",\n",
        "                              metrics = [\"accuracy\"])\n",
        "\n",
        "\n",
        "\n",
        "# fitting model\n",
        "\n",
        "history_h1n1_ver1_twodr = model_h1n1_ver1_twodr.fit(x_train_h1n1_ver1,\n",
        "                                                    y_train_h1n1_ver1,\n",
        "                                                    epochs = 20,\n",
        "                                                    batch_size = 512,\n",
        "                                                    validation_data = (x_valid_h1n1_ver1, y_valid_h1n1_ver1))\n"
      ],
      "metadata": {
        "colab": {
          "base_uri": "https://localhost:8080/"
        },
        "id": "PFOTmYXQaqJH",
        "outputId": "a06657af-0a61-4ba1-9fa8-24f44a354010"
      },
      "execution_count": 46,
      "outputs": [
        {
          "output_type": "stream",
          "name": "stdout",
          "text": [
            "Epoch 1/20\n",
            "39/39 [==============================] - 3s 17ms/step - loss: 0.6601 - accuracy: 0.7859 - val_loss: 0.5911 - val_accuracy: 0.7859\n",
            "Epoch 2/20\n",
            "39/39 [==============================] - 0s 9ms/step - loss: 0.5627 - accuracy: 0.7859 - val_loss: 0.5480 - val_accuracy: 0.7859\n",
            "Epoch 3/20\n",
            "39/39 [==============================] - 0s 9ms/step - loss: 0.5242 - accuracy: 0.7859 - val_loss: 0.5638 - val_accuracy: 0.7859\n",
            "Epoch 4/20\n",
            "39/39 [==============================] - 0s 9ms/step - loss: 0.5050 - accuracy: 0.7859 - val_loss: 0.5076 - val_accuracy: 0.7859\n",
            "Epoch 5/20\n",
            "39/39 [==============================] - 0s 10ms/step - loss: 0.4910 - accuracy: 0.7859 - val_loss: 0.5051 - val_accuracy: 0.7859\n",
            "Epoch 6/20\n",
            "39/39 [==============================] - 0s 9ms/step - loss: 0.4793 - accuracy: 0.7859 - val_loss: 0.4783 - val_accuracy: 0.7859\n",
            "Epoch 7/20\n",
            "39/39 [==============================] - 0s 10ms/step - loss: 0.4717 - accuracy: 0.7913 - val_loss: 0.4747 - val_accuracy: 0.8012\n",
            "Epoch 8/20\n",
            "39/39 [==============================] - 0s 10ms/step - loss: 0.4642 - accuracy: 0.7988 - val_loss: 0.4691 - val_accuracy: 0.8091\n",
            "Epoch 9/20\n",
            "39/39 [==============================] - 0s 9ms/step - loss: 0.4599 - accuracy: 0.8032 - val_loss: 0.4673 - val_accuracy: 0.7982\n",
            "Epoch 10/20\n",
            "39/39 [==============================] - 0s 9ms/step - loss: 0.4532 - accuracy: 0.8051 - val_loss: 0.4581 - val_accuracy: 0.8091\n",
            "Epoch 11/20\n",
            "39/39 [==============================] - 0s 9ms/step - loss: 0.4480 - accuracy: 0.8076 - val_loss: 0.4619 - val_accuracy: 0.8121\n",
            "Epoch 12/20\n",
            "39/39 [==============================] - 0s 7ms/step - loss: 0.4418 - accuracy: 0.8103 - val_loss: 0.4775 - val_accuracy: 0.8113\n",
            "Epoch 13/20\n",
            "39/39 [==============================] - 0s 7ms/step - loss: 0.4391 - accuracy: 0.8064 - val_loss: 0.4675 - val_accuracy: 0.7801\n",
            "Epoch 14/20\n",
            "39/39 [==============================] - 0s 7ms/step - loss: 0.4346 - accuracy: 0.8121 - val_loss: 0.4552 - val_accuracy: 0.8077\n",
            "Epoch 15/20\n",
            "39/39 [==============================] - 0s 6ms/step - loss: 0.4322 - accuracy: 0.8122 - val_loss: 0.4568 - val_accuracy: 0.8017\n",
            "Epoch 16/20\n",
            "39/39 [==============================] - 0s 7ms/step - loss: 0.4323 - accuracy: 0.8123 - val_loss: 0.4531 - val_accuracy: 0.7996\n",
            "Epoch 17/20\n",
            "39/39 [==============================] - 0s 7ms/step - loss: 0.4272 - accuracy: 0.8151 - val_loss: 0.4550 - val_accuracy: 0.8097\n",
            "Epoch 18/20\n",
            "39/39 [==============================] - 0s 7ms/step - loss: 0.4219 - accuracy: 0.8172 - val_loss: 0.4549 - val_accuracy: 0.7938\n",
            "Epoch 19/20\n",
            "39/39 [==============================] - 0s 6ms/step - loss: 0.4206 - accuracy: 0.8189 - val_loss: 0.4558 - val_accuracy: 0.7966\n",
            "Epoch 20/20\n",
            "39/39 [==============================] - 0s 6ms/step - loss: 0.4187 - accuracy: 0.8181 - val_loss: 0.4520 - val_accuracy: 0.8109\n"
          ]
        }
      ]
    },
    {
      "cell_type": "markdown",
      "source": [
        "**# dropout = 3**"
      ],
      "metadata": {
        "id": "2LNzorthbKVZ"
      }
    },
    {
      "cell_type": "code",
      "source": [
        "## three dropout\n",
        "## loss: 0.4308 - accuracy: 0.7859 - val_loss: 0.4954 - val_accuracy: 0.7859\n",
        "## loss: 0.4264 - accuracy: 0.8120 - val_loss: 0.4659 - val_accuracy: 0.7861\n",
        "## loss: 0.4252 - accuracy: 0.8103 - val_loss: 0.4626 - val_accuracy: 0.8131\n",
        "\n",
        "\n",
        "from tensorflow import keras\n",
        "from tensorflow.keras import layers\n",
        "from keras import regularizers\n",
        "\n",
        "\n",
        "# building model\n",
        "\n",
        "model_h1n1_ver1_threedr = keras.Sequential([\n",
        "                                            layers.Dense(256, activation = \"relu\"),\n",
        "                                            layers.Dense(256, activation = \"relu\"),\n",
        "                                            layers.Dense(128, activation = \"relu\", kernel_regularizer = regularizers.l2(0.001)),\n",
        "                                            layers.Dense(64, activation = \"relu\"),\n",
        "                                            layers.Dropout(0.5),\n",
        "                                            layers.Dense(64, activation = \"relu\"),\n",
        "                                            layers.Dropout(0.5),\n",
        "                                            layers.Dense(16, activation = \"relu\", kernel_regularizer = regularizers.l2(0.001)),\n",
        "                                            layers.Dropout(0.5),\n",
        "                                            layers.Dense(16, activation = \"relu\"),\n",
        "                                            layers.Dense(1, activation = \"sigmoid\")\n",
        "])\n",
        "\n",
        "\n",
        "# compiling model\n",
        "\n",
        "model_h1n1_ver1_threedr.compile(optimizer = \"rmsprop\",\n",
        "                                loss = \"binary_crossentropy\",\n",
        "                                metrics = [\"accuracy\"])\n",
        "\n",
        "\n",
        "\n",
        "# fitting model\n",
        "\n",
        "history_h1n1_ver1_threedr = model_h1n1_ver1_threedr.fit(x_train_h1n1_ver1,\n",
        "                                                        y_train_h1n1_ver1,\n",
        "                                                        epochs = 20,\n",
        "                                                        batch_size = 512,\n",
        "                                                        validation_data = (x_valid_h1n1_ver1, y_valid_h1n1_ver1))\n"
      ],
      "metadata": {
        "outputId": "b4f5a55b-90e5-484a-9a43-b965b3bdbd02",
        "colab": {
          "base_uri": "https://localhost:8080/"
        },
        "id": "94GgcdT6Z_aT"
      },
      "execution_count": 50,
      "outputs": [
        {
          "output_type": "stream",
          "name": "stdout",
          "text": [
            "Epoch 1/20\n",
            "39/39 [==============================] - 2s 18ms/step - loss: 0.6956 - accuracy: 0.7625 - val_loss: 0.5810 - val_accuracy: 0.7859\n",
            "Epoch 2/20\n",
            "39/39 [==============================] - 0s 9ms/step - loss: 0.5892 - accuracy: 0.7858 - val_loss: 0.5455 - val_accuracy: 0.7859\n",
            "Epoch 3/20\n",
            "39/39 [==============================] - 0s 9ms/step - loss: 0.5452 - accuracy: 0.7859 - val_loss: 0.5639 - val_accuracy: 0.7859\n",
            "Epoch 4/20\n",
            "39/39 [==============================] - 0s 9ms/step - loss: 0.5156 - accuracy: 0.7859 - val_loss: 0.4964 - val_accuracy: 0.7859\n",
            "Epoch 5/20\n",
            "39/39 [==============================] - 0s 9ms/step - loss: 0.5038 - accuracy: 0.7867 - val_loss: 0.4863 - val_accuracy: 0.7859\n",
            "Epoch 6/20\n",
            "39/39 [==============================] - 0s 9ms/step - loss: 0.4911 - accuracy: 0.7894 - val_loss: 0.4775 - val_accuracy: 0.7859\n",
            "Epoch 7/20\n",
            "39/39 [==============================] - 0s 10ms/step - loss: 0.4794 - accuracy: 0.7945 - val_loss: 0.4752 - val_accuracy: 0.7924\n",
            "Epoch 8/20\n",
            "39/39 [==============================] - 0s 9ms/step - loss: 0.4734 - accuracy: 0.7931 - val_loss: 0.4662 - val_accuracy: 0.8069\n",
            "Epoch 9/20\n",
            "39/39 [==============================] - 0s 6ms/step - loss: 0.4640 - accuracy: 0.7970 - val_loss: 0.4645 - val_accuracy: 0.8117\n",
            "Epoch 10/20\n",
            "39/39 [==============================] - 0s 9ms/step - loss: 0.4605 - accuracy: 0.7984 - val_loss: 0.4665 - val_accuracy: 0.8097\n",
            "Epoch 11/20\n",
            "39/39 [==============================] - 0s 9ms/step - loss: 0.4545 - accuracy: 0.7995 - val_loss: 0.4605 - val_accuracy: 0.8115\n",
            "Epoch 12/20\n",
            "39/39 [==============================] - 0s 7ms/step - loss: 0.4520 - accuracy: 0.7987 - val_loss: 0.4566 - val_accuracy: 0.8109\n",
            "Epoch 13/20\n",
            "39/39 [==============================] - 0s 9ms/step - loss: 0.4469 - accuracy: 0.8034 - val_loss: 0.4525 - val_accuracy: 0.8115\n",
            "Epoch 14/20\n",
            "39/39 [==============================] - 0s 6ms/step - loss: 0.4446 - accuracy: 0.8033 - val_loss: 0.4552 - val_accuracy: 0.8099\n",
            "Epoch 15/20\n",
            "39/39 [==============================] - 0s 9ms/step - loss: 0.4403 - accuracy: 0.8029 - val_loss: 0.4594 - val_accuracy: 0.8099\n",
            "Epoch 16/20\n",
            "39/39 [==============================] - 0s 9ms/step - loss: 0.4360 - accuracy: 0.8083 - val_loss: 0.4576 - val_accuracy: 0.8123\n",
            "Epoch 17/20\n",
            "39/39 [==============================] - 0s 7ms/step - loss: 0.4356 - accuracy: 0.8084 - val_loss: 0.4563 - val_accuracy: 0.8133\n",
            "Epoch 18/20\n",
            "39/39 [==============================] - 0s 10ms/step - loss: 0.4305 - accuracy: 0.8085 - val_loss: 0.4511 - val_accuracy: 0.8119\n",
            "Epoch 19/20\n",
            "39/39 [==============================] - 0s 6ms/step - loss: 0.4277 - accuracy: 0.8088 - val_loss: 0.4649 - val_accuracy: 0.8119\n",
            "Epoch 20/20\n",
            "39/39 [==============================] - 0s 9ms/step - loss: 0.4252 - accuracy: 0.8103 - val_loss: 0.4626 - val_accuracy: 0.8131\n"
          ]
        }
      ]
    },
    {
      "cell_type": "markdown",
      "source": [
        "### visualize"
      ],
      "metadata": {
        "id": "nhcBXd-AZ_aV"
      }
    },
    {
      "cell_type": "code",
      "source": [
        "# Dropout effect on training loss\n",
        "\n",
        "\n",
        "import matplotlib.pyplot as plt\n",
        "\n",
        "history_dict_h1n1_ver1_onedr = history_h1n1_ver1_onedr.history\n",
        "history_dict_h1n1_ver1_twodr = history_h1n1_ver1_twodr.history\n",
        "history_dict_h1n1_ver1_threedr = history_h1n1_ver1_threedr.history\n",
        "\n",
        "loss_values_h1n1_ver1_onedr = history_dict_h1n1_ver1_onedr[\"loss\"]\n",
        "loss_values_h1n1_ver1_twodr = history_dict_h1n1_ver1_twodr[\"loss\"]\n",
        "loss_values_h1n1_ver1_threedr = history_dict_h1n1_ver1_threedr[\"loss\"]\n",
        "\n",
        "epochs = range(1, len(loss_values_h1n1_ver1_onedr) + 1)\n",
        "\n",
        "\n",
        "plt.plot(epochs, loss_values_h1n1_ver1_one, label=\"no dropout\")\n",
        "plt.plot(epochs, loss_values_h1n1_ver1_onedr, label=\"1 dropout\")\n",
        "plt.plot(epochs, loss_values_h1n1_ver1_twodr, label=\"2 dropout\")\n",
        "plt.plot(epochs, loss_values_h1n1_ver1_threedr, label=\"3 dropout\")\n",
        "\n",
        "plt.title(\"Dropout loss on training set (ver1)\")\n",
        "plt.xlabel(\"Epochs\")\n",
        "plt.ylabel(\"Loss\")\n",
        "plt.ylim([0.4,0.6])\n",
        "plt.legend()\n",
        "plt.show()"
      ],
      "metadata": {
        "colab": {
          "base_uri": "https://localhost:8080/",
          "height": 295
        },
        "outputId": "0d3b61af-185e-42cc-a261-ddc0ad6d7163",
        "id": "hKnNnfcaZ_aV"
      },
      "execution_count": 56,
      "outputs": [
        {
          "output_type": "display_data",
          "data": {
            "text/plain": [
              "<Figure size 432x288 with 1 Axes>"
            ],
            "image/png": "[encoded data removed]"
          },
          "metadata": {
            "needs_background": "light"
          }
        }
      ]
    },
    {
      "cell_type": "code",
      "source": [
        "# Dropout effect on training accuracy\n",
        "\n",
        "\n",
        "import matplotlib.pyplot as plt\n",
        "\n",
        "\n",
        "acc_values_h1n1_ver1_onedr = history_dict_h1n1_ver1_onedr[\"accuracy\"]\n",
        "acc_values_h1n1_ver1_twodr = history_dict_h1n1_ver1_twodr[\"accuracy\"]\n",
        "acc_values_h1n1_ver1_threedr = history_dict_h1n1_ver1_threedr[\"accuracy\"]\n",
        "\n",
        "epochs = range(1, len(acc_values_h1n1_ver1_onedr) + 1)\n",
        "\n",
        "\n",
        "plt.plot(epochs, acc_values_h1n1_ver1_one, label=\"0 dropout\")\n",
        "plt.plot(epochs, acc_values_h1n1_ver1_onedr, label=\"1 dropout\")\n",
        "plt.plot(epochs, acc_values_h1n1_ver1_twodr, label=\"2 dropout\")\n",
        "plt.plot(epochs, acc_values_h1n1_ver1_threedr, label=\"3 dropout\")\n",
        "\n",
        "plt.title(\"Dropout accuracy on training set (ver1)\")\n",
        "plt.xlabel(\"Epochs\")\n",
        "plt.ylabel(\"Accuracy\")\n",
        "#plt.ylim([0.78, 0.85])\n",
        "plt.legend()\n",
        "plt.show()"
      ],
      "metadata": {
        "outputId": "169dd2fd-343e-457f-c69f-5031ad5b0b26",
        "colab": {
          "base_uri": "https://localhost:8080/",
          "height": 295
        },
        "id": "79HK2pIgZ_aW"
      },
      "execution_count": 55,
      "outputs": [
        {
          "output_type": "display_data",
          "data": {
            "text/plain": [
              "<Figure size 432x288 with 1 Axes>"
            ],
            "image/png": "[encoded data removed]"
          },
          "metadata": {
            "needs_background": "light"
          }
        }
      ]
    },
    {
      "cell_type": "code",
      "source": [
        "# Dropout effect on validation loss\n",
        "\n",
        "\n",
        "import matplotlib.pyplot as plt\n",
        "\n",
        "\n",
        "val_loss_values_h1n1_ver1_onedr = history_dict_h1n1_ver1_onedr[\"val_loss\"]\n",
        "val_loss_values_h1n1_ver1_twodr = history_dict_h1n1_ver1_twodr[\"val_loss\"]\n",
        "val_loss_values_h1n1_ver1_threedr = history_dict_h1n1_ver1_threedr[\"val_loss\"]\n",
        "\n",
        "\n",
        "epochs = range(1, len(val_loss_values_h1n1_ver1_onedr) + 1)\n",
        "\n",
        "\n",
        "plt.plot(epochs, val_loss_values_h1n1_ver1_one, label=\"no dropout\")\n",
        "plt.plot(epochs, val_loss_values_h1n1_ver1_onedr, label=\"1 dropout\")\n",
        "plt.plot(epochs, val_loss_values_h1n1_ver1_twodr, label=\"2 dropout\")\n",
        "plt.plot(epochs, val_loss_values_h1n1_ver1_threedr, label=\"3 dropout\")\n",
        "\n",
        "plt.title(\"Dropout loss on validation set (ver1)\")\n",
        "plt.xlabel(\"Epochs\")\n",
        "plt.ylabel(\"Validation Loss\")\n",
        "plt.ylim([0.4,0.6])\n",
        "plt.legend()\n",
        "plt.show()"
      ],
      "metadata": {
        "outputId": "14657af1-4637-4508-ca8c-c8d49d18e8f3",
        "colab": {
          "base_uri": "https://localhost:8080/",
          "height": 295
        },
        "id": "MCYe79tIZ_aW"
      },
      "execution_count": 57,
      "outputs": [
        {
          "output_type": "display_data",
          "data": {
            "text/plain": [
              "<Figure size 432x288 with 1 Axes>"
            ],
            "image/png": "[encoded data removed]"
          },
          "metadata": {
            "needs_background": "light"
          }
        }
      ]
    },
    {
      "cell_type": "code",
      "source": [
        "# Dropout effect on validation accuracy\n",
        "\n",
        "\n",
        "import matplotlib.pyplot as plt\n",
        "\n",
        "\n",
        "\n",
        "val_acc_values_h1n1_ver1_onedr = history_dict_h1n1_ver1_onedr[\"val_accuracy\"]\n",
        "val_acc_values_h1n1_ver1_twodr = history_dict_h1n1_ver1_twodr[\"val_accuracy\"]\n",
        "val_acc_values_h1n1_ver1_threedr = history_dict_h1n1_ver1_threedr[\"val_accuracy\"]\n",
        "\n",
        "\n",
        "\n",
        "epochs = range(1, len(val_acc_values_h1n1_ver1_onedr) + 1)\n",
        "\n",
        "\n",
        "plt.plot(epochs, val_acc_values_h1n1_ver1_one, label=\"no dropout\")\n",
        "plt.plot(epochs, val_acc_values_h1n1_ver1_onedr, label=\"1 dropout\")\n",
        "plt.plot(epochs, val_acc_values_h1n1_ver1_twodr, label=\"2 dropout\")\n",
        "plt.plot(epochs, val_acc_values_h1n1_ver1_threedr, label=\"3 dropout\")\n",
        "\n",
        "\n",
        "plt.title(\"Dropout effect on validation accuracy (ver1)\")\n",
        "plt.xlabel(\"Epochs\")\n",
        "plt.ylabel(\"Validation Accuracy\")\n",
        "plt.legend()\n",
        "plt.show()"
      ],
      "metadata": {
        "outputId": "cec7beeb-9b36-4034-faa2-fe0b6c0e5ac1",
        "colab": {
          "base_uri": "https://localhost:8080/",
          "height": 295
        },
        "id": "Kk5oJcl4Z_aW"
      },
      "execution_count": 58,
      "outputs": [
        {
          "output_type": "display_data",
          "data": {
            "text/plain": [
              "<Figure size 432x288 with 1 Axes>"
            ],
            "image/png": "[encoded data removed]"
          },
          "metadata": {
            "needs_background": "light"
          }
        }
      ]
    },
    {
      "cell_type": "markdown",
      "source": [
        "# things to consider"
      ],
      "metadata": {
        "id": "Nv_aQtbAPaND"
      }
    },
    {
      "cell_type": "code",
      "source": [
        "## [참고]\n",
        "## 모델 성능을 올리기 위한 방법 중 하나 : 배치 정규화\n",
        "## 값이 활성화 함수를 통과하기 전에 가중의 변화를 줄이는 것\n",
        "## https://everyday-deeplearning.tistory.com/entry/%ED%8C%8C%EC%9D%B4%EC%8D%AC%EC%9C%BC%EB%A1%9C-%EB%94%A5%EB%9F%AC%EB%8B%9D%ED%95%98%EA%B8%B0-%EC%8B%A0%EA%B2%BD%EB%A7%9D-%ED%95%99%EC%8A%B5%EC%9D%98-%ED%9A%A8%EC%9C%A8%EA%B3%BC-%EC%A0%95%ED%99%95%EB%8F%84-%EC%98%AC%EB%A6%AC%EA%B8%B0\n",
        "\n",
        "## layers에서 사용할 수 없는 메소드여서 적용은 못 해봤어요 ㅠㅅㅠ\n",
        "\n",
        "\n",
        "class BatchNormalization :\n",
        "\n",
        "  def __init__(self, gamma, beta, momentum = 0.9, running_mean = None, running_var = None) :\n",
        "    self.gamma = gamma\n",
        "    self. beta = beta\n",
        "    self.momentum = momentum\n",
        "    self.input_shape = None\n",
        "\n",
        "    # 테스트에서 사용할 평균과 분산\n",
        "    self.running_mean = running_mean\n",
        "    self.running_var = running_var\n",
        "\n",
        "    # backward시 사용할 중간 데이터\n",
        "    self.batch_size = None\n",
        "    self.xc = None\n",
        "    self.std = None\n",
        "    self.dgamma = None\n",
        "    self.dbeta = None\n",
        "\n",
        "    def forward(self, x, train_flg = True) :\n",
        "      self.input_shape = x.shape\n",
        "      if x.ndim != 2 :\n",
        "        N, C, H, W = x.shape\n",
        "        x = x.reshape(N, -1)\n",
        "\n",
        "      out = self.__forward(x, train_flg)\n",
        "\n",
        "      return out.reshape(*self.input_shape)\n",
        "\n",
        "    def __forward(self, x, train_flg) :\n",
        "      if self.running_mean is None :\n",
        "        N, D = x.shape\n",
        "        self.running_mean = np.zeros(D)\n",
        "        self.runnng_var = np.zeros(D)\n",
        "\n",
        "      if train_flg :\n",
        "        mu = x.mean(axis = 0)\n",
        "        xc = x - mu\n",
        "        var = np.mean(xc * 2, axis = 0)\n",
        "        std = np.sqrt(var + 10e-7)\n",
        "        xn = xc / std\n",
        "\n",
        "        self.batch_size = x.shape[0]\n",
        "        self.xc = xc\n",
        "        self.xn = xn\n",
        "        self.std = std\n",
        "        self.running_mean = self.momentum * self.running_mean + (1 - self.momentum) * mu\n",
        "        self.running_var = self.momentum * self.running_var + (1 - self.momentum) * var\n",
        "      else :\n",
        "        xc = x - self.running_mean\n",
        "        xn = xc / ((np.sqrt(self.running_var + 10e-7)))\n",
        "\n",
        "      out = self.gamma * xn + self. beta\n",
        "      return out\n",
        "\n",
        "    def backward(self, dout) :\n",
        "      if dout.ndim != 2 :\n",
        "        N, C, H, W = dout.shape\n",
        "        dout = dout.reshape(N,-1)\n",
        "\n",
        "      dx = self.__backward(dout)\n",
        "      dx = dx.reshape(*self.input_shape)\n",
        "      return dx\n",
        "\n",
        "    def __backward(self, dout) :\n",
        "      dbeta = dout.sum(axis = 0)\n",
        "      dgamma = np.sum(self.xn * dout, axis = 0)\n",
        "      dxn = self.gamma * dout\n",
        "      dxc = dxn / self.std\n",
        "      dstd = -np.sum((dxn * self.xc) / (self.std * self.std), axis = 0)\n",
        "      dvar = 0.5 * dstd / self.std\n",
        "      dxc += (2.0 / self.batch_size) * self.xc * dvar\n",
        "      dmu = np.sum(dxc, axis = 0)\n",
        "      dx = dxc - dmu / self. batch_size\n",
        "\n",
        "      self.dgamma = dgamma\n",
        "      self.dbeta = dbeta\n",
        "\n",
        "      return dx\n"
      ],
      "metadata": {
        "id": "7GWhEmm1nCgh"
      },
      "execution_count": null,
      "outputs": []
    },
    {
      "cell_type": "markdown",
      "source": [
        "|number|layer|train loss|train accuracy|validation loss|validation accuracy|\n",
        "|------|-----|----------|--------------|---------------|-------------------|\n",
        "|1     |layers.Dense(16, activation = \"relu\"),</br>layers.Dense(16, activation = \"relu\"),</br>layers.Dense(1, activation = \"sigmoid\")|ㅇ|ㅇ|ㅇ|ㅇ|\n",
        "|2     |layers.Dense(256, activation = \"relu\"),</br>layers.Dense(128, activation = \"relu\"),</br>layers.Dense(64, activation = \"relu\"),</br>layers.Dense(64, activation = \"relu\"),</br>layers.Dense(16, activation = \"relu\"),</br>layers.Dense(16, activation = \"relu\"),</br>layers.Dense(1, activation = \"sigmoid\")|ㅇ|ㅇ|ㅇ|ㅇ|\n",
        "|"
      ],
      "metadata": {
        "id": "Rv6riW7-gcNG"
      }
    },
    {
      "cell_type": "markdown",
      "source": [
        "#### seasonal 모델"
      ],
      "metadata": {
        "id": "ifwlLAgFND2A"
      }
    },
    {
      "cell_type": "code",
      "source": [
        "## age_group\n",
        "\n",
        "train_seasonal.loc[train_seasonal['age_group'] == '18 - 34 Years', 'age_group'] = 1\n",
        "train_seasonal.loc[train_seasonal['age_group'] == '35 - 44 Years', 'age_group'] = 2\n",
        "train_seasonal.loc[train_seasonal['age_group'] == '45 - 54 Years', 'age_group'] = 3\n",
        "train_seasonal.loc[train_seasonal['age_group'] == '55 - 64 Years', 'age_group'] = 4\n",
        "train_seasonal.loc[train_seasonal['age_group'] == '65+ Years', 'age_group'] = 5\n",
        "\n",
        "\n",
        "## race\n",
        "\n",
        "train_seasonal.loc[train_seasonal['race'] == 'White', 'race'] = 1\n",
        "train_seasonal.loc[train_seasonal['race'] == 'Black', 'race'] = 2\n",
        "train_seasonal.loc[train_seasonal['race'] == 'Other or Multiple', 'race'] = 3\n",
        "train_seasonal.loc[train_seasonal['race'] == 'Hispanic', 'race'] = 4\n",
        "\n",
        "\n",
        "## sex\n",
        "\n",
        "train_seasonal.loc[train_seasonal['sex'] == 'Female', 'sex'] = 1\n",
        "train_seasonal.loc[train_seasonal['sex'] == 'Male', 'sex'] = 2\n",
        "\n",
        "\n",
        "## hhs_geo_region\n",
        "\n",
        "from sklearn import preprocessing\n",
        "\n",
        "le = preprocessing.LabelEncoder()\n",
        "le.fit(train_seasonal['hhs_geo_region'])\n",
        "\n",
        "print(le.classes_)\n",
        "train_seasonal['hhs_geo_region'] = le.transform(train_seasonal['hhs_geo_region'])\n",
        "\n",
        "\n",
        "## census_msa\n",
        "\n",
        "train_seasonal.loc[train_seasonal['census_msa'] == 'Non-MSA', 'census_msa'] = 1\n",
        "train_seasonal.loc[train_seasonal['census_msa'] == 'MSA, Not Principle  City', 'census_msa'] = 2\n",
        "train_seasonal.loc[train_seasonal['census_msa'] == 'MSA, Principle City', 'census_msa'] = 3\n"
      ],
      "metadata": {
        "id": "vQWag62vekRn"
      },
      "execution_count": null,
      "outputs": []
    },
    {
      "cell_type": "code",
      "source": [
        "# 모델 훈련을 위해 데이터타입 변환해주기\n",
        "\n",
        "train_seasonal['age_group'] = train_seasonal['age_group'].astype(np.int64)\n",
        "train_seasonal['race'] = train_seasonal['race'].astype(np.int64)\n",
        "train_seasonal['sex'] = train_seasonal['sex'].astype(np.int64)\n",
        "train_seasonal['census_msa'] = train_seasonal['census_msa'].astype(np.int64)"
      ],
      "metadata": {
        "id": "hoReETlxQPAY"
      },
      "execution_count": null,
      "outputs": []
    },
    {
      "cell_type": "code",
      "source": [
        "from sklearn.model_selection import train_test_split\n",
        "\n",
        "feature = train_seasonal.iloc[:,1:-1]\n",
        "target = train_seasonal['seasonal_vaccine']\n",
        "\n",
        "x_train_seasonal, x_valid_seasonal, y_train_seasonal, y_valid_seasonal = train_test_split(feature, target, test_size=0.2,shuffle=True,\n",
        "                                                                                          stratify=target,  random_state=1234) "
      ],
      "metadata": {
        "id": "HR3XAcFTqy8N"
      },
      "execution_count": null,
      "outputs": []
    },
    {
      "cell_type": "markdown",
      "source": [
        "- 모델 정의"
      ],
      "metadata": {
        "id": "-b_JY8lFNU2r"
      }
    },
    {
      "cell_type": "code",
      "source": [
        "## loss: 0.5118 - accuracy: 0.7644 - val_loss: 0.5734 - val_accuracy: 0.7325\n",
        "## loss: 0.5112 - accuracy: 0.7603 - val_loss: 0.5583 - val_accuracy: 0.7303\n",
        "\n",
        "## l2 규제 적용\n",
        "\n",
        "\n",
        "from tensorflow import keras\n",
        "from tensorflow.keras import layers\n",
        "from keras import regularizers\n",
        "\n",
        "model_seasonal = keras.Sequential([\n",
        "                               layers.Dense(256, activation=\"relu\"),\n",
        "                               layers.Dense(256, activation=\"relu\"),\n",
        "                               layers.Dense(128, activation=\"relu\"),\n",
        "                               layers.Dropout(0.5),\n",
        "                               layers.Dense(128, activation=\"relu\"),\n",
        "                               layers.Dense(64, activation=\"relu\", kernel_regularizer = regularizers.l2(0.001)),\n",
        "                               layers.Dropout(0.5),\n",
        "                               layers.Dense(16, activation=\"relu\", kernel_regularizer = regularizers.l2(0.001)),\n",
        "                               layers.Dense(8, activation=\"relu\"),\n",
        "                               layers.Dense(1, activation=\"sigmoid\")\n",
        "])"
      ],
      "metadata": {
        "id": "gwrdzeV2seZq"
      },
      "execution_count": null,
      "outputs": []
    },
    {
      "cell_type": "code",
      "source": [
        "model_seasonal.compile(optimizer=\"rmsprop\",\n",
        "                       loss=\"binary_crossentropy\",\n",
        "                       metrics=[\"accuracy\"])    "
      ],
      "metadata": {
        "id": "DScwpCgGfOGc"
      },
      "execution_count": null,
      "outputs": []
    },
    {
      "cell_type": "code",
      "source": [
        "history_seasonal = model_seasonal.fit(x_train_seasonal,\n",
        "                                      y_train_seasonal,\n",
        "                                      epochs=20,\n",
        "                                      batch_size=512,\n",
        "                                      validation_data=(x_valid_seasonal, y_valid_seasonal))"
      ],
      "metadata": {
        "id": "wyYfzE3pr-Xg"
      },
      "execution_count": null,
      "outputs": []
    },
    {
      "cell_type": "code",
      "source": [
        "model_seasonal.evaluate(x_valid_seasonal, y_valid_seasonal)"
      ],
      "metadata": {
        "id": "3y83b3WJ0GsP"
      },
      "execution_count": null,
      "outputs": []
    },
    {
      "cell_type": "markdown",
      "source": [
        "# 2) 코드2 ~> 인공신경망 모델"
      ],
      "metadata": {
        "id": "7Ly3SfNJywST"
      }
    },
    {
      "cell_type": "code",
      "source": [
        "import csv\n",
        "import pandas as pd\n",
        "import numpy as np\n",
        "import matplotlib.pyplot as plt\n",
        "from sklearn.neural_network import MLPRegressor\n",
        "from sklearn.metrics import accuracy_score, classification_report, roc_auc_score\n",
        "from sklearn.model_selection import GridSearchCV\n",
        "from sklearn.preprocessing import OrdinalEncoder\n",
        "from sklearn.preprocessing import StandardScaler\n",
        "from sklearn.model_selection import StratifiedShuffleSplit\n",
        "from sklearn.model_selection import train_test_split"
      ],
      "metadata": {
        "id": "36Pte4RezGWV"
      },
      "execution_count": null,
      "outputs": []
    },
    {
      "cell_type": "code",
      "source": [
        "training_features_data = pd.read_csv(dpath+\"training_set_features.csv\")\n",
        "training_set_labels = pd.read_csv(dpath+\"training_set_labels.csv\")\n",
        "test_features_data = pd.read_csv(dpath+\"test_set_features.csv\")"
      ],
      "metadata": {
        "id": "HNCdybvuzc5q"
      },
      "execution_count": null,
      "outputs": []
    },
    {
      "cell_type": "code",
      "source": [
        "# 결측치 처리\n",
        "\n",
        "# float types -> mean 값으로 대체\n",
        "training_features_data=training_features_data.fillna(training_features_data.mean())\n",
        "\n",
        "# string types -> null값을 'out-of-category'\n",
        "training_features_data=training_features_data.fillna('out-of-category')"
      ],
      "metadata": {
        "id": "5el-vPRzz81W"
      },
      "execution_count": null,
      "outputs": []
    },
    {
      "cell_type": "code",
      "source": [
        "training_features_data.isna().sum()"
      ],
      "metadata": {
        "id": "tChcK2nR0OlV"
      },
      "execution_count": null,
      "outputs": []
    },
    {
      "cell_type": "code",
      "source": [
        "# encoding categorical features (str -> float)\n",
        "\n",
        "enc = OrdinalEncoder()\n",
        "\n",
        "enc.fit(training_features_data)\n",
        "training_features_data_arr=enc.transform(training_features_data)\n",
        "\n",
        "col_names_list=training_features_data.columns\n",
        "encoded_categorical_df=pd.DataFrame(training_features_data_arr, columns=col_names_list)"
      ],
      "metadata": {
        "id": "GM9BF8w20SD-"
      },
      "execution_count": null,
      "outputs": []
    },
    {
      "cell_type": "code",
      "source": [
        "# normalization(make all values bet. 0-1)\n",
        "\n",
        "scaler = StandardScaler()\n",
        "scaler.fit(encoded_categorical_df)\n",
        "normalized_arr=scaler.transform(encoded_categorical_df)\n",
        "\n",
        "normalized_df=pd.DataFrame(normalized_arr, columns=col_names_list)"
      ],
      "metadata": {
        "id": "EpNknkj_0ga1"
      },
      "execution_count": null,
      "outputs": []
    },
    {
      "cell_type": "code",
      "source": [
        "# check if data types are correct or not \n",
        "\n",
        "normalized_df.info()"
      ],
      "metadata": {
        "id": "V1FquagJ0jb8"
      },
      "execution_count": null,
      "outputs": []
    },
    {
      "cell_type": "code",
      "source": [
        "#check types of test dataset\n",
        "test_features_data.info()"
      ],
      "metadata": {
        "id": "qYhhvq6G0mt9"
      },
      "execution_count": null,
      "outputs": []
    },
    {
      "cell_type": "code",
      "source": [
        "# 결측치 처리\n",
        "\n",
        "# float types -> mean 값으로 대체\n",
        "test_features_data=test_features_data.fillna(test_features_data.mean())\n",
        "\n",
        "## string types -> null값을 'out-of-category'\n",
        "test_features_data=test_features_data.fillna('out-of-category')"
      ],
      "metadata": {
        "id": "Hc6vAmRH0p_9"
      },
      "execution_count": null,
      "outputs": []
    },
    {
      "cell_type": "code",
      "source": [
        "test_features_data.isna().sum()"
      ],
      "metadata": {
        "id": "puAxXtUY03FN"
      },
      "execution_count": null,
      "outputs": []
    },
    {
      "cell_type": "code",
      "source": [
        "#encoding categorical features  (str -> float)\n",
        "enc = OrdinalEncoder()\n",
        "enc.fit(test_features_data)\n",
        "test_features_data_arr=enc.transform(test_features_data)\n",
        "\n",
        "col_names_list=test_features_data.columns\n",
        "test_encoded_categorical_df=pd.DataFrame(test_features_data_arr, columns=col_names_list)"
      ],
      "metadata": {
        "id": "jxP6hfGS06hn"
      },
      "execution_count": null,
      "outputs": []
    },
    {
      "cell_type": "code",
      "source": [
        "#check data types\n",
        "test_encoded_categorical_df.info()"
      ],
      "metadata": {
        "id": "IdejAEDd0_B5"
      },
      "execution_count": null,
      "outputs": []
    },
    {
      "cell_type": "code",
      "source": [
        "#normalization(bet. 0-1)\n",
        "\n",
        "#using minmax scaler(look up)\n",
        "test_normalized_arr=scaler.transform(test_encoded_categorical_df)\n",
        "test_normalized_df=pd.DataFrame(test_normalized_arr, columns=col_names_list)"
      ],
      "metadata": {
        "id": "czfETncj1CdR"
      },
      "execution_count": null,
      "outputs": []
    },
    {
      "cell_type": "code",
      "source": [
        "# split df to X and Y\n",
        "y = training_set_labels.loc[:, 'seasonal_vaccine'].values\n",
        "X = normalized_df"
      ],
      "metadata": {
        "id": "07mFkM0X1Flb"
      },
      "execution_count": null,
      "outputs": []
    },
    {
      "cell_type": "code",
      "source": [
        "# 80: training set, 20: test set\n",
        "X_train, X_test, y_train, y_test = train_test_split(X, y, test_size = 0.2, stratify = y)\n",
        "\n",
        "# 5 fold CV\n",
        "cv = StratifiedShuffleSplit(n_splits=5, random_state = 42)"
      ],
      "metadata": {
        "id": "qTQbdq5e1Ido"
      },
      "execution_count": null,
      "outputs": []
    },
    {
      "cell_type": "code",
      "source": [
        "# display test scores and return result string and indexes of false samples\n",
        "def display_test_scores(test, pred):\n",
        "    str_out = \"\"\n",
        "    str_out += (\"TEST SCORES\\n\")\n",
        "    str_out += (\"\\n\")\n",
        "\n",
        "    #print AUC score\n",
        "    auc = roc_auc_score(test, pred)\n",
        "    str_out += (\"AUC: {:.4f}\\n\".format(auc))\n",
        "    str_out += (\"\\n\")\n",
        "    \n",
        "    false_indexes = np.where(test != pred)\n",
        "    return str_out, false_indexes"
      ],
      "metadata": {
        "id": "PdLhFmg31Zyz"
      },
      "execution_count": null,
      "outputs": []
    },
    {
      "cell_type": "code",
      "source": [
        "# NN with 1 layer\n",
        "nn_1 = MLPRegressor(tol=1e-5, hidden_layer_sizes=10, random_state=0, solver='adam', activation='relu', max_iter=1000, batch_size=2048)\n",
        "nn_1.fit(X, y)\n",
        "\n",
        "# prediction results\n",
        "y_pred = nn_1.predict(test_normalized_df)"
      ],
      "metadata": {
        "id": "N8l4wSBF1dQj"
      },
      "execution_count": null,
      "outputs": []
    },
    {
      "cell_type": "code",
      "source": [
        "# NN with 1 layer\n",
        "nn_2 = MLPRegressor(tol=1e-5, hidden_layer_sizes=10, random_state=0, solver='adam', activation='logistic', max_iter=1000, batch_size=512)\n",
        "nn_2.fit(X, y)\n",
        "\n",
        "# prediction results\n",
        "y_pred_2 = nn_2.predict(test_normalized_df)"
      ],
      "metadata": {
        "id": "JkyCFDsb1gLi"
      },
      "execution_count": null,
      "outputs": []
    },
    {
      "cell_type": "code",
      "source": [
        "np.sum(np.logical_or(np.array(y_pred_2) > 1, np.array(y_pred_2) < 0), axis=0)\n",
        "y_pred_2 = 1/(1+np.exp(-y_pred_2))"
      ],
      "metadata": {
        "id": "jSjiD8T81qwe"
      },
      "execution_count": null,
      "outputs": []
    },
    {
      "cell_type": "code",
      "source": [
        "df_pred_seasonal_vaccine=pd.DataFrame(y_pred_2, columns=['seasonal_vaccine'])\n",
        "df_pred_seasonal_vaccine[\"respondent_id\"] = df_pred_seasonal_vaccine.index\n",
        "\n",
        "df_pred_seasonal_vaccine=df_pred_seasonal_vaccine[['respondent_id', 'seasonal_vaccine']]\n",
        "\n",
        "df_pred_seasonal_vaccine.to_csv('df_seasonal_nn_log.csv', columns=['respondent_id', 'seasonal_vaccine'], \n",
        "                            index=False, sep=',')"
      ],
      "metadata": {
        "id": "q8zwnPME2IJv"
      },
      "execution_count": null,
      "outputs": []
    },
    {
      "cell_type": "code",
      "source": [
        "df_pred_seasonal_vaccine.head()"
      ],
      "metadata": {
        "id": "D6q32RQG2QKJ"
      },
      "execution_count": null,
      "outputs": []
    },
    {
      "cell_type": "code",
      "source": [
        "df_pred_h1n1 = pd.read_csv(dpath+\"df_h1n1_nn_log_son.csv\",\n",
        "                    sep=',')\n",
        "\n",
        "df_pred_h1n1.head()"
      ],
      "metadata": {
        "id": "IWeHducy2TJ5"
      },
      "execution_count": null,
      "outputs": []
    },
    {
      "cell_type": "code",
      "source": [
        "df_final = df_pred_h1n1.merge(df_pred_seasonal_vaccine, on=\"respondent_id\", how = 'inner')\n",
        "\n",
        "df_final['respondent_id'] = df_final['respondent_id'].astype(int) + 26707"
      ],
      "metadata": {
        "id": "ffu-mmps2tYz"
      },
      "execution_count": null,
      "outputs": []
    },
    {
      "cell_type": "code",
      "source": [
        "df_final.to_csv('df_nn_log.csv', columns=['respondent_id', 'h1n1_vaccine', 'seasonal_vaccine' ], \n",
        "                            index=False, sep=',')"
      ],
      "metadata": {
        "id": "T6R4uVz-4cQd"
      },
      "execution_count": null,
      "outputs": []
    },
    {
      "cell_type": "code",
      "source": [
        "df_final.head()"
      ],
      "metadata": {
        "id": "Vyl2bRGb-1ss"
      },
      "execution_count": null,
      "outputs": []
    },
    {
      "cell_type": "code",
      "source": [
        ""
      ],
      "metadata": {
        "id": "aUHtnIfnA9DX"
      },
      "execution_count": null,
      "outputs": []
    },
    {
      "cell_type": "markdown",
      "source": [
        "### 예측하기"
      ],
      "metadata": {
        "id": "bhonNAK5CcUH"
      }
    },
    {
      "cell_type": "code",
      "source": [
        "from google.colab import drive\n",
        "drive.mount('/content/drive')"
      ],
      "metadata": {
        "id": "SLkwnuicFmj-"
      },
      "execution_count": null,
      "outputs": []
    },
    {
      "cell_type": "code",
      "source": [
        "test_h1n1 = pd.read_csv(dpath+\"test_ver1_h1n1.csv\")\n",
        "test_seasonal = pd.read_csv(dpath+\"test_ver1_seasonal.csv\")"
      ],
      "metadata": {
        "id": "L7E9Bl29FePz"
      },
      "execution_count": null,
      "outputs": []
    },
    {
      "cell_type": "markdown",
      "source": [
        "#### h1n1 예측하기"
      ],
      "metadata": {
        "id": "dIsZGjS8TNbO"
      }
    },
    {
      "cell_type": "code",
      "source": [
        "## h1n1 인코딩하기\n",
        "\n",
        "## age_group\n",
        "\n",
        "test_h1n1.loc[test_h1n1['age_group'] == '18 - 34 Years', 'age_group'] = 1\n",
        "test_h1n1.loc[test_h1n1['age_group'] == '35 - 44 Years', 'age_group'] = 2\n",
        "test_h1n1.loc[test_h1n1['age_group'] == '45 - 54 Years', 'age_group'] = 3\n",
        "test_h1n1.loc[test_h1n1['age_group'] == '55 - 64 Years', 'age_group'] = 4\n",
        "test_h1n1.loc[test_h1n1['age_group'] == '65+ Years', 'age_group'] = 5\n",
        "\n",
        "\n",
        "## race\n",
        "\n",
        "test_h1n1.loc[test_h1n1['race'] == 'White', 'race'] = 1\n",
        "test_h1n1.loc[test_h1n1['race'] == 'Black', 'race'] = 2\n",
        "test_h1n1.loc[test_h1n1['race'] == 'Other or Multiple', 'race'] = 3\n",
        "test_h1n1.loc[test_h1n1['race'] == 'Hispanic', 'race'] = 4\n",
        "\n",
        "\n",
        "## sex\n",
        "\n",
        "test_h1n1.loc[test_h1n1['sex'] == 'Female', 'sex'] = 1\n",
        "test_h1n1.loc[test_h1n1['sex'] == 'Male', 'sex'] = 2\n",
        "\n",
        "\n",
        "## hhs_geo_region\n",
        "\n",
        "from sklearn import preprocessing\n",
        "\n",
        "le = preprocessing.LabelEncoder()\n",
        "le.fit(test_h1n1['hhs_geo_region'])\n",
        "\n",
        "print(le.classes_)\n",
        "test_h1n1['hhs_geo_region'] = le.transform(test_h1n1['hhs_geo_region'])\n",
        "\n",
        "\n",
        "## census_msa\n",
        "\n",
        "test_h1n1.loc[test_h1n1['census_msa'] == 'Non-MSA', 'census_msa'] = 1\n",
        "test_h1n1.loc[test_h1n1['census_msa'] == 'MSA, Not Principle  City', 'census_msa'] = 2\n",
        "test_h1n1.loc[test_h1n1['census_msa'] == 'MSA, Principle City', 'census_msa'] = 3\n"
      ],
      "metadata": {
        "id": "nu3Ur6OxGZpT"
      },
      "execution_count": null,
      "outputs": []
    },
    {
      "cell_type": "code",
      "source": [
        "# 모델 훈련을 위해 데이터타입 변환해주기\n",
        "\n",
        "test_h1n1['age_group'] = test_h1n1['age_group'].astype(np.int64)\n",
        "test_h1n1['race'] = test_h1n1['race'].astype(np.int64)\n",
        "test_h1n1['sex'] = test_h1n1['sex'].astype(np.int64)\n",
        "test_h1n1['census_msa'] = test_h1n1['census_msa'].astype(np.int64)"
      ],
      "metadata": {
        "id": "xRWDA-CYF4bA"
      },
      "execution_count": null,
      "outputs": []
    },
    {
      "cell_type": "code",
      "source": [
        "test_h1n1.head()"
      ],
      "metadata": {
        "id": "msFTiv6PMzYz"
      },
      "execution_count": null,
      "outputs": []
    },
    {
      "cell_type": "code",
      "source": [
        "test_h1n1 = test_h1n1.drop(['respondent_id'], axis = 1)\n",
        "test_h1n1.head()"
      ],
      "metadata": {
        "id": "EhTGpwtdMf-D"
      },
      "execution_count": null,
      "outputs": []
    },
    {
      "cell_type": "code",
      "source": [
        "pred_h1n1 = model_h1n1.predict(test_h1n1)"
      ],
      "metadata": {
        "id": "2MfIJ75dCjEN"
      },
      "execution_count": null,
      "outputs": []
    },
    {
      "cell_type": "code",
      "source": [
        "pred_h1n1"
      ],
      "metadata": {
        "id": "Ss0liyXEN7I3"
      },
      "execution_count": null,
      "outputs": []
    },
    {
      "cell_type": "code",
      "source": [
        "test_features['h1n1_vaccine'] = pred_h1n1"
      ],
      "metadata": {
        "id": "IGjOWuGZNjRW"
      },
      "execution_count": null,
      "outputs": []
    },
    {
      "cell_type": "markdown",
      "source": [
        "#### seasonal 예측하기"
      ],
      "metadata": {
        "id": "MnsAPeasTGTW"
      }
    },
    {
      "cell_type": "code",
      "source": [
        "## seasonal 인코딩하기\n",
        "\n",
        "## age_group\n",
        "\n",
        "test_seasonal.loc[test_seasonal['age_group'] == '18 - 34 Years', 'age_group'] = 1\n",
        "test_seasonal.loc[test_seasonal['age_group'] == '35 - 44 Years', 'age_group'] = 2\n",
        "test_seasonal.loc[test_seasonal['age_group'] == '45 - 54 Years', 'age_group'] = 3\n",
        "test_seasonal.loc[test_seasonal['age_group'] == '55 - 64 Years', 'age_group'] = 4\n",
        "test_seasonal.loc[test_seasonal['age_group'] == '65+ Years', 'age_group'] = 5\n",
        "\n",
        "\n",
        "## race\n",
        "\n",
        "test_seasonal.loc[test_seasonal['race'] == 'White', 'race'] = 1\n",
        "test_seasonal.loc[test_seasonal['race'] == 'Black', 'race'] = 2\n",
        "test_seasonal.loc[test_seasonal['race'] == 'Other or Multiple', 'race'] = 3\n",
        "test_seasonal.loc[test_seasonal['race'] == 'Hispanic', 'race'] = 4\n",
        "\n",
        "\n",
        "## sex\n",
        "\n",
        "test_seasonal.loc[test_seasonal['sex'] == 'Female', 'sex'] = 1\n",
        "test_seasonal.loc[test_seasonal['sex'] == 'Male', 'sex'] = 2\n",
        "\n",
        "\n",
        "## hhs_geo_region\n",
        "\n",
        "from sklearn import preprocessing\n",
        "\n",
        "le = preprocessing.LabelEncoder()\n",
        "le.fit(test_seasonal['hhs_geo_region'])\n",
        "\n",
        "print(le.classes_)\n",
        "test_seasonal['hhs_geo_region'] = le.transform(test_seasonal['hhs_geo_region'])\n",
        "\n",
        "\n",
        "## census_msa\n",
        "\n",
        "test_seasonal.loc[test_seasonal['census_msa'] == 'Non-MSA', 'census_msa'] = 1\n",
        "test_seasonal.loc[test_seasonal['census_msa'] == 'MSA, Not Principle  City', 'census_msa'] = 2\n",
        "test_seasonal.loc[test_seasonal['census_msa'] == 'MSA, Principle City', 'census_msa'] = 3\n"
      ],
      "metadata": {
        "id": "6lGX7jCjKQoQ"
      },
      "execution_count": null,
      "outputs": []
    },
    {
      "cell_type": "code",
      "source": [
        "# 모델 훈련을 위해 데이터타입 변환해주기\n",
        "\n",
        "test_seasonal['age_group'] = test_seasonal['age_group'].astype(np.int64)\n",
        "test_seasonal['race'] = test_seasonal['race'].astype(np.int64)\n",
        "test_seasonal['sex'] = test_seasonal['sex'].astype(np.int64)\n",
        "test_seasonal['census_msa'] = test_seasonal['census_msa'].astype(np.int64)"
      ],
      "metadata": {
        "id": "HZPTecXVKeSX"
      },
      "execution_count": null,
      "outputs": []
    },
    {
      "cell_type": "code",
      "source": [
        "test_seasonal.info()"
      ],
      "metadata": {
        "id": "_nlrBhDIKwmA"
      },
      "execution_count": null,
      "outputs": []
    },
    {
      "cell_type": "code",
      "source": [
        "test_seasonal = test_seasonal.drop(['respondent_id'], axis = 1)\n",
        "test_seasonal.head()"
      ],
      "metadata": {
        "id": "rAtsGOciO7_d"
      },
      "execution_count": null,
      "outputs": []
    },
    {
      "cell_type": "code",
      "source": [
        "pred_seasonal = model_seasonal.predict(test_seasonal)"
      ],
      "metadata": {
        "id": "FlheLZ8qDhHB"
      },
      "execution_count": null,
      "outputs": []
    },
    {
      "cell_type": "code",
      "source": [
        "pred_seasonal"
      ],
      "metadata": {
        "id": "R0RhaQZ2Kzvl"
      },
      "execution_count": null,
      "outputs": []
    },
    {
      "cell_type": "code",
      "source": [
        "test_features['seasonal_vaccine'] = pred_seasonal"
      ],
      "metadata": {
        "id": "dqTb3VMKPSVg"
      },
      "execution_count": null,
      "outputs": []
    },
    {
      "cell_type": "code",
      "source": [
        "test_features.head()"
      ],
      "metadata": {
        "id": "4Sb-ecQLPWYI"
      },
      "execution_count": null,
      "outputs": []
    },
    {
      "cell_type": "markdown",
      "source": [
        "#### 제출 파일 만들기"
      ],
      "metadata": {
        "id": "-qzh87uuTkeS"
      }
    },
    {
      "cell_type": "code",
      "source": [
        "submission = test_features[['respondent_id', 'h1n1_vaccine', 'seasonal_vaccine']]"
      ],
      "metadata": {
        "id": "mCuryyAwPYut"
      },
      "execution_count": null,
      "outputs": []
    },
    {
      "cell_type": "code",
      "source": [
        "submission.head()"
      ],
      "metadata": {
        "id": "V6sSf7GRPhpC"
      },
      "execution_count": null,
      "outputs": []
    },
    {
      "cell_type": "code",
      "source": [
        "submission.to_csv('submission.csv', index=False)\n",
        "\n",
        "## 셀 실행 후 왼쪽 파일 모양 클릭하고 'submission.csv' 파일을 다운받으면 됨."
      ],
      "metadata": {
        "id": "wJbx7X7dPi3X"
      },
      "execution_count": null,
      "outputs": []
    }
  ]
}