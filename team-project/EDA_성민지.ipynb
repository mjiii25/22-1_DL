{
  "nbformat": 4,
  "nbformat_minor": 0,
  "metadata": {
    "colab": {
      "name": "EDA_성민지.ipynb",
      "provenance": [],
      "authorship_tag": "ABX9TyMA1VAKHaKAw2uvnfQ2NGbG",
      "include_colab_link": true
    },
    "kernelspec": {
      "name": "python3",
      "display_name": "Python 3"
    },
    "language_info": {
      "name": "python"
    },
    "accelerator": "GPU"
  },
  "cells": [
    {
      "cell_type": "markdown",
      "metadata": {
        "id": "view-in-github",
        "colab_type": "text"
      },
      "source": [
        "<a href=\"https://colab.research.google.com/github/mjiii25/22-1_DLAI/blob/main/team-project/EDA_%EC%84%B1%EB%AF%BC%EC%A7%80.ipynb\" target=\"_parent\"><img src=\"https://colab.research.google.com/assets/colab-badge.svg\" alt=\"Open In Colab\"/></a>"
      ]
    },
    {
      "cell_type": "markdown",
      "source": [
        "\n",
        "## Feature Description\n",
        "\n",
        "\n",
        "- **h1n1**\n",
        "  - h1n1_concern\n",
        "    - Level of concern about the H1N1 flu.\n",
        "    - 0 = Not at all concerned; 1 = Not very concerned; 2 = Somewhat concerned; 3 = Very concerned.\n",
        "\n",
        "  - h1n1_knowledge \n",
        "    - Level of knowledge about H1N1 flu.\n",
        "    - 0 = No knowledge; 1 = A little knowledge; 2 = A lot of knowledge.\n",
        "\n",
        "\n",
        "\n",
        "- **behavioral**\n",
        "  - behavioral_antiviral_meds \n",
        "    - Has taken antiviral medications. (binary)\n",
        "  - behavioral_avoidance \n",
        "    - Has avoided close contact with others with flu-like symptoms. (binary)\n",
        "  - behavioral_face_mask \n",
        "   - Has bought a face mask. (binary)\n",
        "  - behavioral_wash_hands \n",
        "    - Has frequently washed hands or used hand sanitizer. (binary)\n",
        "  - behavioral_large_gatherings \n",
        "    - Has reduced time at large gatherings. (binary)\n",
        "  - behavioral_outside_home \n",
        "    - Has reduced contact with people outside of own household. (binary)\n",
        "  - behavioral_touch_face \n",
        "    - Has avoided touching eyes, nose, or mouth. (binary)\n",
        "\n",
        "\n",
        "\n",
        "- **doctor**\n",
        "  - doctor_recc_h1n1 \n",
        "    - H1N1 flu vaccine was recommended by doctor. (binary)\n",
        "  - doctor_recc_seasonal \n",
        "    - Seasonal flu vaccine was recommended by doctor. (binary)\n",
        "\n",
        "\n",
        "\n",
        "\n",
        "- **health**\n",
        "  - chronic_med_condition \n",
        "    - Has any of the following chronic medical conditions: asthma or an other lung condition, diabetes, a heart condition, a kidney condition, sickle cell anemia or other anemia, a neurological or neuromuscular condition, a liver condition, or a weakened immune system caused by a chronic illness or by medicines taken for a chronic illness. (binary)\n",
        "  - child_under_6_months \n",
        "    - Has regular close contact with a child under the age of six months. (binary)\n",
        "  - health_worker \n",
        "    - Is a healthcare worker. (binary)\n",
        "  - health_insurance \n",
        "    - Has health insurance. (binary)\n",
        "\n",
        "\n",
        "\n",
        "\n",
        "- **opinion**\n",
        "  - opinion_h1n1_vacc_effective \n",
        "    - Respondent's opinion about H1N1 vaccine effectiveness.\n",
        "    - 1 = Not at all effective; 2 = Not very effective; 3 = Don't know; 4 = Somewhat effective; 5 = Very effective.\n",
        "  - opinion_h1n1_risk \n",
        "    - Respondent's opinion about risk of getting sick with H1N1 flu without vaccine.\n",
        "    - 1 = Very Low; 2 = Somewhat low; 3 = Don't know; 4 = Somewhat high; 5 = Very high.\n",
        "  - opinion_h1n1_sick_from_vacc \n",
        "    - Respondent's worry of getting sick from taking H1N1 vaccine.\n",
        "    - 1 = Not at all worried; 2 = Not very worried; 3 = Don't know; 4 = Somewhat worried; 5 = Very worried.\n",
        "  - opinion_seas_vacc_effective \n",
        "    - Respondent's opinion about seasonal flu vaccine effectiveness.\n",
        "    - 1 = Not at all effective; 2 = Not very effective; 3 = Don't know; 4 = Somewhat effective; 5 = Very effective.\n",
        "  - opinion_seas_risk \n",
        "    - Respondent's opinion about risk of getting sick with seasonal flu without vaccine.\n",
        "    - 1 = Very Low; 2 = Somewhat low; 3 = Don't know; 4 = Somewhat high; 5 = Very high.\n",
        "  - opinion_seas_sick_from_vacc \n",
        "    - Respondent's worry of getting sick from taking seasonal flu vaccine.\n",
        "    - 1 = Not at all worried; 2 = Not very worried; 3 = Don't know; 4 = Somewhat worried; 5 = Very worried.\n",
        "\n",
        "\n",
        "\n",
        "- **personal information**\n",
        "  - age_group \n",
        "    - Age group of respondent.\n",
        "  - education \n",
        "    - Self-reported education level.\n",
        "  - race \n",
        "    - Race of respondent.\n",
        "  - sex \n",
        "    - Sex of respondent.\n",
        "  - income_poverty \n",
        "    - Household annual income of respondent with respect to 2008 Census poverty thresholds.\n",
        "  - marital_status \n",
        "    - Marital status of respondent.\n",
        "  - rent_or_own \n",
        "    - Housing situation of respondent.\n",
        "  - employment_status \n",
        "    - Employment status of respondent.\n",
        "  - hhs_geo_region \n",
        "    - Respondent's residence using a 10-region geographic classification defined by the U.S. Dept. of Health and Human Services. Values are represented as short random character strings.\n",
        "    - https://www.hhs.gov/ash/about-ash/regional-offices/region-10/index.html#:~:text=The%20Region%2010%20Office%2C%20based,of%20the%20total%20inland%20waters.\n",
        "  - census_msa \n",
        "    - Respondent's residence within metropolitan statistical areas (MSA) as defined by the U.S. Census.\n",
        "\n",
        "- **household**\n",
        "  - household_adults \n",
        "    - Number of other adults in household, top-coded to 3.\n",
        "  - household_children \n",
        "    - Number of children in household, top-coded to 3.\n",
        "\n",
        "- **employment**\n",
        "  - employment_industry \n",
        "    - Type of industry respondent is employed in. Values are represented as short random character strings.\n",
        "  - employment_occupation \n",
        "    - Type of occupation of respondent. Values are represented as short random character strings.\n",
        "\n"
      ],
      "metadata": {
        "id": "S5DmzFCawNQh"
      }
    },
    {
      "cell_type": "markdown",
      "source": [
        "## Load data"
      ],
      "metadata": {
        "id": "lHS4zBZvPT1n"
      }
    },
    {
      "cell_type": "code",
      "execution_count": 1,
      "metadata": {
        "colab": {
          "base_uri": "https://localhost:8080/"
        },
        "id": "C6gb0kotNaow",
        "outputId": "8f68067b-765f-493a-8e94-b0e667dd8db7"
      },
      "outputs": [
        {
          "output_type": "stream",
          "name": "stdout",
          "text": [
            "Mounted at /content/drive\n"
          ]
        }
      ],
      "source": [
        "from google.colab import drive\n",
        "drive.mount('/content/drive')"
      ]
    },
    {
      "cell_type": "code",
      "source": [
        "dpath = '/content/drive/MyDrive/'"
      ],
      "metadata": {
        "id": "Hc67Yd_YS267"
      },
      "execution_count": 2,
      "outputs": []
    },
    {
      "cell_type": "code",
      "source": [
        "import pandas as pd"
      ],
      "metadata": {
        "id": "QWVFjNkFOrDq"
      },
      "execution_count": 3,
      "outputs": []
    },
    {
      "cell_type": "code",
      "source": [
        "train_features = pd.read_csv(dpath+'/training_set_features.csv',\n",
        "                             index_col = 'respondent_id')\n",
        "train_labels = pd.read_csv(dpath+'training_set_labels.csv',\n",
        "                           index_col = 'respondent_id')"
      ],
      "metadata": {
        "id": "OL_ssWaZR7sl"
      },
      "execution_count": 4,
      "outputs": []
    },
    {
      "cell_type": "code",
      "source": [
        "train_features.shape"
      ],
      "metadata": {
        "colab": {
          "base_uri": "https://localhost:8080/"
        },
        "id": "llMAYhlXTs6f",
        "outputId": "78ecb7c3-03be-4eb1-f3ff-39c91a62e2e3"
      },
      "execution_count": 5,
      "outputs": [
        {
          "output_type": "execute_result",
          "data": {
            "text/plain": [
              "(26707, 35)"
            ]
          },
          "metadata": {},
          "execution_count": 5
        }
      ]
    },
    {
      "cell_type": "code",
      "source": [
        "train_features.head()"
      ],
      "metadata": {
        "colab": {
          "base_uri": "https://localhost:8080/",
          "height": 470
        },
        "id": "Kq4lkZZYSbrp",
        "outputId": "c5f0aa67-3208-49ba-de89-8d1156b9f7e3"
      },
      "execution_count": 6,
      "outputs": [
        {
          "output_type": "execute_result",
          "data": {
            "text/plain": [
              "               h1n1_concern  h1n1_knowledge  behavioral_antiviral_meds  \\\n",
              "respondent_id                                                            \n",
              "0                       1.0             0.0                        0.0   \n",
              "1                       3.0             2.0                        0.0   \n",
              "2                       1.0             1.0                        0.0   \n",
              "3                       1.0             1.0                        0.0   \n",
              "4                       2.0             1.0                        0.0   \n",
              "\n",
              "               behavioral_avoidance  behavioral_face_mask  \\\n",
              "respondent_id                                               \n",
              "0                               0.0                   0.0   \n",
              "1                               1.0                   0.0   \n",
              "2                               1.0                   0.0   \n",
              "3                               1.0                   0.0   \n",
              "4                               1.0                   0.0   \n",
              "\n",
              "               behavioral_wash_hands  behavioral_large_gatherings  \\\n",
              "respondent_id                                                       \n",
              "0                                0.0                          0.0   \n",
              "1                                1.0                          0.0   \n",
              "2                                0.0                          0.0   \n",
              "3                                1.0                          1.0   \n",
              "4                                1.0                          1.0   \n",
              "\n",
              "               behavioral_outside_home  behavioral_touch_face  \\\n",
              "respondent_id                                                   \n",
              "0                                  1.0                    1.0   \n",
              "1                                  1.0                    1.0   \n",
              "2                                  0.0                    0.0   \n",
              "3                                  0.0                    0.0   \n",
              "4                                  0.0                    1.0   \n",
              "\n",
              "               doctor_recc_h1n1  ...             income_poverty  \\\n",
              "respondent_id                    ...                              \n",
              "0                           0.0  ...              Below Poverty   \n",
              "1                           0.0  ...              Below Poverty   \n",
              "2                           NaN  ...  <= $75,000, Above Poverty   \n",
              "3                           0.0  ...              Below Poverty   \n",
              "4                           0.0  ...  <= $75,000, Above Poverty   \n",
              "\n",
              "               marital_status  rent_or_own   employment_status  \\\n",
              "respondent_id                                                    \n",
              "0                 Not Married          Own  Not in Labor Force   \n",
              "1                 Not Married         Rent            Employed   \n",
              "2                 Not Married          Own            Employed   \n",
              "3                 Not Married         Rent  Not in Labor Force   \n",
              "4                     Married          Own            Employed   \n",
              "\n",
              "               hhs_geo_region                census_msa  household_adults  \\\n",
              "respondent_id                                                               \n",
              "0                    oxchjgsf                   Non-MSA               0.0   \n",
              "1                    bhuqouqj  MSA, Not Principle  City               0.0   \n",
              "2                    qufhixun  MSA, Not Principle  City               2.0   \n",
              "3                    lrircsnp       MSA, Principle City               0.0   \n",
              "4                    qufhixun  MSA, Not Principle  City               1.0   \n",
              "\n",
              "               household_children  employment_industry  employment_occupation  \n",
              "respondent_id                                                                  \n",
              "0                             0.0                  NaN                    NaN  \n",
              "1                             0.0             pxcmvdjn               xgwztkwe  \n",
              "2                             0.0             rucpziij               xtkaffoo  \n",
              "3                             0.0                  NaN                    NaN  \n",
              "4                             0.0             wxleyezf               emcorrxb  \n",
              "\n",
              "[5 rows x 35 columns]"
            ],
            "text/html": [
              "\n",
              "  <div id=\"df-b616e1fb-64b1-471d-b3f0-d266b36496ec\">\n",
              "    <div class=\"colab-df-container\">\n",
              "      <div>\n",
              "<style scoped>\n",
              "    .dataframe tbody tr th:only-of-type {\n",
              "        vertical-align: middle;\n",
              "    }\n",
              "\n",
              "    .dataframe tbody tr th {\n",
              "        vertical-align: top;\n",
              "    }\n",
              "\n",
              "    .dataframe thead th {\n",
              "        text-align: right;\n",
              "    }\n",
              "</style>\n",
              "<table border=\"1\" class=\"dataframe\">\n",
              "  <thead>\n",
              "    <tr style=\"text-align: right;\">\n",
              "      <th></th>\n",
              "      <th>h1n1_concern</th>\n",
              "      <th>h1n1_knowledge</th>\n",
              "      <th>behavioral_antiviral_meds</th>\n",
              "      <th>behavioral_avoidance</th>\n",
              "      <th>behavioral_face_mask</th>\n",
              "      <th>behavioral_wash_hands</th>\n",
              "      <th>behavioral_large_gatherings</th>\n",
              "      <th>behavioral_outside_home</th>\n",
              "      <th>behavioral_touch_face</th>\n",
              "      <th>doctor_recc_h1n1</th>\n",
              "      <th>...</th>\n",
              "      <th>income_poverty</th>\n",
              "      <th>marital_status</th>\n",
              "      <th>rent_or_own</th>\n",
              "      <th>employment_status</th>\n",
              "      <th>hhs_geo_region</th>\n",
              "      <th>census_msa</th>\n",
              "      <th>household_adults</th>\n",
              "      <th>household_children</th>\n",
              "      <th>employment_industry</th>\n",
              "      <th>employment_occupation</th>\n",
              "    </tr>\n",
              "    <tr>\n",
              "      <th>respondent_id</th>\n",
              "      <th></th>\n",
              "      <th></th>\n",
              "      <th></th>\n",
              "      <th></th>\n",
              "      <th></th>\n",
              "      <th></th>\n",
              "      <th></th>\n",
              "      <th></th>\n",
              "      <th></th>\n",
              "      <th></th>\n",
              "      <th></th>\n",
              "      <th></th>\n",
              "      <th></th>\n",
              "      <th></th>\n",
              "      <th></th>\n",
              "      <th></th>\n",
              "      <th></th>\n",
              "      <th></th>\n",
              "      <th></th>\n",
              "      <th></th>\n",
              "      <th></th>\n",
              "    </tr>\n",
              "  </thead>\n",
              "  <tbody>\n",
              "    <tr>\n",
              "      <th>0</th>\n",
              "      <td>1.0</td>\n",
              "      <td>0.0</td>\n",
              "      <td>0.0</td>\n",
              "      <td>0.0</td>\n",
              "      <td>0.0</td>\n",
              "      <td>0.0</td>\n",
              "      <td>0.0</td>\n",
              "      <td>1.0</td>\n",
              "      <td>1.0</td>\n",
              "      <td>0.0</td>\n",
              "      <td>...</td>\n",
              "      <td>Below Poverty</td>\n",
              "      <td>Not Married</td>\n",
              "      <td>Own</td>\n",
              "      <td>Not in Labor Force</td>\n",
              "      <td>oxchjgsf</td>\n",
              "      <td>Non-MSA</td>\n",
              "      <td>0.0</td>\n",
              "      <td>0.0</td>\n",
              "      <td>NaN</td>\n",
              "      <td>NaN</td>\n",
              "    </tr>\n",
              "    <tr>\n",
              "      <th>1</th>\n",
              "      <td>3.0</td>\n",
              "      <td>2.0</td>\n",
              "      <td>0.0</td>\n",
              "      <td>1.0</td>\n",
              "      <td>0.0</td>\n",
              "      <td>1.0</td>\n",
              "      <td>0.0</td>\n",
              "      <td>1.0</td>\n",
              "      <td>1.0</td>\n",
              "      <td>0.0</td>\n",
              "      <td>...</td>\n",
              "      <td>Below Poverty</td>\n",
              "      <td>Not Married</td>\n",
              "      <td>Rent</td>\n",
              "      <td>Employed</td>\n",
              "      <td>bhuqouqj</td>\n",
              "      <td>MSA, Not Principle  City</td>\n",
              "      <td>0.0</td>\n",
              "      <td>0.0</td>\n",
              "      <td>pxcmvdjn</td>\n",
              "      <td>xgwztkwe</td>\n",
              "    </tr>\n",
              "    <tr>\n",
              "      <th>2</th>\n",
              "      <td>1.0</td>\n",
              "      <td>1.0</td>\n",
              "      <td>0.0</td>\n",
              "      <td>1.0</td>\n",
              "      <td>0.0</td>\n",
              "      <td>0.0</td>\n",
              "      <td>0.0</td>\n",
              "      <td>0.0</td>\n",
              "      <td>0.0</td>\n",
              "      <td>NaN</td>\n",
              "      <td>...</td>\n",
              "      <td>&lt;= $75,000, Above Poverty</td>\n",
              "      <td>Not Married</td>\n",
              "      <td>Own</td>\n",
              "      <td>Employed</td>\n",
              "      <td>qufhixun</td>\n",
              "      <td>MSA, Not Principle  City</td>\n",
              "      <td>2.0</td>\n",
              "      <td>0.0</td>\n",
              "      <td>rucpziij</td>\n",
              "      <td>xtkaffoo</td>\n",
              "    </tr>\n",
              "    <tr>\n",
              "      <th>3</th>\n",
              "      <td>1.0</td>\n",
              "      <td>1.0</td>\n",
              "      <td>0.0</td>\n",
              "      <td>1.0</td>\n",
              "      <td>0.0</td>\n",
              "      <td>1.0</td>\n",
              "      <td>1.0</td>\n",
              "      <td>0.0</td>\n",
              "      <td>0.0</td>\n",
              "      <td>0.0</td>\n",
              "      <td>...</td>\n",
              "      <td>Below Poverty</td>\n",
              "      <td>Not Married</td>\n",
              "      <td>Rent</td>\n",
              "      <td>Not in Labor Force</td>\n",
              "      <td>lrircsnp</td>\n",
              "      <td>MSA, Principle City</td>\n",
              "      <td>0.0</td>\n",
              "      <td>0.0</td>\n",
              "      <td>NaN</td>\n",
              "      <td>NaN</td>\n",
              "    </tr>\n",
              "    <tr>\n",
              "      <th>4</th>\n",
              "      <td>2.0</td>\n",
              "      <td>1.0</td>\n",
              "      <td>0.0</td>\n",
              "      <td>1.0</td>\n",
              "      <td>0.0</td>\n",
              "      <td>1.0</td>\n",
              "      <td>1.0</td>\n",
              "      <td>0.0</td>\n",
              "      <td>1.0</td>\n",
              "      <td>0.0</td>\n",
              "      <td>...</td>\n",
              "      <td>&lt;= $75,000, Above Poverty</td>\n",
              "      <td>Married</td>\n",
              "      <td>Own</td>\n",
              "      <td>Employed</td>\n",
              "      <td>qufhixun</td>\n",
              "      <td>MSA, Not Principle  City</td>\n",
              "      <td>1.0</td>\n",
              "      <td>0.0</td>\n",
              "      <td>wxleyezf</td>\n",
              "      <td>emcorrxb</td>\n",
              "    </tr>\n",
              "  </tbody>\n",
              "</table>\n",
              "<p>5 rows × 35 columns</p>\n",
              "</div>\n",
              "      <button class=\"colab-df-convert\" onclick=\"convertToInteractive('df-b616e1fb-64b1-471d-b3f0-d266b36496ec')\"\n",
              "              title=\"Convert this dataframe to an interactive table.\"\n",
              "              style=\"display:none;\">\n",
              "        \n",
              "  <svg xmlns=\"http://www.w3.org/2000/svg\" height=\"24px\"viewBox=\"0 0 24 24\"\n",
              "       width=\"24px\">\n",
              "    <path d=\"M0 0h24v24H0V0z\" fill=\"none\"/>\n",
              "    <path d=\"M18.56 5.44l.94 2.06.94-2.06 2.06-.94-2.06-.94-.94-2.06-.94 2.06-2.06.94zm-11 1L8.5 8.5l.94-2.06 2.06-.94-2.06-.94L8.5 2.5l-.94 2.06-2.06.94zm10 10l.94 2.06.94-2.06 2.06-.94-2.06-.94-.94-2.06-.94 2.06-2.06.94z\"/><path d=\"M17.41 7.96l-1.37-1.37c-.4-.4-.92-.59-1.43-.59-.52 0-1.04.2-1.43.59L10.3 9.45l-7.72 7.72c-.78.78-.78 2.05 0 2.83L4 21.41c.39.39.9.59 1.41.59.51 0 1.02-.2 1.41-.59l7.78-7.78 2.81-2.81c.8-.78.8-2.07 0-2.86zM5.41 20L4 18.59l7.72-7.72 1.47 1.35L5.41 20z\"/>\n",
              "  </svg>\n",
              "      </button>\n",
              "      \n",
              "  <style>\n",
              "    .colab-df-container {\n",
              "      display:flex;\n",
              "      flex-wrap:wrap;\n",
              "      gap: 12px;\n",
              "    }\n",
              "\n",
              "    .colab-df-convert {\n",
              "      background-color: #E8F0FE;\n",
              "      border: none;\n",
              "      border-radius: 50%;\n",
              "      cursor: pointer;\n",
              "      display: none;\n",
              "      fill: #1967D2;\n",
              "      height: 32px;\n",
              "      padding: 0 0 0 0;\n",
              "      width: 32px;\n",
              "    }\n",
              "\n",
              "    .colab-df-convert:hover {\n",
              "      background-color: #E2EBFA;\n",
              "      box-shadow: 0px 1px 2px rgba(60, 64, 67, 0.3), 0px 1px 3px 1px rgba(60, 64, 67, 0.15);\n",
              "      fill: #174EA6;\n",
              "    }\n",
              "\n",
              "    [theme=dark] .colab-df-convert {\n",
              "      background-color: #3B4455;\n",
              "      fill: #D2E3FC;\n",
              "    }\n",
              "\n",
              "    [theme=dark] .colab-df-convert:hover {\n",
              "      background-color: #434B5C;\n",
              "      box-shadow: 0px 1px 3px 1px rgba(0, 0, 0, 0.15);\n",
              "      filter: drop-shadow(0px 1px 2px rgba(0, 0, 0, 0.3));\n",
              "      fill: #FFFFFF;\n",
              "    }\n",
              "  </style>\n",
              "\n",
              "      <script>\n",
              "        const buttonEl =\n",
              "          document.querySelector('#df-b616e1fb-64b1-471d-b3f0-d266b36496ec button.colab-df-convert');\n",
              "        buttonEl.style.display =\n",
              "          google.colab.kernel.accessAllowed ? 'block' : 'none';\n",
              "\n",
              "        async function convertToInteractive(key) {\n",
              "          const element = document.querySelector('#df-b616e1fb-64b1-471d-b3f0-d266b36496ec');\n",
              "          const dataTable =\n",
              "            await google.colab.kernel.invokeFunction('convertToInteractive',\n",
              "                                                     [key], {});\n",
              "          if (!dataTable) return;\n",
              "\n",
              "          const docLinkHtml = 'Like what you see? Visit the ' +\n",
              "            '<a target=\"_blank\" href=https://colab.research.google.com/notebooks/data_table.ipynb>data table notebook</a>'\n",
              "            + ' to learn more about interactive tables.';\n",
              "          element.innerHTML = '';\n",
              "          dataTable['output_type'] = 'display_data';\n",
              "          await google.colab.output.renderOutput(dataTable, element);\n",
              "          const docLink = document.createElement('div');\n",
              "          docLink.innerHTML = docLinkHtml;\n",
              "          element.appendChild(docLink);\n",
              "        }\n",
              "      </script>\n",
              "    </div>\n",
              "  </div>\n",
              "  "
            ]
          },
          "metadata": {},
          "execution_count": 6
        }
      ]
    },
    {
      "cell_type": "code",
      "source": [
        "train_labels.shape"
      ],
      "metadata": {
        "colab": {
          "base_uri": "https://localhost:8080/"
        },
        "id": "njWFxgTmTxnW",
        "outputId": "bdee4279-daac-458b-9340-e586459bc82b"
      },
      "execution_count": 7,
      "outputs": [
        {
          "output_type": "execute_result",
          "data": {
            "text/plain": [
              "(26707, 2)"
            ]
          },
          "metadata": {},
          "execution_count": 7
        }
      ]
    },
    {
      "cell_type": "code",
      "source": [
        "train_labels.head()"
      ],
      "metadata": {
        "colab": {
          "base_uri": "https://localhost:8080/",
          "height": 237
        },
        "id": "IGlwyA4NTM4E",
        "outputId": "fe63b8a6-a009-4ecd-cf82-f3e002c3671e"
      },
      "execution_count": 8,
      "outputs": [
        {
          "output_type": "execute_result",
          "data": {
            "text/plain": [
              "               h1n1_vaccine  seasonal_vaccine\n",
              "respondent_id                                \n",
              "0                         0                 0\n",
              "1                         0                 1\n",
              "2                         0                 0\n",
              "3                         0                 1\n",
              "4                         0                 0"
            ],
            "text/html": [
              "\n",
              "  <div id=\"df-e92e7315-391a-4cbc-a2f7-0af5d049f270\">\n",
              "    <div class=\"colab-df-container\">\n",
              "      <div>\n",
              "<style scoped>\n",
              "    .dataframe tbody tr th:only-of-type {\n",
              "        vertical-align: middle;\n",
              "    }\n",
              "\n",
              "    .dataframe tbody tr th {\n",
              "        vertical-align: top;\n",
              "    }\n",
              "\n",
              "    .dataframe thead th {\n",
              "        text-align: right;\n",
              "    }\n",
              "</style>\n",
              "<table border=\"1\" class=\"dataframe\">\n",
              "  <thead>\n",
              "    <tr style=\"text-align: right;\">\n",
              "      <th></th>\n",
              "      <th>h1n1_vaccine</th>\n",
              "      <th>seasonal_vaccine</th>\n",
              "    </tr>\n",
              "    <tr>\n",
              "      <th>respondent_id</th>\n",
              "      <th></th>\n",
              "      <th></th>\n",
              "    </tr>\n",
              "  </thead>\n",
              "  <tbody>\n",
              "    <tr>\n",
              "      <th>0</th>\n",
              "      <td>0</td>\n",
              "      <td>0</td>\n",
              "    </tr>\n",
              "    <tr>\n",
              "      <th>1</th>\n",
              "      <td>0</td>\n",
              "      <td>1</td>\n",
              "    </tr>\n",
              "    <tr>\n",
              "      <th>2</th>\n",
              "      <td>0</td>\n",
              "      <td>0</td>\n",
              "    </tr>\n",
              "    <tr>\n",
              "      <th>3</th>\n",
              "      <td>0</td>\n",
              "      <td>1</td>\n",
              "    </tr>\n",
              "    <tr>\n",
              "      <th>4</th>\n",
              "      <td>0</td>\n",
              "      <td>0</td>\n",
              "    </tr>\n",
              "  </tbody>\n",
              "</table>\n",
              "</div>\n",
              "      <button class=\"colab-df-convert\" onclick=\"convertToInteractive('df-e92e7315-391a-4cbc-a2f7-0af5d049f270')\"\n",
              "              title=\"Convert this dataframe to an interactive table.\"\n",
              "              style=\"display:none;\">\n",
              "        \n",
              "  <svg xmlns=\"http://www.w3.org/2000/svg\" height=\"24px\"viewBox=\"0 0 24 24\"\n",
              "       width=\"24px\">\n",
              "    <path d=\"M0 0h24v24H0V0z\" fill=\"none\"/>\n",
              "    <path d=\"M18.56 5.44l.94 2.06.94-2.06 2.06-.94-2.06-.94-.94-2.06-.94 2.06-2.06.94zm-11 1L8.5 8.5l.94-2.06 2.06-.94-2.06-.94L8.5 2.5l-.94 2.06-2.06.94zm10 10l.94 2.06.94-2.06 2.06-.94-2.06-.94-.94-2.06-.94 2.06-2.06.94z\"/><path d=\"M17.41 7.96l-1.37-1.37c-.4-.4-.92-.59-1.43-.59-.52 0-1.04.2-1.43.59L10.3 9.45l-7.72 7.72c-.78.78-.78 2.05 0 2.83L4 21.41c.39.39.9.59 1.41.59.51 0 1.02-.2 1.41-.59l7.78-7.78 2.81-2.81c.8-.78.8-2.07 0-2.86zM5.41 20L4 18.59l7.72-7.72 1.47 1.35L5.41 20z\"/>\n",
              "  </svg>\n",
              "      </button>\n",
              "      \n",
              "  <style>\n",
              "    .colab-df-container {\n",
              "      display:flex;\n",
              "      flex-wrap:wrap;\n",
              "      gap: 12px;\n",
              "    }\n",
              "\n",
              "    .colab-df-convert {\n",
              "      background-color: #E8F0FE;\n",
              "      border: none;\n",
              "      border-radius: 50%;\n",
              "      cursor: pointer;\n",
              "      display: none;\n",
              "      fill: #1967D2;\n",
              "      height: 32px;\n",
              "      padding: 0 0 0 0;\n",
              "      width: 32px;\n",
              "    }\n",
              "\n",
              "    .colab-df-convert:hover {\n",
              "      background-color: #E2EBFA;\n",
              "      box-shadow: 0px 1px 2px rgba(60, 64, 67, 0.3), 0px 1px 3px 1px rgba(60, 64, 67, 0.15);\n",
              "      fill: #174EA6;\n",
              "    }\n",
              "\n",
              "    [theme=dark] .colab-df-convert {\n",
              "      background-color: #3B4455;\n",
              "      fill: #D2E3FC;\n",
              "    }\n",
              "\n",
              "    [theme=dark] .colab-df-convert:hover {\n",
              "      background-color: #434B5C;\n",
              "      box-shadow: 0px 1px 3px 1px rgba(0, 0, 0, 0.15);\n",
              "      filter: drop-shadow(0px 1px 2px rgba(0, 0, 0, 0.3));\n",
              "      fill: #FFFFFF;\n",
              "    }\n",
              "  </style>\n",
              "\n",
              "      <script>\n",
              "        const buttonEl =\n",
              "          document.querySelector('#df-e92e7315-391a-4cbc-a2f7-0af5d049f270 button.colab-df-convert');\n",
              "        buttonEl.style.display =\n",
              "          google.colab.kernel.accessAllowed ? 'block' : 'none';\n",
              "\n",
              "        async function convertToInteractive(key) {\n",
              "          const element = document.querySelector('#df-e92e7315-391a-4cbc-a2f7-0af5d049f270');\n",
              "          const dataTable =\n",
              "            await google.colab.kernel.invokeFunction('convertToInteractive',\n",
              "                                                     [key], {});\n",
              "          if (!dataTable) return;\n",
              "\n",
              "          const docLinkHtml = 'Like what you see? Visit the ' +\n",
              "            '<a target=\"_blank\" href=https://colab.research.google.com/notebooks/data_table.ipynb>data table notebook</a>'\n",
              "            + ' to learn more about interactive tables.';\n",
              "          element.innerHTML = '';\n",
              "          dataTable['output_type'] = 'display_data';\n",
              "          await google.colab.output.renderOutput(dataTable, element);\n",
              "          const docLink = document.createElement('div');\n",
              "          docLink.innerHTML = docLinkHtml;\n",
              "          element.appendChild(docLink);\n",
              "        }\n",
              "      </script>\n",
              "    </div>\n",
              "  </div>\n",
              "  "
            ]
          },
          "metadata": {},
          "execution_count": 8
        }
      ]
    },
    {
      "cell_type": "code",
      "source": [
        "train_features.dtypes"
      ],
      "metadata": {
        "colab": {
          "base_uri": "https://localhost:8080/"
        },
        "id": "dTIRCuLEO6zy",
        "outputId": "8b57d96a-d7fc-45bc-b665-01d27e6a120f"
      },
      "execution_count": 9,
      "outputs": [
        {
          "output_type": "execute_result",
          "data": {
            "text/plain": [
              "h1n1_concern                   float64\n",
              "h1n1_knowledge                 float64\n",
              "behavioral_antiviral_meds      float64\n",
              "behavioral_avoidance           float64\n",
              "behavioral_face_mask           float64\n",
              "behavioral_wash_hands          float64\n",
              "behavioral_large_gatherings    float64\n",
              "behavioral_outside_home        float64\n",
              "behavioral_touch_face          float64\n",
              "doctor_recc_h1n1               float64\n",
              "doctor_recc_seasonal           float64\n",
              "chronic_med_condition          float64\n",
              "child_under_6_months           float64\n",
              "health_worker                  float64\n",
              "health_insurance               float64\n",
              "opinion_h1n1_vacc_effective    float64\n",
              "opinion_h1n1_risk              float64\n",
              "opinion_h1n1_sick_from_vacc    float64\n",
              "opinion_seas_vacc_effective    float64\n",
              "opinion_seas_risk              float64\n",
              "opinion_seas_sick_from_vacc    float64\n",
              "age_group                       object\n",
              "education                       object\n",
              "race                            object\n",
              "sex                             object\n",
              "income_poverty                  object\n",
              "marital_status                  object\n",
              "rent_or_own                     object\n",
              "employment_status               object\n",
              "hhs_geo_region                  object\n",
              "census_msa                      object\n",
              "household_adults               float64\n",
              "household_children             float64\n",
              "employment_industry             object\n",
              "employment_occupation           object\n",
              "dtype: object"
            ]
          },
          "metadata": {},
          "execution_count": 9
        }
      ]
    },
    {
      "cell_type": "code",
      "source": [
        "train_labels.dtypes"
      ],
      "metadata": {
        "colab": {
          "base_uri": "https://localhost:8080/"
        },
        "id": "X3zk8VaOz5po",
        "outputId": "121d593f-cb92-48c2-a8cb-790b73d3967e"
      },
      "execution_count": 10,
      "outputs": [
        {
          "output_type": "execute_result",
          "data": {
            "text/plain": [
              "h1n1_vaccine        int64\n",
              "seasonal_vaccine    int64\n",
              "dtype: object"
            ]
          },
          "metadata": {},
          "execution_count": 10
        }
      ]
    },
    {
      "cell_type": "code",
      "source": [
        "train = pd.merge(train_features, train_labels, on = 'respondent_id')\n",
        "print(train.shape)\n",
        "train.head()"
      ],
      "metadata": {
        "id": "UnVYxdGdt2LH",
        "outputId": "e2c90b47-f855-45e1-bd6f-11bd11f54fdd",
        "colab": {
          "base_uri": "https://localhost:8080/",
          "height": 488
        }
      },
      "execution_count": 11,
      "outputs": [
        {
          "output_type": "stream",
          "name": "stdout",
          "text": [
            "(26707, 37)\n"
          ]
        },
        {
          "output_type": "execute_result",
          "data": {
            "text/plain": [
              "               h1n1_concern  h1n1_knowledge  behavioral_antiviral_meds  \\\n",
              "respondent_id                                                            \n",
              "0                       1.0             0.0                        0.0   \n",
              "1                       3.0             2.0                        0.0   \n",
              "2                       1.0             1.0                        0.0   \n",
              "3                       1.0             1.0                        0.0   \n",
              "4                       2.0             1.0                        0.0   \n",
              "\n",
              "               behavioral_avoidance  behavioral_face_mask  \\\n",
              "respondent_id                                               \n",
              "0                               0.0                   0.0   \n",
              "1                               1.0                   0.0   \n",
              "2                               1.0                   0.0   \n",
              "3                               1.0                   0.0   \n",
              "4                               1.0                   0.0   \n",
              "\n",
              "               behavioral_wash_hands  behavioral_large_gatherings  \\\n",
              "respondent_id                                                       \n",
              "0                                0.0                          0.0   \n",
              "1                                1.0                          0.0   \n",
              "2                                0.0                          0.0   \n",
              "3                                1.0                          1.0   \n",
              "4                                1.0                          1.0   \n",
              "\n",
              "               behavioral_outside_home  behavioral_touch_face  \\\n",
              "respondent_id                                                   \n",
              "0                                  1.0                    1.0   \n",
              "1                                  1.0                    1.0   \n",
              "2                                  0.0                    0.0   \n",
              "3                                  0.0                    0.0   \n",
              "4                                  0.0                    1.0   \n",
              "\n",
              "               doctor_recc_h1n1  ...  rent_or_own   employment_status  \\\n",
              "respondent_id                    ...                                    \n",
              "0                           0.0  ...          Own  Not in Labor Force   \n",
              "1                           0.0  ...         Rent            Employed   \n",
              "2                           NaN  ...          Own            Employed   \n",
              "3                           0.0  ...         Rent  Not in Labor Force   \n",
              "4                           0.0  ...          Own            Employed   \n",
              "\n",
              "               hhs_geo_region                census_msa  household_adults  \\\n",
              "respondent_id                                                               \n",
              "0                    oxchjgsf                   Non-MSA               0.0   \n",
              "1                    bhuqouqj  MSA, Not Principle  City               0.0   \n",
              "2                    qufhixun  MSA, Not Principle  City               2.0   \n",
              "3                    lrircsnp       MSA, Principle City               0.0   \n",
              "4                    qufhixun  MSA, Not Principle  City               1.0   \n",
              "\n",
              "               household_children  employment_industry  employment_occupation  \\\n",
              "respondent_id                                                                   \n",
              "0                             0.0                  NaN                    NaN   \n",
              "1                             0.0             pxcmvdjn               xgwztkwe   \n",
              "2                             0.0             rucpziij               xtkaffoo   \n",
              "3                             0.0                  NaN                    NaN   \n",
              "4                             0.0             wxleyezf               emcorrxb   \n",
              "\n",
              "               h1n1_vaccine  seasonal_vaccine  \n",
              "respondent_id                                  \n",
              "0                         0                 0  \n",
              "1                         0                 1  \n",
              "2                         0                 0  \n",
              "3                         0                 1  \n",
              "4                         0                 0  \n",
              "\n",
              "[5 rows x 37 columns]"
            ],
            "text/html": [
              "\n",
              "  <div id=\"df-77dce8a9-bf50-475c-bea4-92528844fc84\">\n",
              "    <div class=\"colab-df-container\">\n",
              "      <div>\n",
              "<style scoped>\n",
              "    .dataframe tbody tr th:only-of-type {\n",
              "        vertical-align: middle;\n",
              "    }\n",
              "\n",
              "    .dataframe tbody tr th {\n",
              "        vertical-align: top;\n",
              "    }\n",
              "\n",
              "    .dataframe thead th {\n",
              "        text-align: right;\n",
              "    }\n",
              "</style>\n",
              "<table border=\"1\" class=\"dataframe\">\n",
              "  <thead>\n",
              "    <tr style=\"text-align: right;\">\n",
              "      <th></th>\n",
              "      <th>h1n1_concern</th>\n",
              "      <th>h1n1_knowledge</th>\n",
              "      <th>behavioral_antiviral_meds</th>\n",
              "      <th>behavioral_avoidance</th>\n",
              "      <th>behavioral_face_mask</th>\n",
              "      <th>behavioral_wash_hands</th>\n",
              "      <th>behavioral_large_gatherings</th>\n",
              "      <th>behavioral_outside_home</th>\n",
              "      <th>behavioral_touch_face</th>\n",
              "      <th>doctor_recc_h1n1</th>\n",
              "      <th>...</th>\n",
              "      <th>rent_or_own</th>\n",
              "      <th>employment_status</th>\n",
              "      <th>hhs_geo_region</th>\n",
              "      <th>census_msa</th>\n",
              "      <th>household_adults</th>\n",
              "      <th>household_children</th>\n",
              "      <th>employment_industry</th>\n",
              "      <th>employment_occupation</th>\n",
              "      <th>h1n1_vaccine</th>\n",
              "      <th>seasonal_vaccine</th>\n",
              "    </tr>\n",
              "    <tr>\n",
              "      <th>respondent_id</th>\n",
              "      <th></th>\n",
              "      <th></th>\n",
              "      <th></th>\n",
              "      <th></th>\n",
              "      <th></th>\n",
              "      <th></th>\n",
              "      <th></th>\n",
              "      <th></th>\n",
              "      <th></th>\n",
              "      <th></th>\n",
              "      <th></th>\n",
              "      <th></th>\n",
              "      <th></th>\n",
              "      <th></th>\n",
              "      <th></th>\n",
              "      <th></th>\n",
              "      <th></th>\n",
              "      <th></th>\n",
              "      <th></th>\n",
              "      <th></th>\n",
              "      <th></th>\n",
              "    </tr>\n",
              "  </thead>\n",
              "  <tbody>\n",
              "    <tr>\n",
              "      <th>0</th>\n",
              "      <td>1.0</td>\n",
              "      <td>0.0</td>\n",
              "      <td>0.0</td>\n",
              "      <td>0.0</td>\n",
              "      <td>0.0</td>\n",
              "      <td>0.0</td>\n",
              "      <td>0.0</td>\n",
              "      <td>1.0</td>\n",
              "      <td>1.0</td>\n",
              "      <td>0.0</td>\n",
              "      <td>...</td>\n",
              "      <td>Own</td>\n",
              "      <td>Not in Labor Force</td>\n",
              "      <td>oxchjgsf</td>\n",
              "      <td>Non-MSA</td>\n",
              "      <td>0.0</td>\n",
              "      <td>0.0</td>\n",
              "      <td>NaN</td>\n",
              "      <td>NaN</td>\n",
              "      <td>0</td>\n",
              "      <td>0</td>\n",
              "    </tr>\n",
              "    <tr>\n",
              "      <th>1</th>\n",
              "      <td>3.0</td>\n",
              "      <td>2.0</td>\n",
              "      <td>0.0</td>\n",
              "      <td>1.0</td>\n",
              "      <td>0.0</td>\n",
              "      <td>1.0</td>\n",
              "      <td>0.0</td>\n",
              "      <td>1.0</td>\n",
              "      <td>1.0</td>\n",
              "      <td>0.0</td>\n",
              "      <td>...</td>\n",
              "      <td>Rent</td>\n",
              "      <td>Employed</td>\n",
              "      <td>bhuqouqj</td>\n",
              "      <td>MSA, Not Principle  City</td>\n",
              "      <td>0.0</td>\n",
              "      <td>0.0</td>\n",
              "      <td>pxcmvdjn</td>\n",
              "      <td>xgwztkwe</td>\n",
              "      <td>0</td>\n",
              "      <td>1</td>\n",
              "    </tr>\n",
              "    <tr>\n",
              "      <th>2</th>\n",
              "      <td>1.0</td>\n",
              "      <td>1.0</td>\n",
              "      <td>0.0</td>\n",
              "      <td>1.0</td>\n",
              "      <td>0.0</td>\n",
              "      <td>0.0</td>\n",
              "      <td>0.0</td>\n",
              "      <td>0.0</td>\n",
              "      <td>0.0</td>\n",
              "      <td>NaN</td>\n",
              "      <td>...</td>\n",
              "      <td>Own</td>\n",
              "      <td>Employed</td>\n",
              "      <td>qufhixun</td>\n",
              "      <td>MSA, Not Principle  City</td>\n",
              "      <td>2.0</td>\n",
              "      <td>0.0</td>\n",
              "      <td>rucpziij</td>\n",
              "      <td>xtkaffoo</td>\n",
              "      <td>0</td>\n",
              "      <td>0</td>\n",
              "    </tr>\n",
              "    <tr>\n",
              "      <th>3</th>\n",
              "      <td>1.0</td>\n",
              "      <td>1.0</td>\n",
              "      <td>0.0</td>\n",
              "      <td>1.0</td>\n",
              "      <td>0.0</td>\n",
              "      <td>1.0</td>\n",
              "      <td>1.0</td>\n",
              "      <td>0.0</td>\n",
              "      <td>0.0</td>\n",
              "      <td>0.0</td>\n",
              "      <td>...</td>\n",
              "      <td>Rent</td>\n",
              "      <td>Not in Labor Force</td>\n",
              "      <td>lrircsnp</td>\n",
              "      <td>MSA, Principle City</td>\n",
              "      <td>0.0</td>\n",
              "      <td>0.0</td>\n",
              "      <td>NaN</td>\n",
              "      <td>NaN</td>\n",
              "      <td>0</td>\n",
              "      <td>1</td>\n",
              "    </tr>\n",
              "    <tr>\n",
              "      <th>4</th>\n",
              "      <td>2.0</td>\n",
              "      <td>1.0</td>\n",
              "      <td>0.0</td>\n",
              "      <td>1.0</td>\n",
              "      <td>0.0</td>\n",
              "      <td>1.0</td>\n",
              "      <td>1.0</td>\n",
              "      <td>0.0</td>\n",
              "      <td>1.0</td>\n",
              "      <td>0.0</td>\n",
              "      <td>...</td>\n",
              "      <td>Own</td>\n",
              "      <td>Employed</td>\n",
              "      <td>qufhixun</td>\n",
              "      <td>MSA, Not Principle  City</td>\n",
              "      <td>1.0</td>\n",
              "      <td>0.0</td>\n",
              "      <td>wxleyezf</td>\n",
              "      <td>emcorrxb</td>\n",
              "      <td>0</td>\n",
              "      <td>0</td>\n",
              "    </tr>\n",
              "  </tbody>\n",
              "</table>\n",
              "<p>5 rows × 37 columns</p>\n",
              "</div>\n",
              "      <button class=\"colab-df-convert\" onclick=\"convertToInteractive('df-77dce8a9-bf50-475c-bea4-92528844fc84')\"\n",
              "              title=\"Convert this dataframe to an interactive table.\"\n",
              "              style=\"display:none;\">\n",
              "        \n",
              "  <svg xmlns=\"http://www.w3.org/2000/svg\" height=\"24px\"viewBox=\"0 0 24 24\"\n",
              "       width=\"24px\">\n",
              "    <path d=\"M0 0h24v24H0V0z\" fill=\"none\"/>\n",
              "    <path d=\"M18.56 5.44l.94 2.06.94-2.06 2.06-.94-2.06-.94-.94-2.06-.94 2.06-2.06.94zm-11 1L8.5 8.5l.94-2.06 2.06-.94-2.06-.94L8.5 2.5l-.94 2.06-2.06.94zm10 10l.94 2.06.94-2.06 2.06-.94-2.06-.94-.94-2.06-.94 2.06-2.06.94z\"/><path d=\"M17.41 7.96l-1.37-1.37c-.4-.4-.92-.59-1.43-.59-.52 0-1.04.2-1.43.59L10.3 9.45l-7.72 7.72c-.78.78-.78 2.05 0 2.83L4 21.41c.39.39.9.59 1.41.59.51 0 1.02-.2 1.41-.59l7.78-7.78 2.81-2.81c.8-.78.8-2.07 0-2.86zM5.41 20L4 18.59l7.72-7.72 1.47 1.35L5.41 20z\"/>\n",
              "  </svg>\n",
              "      </button>\n",
              "      \n",
              "  <style>\n",
              "    .colab-df-container {\n",
              "      display:flex;\n",
              "      flex-wrap:wrap;\n",
              "      gap: 12px;\n",
              "    }\n",
              "\n",
              "    .colab-df-convert {\n",
              "      background-color: #E8F0FE;\n",
              "      border: none;\n",
              "      border-radius: 50%;\n",
              "      cursor: pointer;\n",
              "      display: none;\n",
              "      fill: #1967D2;\n",
              "      height: 32px;\n",
              "      padding: 0 0 0 0;\n",
              "      width: 32px;\n",
              "    }\n",
              "\n",
              "    .colab-df-convert:hover {\n",
              "      background-color: #E2EBFA;\n",
              "      box-shadow: 0px 1px 2px rgba(60, 64, 67, 0.3), 0px 1px 3px 1px rgba(60, 64, 67, 0.15);\n",
              "      fill: #174EA6;\n",
              "    }\n",
              "\n",
              "    [theme=dark] .colab-df-convert {\n",
              "      background-color: #3B4455;\n",
              "      fill: #D2E3FC;\n",
              "    }\n",
              "\n",
              "    [theme=dark] .colab-df-convert:hover {\n",
              "      background-color: #434B5C;\n",
              "      box-shadow: 0px 1px 3px 1px rgba(0, 0, 0, 0.15);\n",
              "      filter: drop-shadow(0px 1px 2px rgba(0, 0, 0, 0.3));\n",
              "      fill: #FFFFFF;\n",
              "    }\n",
              "  </style>\n",
              "\n",
              "      <script>\n",
              "        const buttonEl =\n",
              "          document.querySelector('#df-77dce8a9-bf50-475c-bea4-92528844fc84 button.colab-df-convert');\n",
              "        buttonEl.style.display =\n",
              "          google.colab.kernel.accessAllowed ? 'block' : 'none';\n",
              "\n",
              "        async function convertToInteractive(key) {\n",
              "          const element = document.querySelector('#df-77dce8a9-bf50-475c-bea4-92528844fc84');\n",
              "          const dataTable =\n",
              "            await google.colab.kernel.invokeFunction('convertToInteractive',\n",
              "                                                     [key], {});\n",
              "          if (!dataTable) return;\n",
              "\n",
              "          const docLinkHtml = 'Like what you see? Visit the ' +\n",
              "            '<a target=\"_blank\" href=https://colab.research.google.com/notebooks/data_table.ipynb>data table notebook</a>'\n",
              "            + ' to learn more about interactive tables.';\n",
              "          element.innerHTML = '';\n",
              "          dataTable['output_type'] = 'display_data';\n",
              "          await google.colab.output.renderOutput(dataTable, element);\n",
              "          const docLink = document.createElement('div');\n",
              "          docLink.innerHTML = docLinkHtml;\n",
              "          element.appendChild(docLink);\n",
              "        }\n",
              "      </script>\n",
              "    </div>\n",
              "  </div>\n",
              "  "
            ]
          },
          "metadata": {},
          "execution_count": 11
        }
      ]
    },
    {
      "cell_type": "markdown",
      "source": [
        "## train_labels 살펴보기"
      ],
      "metadata": {
        "id": "4-l7YN14SOu6"
      }
    },
    {
      "cell_type": "code",
      "source": [
        "import matplotlib.pyplot as plt"
      ],
      "metadata": {
        "id": "00CLLpsbPS19"
      },
      "execution_count": 12,
      "outputs": []
    },
    {
      "cell_type": "code",
      "source": [
        "fig, ax = plt.subplots(2, 1, sharex = True)       # (2,1) 프레임 설정하기\n",
        "\n",
        "n_obs = train[['h1n1_vaccine', 'seasonal_vaccine']].shape[0]                     # 관측지 개수 (=행 개수)\n",
        "\n",
        "(train['h1n1_vaccine'].value_counts().div(n_obs).plot.barh(title = 'Proportion of H1N1 Vaccine', ax = ax[0]))\n",
        "ax[0].set_ylabel('h1n1_vaccine')\n",
        "\n",
        "(train['seasonal_vaccine'].value_counts().div(n_obs).plot.barh(title = 'Proportion of Seasonal Vaccine', ax = ax[1]))\n",
        "ax[1].set_ylabel('seasonal_vaccine')\n",
        "\n",
        "fig.tight_layout()"
      ],
      "metadata": {
        "id": "rVCROuxPuaRt",
        "outputId": "19aa5f93-5613-4a7e-ff9e-b308d2bee746",
        "colab": {
          "base_uri": "https://localhost:8080/",
          "height": 297
        }
      },
      "execution_count": 13,
      "outputs": [
        {
          "output_type": "display_data",
          "data": {
            "text/plain": [
              "<Figure size 432x288 with 2 Axes>"
            ],
            "image/png": "[encoded data removed]"
          },
          "metadata": {
            "needs_background": "light"
          }
        }
      ]
    },
    {
      "cell_type": "markdown",
      "source": [
        "- 대략적으로 절반 이상의 사람들이 계절독감백신은 접종했지만, H1N1의 경우 20%만이 접종을 받은 것으로 보임\n",
        "- seasonal flu vaccine은 balanced classes를 가짐, h1n1 vaccine은 imbalanced classes."
      ],
      "metadata": {
        "id": "UsVZ0MRmQ30V"
      }
    },
    {
      "cell_type": "code",
      "source": [
        "## 두 target 변수가 독립적일까?\n",
        "\n",
        "pd.crosstab(\n",
        "    train['h1n1_vaccine'],\n",
        "    train['seasonal_vaccine'],\n",
        "    margins = True,\n",
        "    normalize = True\n",
        ")"
      ],
      "metadata": {
        "colab": {
          "base_uri": "https://localhost:8080/",
          "height": 175
        },
        "id": "BV1CVnZHQCgo",
        "outputId": "40527d95-9b0c-41c4-995d-ace5ef4fa344"
      },
      "execution_count": 14,
      "outputs": [
        {
          "output_type": "execute_result",
          "data": {
            "text/plain": [
              "seasonal_vaccine         0         1       All\n",
              "h1n1_vaccine                                  \n",
              "0                 0.497810  0.289737  0.787546\n",
              "1                 0.036582  0.175871  0.212454\n",
              "All               0.534392  0.465608  1.000000"
            ],
            "text/html": [
              "\n",
              "  <div id=\"df-91b18d8a-cbc5-4dd5-abfe-ea5423507cdf\">\n",
              "    <div class=\"colab-df-container\">\n",
              "      <div>\n",
              "<style scoped>\n",
              "    .dataframe tbody tr th:only-of-type {\n",
              "        vertical-align: middle;\n",
              "    }\n",
              "\n",
              "    .dataframe tbody tr th {\n",
              "        vertical-align: top;\n",
              "    }\n",
              "\n",
              "    .dataframe thead th {\n",
              "        text-align: right;\n",
              "    }\n",
              "</style>\n",
              "<table border=\"1\" class=\"dataframe\">\n",
              "  <thead>\n",
              "    <tr style=\"text-align: right;\">\n",
              "      <th>seasonal_vaccine</th>\n",
              "      <th>0</th>\n",
              "      <th>1</th>\n",
              "      <th>All</th>\n",
              "    </tr>\n",
              "    <tr>\n",
              "      <th>h1n1_vaccine</th>\n",
              "      <th></th>\n",
              "      <th></th>\n",
              "      <th></th>\n",
              "    </tr>\n",
              "  </thead>\n",
              "  <tbody>\n",
              "    <tr>\n",
              "      <th>0</th>\n",
              "      <td>0.497810</td>\n",
              "      <td>0.289737</td>\n",
              "      <td>0.787546</td>\n",
              "    </tr>\n",
              "    <tr>\n",
              "      <th>1</th>\n",
              "      <td>0.036582</td>\n",
              "      <td>0.175871</td>\n",
              "      <td>0.212454</td>\n",
              "    </tr>\n",
              "    <tr>\n",
              "      <th>All</th>\n",
              "      <td>0.534392</td>\n",
              "      <td>0.465608</td>\n",
              "      <td>1.000000</td>\n",
              "    </tr>\n",
              "  </tbody>\n",
              "</table>\n",
              "</div>\n",
              "      <button class=\"colab-df-convert\" onclick=\"convertToInteractive('df-91b18d8a-cbc5-4dd5-abfe-ea5423507cdf')\"\n",
              "              title=\"Convert this dataframe to an interactive table.\"\n",
              "              style=\"display:none;\">\n",
              "        \n",
              "  <svg xmlns=\"http://www.w3.org/2000/svg\" height=\"24px\"viewBox=\"0 0 24 24\"\n",
              "       width=\"24px\">\n",
              "    <path d=\"M0 0h24v24H0V0z\" fill=\"none\"/>\n",
              "    <path d=\"M18.56 5.44l.94 2.06.94-2.06 2.06-.94-2.06-.94-.94-2.06-.94 2.06-2.06.94zm-11 1L8.5 8.5l.94-2.06 2.06-.94-2.06-.94L8.5 2.5l-.94 2.06-2.06.94zm10 10l.94 2.06.94-2.06 2.06-.94-2.06-.94-.94-2.06-.94 2.06-2.06.94z\"/><path d=\"M17.41 7.96l-1.37-1.37c-.4-.4-.92-.59-1.43-.59-.52 0-1.04.2-1.43.59L10.3 9.45l-7.72 7.72c-.78.78-.78 2.05 0 2.83L4 21.41c.39.39.9.59 1.41.59.51 0 1.02-.2 1.41-.59l7.78-7.78 2.81-2.81c.8-.78.8-2.07 0-2.86zM5.41 20L4 18.59l7.72-7.72 1.47 1.35L5.41 20z\"/>\n",
              "  </svg>\n",
              "      </button>\n",
              "      \n",
              "  <style>\n",
              "    .colab-df-container {\n",
              "      display:flex;\n",
              "      flex-wrap:wrap;\n",
              "      gap: 12px;\n",
              "    }\n",
              "\n",
              "    .colab-df-convert {\n",
              "      background-color: #E8F0FE;\n",
              "      border: none;\n",
              "      border-radius: 50%;\n",
              "      cursor: pointer;\n",
              "      display: none;\n",
              "      fill: #1967D2;\n",
              "      height: 32px;\n",
              "      padding: 0 0 0 0;\n",
              "      width: 32px;\n",
              "    }\n",
              "\n",
              "    .colab-df-convert:hover {\n",
              "      background-color: #E2EBFA;\n",
              "      box-shadow: 0px 1px 2px rgba(60, 64, 67, 0.3), 0px 1px 3px 1px rgba(60, 64, 67, 0.15);\n",
              "      fill: #174EA6;\n",
              "    }\n",
              "\n",
              "    [theme=dark] .colab-df-convert {\n",
              "      background-color: #3B4455;\n",
              "      fill: #D2E3FC;\n",
              "    }\n",
              "\n",
              "    [theme=dark] .colab-df-convert:hover {\n",
              "      background-color: #434B5C;\n",
              "      box-shadow: 0px 1px 3px 1px rgba(0, 0, 0, 0.15);\n",
              "      filter: drop-shadow(0px 1px 2px rgba(0, 0, 0, 0.3));\n",
              "      fill: #FFFFFF;\n",
              "    }\n",
              "  </style>\n",
              "\n",
              "      <script>\n",
              "        const buttonEl =\n",
              "          document.querySelector('#df-91b18d8a-cbc5-4dd5-abfe-ea5423507cdf button.colab-df-convert');\n",
              "        buttonEl.style.display =\n",
              "          google.colab.kernel.accessAllowed ? 'block' : 'none';\n",
              "\n",
              "        async function convertToInteractive(key) {\n",
              "          const element = document.querySelector('#df-91b18d8a-cbc5-4dd5-abfe-ea5423507cdf');\n",
              "          const dataTable =\n",
              "            await google.colab.kernel.invokeFunction('convertToInteractive',\n",
              "                                                     [key], {});\n",
              "          if (!dataTable) return;\n",
              "\n",
              "          const docLinkHtml = 'Like what you see? Visit the ' +\n",
              "            '<a target=\"_blank\" href=https://colab.research.google.com/notebooks/data_table.ipynb>data table notebook</a>'\n",
              "            + ' to learn more about interactive tables.';\n",
              "          element.innerHTML = '';\n",
              "          dataTable['output_type'] = 'display_data';\n",
              "          await google.colab.output.renderOutput(dataTable, element);\n",
              "          const docLink = document.createElement('div');\n",
              "          docLink.innerHTML = docLinkHtml;\n",
              "          element.appendChild(docLink);\n",
              "        }\n",
              "      </script>\n",
              "    </div>\n",
              "  </div>\n",
              "  "
            ]
          },
          "metadata": {},
          "execution_count": 14
        }
      ]
    },
    {
      "cell_type": "markdown",
      "source": [
        "- 계절독감 접종은 받았지만 h1n1 접종은 받지 않은 비율이 반대의 경우보다 훨씬 낮음\n",
        "- h1n1보다 계절독감 접종률이 전반적으로 중요시되고 있다는 점을 확인할 수 있음"
      ],
      "metadata": {
        "id": "wtmhcBGF4hvb"
      }
    },
    {
      "cell_type": "code",
      "source": [
        "## phi coefficient is the same as Pearson for two binary variables\n",
        "\n",
        "(train_labels['h1n1_vaccine'].corr(train_labels['seasonal_vaccine'], method = 'pearson'))"
      ],
      "metadata": {
        "colab": {
          "base_uri": "https://localhost:8080/"
        },
        "id": "CQ1Iir3PRf2s",
        "outputId": "ae3aa8c9-537a-4a14-ab5f-14f1b07e479e"
      },
      "execution_count": 15,
      "outputs": [
        {
          "output_type": "execute_result",
          "data": {
            "text/plain": [
              "0.37714265306144473"
            ]
          },
          "metadata": {},
          "execution_count": 15
        }
      ]
    },
    {
      "cell_type": "markdown",
      "source": [
        "- phi coefficient = 0.37, moderate positive correlation"
      ],
      "metadata": {
        "id": "jAC88of5R4Xl"
      }
    },
    {
      "cell_type": "markdown",
      "source": [
        "## train_features 살펴보기"
      ],
      "metadata": {
        "id": "mo1J7PxBSS6k"
      }
    },
    {
      "cell_type": "code",
      "source": [
        "# joined = train_features.join(train_labels)\n",
        "# print(joined.shape)\n",
        "# joined.head()"
      ],
      "metadata": {
        "id": "tzlgP7-iSW5Q"
      },
      "execution_count": 16,
      "outputs": []
    },
    {
      "cell_type": "markdown",
      "source": [
        "### feature와 target 관계 시각화"
      ],
      "metadata": {
        "id": "rz8u7rb86qLz"
      }
    },
    {
      "cell_type": "code",
      "source": [
        "## feature와 target 상관관계\n",
        "\n",
        "\n",
        "## h1n1_conern에 따른 h1n1_vaccine의 케이스 개수\n",
        "counts = (train[['h1n1_concern', 'h1n1_vaccine']]\n",
        "          .groupby(['h1n1_concern', 'h1n1_vaccine'])\n",
        "          .size()\n",
        "          .unstack('h1n1_vaccine'))\n",
        "\n",
        "\n",
        "## h1n1_concern에 따른 h1n1_vaccine의 케이스 비율\n",
        "h1n1_concern_counts = counts.sum(axis = 'columns')\n",
        "props = counts.div(h1n1_concern_counts, axis = 'index')\n",
        "props"
      ],
      "metadata": {
        "colab": {
          "base_uri": "https://localhost:8080/",
          "height": 206
        },
        "id": "4Wo3nvBkmale",
        "outputId": "cbc80c07-e512-41f7-9259-d5bd0eef1c43"
      },
      "execution_count": 17,
      "outputs": [
        {
          "output_type": "execute_result",
          "data": {
            "text/plain": [
              "h1n1_vaccine         0         1\n",
              "h1n1_concern                    \n",
              "0.0           0.864381  0.135619\n",
              "1.0           0.828652  0.171348\n",
              "2.0           0.766147  0.233853\n",
              "3.0           0.707907  0.292093"
            ],
            "text/html": [
              "\n",
              "  <div id=\"df-f2a6e631-0edb-4c1d-b86c-6920d9a0428a\">\n",
              "    <div class=\"colab-df-container\">\n",
              "      <div>\n",
              "<style scoped>\n",
              "    .dataframe tbody tr th:only-of-type {\n",
              "        vertical-align: middle;\n",
              "    }\n",
              "\n",
              "    .dataframe tbody tr th {\n",
              "        vertical-align: top;\n",
              "    }\n",
              "\n",
              "    .dataframe thead th {\n",
              "        text-align: right;\n",
              "    }\n",
              "</style>\n",
              "<table border=\"1\" class=\"dataframe\">\n",
              "  <thead>\n",
              "    <tr style=\"text-align: right;\">\n",
              "      <th>h1n1_vaccine</th>\n",
              "      <th>0</th>\n",
              "      <th>1</th>\n",
              "    </tr>\n",
              "    <tr>\n",
              "      <th>h1n1_concern</th>\n",
              "      <th></th>\n",
              "      <th></th>\n",
              "    </tr>\n",
              "  </thead>\n",
              "  <tbody>\n",
              "    <tr>\n",
              "      <th>0.0</th>\n",
              "      <td>0.864381</td>\n",
              "      <td>0.135619</td>\n",
              "    </tr>\n",
              "    <tr>\n",
              "      <th>1.0</th>\n",
              "      <td>0.828652</td>\n",
              "      <td>0.171348</td>\n",
              "    </tr>\n",
              "    <tr>\n",
              "      <th>2.0</th>\n",
              "      <td>0.766147</td>\n",
              "      <td>0.233853</td>\n",
              "    </tr>\n",
              "    <tr>\n",
              "      <th>3.0</th>\n",
              "      <td>0.707907</td>\n",
              "      <td>0.292093</td>\n",
              "    </tr>\n",
              "  </tbody>\n",
              "</table>\n",
              "</div>\n",
              "      <button class=\"colab-df-convert\" onclick=\"convertToInteractive('df-f2a6e631-0edb-4c1d-b86c-6920d9a0428a')\"\n",
              "              title=\"Convert this dataframe to an interactive table.\"\n",
              "              style=\"display:none;\">\n",
              "        \n",
              "  <svg xmlns=\"http://www.w3.org/2000/svg\" height=\"24px\"viewBox=\"0 0 24 24\"\n",
              "       width=\"24px\">\n",
              "    <path d=\"M0 0h24v24H0V0z\" fill=\"none\"/>\n",
              "    <path d=\"M18.56 5.44l.94 2.06.94-2.06 2.06-.94-2.06-.94-.94-2.06-.94 2.06-2.06.94zm-11 1L8.5 8.5l.94-2.06 2.06-.94-2.06-.94L8.5 2.5l-.94 2.06-2.06.94zm10 10l.94 2.06.94-2.06 2.06-.94-2.06-.94-.94-2.06-.94 2.06-2.06.94z\"/><path d=\"M17.41 7.96l-1.37-1.37c-.4-.4-.92-.59-1.43-.59-.52 0-1.04.2-1.43.59L10.3 9.45l-7.72 7.72c-.78.78-.78 2.05 0 2.83L4 21.41c.39.39.9.59 1.41.59.51 0 1.02-.2 1.41-.59l7.78-7.78 2.81-2.81c.8-.78.8-2.07 0-2.86zM5.41 20L4 18.59l7.72-7.72 1.47 1.35L5.41 20z\"/>\n",
              "  </svg>\n",
              "      </button>\n",
              "      \n",
              "  <style>\n",
              "    .colab-df-container {\n",
              "      display:flex;\n",
              "      flex-wrap:wrap;\n",
              "      gap: 12px;\n",
              "    }\n",
              "\n",
              "    .colab-df-convert {\n",
              "      background-color: #E8F0FE;\n",
              "      border: none;\n",
              "      border-radius: 50%;\n",
              "      cursor: pointer;\n",
              "      display: none;\n",
              "      fill: #1967D2;\n",
              "      height: 32px;\n",
              "      padding: 0 0 0 0;\n",
              "      width: 32px;\n",
              "    }\n",
              "\n",
              "    .colab-df-convert:hover {\n",
              "      background-color: #E2EBFA;\n",
              "      box-shadow: 0px 1px 2px rgba(60, 64, 67, 0.3), 0px 1px 3px 1px rgba(60, 64, 67, 0.15);\n",
              "      fill: #174EA6;\n",
              "    }\n",
              "\n",
              "    [theme=dark] .colab-df-convert {\n",
              "      background-color: #3B4455;\n",
              "      fill: #D2E3FC;\n",
              "    }\n",
              "\n",
              "    [theme=dark] .colab-df-convert:hover {\n",
              "      background-color: #434B5C;\n",
              "      box-shadow: 0px 1px 3px 1px rgba(0, 0, 0, 0.15);\n",
              "      filter: drop-shadow(0px 1px 2px rgba(0, 0, 0, 0.3));\n",
              "      fill: #FFFFFF;\n",
              "    }\n",
              "  </style>\n",
              "\n",
              "      <script>\n",
              "        const buttonEl =\n",
              "          document.querySelector('#df-f2a6e631-0edb-4c1d-b86c-6920d9a0428a button.colab-df-convert');\n",
              "        buttonEl.style.display =\n",
              "          google.colab.kernel.accessAllowed ? 'block' : 'none';\n",
              "\n",
              "        async function convertToInteractive(key) {\n",
              "          const element = document.querySelector('#df-f2a6e631-0edb-4c1d-b86c-6920d9a0428a');\n",
              "          const dataTable =\n",
              "            await google.colab.kernel.invokeFunction('convertToInteractive',\n",
              "                                                     [key], {});\n",
              "          if (!dataTable) return;\n",
              "\n",
              "          const docLinkHtml = 'Like what you see? Visit the ' +\n",
              "            '<a target=\"_blank\" href=https://colab.research.google.com/notebooks/data_table.ipynb>data table notebook</a>'\n",
              "            + ' to learn more about interactive tables.';\n",
              "          element.innerHTML = '';\n",
              "          dataTable['output_type'] = 'display_data';\n",
              "          await google.colab.output.renderOutput(dataTable, element);\n",
              "          const docLink = document.createElement('div');\n",
              "          docLink.innerHTML = docLinkHtml;\n",
              "          element.appendChild(docLink);\n",
              "        }\n",
              "      </script>\n",
              "    </div>\n",
              "  </div>\n",
              "  "
            ]
          },
          "metadata": {},
          "execution_count": 17
        }
      ]
    },
    {
      "cell_type": "code",
      "source": [
        "# ## stack bar\n",
        "\n",
        "# ax = props.plot.barh(stacked = True)\n",
        "# ax.invert_yaxis()\n",
        "# ax.legend(\n",
        "#     loc = 'center left',\n",
        "#     bbox_to_anchor = (1.05, 0.5),\n",
        "#     title = 'h1n1_vaccine'\n",
        "# )"
      ],
      "metadata": {
        "id": "C0INomudn9GY"
      },
      "execution_count": 18,
      "outputs": []
    },
    {
      "cell_type": "markdown",
      "source": [
        "- h1n1_concern 각 레벨의 합은 1\n",
        "- 대부분의 사람들이 h1n1 백신을 접종하지 않았음\n",
        "- h1n1_concern이 높은 사람일수록 백신 접종 확률이 높음"
      ],
      "metadata": {
        "id": "do3pbiSUoHfR"
      }
    },
    {
      "cell_type": "code",
      "source": [
        "def vaccination_rate_plot(col, target, data, ax=None):\n",
        "    \"\"\"Stacked bar chart of vaccination rate for `target` against \n",
        "    `col`. \n",
        "    \n",
        "    Args:\n",
        "        col (string): column name of feature variable\n",
        "        target (string): column name of target variable\n",
        "        data (pandas DataFrame): dataframe that contains columns \n",
        "            `col` and `target`\n",
        "        ax (matplotlib axes object, optional): matplotlib axes \n",
        "            object to attach plot to\n",
        "    \"\"\"\n",
        "    counts = (train[[target, col]]\n",
        "                  .groupby([target, col])\n",
        "                  .size()\n",
        "                  .unstack(target)\n",
        "             )\n",
        "    group_counts = counts.sum(axis='columns')\n",
        "    props = counts.div(group_counts, axis='index')\n",
        "\n",
        "    props.plot(kind=\"barh\", stacked=True, ax=ax)\n",
        "    ax.invert_yaxis()\n",
        "    ax.legend().remove()"
      ],
      "metadata": {
        "id": "45917ChRotqN"
      },
      "execution_count": 19,
      "outputs": []
    },
    {
      "cell_type": "markdown",
      "source": [
        "#### h1n1과의 관계"
      ],
      "metadata": {
        "id": "_YzAmMXn6KeI"
      }
    },
    {
      "cell_type": "code",
      "source": [
        "# h1n1\n",
        "\n",
        "cols_to_plot = [\n",
        "    'h1n1_concern',\n",
        "    'h1n1_knowledge'\n",
        "]\n",
        "\n",
        "fig, ax = plt.subplots(\n",
        "    len(cols_to_plot), 2, figsize=(9,len(cols_to_plot)*2.5)\n",
        ")\n",
        "for idx, col in enumerate(cols_to_plot):\n",
        "    vaccination_rate_plot(\n",
        "        col, 'h1n1_vaccine', train, ax=ax[idx, 0]\n",
        "    )\n",
        "    vaccination_rate_plot(\n",
        "        col, 'seasonal_vaccine', train, ax=ax[idx, 1]\n",
        "    )\n",
        "    \n",
        "ax[0, 0].legend(\n",
        "    loc='lower center', bbox_to_anchor=(0.5, 1.05), title='h1n1_vaccine'\n",
        ")\n",
        "ax[0, 1].legend(\n",
        "    loc='lower center', bbox_to_anchor=(0.5, 1.05), title='seasonal_vaccine'\n",
        ")\n",
        "fig.tight_layout()"
      ],
      "metadata": {
        "colab": {
          "base_uri": "https://localhost:8080/",
          "height": 369
        },
        "outputId": "204f1b2c-abaa-43bd-d7cf-bf9c3bc5192d",
        "id": "kN1EdjyR5v2y"
      },
      "execution_count": 20,
      "outputs": [
        {
          "output_type": "display_data",
          "data": {
            "text/plain": [
              "<Figure size 648x360 with 4 Axes>"
            ],
            "image/png": "[encoded data removed]"
          },
          "metadata": {
            "needs_background": "light"
          }
        }
      ]
    },
    {
      "cell_type": "markdown",
      "source": [
        "- h1n1과 계절독감 모두 의식이나 관련 지식을 가지고 있을수록 접종률이 높음"
      ],
      "metadata": {
        "id": "KAyss74xeLEV"
      }
    },
    {
      "cell_type": "markdown",
      "source": [
        "#### opinion과의 관계"
      ],
      "metadata": {
        "id": "ePXrWEIf8mVP"
      }
    },
    {
      "cell_type": "code",
      "source": [
        "# opinion\n",
        "\n",
        "cols_to_plot = [\n",
        "    'opinion_h1n1_vacc_effective',\n",
        "    'opinion_h1n1_risk',\n",
        "    'opinion_h1n1_sick_from_vacc',\n",
        "    'opinion_seas_vacc_effective',\n",
        "    'opinion_seas_risk',\n",
        "    'opinion_seas_sick_from_vacc'\n",
        "]\n",
        "\n",
        "fig, ax = plt.subplots(\n",
        "    len(cols_to_plot), 2, figsize=(9,len(cols_to_plot)*2.5)\n",
        ")\n",
        "for idx, col in enumerate(cols_to_plot):\n",
        "    vaccination_rate_plot(\n",
        "        col, 'h1n1_vaccine', train, ax=ax[idx, 0]\n",
        "    )\n",
        "    vaccination_rate_plot(\n",
        "        col, 'seasonal_vaccine', train, ax=ax[idx, 1]\n",
        "    )\n",
        "    \n",
        "ax[0, 0].legend(\n",
        "    loc='lower center', bbox_to_anchor=(0.5, 1.05), title='h1n1_vaccine'\n",
        ")\n",
        "ax[0, 1].legend(\n",
        "    loc='lower center', bbox_to_anchor=(0.5, 1.05), title='seasonal_vaccine'\n",
        ")\n",
        "fig.tight_layout()"
      ],
      "metadata": {
        "colab": {
          "base_uri": "https://localhost:8080/",
          "height": 1000
        },
        "id": "hduFyU877BcP",
        "outputId": "4ae5e3ad-15a7-45a3-cee3-891d4528990d"
      },
      "execution_count": 21,
      "outputs": [
        {
          "output_type": "display_data",
          "data": {
            "text/plain": [
              "<Figure size 648x1080 with 12 Axes>"
            ],
            "image/png": "[encoded data removed]"
          },
          "metadata": {
            "needs_background": "light"
          }
        }
      ]
    },
    {
      "cell_type": "markdown",
      "source": [
        "- h1n1과 계절독감 백신 모두 opinion의 각 특성에서 비슷한 대답 결과를 보여줌\n",
        "\n",
        "  - 백신의 효과를 긍정적으로 바라볼수록 접종률이 높음\n",
        "  - 백신이 위험하다는 생각을 가지고 있더라도 접종을 하는 편\n",
        "  - 백신 접종 후 통증 여부는 접종과 큰 관련이 없는 것으로 보임"
      ],
      "metadata": {
        "id": "fp1aMpfsebk_"
      }
    },
    {
      "cell_type": "markdown",
      "source": [
        "#### behavioral과의 관계"
      ],
      "metadata": {
        "id": "xVv2lu9h8sAL"
      }
    },
    {
      "cell_type": "code",
      "source": [
        "# behavioral\n",
        "\n",
        "cols_to_plot = [\n",
        " 'behavioral_antiviral_meds', \n",
        " 'behavioral_avoidance', \n",
        " 'behavioral_face_mask', \n",
        " 'behavioral_wash_hands', \n",
        " 'behavioral_large_gatherings', \n",
        " 'behavioral_outside_home', \n",
        " 'behavioral_touch_face'\n",
        "]\n",
        "\n",
        "fig, ax = plt.subplots(\n",
        "    len(cols_to_plot), 2, figsize=(9,len(cols_to_plot)*2.5)\n",
        ")\n",
        "for idx, col in enumerate(cols_to_plot):\n",
        "    vaccination_rate_plot(\n",
        "        col, 'h1n1_vaccine', train, ax=ax[idx, 0]\n",
        "    )\n",
        "    vaccination_rate_plot(\n",
        "        col, 'seasonal_vaccine', train, ax=ax[idx, 1]\n",
        "    )\n",
        "    \n",
        "ax[0, 0].legend(\n",
        "    loc='lower center', bbox_to_anchor=(0.5, 1.05), title='h1n1_vaccine'\n",
        ")\n",
        "ax[0, 1].legend(\n",
        "    loc='lower center', bbox_to_anchor=(0.5, 1.05), title='seasonal_vaccine'\n",
        ")\n",
        "fig.tight_layout()"
      ],
      "metadata": {
        "colab": {
          "base_uri": "https://localhost:8080/",
          "height": 1000
        },
        "id": "A6-AOLgx7CUL",
        "outputId": "68e173ce-abfc-4c9d-a2a4-ef5539e1dc7e"
      },
      "execution_count": 22,
      "outputs": [
        {
          "output_type": "display_data",
          "data": {
            "text/plain": [
              "<Figure size 648x1260 with 14 Axes>"
            ],
            "image/png": "[encoded data removed]"
          },
          "metadata": {
            "needs_background": "light"
          }
        }
      ]
    },
    {
      "cell_type": "markdown",
      "source": [
        "- 전반적으로 위생 개념이 철저한 사람들일수록 백신을 접종받음\n",
        "- 접종여부 간 큰 차이는 보이지 않으므로 behavioral의 특성은 크게 유의하지 않은 것으로 보임"
      ],
      "metadata": {
        "id": "PQWL19TgfmX_"
      }
    },
    {
      "cell_type": "markdown",
      "source": [
        "#### doctor과의 관계"
      ],
      "metadata": {
        "id": "E2BTaf5r9NNB"
      }
    },
    {
      "cell_type": "code",
      "source": [
        "# doctor\n",
        "\n",
        "cols_to_plot = [\n",
        "                'doctor_recc_h1n1', \n",
        "                'doctor_recc_seasonal' \n",
        "]\n",
        "\n",
        "fig, ax = plt.subplots(\n",
        "    len(cols_to_plot), 2, figsize=(9,len(cols_to_plot)*2.5)\n",
        ")\n",
        "for idx, col in enumerate(cols_to_plot):\n",
        "    vaccination_rate_plot(\n",
        "        col, 'h1n1_vaccine', train, ax=ax[idx, 0]\n",
        "    )\n",
        "    vaccination_rate_plot(\n",
        "        col, 'seasonal_vaccine', train, ax=ax[idx, 1]\n",
        "    )\n",
        "    \n",
        "ax[0, 0].legend(\n",
        "    loc='lower center', bbox_to_anchor=(0.5, 1.05), title='h1n1_vaccine'\n",
        ")\n",
        "ax[0, 1].legend(\n",
        "    loc='lower center', bbox_to_anchor=(0.5, 1.05), title='seasonal_vaccine'\n",
        ")\n",
        "fig.tight_layout()"
      ],
      "metadata": {
        "colab": {
          "base_uri": "https://localhost:8080/",
          "height": 369
        },
        "id": "mBqS48aI7ChM",
        "outputId": "aac41d5e-592b-458e-9893-6e8e3b92deaf"
      },
      "execution_count": 23,
      "outputs": [
        {
          "output_type": "display_data",
          "data": {
            "text/plain": [
              "<Figure size 648x360 with 4 Axes>"
            ],
            "image/png": "[encoded data removed]"
          },
          "metadata": {
            "needs_background": "light"
          }
        }
      ]
    },
    {
      "cell_type": "markdown",
      "source": [
        "- 의사의 백신 접종 권유가 있을수록 백신을 접종받을 확률이 높음\n",
        "- 의사가 h1n1을 권유한 경우 h1n1을, 계절독감을 권유한 경우 게절독감 백신을 접종받은 케이스가 많음\n",
        "- 반대의 백신을 접종받을 확률은 상대적으로 작지만, 그럼에도 의사의 권유가 의미있는 것으로 보임\n",
        "- doctor의 특성들은 유의한 것으로 보임"
      ],
      "metadata": {
        "id": "yApdBT3Wf_Z3"
      }
    },
    {
      "cell_type": "markdown",
      "source": [
        "#### health와의 관계"
      ],
      "metadata": {
        "id": "-XLRBng09esl"
      }
    },
    {
      "cell_type": "code",
      "source": [
        "# health\n",
        "\n",
        "cols_to_plot = [\n",
        "                'chronic_med_condition', \n",
        "                'child_under_6_months', \n",
        "                'health_worker', \n",
        "                'health_insurance' \n",
        "]\n",
        "\n",
        "fig, ax = plt.subplots(\n",
        "    len(cols_to_plot), 2, figsize=(9,len(cols_to_plot)*2.5)\n",
        ")\n",
        "for idx, col in enumerate(cols_to_plot):\n",
        "    vaccination_rate_plot(\n",
        "        col, 'h1n1_vaccine', train, ax=ax[idx, 0]\n",
        "    )\n",
        "    vaccination_rate_plot(\n",
        "        col, 'seasonal_vaccine', train, ax=ax[idx, 1]\n",
        "    )\n",
        "    \n",
        "ax[0, 0].legend(\n",
        "    loc='lower center', bbox_to_anchor=(0.5, 1.05), title='h1n1_vaccine'\n",
        ")\n",
        "ax[0, 1].legend(\n",
        "    loc='lower center', bbox_to_anchor=(0.5, 1.05), title='seasonal_vaccine'\n",
        ")\n",
        "fig.tight_layout()"
      ],
      "metadata": {
        "colab": {
          "base_uri": "https://localhost:8080/",
          "height": 730
        },
        "id": "eLpyhytl7Cqx",
        "outputId": "3a765b2f-5d16-45fe-f5fd-78cac2696695"
      },
      "execution_count": 24,
      "outputs": [
        {
          "output_type": "display_data",
          "data": {
            "text/plain": [
              "<Figure size 648x720 with 8 Axes>"
            ],
            "image/png": "[encoded data removed]"
          },
          "metadata": {
            "needs_background": "light"
          }
        }
      ]
    },
    {
      "cell_type": "markdown",
      "source": [
        "- 만성질환을 앓고 있는 경우, 영유아의 경우, 헬스케어 종사자인 경우, 건강보험에 가입한 경우 백신 접종할 확률이 높음\n",
        "- 하지만 여전히 h1n1은 계절독감에 비해 그 중요성이 부각되지 않은 것으로 보임"
      ],
      "metadata": {
        "id": "oyEMfS03gj03"
      }
    },
    {
      "cell_type": "markdown",
      "source": [
        "#### personal information과의 관계"
      ],
      "metadata": {
        "id": "H3S5TgcE9t4k"
      }
    },
    {
      "cell_type": "code",
      "source": [
        "# personal information\n",
        "\n",
        "cols_to_plot = [\n",
        "                'age_group', \n",
        "                'education', \n",
        "                'race', \n",
        "                'sex', \n",
        "                'income_poverty', \n",
        "                'marital_status', \n",
        "                'rent_or_own', \n",
        "                'employment_status', \n",
        "                'hhs_geo_region', \n",
        "                'census_msa', \n",
        "]\n",
        "\n",
        "fig, ax = plt.subplots(\n",
        "    len(cols_to_plot), 2, figsize=(9,len(cols_to_plot)*2.5)\n",
        ")\n",
        "for idx, col in enumerate(cols_to_plot):\n",
        "    vaccination_rate_plot(\n",
        "        col, 'h1n1_vaccine', train, ax=ax[idx, 0]\n",
        "    )\n",
        "    vaccination_rate_plot(\n",
        "        col, 'seasonal_vaccine', train, ax=ax[idx, 1]\n",
        "    )\n",
        "    \n",
        "ax[0, 0].legend(\n",
        "    loc='lower center', bbox_to_anchor=(0.5, 1.05), title='h1n1_vaccine'\n",
        ")\n",
        "ax[0, 1].legend(\n",
        "    loc='lower center', bbox_to_anchor=(0.5, 1.05), title='seasonal_vaccine'\n",
        ")\n",
        "fig.tight_layout()"
      ],
      "metadata": {
        "colab": {
          "base_uri": "https://localhost:8080/",
          "height": 1000
        },
        "id": "3xnG5xKg7CzK",
        "outputId": "f8ddae42-f0aa-4474-b4e3-0095a23de8ac"
      },
      "execution_count": 25,
      "outputs": [
        {
          "output_type": "display_data",
          "data": {
            "text/plain": [
              "<Figure size 648x1800 with 20 Axes>"
            ],
            "image/png": "[encoded data removed]"
          },
          "metadata": {
            "needs_background": "light"
          }
        }
      ]
    },
    {
      "cell_type": "markdown",
      "source": [
        "- h1n1의 경우,\n",
        "  - 나이, 교육수준, 인종, 성별, 생활수준, 결혼여부, 자가여부, 종사여부, 거주지역 등은 백신 접종 여부에 별다른 영향을 미치지 않음\n",
        "\n",
        "- 계절백신의 경우도 마찬가지\n",
        "  - h1n1에 비해서는 상대적으로 특성들로부터 영향을 받지만, 유의한 것으로 보기는 어려움"
      ],
      "metadata": {
        "id": "EJOEUHLQhKSP"
      }
    },
    {
      "cell_type": "markdown",
      "source": [
        "#### household와의 관계"
      ],
      "metadata": {
        "id": "yBgq_Zht97wS"
      }
    },
    {
      "cell_type": "code",
      "source": [
        "# household\n",
        "\n",
        "cols_to_plot = [\n",
        "                'household_adults', \n",
        "                'household_children' \n",
        "]\n",
        "\n",
        "fig, ax = plt.subplots(\n",
        "    len(cols_to_plot), 2, figsize=(9,len(cols_to_plot)*2.5)\n",
        ")\n",
        "for idx, col in enumerate(cols_to_plot):\n",
        "    vaccination_rate_plot(\n",
        "        col, 'h1n1_vaccine', train, ax=ax[idx, 0]\n",
        "    )\n",
        "    vaccination_rate_plot(\n",
        "        col, 'seasonal_vaccine', train, ax=ax[idx, 1]\n",
        "    )\n",
        "    \n",
        "ax[0, 0].legend(\n",
        "    loc='lower center', bbox_to_anchor=(0.5, 1.05), title='h1n1_vaccine'\n",
        ")\n",
        "ax[0, 1].legend(\n",
        "    loc='lower center', bbox_to_anchor=(0.5, 1.05), title='seasonal_vaccine'\n",
        ")\n",
        "fig.tight_layout()"
      ],
      "metadata": {
        "outputId": "e8f07ca5-5849-4170-daf4-b1beb12b5c73",
        "colab": {
          "base_uri": "https://localhost:8080/",
          "height": 369
        },
        "id": "v9VHhXDz-Bo6"
      },
      "execution_count": 26,
      "outputs": [
        {
          "output_type": "display_data",
          "data": {
            "text/plain": [
              "<Figure size 648x360 with 4 Axes>"
            ],
            "image/png": "[encoded data removed]"
          },
          "metadata": {
            "needs_background": "light"
          }
        }
      ]
    },
    {
      "cell_type": "markdown",
      "source": [
        "- h1n1의 경우,\n",
        "  - 가구 내 성인 및 자녀 수에 따라 백신접종여부가 달라지지 않음\n",
        "\n",
        "- seasonal의 경우,\n",
        "  - 성인 및 자녀의 수가 많아질수록 백신 접종률이 떨어짐\n",
        "  - 특히 성인의 수와 관련성이 있음"
      ],
      "metadata": {
        "id": "aWClxiG0iFZd"
      }
    },
    {
      "cell_type": "markdown",
      "source": [
        "#### employment와의 관계"
      ],
      "metadata": {
        "id": "LhEs-g_M-HV4"
      }
    },
    {
      "cell_type": "code",
      "source": [
        "# employment\n",
        "\n",
        "cols_to_plot = [\n",
        "                'employment_industry', \n",
        "                'employment_occupation'\n",
        "]\n",
        "\n",
        "fig, ax = plt.subplots(\n",
        "    len(cols_to_plot), 2, figsize=(9,len(cols_to_plot)*2.5)\n",
        ")\n",
        "for idx, col in enumerate(cols_to_plot):\n",
        "    vaccination_rate_plot(\n",
        "        col, 'h1n1_vaccine', train, ax=ax[idx, 0]\n",
        "    )\n",
        "    vaccination_rate_plot(\n",
        "        col, 'seasonal_vaccine', train, ax=ax[idx, 1]\n",
        "    )\n",
        "    \n",
        "ax[0, 0].legend(\n",
        "    loc='lower center', bbox_to_anchor=(0.5, 1.05), title='h1n1_vaccine'\n",
        ")\n",
        "ax[0, 1].legend(\n",
        "    loc='lower center', bbox_to_anchor=(0.5, 1.05), title='seasonal_vaccine'\n",
        ")\n",
        "fig.tight_layout()"
      ],
      "metadata": {
        "colab": {
          "base_uri": "https://localhost:8080/",
          "height": 369
        },
        "id": "becoQBDW7Ac0",
        "outputId": "12ccf486-d337-48bd-fc01-e26028442172"
      },
      "execution_count": 27,
      "outputs": [
        {
          "output_type": "display_data",
          "data": {
            "text/plain": [
              "<Figure size 648x360 with 4 Axes>"
            ],
            "image/png": "[encoded data removed]"
          },
          "metadata": {
            "needs_background": "light"
          }
        }
      ]
    },
    {
      "cell_type": "markdown",
      "source": [
        "#### **결론**\n",
        "\n",
        "\n",
        "\n",
        "- h1n1_concern, h1n1_knowledge\n",
        "  - h1n1과 seasonal 모두 **백신에 대한 의식이나 관련 지식을 많이 가지고 있을수록** 백신 접종률이 높음\n",
        "\n",
        "- opinion_h1n1_vacc_effective, opinion_h1n1_risk, opinion_seas_vacc_effective, opinion_seas_risk\n",
        "  - h1n1과 seasonal 모두 **백신의 효과를 긍정적으로 생각할수록** 백신 접종률이 높음\n",
        "  - 백신에 대한 위험성을 인지하고 있더라도 오히려 백신 접정률이 높아지는 점이 흥미로움\n",
        "\n",
        "\n",
        "- doctor_recc_h1n1, doctor_recc_seasonal\n",
        "  - **의사의 백신 접종 권유가 있을수록** 백신 접종률 높음\n",
        "  - h1n1을 권유했을 때 h1n1을, seasonal 권유했을 때 seasonal을 접종받음\n",
        "\n",
        "- chronic_med_condition, child_under_6_months, health_worker, health_insurance\n",
        "  - 만성질환을 앓는 경우, 영유아인 경우, 헬스케어 종사자인 경우, 건강보험에 가입한 경우 백신 접종률이 높음\n",
        "  - 여전히 h1n1은 seasonal에 비해 중요성이 떨어지는 것으로 보임\n",
        "\n",
        "- household_adults\n",
        "  - h1n1과 다르게 seasonal은 가구 내 성인의 수가 많아질수록 접종률 낮아짐\n",
        "\n",
        "\n",
        "-----\n",
        "\n",
        "\n",
        "\\* h1n1과 seasonal 모두 위생 개념이 철저할수록 백신 접종률이 높음 BUT 접종여부 간 차이가 크지 않음\n",
        "\n",
        "\\* 다만, seasonal에 비해 h1n1의 접종률은 눈에 띄게 낮은 편 (절반도 안됨)"
      ],
      "metadata": {
        "id": "u4aDpN8qign0"
      }
    }
  ]
}