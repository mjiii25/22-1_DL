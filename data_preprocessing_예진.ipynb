{
  "cells": [
    {
      "cell_type": "markdown",
      "metadata": {
        "id": "view-in-github",
        "colab_type": "text"
      },
      "source": [
        "<a href=\"https://colab.research.google.com/github/mjiii25/22-1_DLAI/blob/main/data_preprocessing_%EC%98%88%EC%A7%84.ipynb\" target=\"_parent\"><img src=\"https://colab.research.google.com/assets/colab-badge.svg\" alt=\"Open In Colab\"/></a>"
      ]
    },
    {
      "cell_type": "code",
      "execution_count": null,
      "metadata": {
        "id": "pHjAv4R1c_Z-"
      },
      "outputs": [],
      "source": [
        "import pandas as pd\n",
        "import numpy as np\n",
        "import matplotlib.pyplot as plt\n",
        "import seaborn as sns"
      ]
    },
    {
      "cell_type": "markdown",
      "metadata": {
        "id": "453BLIJrc_aD"
      },
      "source": [
        "# Data loading"
      ]
    },
    {
      "cell_type": "code",
      "execution_count": null,
      "metadata": {
        "id": "7gbl6EZWc_aH"
      },
      "outputs": [],
      "source": [
        "train_features = pd.read_csv('training_set_features.csv')\n",
        "train_labels = pd.read_csv('training_set_labels.csv')\n",
        "test_features = pd.read_csv('test_set_features.csv')"
      ]
    },
    {
      "cell_type": "code",
      "execution_count": null,
      "metadata": {
        "id": "dj84tdJcc_aJ",
        "outputId": "dfde7cd4-c95e-4936-e16f-36e666eeffb4"
      },
      "outputs": [
        {
          "name": "stdout",
          "output_type": "stream",
          "text": [
            "<class 'pandas.core.frame.DataFrame'>\n",
            "RangeIndex: 26707 entries, 0 to 26706\n",
            "Data columns (total 3 columns):\n",
            " #   Column            Non-Null Count  Dtype\n",
            "---  ------            --------------  -----\n",
            " 0   respondent_id     26707 non-null  int64\n",
            " 1   h1n1_vaccine      26707 non-null  int64\n",
            " 2   seasonal_vaccine  26707 non-null  int64\n",
            "dtypes: int64(3)\n",
            "memory usage: 626.1 KB\n"
          ]
        }
      ],
      "source": [
        "train_labels.info()"
      ]
    },
    {
      "cell_type": "code",
      "execution_count": null,
      "metadata": {
        "id": "XdhLooTAc_aN",
        "outputId": "af3b16e6-eaba-4e9a-8c05-196d68959e91"
      },
      "outputs": [
        {
          "data": {
            "text/plain": [
              "respondent_id                      0\n",
              "h1n1_concern                      92\n",
              "h1n1_knowledge                   116\n",
              "behavioral_antiviral_meds         71\n",
              "behavioral_avoidance             208\n",
              "behavioral_face_mask              19\n",
              "behavioral_wash_hands             42\n",
              "behavioral_large_gatherings       87\n",
              "behavioral_outside_home           82\n",
              "behavioral_touch_face            128\n",
              "doctor_recc_h1n1                2160\n",
              "doctor_recc_seasonal            2160\n",
              "chronic_med_condition            971\n",
              "child_under_6_months             820\n",
              "health_worker                    804\n",
              "health_insurance               12274\n",
              "opinion_h1n1_vacc_effective      391\n",
              "opinion_h1n1_risk                388\n",
              "opinion_h1n1_sick_from_vacc      395\n",
              "opinion_seas_vacc_effective      462\n",
              "opinion_seas_risk                514\n",
              "opinion_seas_sick_from_vacc      537\n",
              "age_group                          0\n",
              "education                       1407\n",
              "race                               0\n",
              "sex                                0\n",
              "income_poverty                  4423\n",
              "marital_status                  1408\n",
              "rent_or_own                     2042\n",
              "employment_status               1463\n",
              "hhs_geo_region                     0\n",
              "census_msa                         0\n",
              "household_adults                 249\n",
              "household_children               249\n",
              "employment_industry            13330\n",
              "employment_occupation          13470\n",
              "dtype: int64"
            ]
          },
          "execution_count": 135,
          "metadata": {},
          "output_type": "execute_result"
        }
      ],
      "source": [
        "train_features.isnull().sum()"
      ]
    },
    {
      "cell_type": "code",
      "execution_count": null,
      "metadata": {
        "id": "BISbm7AJc_aO",
        "outputId": "8f175be4-ee5e-4679-d6ae-5b465e95636a"
      },
      "outputs": [
        {
          "data": {
            "text/plain": [
              "1335.3500000000001"
            ]
          },
          "execution_count": 136,
          "metadata": {},
          "output_type": "execute_result"
        }
      ],
      "source": [
        "len(train_features)*0.05"
      ]
    },
    {
      "cell_type": "code",
      "execution_count": null,
      "metadata": {
        "id": "P0JF1UHMc_aQ"
      },
      "outputs": [],
      "source": [
        "# NA값이 전체 데이터수의 5% 이상 채워져 있는 칼럼의 경우 삭제\n",
        "# 아직 24개의 칼럼\n",
        "train_features2 = train_features[['respondent_id','h1n1_concern', 'h1n1_knowledge', 'behavioral_antiviral_meds',\n",
        "                                  'behavioral_avoidance', 'behavioral_face_mask', 'behavioral_wash_hands',\n",
        "                                  'behavioral_large_gatherings', 'behavioral_outside_home','behavioral_touch_face',\n",
        "                                  'chronic_med_condition', 'child_under_6_months', 'health_worker','opinion_h1n1_vacc_effective',\n",
        "                                  'opinion_h1n1_risk','opinion_h1n1_sick_from_vacc', 'opinion_seas_vacc_effective',\n",
        "                                  'opinion_seas_risk', 'opinion_seas_sick_from_vacc', 'age_group',\n",
        "                                  'race', 'sex', 'hhs_geo_region', 'census_msa','household_adults', 'household_children']]"
      ]
    },
    {
      "cell_type": "code",
      "execution_count": null,
      "metadata": {
        "id": "RLwYWyQec_aT",
        "outputId": "91b224b9-d598-4a19-c338-600515a1c4fb"
      },
      "outputs": [
        {
          "data": {
            "text/plain": [
              "Index(['respondent_id', 'h1n1_concern', 'h1n1_knowledge',\n",
              "       'behavioral_antiviral_meds', 'behavioral_avoidance',\n",
              "       'behavioral_face_mask', 'behavioral_wash_hands',\n",
              "       'behavioral_large_gatherings', 'behavioral_outside_home',\n",
              "       'behavioral_touch_face', 'chronic_med_condition',\n",
              "       'child_under_6_months', 'health_worker', 'opinion_h1n1_vacc_effective',\n",
              "       'opinion_h1n1_risk', 'opinion_h1n1_sick_from_vacc',\n",
              "       'opinion_seas_vacc_effective', 'opinion_seas_risk',\n",
              "       'opinion_seas_sick_from_vacc', 'age_group', 'race', 'sex',\n",
              "       'hhs_geo_region', 'census_msa', 'household_adults',\n",
              "       'household_children'],\n",
              "      dtype='object')"
            ]
          },
          "execution_count": 138,
          "metadata": {},
          "output_type": "execute_result"
        }
      ],
      "source": [
        "train_features2.columns"
      ]
    },
    {
      "cell_type": "code",
      "execution_count": null,
      "metadata": {
        "id": "tKKfrDBzc_aU",
        "outputId": "a111a7e2-c358-4153-bc31-0847c9c5e13c"
      },
      "outputs": [
        {
          "data": {
            "text/plain": [
              "respondent_id                  0\n",
              "behavioral_antiviral_meds      0\n",
              "behavioral_avoidance           0\n",
              "behavioral_face_mask           0\n",
              "behavioral_wash_hands          0\n",
              "behavioral_large_gatherings    0\n",
              "behavioral_outside_home        0\n",
              "behavioral_touch_face          0\n",
              "chronic_med_condition          0\n",
              "child_under_6_months           0\n",
              "health_worker                  0\n",
              "opinion_seas_vacc_effective    0\n",
              "opinion_seas_risk              0\n",
              "opinion_seas_sick_from_vacc    0\n",
              "age_group                      0\n",
              "race                           0\n",
              "sex                            0\n",
              "hhs_geo_region                 0\n",
              "census_msa                     0\n",
              "household_adults               0\n",
              "household_children             0\n",
              "dtype: int64"
            ]
          },
          "execution_count": 139,
          "metadata": {},
          "output_type": "execute_result"
        }
      ],
      "source": [
        "test_features_seasonal.isnull().sum()"
      ]
    },
    {
      "cell_type": "code",
      "execution_count": null,
      "metadata": {
        "id": "VHN0WXPBc_aW"
      },
      "outputs": [],
      "source": [
        "test_features_h1n1.to_csv('test_ver1_h1n1.csv', index = False)\n",
        "test_features_seasonal.to_csv('test_ver1_seasonal.csv', index = False)"
      ]
    },
    {
      "cell_type": "markdown",
      "metadata": {
        "id": "ocz_tUfic_aX"
      },
      "source": [
        "# Train for h1n1 vaccine"
      ]
    },
    {
      "cell_type": "code",
      "execution_count": null,
      "metadata": {
        "id": "dmx_w1rGc_aY"
      },
      "outputs": [],
      "source": [
        "train_h1n1 = train_features2[['respondent_id','h1n1_concern', 'h1n1_knowledge', \n",
        "                             'behavioral_antiviral_meds','behavioral_avoidance', 'behavioral_face_mask', 'behavioral_wash_hands',\n",
        "                             'behavioral_large_gatherings', 'behavioral_outside_home','behavioral_touch_face',\n",
        "                             'chronic_med_condition', 'child_under_6_months', 'health_worker',\n",
        "                             'opinion_h1n1_vacc_effective','opinion_h1n1_risk','opinion_h1n1_sick_from_vacc', \n",
        "                             'age_group','race', 'sex', 'hhs_geo_region', 'census_msa','household_adults', 'household_children']]\n",
        "train_h1n1 = pd.merge(train_h1n1,train_labels[['respondent_id', 'h1n1_vaccine']], how='inner', on= 'respondent_id')"
      ]
    },
    {
      "cell_type": "code",
      "execution_count": null,
      "metadata": {
        "id": "IwEdYtR7c_aa",
        "outputId": "44c093da-cc79-4a31-e852-ba78ba618a9c"
      },
      "outputs": [
        {
          "data": {
            "text/html": [
              "<div>\n",
              "<style scoped>\n",
              "    .dataframe tbody tr th:only-of-type {\n",
              "        vertical-align: middle;\n",
              "    }\n",
              "\n",
              "    .dataframe tbody tr th {\n",
              "        vertical-align: top;\n",
              "    }\n",
              "\n",
              "    .dataframe thead th {\n",
              "        text-align: right;\n",
              "    }\n",
              "</style>\n",
              "<table border=\"1\" class=\"dataframe\">\n",
              "  <thead>\n",
              "    <tr style=\"text-align: right;\">\n",
              "      <th></th>\n",
              "      <th>respondent_id</th>\n",
              "      <th>h1n1_concern</th>\n",
              "      <th>h1n1_knowledge</th>\n",
              "      <th>behavioral_antiviral_meds</th>\n",
              "      <th>behavioral_avoidance</th>\n",
              "      <th>behavioral_face_mask</th>\n",
              "      <th>behavioral_wash_hands</th>\n",
              "      <th>behavioral_large_gatherings</th>\n",
              "      <th>behavioral_outside_home</th>\n",
              "      <th>behavioral_touch_face</th>\n",
              "      <th>...</th>\n",
              "      <th>opinion_h1n1_risk</th>\n",
              "      <th>opinion_h1n1_sick_from_vacc</th>\n",
              "      <th>age_group</th>\n",
              "      <th>race</th>\n",
              "      <th>sex</th>\n",
              "      <th>hhs_geo_region</th>\n",
              "      <th>census_msa</th>\n",
              "      <th>household_adults</th>\n",
              "      <th>household_children</th>\n",
              "      <th>h1n1_vaccine</th>\n",
              "    </tr>\n",
              "  </thead>\n",
              "  <tbody>\n",
              "    <tr>\n",
              "      <th>26702</th>\n",
              "      <td>26702</td>\n",
              "      <td>2.0</td>\n",
              "      <td>0.0</td>\n",
              "      <td>0.0</td>\n",
              "      <td>1.0</td>\n",
              "      <td>0.0</td>\n",
              "      <td>0.0</td>\n",
              "      <td>0.0</td>\n",
              "      <td>1.0</td>\n",
              "      <td>0.0</td>\n",
              "      <td>...</td>\n",
              "      <td>1.0</td>\n",
              "      <td>1.0</td>\n",
              "      <td>65+ Years</td>\n",
              "      <td>White</td>\n",
              "      <td>Female</td>\n",
              "      <td>qufhixun</td>\n",
              "      <td>Non-MSA</td>\n",
              "      <td>0.0</td>\n",
              "      <td>0.0</td>\n",
              "      <td>0</td>\n",
              "    </tr>\n",
              "    <tr>\n",
              "      <th>26703</th>\n",
              "      <td>26703</td>\n",
              "      <td>1.0</td>\n",
              "      <td>2.0</td>\n",
              "      <td>0.0</td>\n",
              "      <td>1.0</td>\n",
              "      <td>0.0</td>\n",
              "      <td>1.0</td>\n",
              "      <td>0.0</td>\n",
              "      <td>0.0</td>\n",
              "      <td>0.0</td>\n",
              "      <td>...</td>\n",
              "      <td>2.0</td>\n",
              "      <td>2.0</td>\n",
              "      <td>18 - 34 Years</td>\n",
              "      <td>White</td>\n",
              "      <td>Male</td>\n",
              "      <td>lzgpxyit</td>\n",
              "      <td>MSA, Principle City</td>\n",
              "      <td>1.0</td>\n",
              "      <td>0.0</td>\n",
              "      <td>0</td>\n",
              "    </tr>\n",
              "    <tr>\n",
              "      <th>26704</th>\n",
              "      <td>26704</td>\n",
              "      <td>2.0</td>\n",
              "      <td>2.0</td>\n",
              "      <td>0.0</td>\n",
              "      <td>1.0</td>\n",
              "      <td>1.0</td>\n",
              "      <td>1.0</td>\n",
              "      <td>1.0</td>\n",
              "      <td>0.0</td>\n",
              "      <td>1.0</td>\n",
              "      <td>...</td>\n",
              "      <td>4.0</td>\n",
              "      <td>2.0</td>\n",
              "      <td>55 - 64 Years</td>\n",
              "      <td>White</td>\n",
              "      <td>Female</td>\n",
              "      <td>lzgpxyit</td>\n",
              "      <td>MSA, Not Principle  City</td>\n",
              "      <td>0.0</td>\n",
              "      <td>0.0</td>\n",
              "      <td>0</td>\n",
              "    </tr>\n",
              "    <tr>\n",
              "      <th>26705</th>\n",
              "      <td>26705</td>\n",
              "      <td>1.0</td>\n",
              "      <td>1.0</td>\n",
              "      <td>0.0</td>\n",
              "      <td>0.0</td>\n",
              "      <td>0.0</td>\n",
              "      <td>0.0</td>\n",
              "      <td>0.0</td>\n",
              "      <td>0.0</td>\n",
              "      <td>NaN</td>\n",
              "      <td>...</td>\n",
              "      <td>1.0</td>\n",
              "      <td>2.0</td>\n",
              "      <td>18 - 34 Years</td>\n",
              "      <td>Hispanic</td>\n",
              "      <td>Female</td>\n",
              "      <td>lrircsnp</td>\n",
              "      <td>Non-MSA</td>\n",
              "      <td>1.0</td>\n",
              "      <td>0.0</td>\n",
              "      <td>0</td>\n",
              "    </tr>\n",
              "    <tr>\n",
              "      <th>26706</th>\n",
              "      <td>26706</td>\n",
              "      <td>0.0</td>\n",
              "      <td>0.0</td>\n",
              "      <td>0.0</td>\n",
              "      <td>1.0</td>\n",
              "      <td>0.0</td>\n",
              "      <td>0.0</td>\n",
              "      <td>0.0</td>\n",
              "      <td>0.0</td>\n",
              "      <td>0.0</td>\n",
              "      <td>...</td>\n",
              "      <td>1.0</td>\n",
              "      <td>1.0</td>\n",
              "      <td>65+ Years</td>\n",
              "      <td>White</td>\n",
              "      <td>Male</td>\n",
              "      <td>mlyzmhmf</td>\n",
              "      <td>MSA, Principle City</td>\n",
              "      <td>1.0</td>\n",
              "      <td>0.0</td>\n",
              "      <td>0</td>\n",
              "    </tr>\n",
              "  </tbody>\n",
              "</table>\n",
              "<p>5 rows × 24 columns</p>\n",
              "</div>"
            ],
            "text/plain": [
              "       respondent_id  h1n1_concern  h1n1_knowledge  behavioral_antiviral_meds  \\\n",
              "26702          26702           2.0             0.0                        0.0   \n",
              "26703          26703           1.0             2.0                        0.0   \n",
              "26704          26704           2.0             2.0                        0.0   \n",
              "26705          26705           1.0             1.0                        0.0   \n",
              "26706          26706           0.0             0.0                        0.0   \n",
              "\n",
              "       behavioral_avoidance  behavioral_face_mask  behavioral_wash_hands  \\\n",
              "26702                   1.0                   0.0                    0.0   \n",
              "26703                   1.0                   0.0                    1.0   \n",
              "26704                   1.0                   1.0                    1.0   \n",
              "26705                   0.0                   0.0                    0.0   \n",
              "26706                   1.0                   0.0                    0.0   \n",
              "\n",
              "       behavioral_large_gatherings  behavioral_outside_home  \\\n",
              "26702                          0.0                      1.0   \n",
              "26703                          0.0                      0.0   \n",
              "26704                          1.0                      0.0   \n",
              "26705                          0.0                      0.0   \n",
              "26706                          0.0                      0.0   \n",
              "\n",
              "       behavioral_touch_face  ...  opinion_h1n1_risk  \\\n",
              "26702                    0.0  ...                1.0   \n",
              "26703                    0.0  ...                2.0   \n",
              "26704                    1.0  ...                4.0   \n",
              "26705                    NaN  ...                1.0   \n",
              "26706                    0.0  ...                1.0   \n",
              "\n",
              "       opinion_h1n1_sick_from_vacc      age_group      race     sex  \\\n",
              "26702                          1.0      65+ Years     White  Female   \n",
              "26703                          2.0  18 - 34 Years     White    Male   \n",
              "26704                          2.0  55 - 64 Years     White  Female   \n",
              "26705                          2.0  18 - 34 Years  Hispanic  Female   \n",
              "26706                          1.0      65+ Years     White    Male   \n",
              "\n",
              "       hhs_geo_region                census_msa household_adults  \\\n",
              "26702        qufhixun                   Non-MSA              0.0   \n",
              "26703        lzgpxyit       MSA, Principle City              1.0   \n",
              "26704        lzgpxyit  MSA, Not Principle  City              0.0   \n",
              "26705        lrircsnp                   Non-MSA              1.0   \n",
              "26706        mlyzmhmf       MSA, Principle City              1.0   \n",
              "\n",
              "      household_children h1n1_vaccine  \n",
              "26702                0.0            0  \n",
              "26703                0.0            0  \n",
              "26704                0.0            0  \n",
              "26705                0.0            0  \n",
              "26706                0.0            0  \n",
              "\n",
              "[5 rows x 24 columns]"
            ]
          },
          "execution_count": 142,
          "metadata": {},
          "output_type": "execute_result"
        }
      ],
      "source": [
        "train_h1n1.tail()"
      ]
    },
    {
      "cell_type": "code",
      "execution_count": null,
      "metadata": {
        "id": "iQHg2MhEc_ac",
        "outputId": "2817b05a-aef9-40f2-ea6d-a8dca70c6b8c"
      },
      "outputs": [
        {
          "name": "stdout",
          "output_type": "stream",
          "text": [
            "1879 개의 (null이 하나 이상 포함된)행이 있음\n"
          ]
        }
      ],
      "source": [
        "list_h1n1_drop_index = train_h1n1[(train_h1n1['h1n1_concern'].isnull()==True)|(train_h1n1['h1n1_knowledge'].isnull()==True)|\n",
        "           (train_h1n1['behavioral_antiviral_meds'].isnull()==True)|(train_h1n1['behavioral_avoidance'].isnull()==True)|\n",
        "           (train_h1n1['behavioral_face_mask'].isnull()==True)|(train_h1n1['behavioral_wash_hands'].isnull()==True)|\n",
        "           (train_h1n1['behavioral_large_gatherings'].isnull()==True)|(train_h1n1['behavioral_outside_home'].isnull()==True)|\n",
        "           (train_h1n1['behavioral_touch_face'].isnull()==True)|(train_h1n1['chronic_med_condition'].isnull()==True)|\n",
        "           (train_h1n1['child_under_6_months'].isnull()==True)|(train_h1n1['health_worker'].isnull()==True)|\n",
        "           (train_h1n1['opinion_h1n1_vacc_effective'].isnull()==True)|(train_h1n1['opinion_h1n1_risk'].isnull()==True)|\n",
        "           (train_h1n1['opinion_h1n1_sick_from_vacc'].isnull()==True)|\n",
        "           (train_h1n1['household_adults'].isnull()==True)|(train_h1n1['household_children'].isnull()==True)].index.tolist()\n",
        "\n",
        "print(len(list_h1n1_drop_index), '개의 (null이 하나 이상 포함된)행이 있음')"
      ]
    },
    {
      "cell_type": "code",
      "execution_count": null,
      "metadata": {
        "id": "rqC_WQPOc_af"
      },
      "outputs": [],
      "source": [
        "# 그냥 저것들을 싹 날릴 경우, 대략 7%의 데이터 손실 발생\n",
        "train_h1n1 = train_h1n1.drop(list_h1n1_drop_index, axis=0)"
      ]
    },
    {
      "cell_type": "code",
      "execution_count": null,
      "metadata": {
        "id": "6BbwL0Tpc_ah",
        "outputId": "074f3e19-9b33-4e6e-8589-56e41538252a"
      },
      "outputs": [
        {
          "data": {
            "text/plain": [
              "respondent_id                  0\n",
              "h1n1_concern                   0\n",
              "h1n1_knowledge                 0\n",
              "behavioral_antiviral_meds      0\n",
              "behavioral_avoidance           0\n",
              "behavioral_face_mask           0\n",
              "behavioral_wash_hands          0\n",
              "behavioral_large_gatherings    0\n",
              "behavioral_outside_home        0\n",
              "behavioral_touch_face          0\n",
              "chronic_med_condition          0\n",
              "child_under_6_months           0\n",
              "health_worker                  0\n",
              "opinion_h1n1_vacc_effective    0\n",
              "opinion_h1n1_risk              0\n",
              "opinion_h1n1_sick_from_vacc    0\n",
              "age_group                      0\n",
              "race                           0\n",
              "sex                            0\n",
              "hhs_geo_region                 0\n",
              "census_msa                     0\n",
              "household_adults               0\n",
              "household_children             0\n",
              "h1n1_vaccine                   0\n",
              "dtype: int64"
            ]
          },
          "execution_count": 145,
          "metadata": {},
          "output_type": "execute_result"
        }
      ],
      "source": [
        "train_h1n1.isnull().sum()"
      ]
    },
    {
      "cell_type": "code",
      "execution_count": null,
      "metadata": {
        "id": "7CEMF89Nc_aj"
      },
      "outputs": [],
      "source": [
        "# index 다시 부여\n",
        "train_h1n1 = train_h1n1.reset_index(drop=True)"
      ]
    },
    {
      "cell_type": "code",
      "execution_count": null,
      "metadata": {
        "id": "GjbrVrwjc_ak",
        "outputId": "fea8fd11-463c-4f01-f7b9-a15faa201f0a"
      },
      "outputs": [
        {
          "data": {
            "text/html": [
              "<div>\n",
              "<style scoped>\n",
              "    .dataframe tbody tr th:only-of-type {\n",
              "        vertical-align: middle;\n",
              "    }\n",
              "\n",
              "    .dataframe tbody tr th {\n",
              "        vertical-align: top;\n",
              "    }\n",
              "\n",
              "    .dataframe thead th {\n",
              "        text-align: right;\n",
              "    }\n",
              "</style>\n",
              "<table border=\"1\" class=\"dataframe\">\n",
              "  <thead>\n",
              "    <tr style=\"text-align: right;\">\n",
              "      <th></th>\n",
              "      <th>respondent_id</th>\n",
              "      <th>h1n1_concern</th>\n",
              "      <th>h1n1_knowledge</th>\n",
              "      <th>behavioral_antiviral_meds</th>\n",
              "      <th>behavioral_avoidance</th>\n",
              "      <th>behavioral_face_mask</th>\n",
              "      <th>behavioral_wash_hands</th>\n",
              "      <th>behavioral_large_gatherings</th>\n",
              "      <th>behavioral_outside_home</th>\n",
              "      <th>behavioral_touch_face</th>\n",
              "      <th>...</th>\n",
              "      <th>opinion_h1n1_risk</th>\n",
              "      <th>opinion_h1n1_sick_from_vacc</th>\n",
              "      <th>age_group</th>\n",
              "      <th>race</th>\n",
              "      <th>sex</th>\n",
              "      <th>hhs_geo_region</th>\n",
              "      <th>census_msa</th>\n",
              "      <th>household_adults</th>\n",
              "      <th>household_children</th>\n",
              "      <th>h1n1_vaccine</th>\n",
              "    </tr>\n",
              "  </thead>\n",
              "  <tbody>\n",
              "    <tr>\n",
              "      <th>24823</th>\n",
              "      <td>26701</td>\n",
              "      <td>2.0</td>\n",
              "      <td>2.0</td>\n",
              "      <td>0.0</td>\n",
              "      <td>0.0</td>\n",
              "      <td>0.0</td>\n",
              "      <td>1.0</td>\n",
              "      <td>0.0</td>\n",
              "      <td>0.0</td>\n",
              "      <td>1.0</td>\n",
              "      <td>...</td>\n",
              "      <td>2.0</td>\n",
              "      <td>4.0</td>\n",
              "      <td>18 - 34 Years</td>\n",
              "      <td>White</td>\n",
              "      <td>Female</td>\n",
              "      <td>fpwskwrf</td>\n",
              "      <td>MSA, Principle City</td>\n",
              "      <td>3.0</td>\n",
              "      <td>0.0</td>\n",
              "      <td>0</td>\n",
              "    </tr>\n",
              "    <tr>\n",
              "      <th>24824</th>\n",
              "      <td>26702</td>\n",
              "      <td>2.0</td>\n",
              "      <td>0.0</td>\n",
              "      <td>0.0</td>\n",
              "      <td>1.0</td>\n",
              "      <td>0.0</td>\n",
              "      <td>0.0</td>\n",
              "      <td>0.0</td>\n",
              "      <td>1.0</td>\n",
              "      <td>0.0</td>\n",
              "      <td>...</td>\n",
              "      <td>1.0</td>\n",
              "      <td>1.0</td>\n",
              "      <td>65+ Years</td>\n",
              "      <td>White</td>\n",
              "      <td>Female</td>\n",
              "      <td>qufhixun</td>\n",
              "      <td>Non-MSA</td>\n",
              "      <td>0.0</td>\n",
              "      <td>0.0</td>\n",
              "      <td>0</td>\n",
              "    </tr>\n",
              "    <tr>\n",
              "      <th>24825</th>\n",
              "      <td>26703</td>\n",
              "      <td>1.0</td>\n",
              "      <td>2.0</td>\n",
              "      <td>0.0</td>\n",
              "      <td>1.0</td>\n",
              "      <td>0.0</td>\n",
              "      <td>1.0</td>\n",
              "      <td>0.0</td>\n",
              "      <td>0.0</td>\n",
              "      <td>0.0</td>\n",
              "      <td>...</td>\n",
              "      <td>2.0</td>\n",
              "      <td>2.0</td>\n",
              "      <td>18 - 34 Years</td>\n",
              "      <td>White</td>\n",
              "      <td>Male</td>\n",
              "      <td>lzgpxyit</td>\n",
              "      <td>MSA, Principle City</td>\n",
              "      <td>1.0</td>\n",
              "      <td>0.0</td>\n",
              "      <td>0</td>\n",
              "    </tr>\n",
              "    <tr>\n",
              "      <th>24826</th>\n",
              "      <td>26704</td>\n",
              "      <td>2.0</td>\n",
              "      <td>2.0</td>\n",
              "      <td>0.0</td>\n",
              "      <td>1.0</td>\n",
              "      <td>1.0</td>\n",
              "      <td>1.0</td>\n",
              "      <td>1.0</td>\n",
              "      <td>0.0</td>\n",
              "      <td>1.0</td>\n",
              "      <td>...</td>\n",
              "      <td>4.0</td>\n",
              "      <td>2.0</td>\n",
              "      <td>55 - 64 Years</td>\n",
              "      <td>White</td>\n",
              "      <td>Female</td>\n",
              "      <td>lzgpxyit</td>\n",
              "      <td>MSA, Not Principle  City</td>\n",
              "      <td>0.0</td>\n",
              "      <td>0.0</td>\n",
              "      <td>0</td>\n",
              "    </tr>\n",
              "    <tr>\n",
              "      <th>24827</th>\n",
              "      <td>26706</td>\n",
              "      <td>0.0</td>\n",
              "      <td>0.0</td>\n",
              "      <td>0.0</td>\n",
              "      <td>1.0</td>\n",
              "      <td>0.0</td>\n",
              "      <td>0.0</td>\n",
              "      <td>0.0</td>\n",
              "      <td>0.0</td>\n",
              "      <td>0.0</td>\n",
              "      <td>...</td>\n",
              "      <td>1.0</td>\n",
              "      <td>1.0</td>\n",
              "      <td>65+ Years</td>\n",
              "      <td>White</td>\n",
              "      <td>Male</td>\n",
              "      <td>mlyzmhmf</td>\n",
              "      <td>MSA, Principle City</td>\n",
              "      <td>1.0</td>\n",
              "      <td>0.0</td>\n",
              "      <td>0</td>\n",
              "    </tr>\n",
              "  </tbody>\n",
              "</table>\n",
              "<p>5 rows × 24 columns</p>\n",
              "</div>"
            ],
            "text/plain": [
              "       respondent_id  h1n1_concern  h1n1_knowledge  behavioral_antiviral_meds  \\\n",
              "24823          26701           2.0             2.0                        0.0   \n",
              "24824          26702           2.0             0.0                        0.0   \n",
              "24825          26703           1.0             2.0                        0.0   \n",
              "24826          26704           2.0             2.0                        0.0   \n",
              "24827          26706           0.0             0.0                        0.0   \n",
              "\n",
              "       behavioral_avoidance  behavioral_face_mask  behavioral_wash_hands  \\\n",
              "24823                   0.0                   0.0                    1.0   \n",
              "24824                   1.0                   0.0                    0.0   \n",
              "24825                   1.0                   0.0                    1.0   \n",
              "24826                   1.0                   1.0                    1.0   \n",
              "24827                   1.0                   0.0                    0.0   \n",
              "\n",
              "       behavioral_large_gatherings  behavioral_outside_home  \\\n",
              "24823                          0.0                      0.0   \n",
              "24824                          0.0                      1.0   \n",
              "24825                          0.0                      0.0   \n",
              "24826                          1.0                      0.0   \n",
              "24827                          0.0                      0.0   \n",
              "\n",
              "       behavioral_touch_face  ...  opinion_h1n1_risk  \\\n",
              "24823                    1.0  ...                2.0   \n",
              "24824                    0.0  ...                1.0   \n",
              "24825                    0.0  ...                2.0   \n",
              "24826                    1.0  ...                4.0   \n",
              "24827                    0.0  ...                1.0   \n",
              "\n",
              "       opinion_h1n1_sick_from_vacc      age_group   race     sex  \\\n",
              "24823                          4.0  18 - 34 Years  White  Female   \n",
              "24824                          1.0      65+ Years  White  Female   \n",
              "24825                          2.0  18 - 34 Years  White    Male   \n",
              "24826                          2.0  55 - 64 Years  White  Female   \n",
              "24827                          1.0      65+ Years  White    Male   \n",
              "\n",
              "       hhs_geo_region                census_msa household_adults  \\\n",
              "24823        fpwskwrf       MSA, Principle City              3.0   \n",
              "24824        qufhixun                   Non-MSA              0.0   \n",
              "24825        lzgpxyit       MSA, Principle City              1.0   \n",
              "24826        lzgpxyit  MSA, Not Principle  City              0.0   \n",
              "24827        mlyzmhmf       MSA, Principle City              1.0   \n",
              "\n",
              "      household_children h1n1_vaccine  \n",
              "24823                0.0            0  \n",
              "24824                0.0            0  \n",
              "24825                0.0            0  \n",
              "24826                0.0            0  \n",
              "24827                0.0            0  \n",
              "\n",
              "[5 rows x 24 columns]"
            ]
          },
          "execution_count": 147,
          "metadata": {},
          "output_type": "execute_result"
        }
      ],
      "source": [
        "train_h1n1.tail()"
      ]
    },
    {
      "cell_type": "markdown",
      "metadata": {
        "id": "CZ5sjbjmc_am"
      },
      "source": [
        "# Train for Seasonal Vaccine"
      ]
    },
    {
      "cell_type": "code",
      "execution_count": null,
      "metadata": {
        "id": "6QxvSse3c_an"
      },
      "outputs": [],
      "source": [
        "train_seasonal = train_features2[['respondent_id','behavioral_antiviral_meds','behavioral_avoidance', 'behavioral_face_mask', \n",
        "                                  'behavioral_wash_hands','behavioral_large_gatherings', 'behavioral_outside_home',\n",
        "                                  'behavioral_touch_face','chronic_med_condition', 'child_under_6_months', 'health_worker',\n",
        "                                  'opinion_seas_vacc_effective','opinion_seas_risk','opinion_seas_sick_from_vacc', \n",
        "                                  'age_group','race', 'sex', 'hhs_geo_region', 'census_msa','household_adults', 'household_children']]\n",
        "train_seasonal = pd.merge(train_seasonal,train_labels[['respondent_id', 'seasonal_vaccine']], how='inner', on= 'respondent_id')"
      ]
    },
    {
      "cell_type": "code",
      "execution_count": null,
      "metadata": {
        "id": "Rl_w5UHJc_ap",
        "outputId": "7fcca8d3-9cc6-4d26-af8e-b16278c40f7a"
      },
      "outputs": [
        {
          "name": "stdout",
          "output_type": "stream",
          "text": [
            "1681 개의 (null이 하나 이상 포함된)행이 있음\n"
          ]
        }
      ],
      "source": [
        "list_seasonal_drop_index = train_seasonal[(train_seasonal['behavioral_antiviral_meds'].isnull()==True)|\n",
        "                                          (train_seasonal['behavioral_avoidance'].isnull()==True)|\n",
        "                                          (train_seasonal['behavioral_face_mask'].isnull()==True)|\n",
        "                                          (train_seasonal['behavioral_wash_hands'].isnull()==True)|\n",
        "                                          (train_seasonal['behavioral_large_gatherings'].isnull()==True)|\n",
        "                                          (train_seasonal['behavioral_outside_home'].isnull()==True)|\n",
        "                                          (train_seasonal['behavioral_touch_face'].isnull()==True)|\n",
        "                                          (train_seasonal['chronic_med_condition'].isnull()==True)|\n",
        "                                          (train_seasonal['child_under_6_months'].isnull()==True)|\n",
        "                                          (train_seasonal['health_worker'].isnull()==True)|\n",
        "                                          (train_seasonal['opinion_seas_vacc_effective'].isnull()==True)|\n",
        "                                          (train_seasonal['opinion_seas_risk'].isnull()==True)|\n",
        "                                          (train_seasonal['opinion_seas_sick_from_vacc'].isnull()==True)|\n",
        "                                          (train_seasonal['household_adults'].isnull()==True)|\n",
        "                                          (train_seasonal['household_children'].isnull()==True)].index.tolist()\n",
        "\n",
        "print(len(list_seasonal_drop_index), '개의 (null이 하나 이상 포함된)행이 있음')"
      ]
    },
    {
      "cell_type": "code",
      "execution_count": null,
      "metadata": {
        "id": "wzRPP7ric_ar"
      },
      "outputs": [],
      "source": [
        "# 그냥 저것들을 싹 날릴 경우, 대략 6%의 데이터 손실 발생\n",
        "train_seasonal = train_seasonal.drop(list_seasonal_drop_index, axis=0)"
      ]
    },
    {
      "cell_type": "code",
      "execution_count": null,
      "metadata": {
        "id": "VHJTpgldc_at"
      },
      "outputs": [],
      "source": [
        "# index 다시 부여\n",
        "train_seasonal = train_seasonal.reset_index(drop=True)"
      ]
    },
    {
      "cell_type": "code",
      "execution_count": null,
      "metadata": {
        "id": "xsPQepRxc_au",
        "outputId": "0f687089-7024-4e79-aede-faa57b4074d9"
      },
      "outputs": [
        {
          "data": {
            "text/html": [
              "<div>\n",
              "<style scoped>\n",
              "    .dataframe tbody tr th:only-of-type {\n",
              "        vertical-align: middle;\n",
              "    }\n",
              "\n",
              "    .dataframe tbody tr th {\n",
              "        vertical-align: top;\n",
              "    }\n",
              "\n",
              "    .dataframe thead th {\n",
              "        text-align: right;\n",
              "    }\n",
              "</style>\n",
              "<table border=\"1\" class=\"dataframe\">\n",
              "  <thead>\n",
              "    <tr style=\"text-align: right;\">\n",
              "      <th></th>\n",
              "      <th>respondent_id</th>\n",
              "      <th>behavioral_antiviral_meds</th>\n",
              "      <th>behavioral_avoidance</th>\n",
              "      <th>behavioral_face_mask</th>\n",
              "      <th>behavioral_wash_hands</th>\n",
              "      <th>behavioral_large_gatherings</th>\n",
              "      <th>behavioral_outside_home</th>\n",
              "      <th>behavioral_touch_face</th>\n",
              "      <th>chronic_med_condition</th>\n",
              "      <th>child_under_6_months</th>\n",
              "      <th>...</th>\n",
              "      <th>opinion_seas_risk</th>\n",
              "      <th>opinion_seas_sick_from_vacc</th>\n",
              "      <th>age_group</th>\n",
              "      <th>race</th>\n",
              "      <th>sex</th>\n",
              "      <th>hhs_geo_region</th>\n",
              "      <th>census_msa</th>\n",
              "      <th>household_adults</th>\n",
              "      <th>household_children</th>\n",
              "      <th>seasonal_vaccine</th>\n",
              "    </tr>\n",
              "  </thead>\n",
              "  <tbody>\n",
              "    <tr>\n",
              "      <th>25021</th>\n",
              "      <td>26701</td>\n",
              "      <td>0.0</td>\n",
              "      <td>0.0</td>\n",
              "      <td>0.0</td>\n",
              "      <td>1.0</td>\n",
              "      <td>0.0</td>\n",
              "      <td>0.0</td>\n",
              "      <td>1.0</td>\n",
              "      <td>0.0</td>\n",
              "      <td>1.0</td>\n",
              "      <td>...</td>\n",
              "      <td>2.0</td>\n",
              "      <td>4.0</td>\n",
              "      <td>18 - 34 Years</td>\n",
              "      <td>White</td>\n",
              "      <td>Female</td>\n",
              "      <td>fpwskwrf</td>\n",
              "      <td>MSA, Principle City</td>\n",
              "      <td>3.0</td>\n",
              "      <td>0.0</td>\n",
              "      <td>0</td>\n",
              "    </tr>\n",
              "    <tr>\n",
              "      <th>25022</th>\n",
              "      <td>26702</td>\n",
              "      <td>0.0</td>\n",
              "      <td>1.0</td>\n",
              "      <td>0.0</td>\n",
              "      <td>0.0</td>\n",
              "      <td>0.0</td>\n",
              "      <td>1.0</td>\n",
              "      <td>0.0</td>\n",
              "      <td>0.0</td>\n",
              "      <td>0.0</td>\n",
              "      <td>...</td>\n",
              "      <td>2.0</td>\n",
              "      <td>2.0</td>\n",
              "      <td>65+ Years</td>\n",
              "      <td>White</td>\n",
              "      <td>Female</td>\n",
              "      <td>qufhixun</td>\n",
              "      <td>Non-MSA</td>\n",
              "      <td>0.0</td>\n",
              "      <td>0.0</td>\n",
              "      <td>0</td>\n",
              "    </tr>\n",
              "    <tr>\n",
              "      <th>25023</th>\n",
              "      <td>26703</td>\n",
              "      <td>0.0</td>\n",
              "      <td>1.0</td>\n",
              "      <td>0.0</td>\n",
              "      <td>1.0</td>\n",
              "      <td>0.0</td>\n",
              "      <td>0.0</td>\n",
              "      <td>0.0</td>\n",
              "      <td>0.0</td>\n",
              "      <td>0.0</td>\n",
              "      <td>...</td>\n",
              "      <td>1.0</td>\n",
              "      <td>1.0</td>\n",
              "      <td>18 - 34 Years</td>\n",
              "      <td>White</td>\n",
              "      <td>Male</td>\n",
              "      <td>lzgpxyit</td>\n",
              "      <td>MSA, Principle City</td>\n",
              "      <td>1.0</td>\n",
              "      <td>0.0</td>\n",
              "      <td>0</td>\n",
              "    </tr>\n",
              "    <tr>\n",
              "      <th>25024</th>\n",
              "      <td>26704</td>\n",
              "      <td>0.0</td>\n",
              "      <td>1.0</td>\n",
              "      <td>1.0</td>\n",
              "      <td>1.0</td>\n",
              "      <td>1.0</td>\n",
              "      <td>0.0</td>\n",
              "      <td>1.0</td>\n",
              "      <td>0.0</td>\n",
              "      <td>0.0</td>\n",
              "      <td>...</td>\n",
              "      <td>4.0</td>\n",
              "      <td>2.0</td>\n",
              "      <td>55 - 64 Years</td>\n",
              "      <td>White</td>\n",
              "      <td>Female</td>\n",
              "      <td>lzgpxyit</td>\n",
              "      <td>MSA, Not Principle  City</td>\n",
              "      <td>0.0</td>\n",
              "      <td>0.0</td>\n",
              "      <td>1</td>\n",
              "    </tr>\n",
              "    <tr>\n",
              "      <th>25025</th>\n",
              "      <td>26706</td>\n",
              "      <td>0.0</td>\n",
              "      <td>1.0</td>\n",
              "      <td>0.0</td>\n",
              "      <td>0.0</td>\n",
              "      <td>0.0</td>\n",
              "      <td>0.0</td>\n",
              "      <td>0.0</td>\n",
              "      <td>0.0</td>\n",
              "      <td>0.0</td>\n",
              "      <td>...</td>\n",
              "      <td>1.0</td>\n",
              "      <td>1.0</td>\n",
              "      <td>65+ Years</td>\n",
              "      <td>White</td>\n",
              "      <td>Male</td>\n",
              "      <td>mlyzmhmf</td>\n",
              "      <td>MSA, Principle City</td>\n",
              "      <td>1.0</td>\n",
              "      <td>0.0</td>\n",
              "      <td>0</td>\n",
              "    </tr>\n",
              "  </tbody>\n",
              "</table>\n",
              "<p>5 rows × 22 columns</p>\n",
              "</div>"
            ],
            "text/plain": [
              "       respondent_id  behavioral_antiviral_meds  behavioral_avoidance  \\\n",
              "25021          26701                        0.0                   0.0   \n",
              "25022          26702                        0.0                   1.0   \n",
              "25023          26703                        0.0                   1.0   \n",
              "25024          26704                        0.0                   1.0   \n",
              "25025          26706                        0.0                   1.0   \n",
              "\n",
              "       behavioral_face_mask  behavioral_wash_hands  \\\n",
              "25021                   0.0                    1.0   \n",
              "25022                   0.0                    0.0   \n",
              "25023                   0.0                    1.0   \n",
              "25024                   1.0                    1.0   \n",
              "25025                   0.0                    0.0   \n",
              "\n",
              "       behavioral_large_gatherings  behavioral_outside_home  \\\n",
              "25021                          0.0                      0.0   \n",
              "25022                          0.0                      1.0   \n",
              "25023                          0.0                      0.0   \n",
              "25024                          1.0                      0.0   \n",
              "25025                          0.0                      0.0   \n",
              "\n",
              "       behavioral_touch_face  chronic_med_condition  child_under_6_months  \\\n",
              "25021                    1.0                    0.0                   1.0   \n",
              "25022                    0.0                    0.0                   0.0   \n",
              "25023                    0.0                    0.0                   0.0   \n",
              "25024                    1.0                    0.0                   0.0   \n",
              "25025                    0.0                    0.0                   0.0   \n",
              "\n",
              "       ...  opinion_seas_risk  opinion_seas_sick_from_vacc      age_group  \\\n",
              "25021  ...                2.0                          4.0  18 - 34 Years   \n",
              "25022  ...                2.0                          2.0      65+ Years   \n",
              "25023  ...                1.0                          1.0  18 - 34 Years   \n",
              "25024  ...                4.0                          2.0  55 - 64 Years   \n",
              "25025  ...                1.0                          1.0      65+ Years   \n",
              "\n",
              "        race     sex hhs_geo_region                census_msa  \\\n",
              "25021  White  Female       fpwskwrf       MSA, Principle City   \n",
              "25022  White  Female       qufhixun                   Non-MSA   \n",
              "25023  White    Male       lzgpxyit       MSA, Principle City   \n",
              "25024  White  Female       lzgpxyit  MSA, Not Principle  City   \n",
              "25025  White    Male       mlyzmhmf       MSA, Principle City   \n",
              "\n",
              "      household_adults household_children  seasonal_vaccine  \n",
              "25021              3.0                0.0                 0  \n",
              "25022              0.0                0.0                 0  \n",
              "25023              1.0                0.0                 0  \n",
              "25024              0.0                0.0                 1  \n",
              "25025              1.0                0.0                 0  \n",
              "\n",
              "[5 rows x 22 columns]"
            ]
          },
          "execution_count": 152,
          "metadata": {},
          "output_type": "execute_result"
        }
      ],
      "source": [
        "train_seasonal.tail()"
      ]
    },
    {
      "cell_type": "code",
      "execution_count": null,
      "metadata": {
        "id": "QY3vKmHHc_av",
        "outputId": "887544ab-aceb-4342-bf4c-1d899188355d"
      },
      "outputs": [
        {
          "name": "stdout",
          "output_type": "stream",
          "text": [
            "<class 'pandas.core.frame.DataFrame'>\n",
            "RangeIndex: 25026 entries, 0 to 25025\n",
            "Data columns (total 22 columns):\n",
            " #   Column                       Non-Null Count  Dtype  \n",
            "---  ------                       --------------  -----  \n",
            " 0   respondent_id                25026 non-null  int64  \n",
            " 1   behavioral_antiviral_meds    25026 non-null  float64\n",
            " 2   behavioral_avoidance         25026 non-null  float64\n",
            " 3   behavioral_face_mask         25026 non-null  float64\n",
            " 4   behavioral_wash_hands        25026 non-null  float64\n",
            " 5   behavioral_large_gatherings  25026 non-null  float64\n",
            " 6   behavioral_outside_home      25026 non-null  float64\n",
            " 7   behavioral_touch_face        25026 non-null  float64\n",
            " 8   chronic_med_condition        25026 non-null  float64\n",
            " 9   child_under_6_months         25026 non-null  float64\n",
            " 10  health_worker                25026 non-null  float64\n",
            " 11  opinion_seas_vacc_effective  25026 non-null  float64\n",
            " 12  opinion_seas_risk            25026 non-null  float64\n",
            " 13  opinion_seas_sick_from_vacc  25026 non-null  float64\n",
            " 14  age_group                    25026 non-null  object \n",
            " 15  race                         25026 non-null  object \n",
            " 16  sex                          25026 non-null  object \n",
            " 17  hhs_geo_region               25026 non-null  object \n",
            " 18  census_msa                   25026 non-null  object \n",
            " 19  household_adults             25026 non-null  float64\n",
            " 20  household_children           25026 non-null  float64\n",
            " 21  seasonal_vaccine             25026 non-null  int64  \n",
            "dtypes: float64(15), int64(2), object(5)\n",
            "memory usage: 4.2+ MB\n"
          ]
        }
      ],
      "source": [
        "train_seasonal.info()"
      ]
    },
    {
      "cell_type": "markdown",
      "metadata": {
        "id": "GjKTum6Oc_aw"
      },
      "source": [
        "## train 데이터 h1n1, seasonal data 두 가지로 구성 완료"
      ]
    },
    {
      "cell_type": "code",
      "execution_count": null,
      "metadata": {
        "id": "S0vqUtiYc_ax"
      },
      "outputs": [],
      "source": [
        "train_h1n1.to_csv(\"./data/train_h1n1.csv\", index=False)"
      ]
    },
    {
      "cell_type": "code",
      "execution_count": null,
      "metadata": {
        "id": "Sfez4T1fc_ax"
      },
      "outputs": [],
      "source": [
        "train_seasonal.to_csv(\"./data/train_seasonal.csv\", index=False)"
      ]
    },
    {
      "cell_type": "markdown",
      "metadata": {
        "id": "3hsrMYYzc_ay"
      },
      "source": [
        "## Test 셋은 위에서와 동일하게 칼럼 구성"
      ]
    },
    {
      "cell_type": "code",
      "execution_count": null,
      "metadata": {
        "id": "TmkkAkgPc_az"
      },
      "outputs": [],
      "source": [
        "test_features_h1n1 = test_features2[['respondent_id','h1n1_concern', 'h1n1_knowledge', \n",
        "                             'behavioral_antiviral_meds','behavioral_avoidance', 'behavioral_face_mask', 'behavioral_wash_hands',\n",
        "                             'behavioral_large_gatherings', 'behavioral_outside_home','behavioral_touch_face',\n",
        "                             'chronic_med_condition', 'child_under_6_months', 'health_worker',\n",
        "                             'opinion_h1n1_vacc_effective','opinion_h1n1_risk','opinion_h1n1_sick_from_vacc', \n",
        "                             'age_group','race', 'sex', 'hhs_geo_region', 'census_msa','household_adults', 'household_children']]\n",
        "\n",
        "test_features_seasonal = test_features2[['respondent_id','behavioral_antiviral_meds','behavioral_avoidance', 'behavioral_face_mask', \n",
        "                                  'behavioral_wash_hands','behavioral_large_gatherings', 'behavioral_outside_home',\n",
        "                                  'behavioral_touch_face','chronic_med_condition', 'child_under_6_months', 'health_worker',\n",
        "                                  'opinion_seas_vacc_effective','opinion_seas_risk','opinion_seas_sick_from_vacc', \n",
        "                                  'age_group','race', 'sex', 'hhs_geo_region', 'census_msa','household_adults', 'household_children']]"
      ]
    },
    {
      "cell_type": "markdown",
      "metadata": {
        "id": "moZhFKttc_a0"
      },
      "source": [
        "# 전처리 VER1, VER2\n",
        "ver1 : (train&test)몇 몇 칼럼 - 라벨 인코딩 + (test)의 NAN 값은 mean<br>\n",
        "ver2 : (train&test)몇 몇 칼럼 - 원-핫 인코딩 + (test)셋의 NAN 값은 mean\n",
        "\n",
        "## VER1"
      ]
    },
    {
      "cell_type": "code",
      "execution_count": null,
      "metadata": {
        "id": "vAIsuiYnc_a1"
      },
      "outputs": [],
      "source": [
        "from sklearn import preprocessing\n",
        "\n",
        "def encoder1(df):\n",
        "    \n",
        "    ## age_group\n",
        "    df.loc[df['age_group'] == '18 - 34 Years', 'age_group'] = 1\n",
        "    df.loc[df['age_group'] == '35 - 44 Years', 'age_group'] = 2\n",
        "    df.loc[df['age_group'] == '45 - 54 Years', 'age_group'] = 3\n",
        "    df.loc[df['age_group'] == '55 - 64 Years', 'age_group'] = 4\n",
        "    df.loc[df['age_group'] == '65+ Years', 'age_group'] = 5\n",
        "\n",
        "\n",
        "    ## race\n",
        "    df.loc[df['race'] == 'White', 'race'] = 1\n",
        "    df.loc[df['race'] == 'Black', 'race'] = 2\n",
        "    df.loc[df['race'] == 'Other or Multiple', 'race'] = 3\n",
        "    df.loc[df['race'] == 'Hispanic', 'race'] = 4\n",
        "\n",
        "    ## sex\n",
        "    df.loc[df['sex'] == 'Female', 'sex'] = 1\n",
        "    df.loc[df['sex'] == 'Male', 'sex'] = 2\n",
        "    \n",
        "    le = preprocessing.LabelEncoder()\n",
        "    le.fit(df['hhs_geo_region'])\n",
        "\n",
        "    print(le.classes_)\n",
        "    df['hhs_geo_region'] = le.transform(df['hhs_geo_region'])\n",
        "\n",
        "    ## census_msa\n",
        "    df.loc[df['census_msa'] == 'Non-MSA', 'census_msa'] = 1\n",
        "    df.loc[df['census_msa'] == 'MSA, Not Principle  City', 'census_msa'] = 2\n",
        "    df.loc[df['census_msa'] == 'MSA, Principle City', 'census_msa'] = 3\n",
        "    \n",
        "    return df"
      ]
    },
    {
      "cell_type": "code",
      "execution_count": null,
      "metadata": {
        "id": "TeDlxE2kc_a2",
        "outputId": "05af91f0-4ec4-402d-93cf-2b491757f133"
      },
      "outputs": [
        {
          "name": "stdout",
          "output_type": "stream",
          "text": [
            "['atmpeygn' 'bhuqouqj' 'dqpwygqj' 'fpwskwrf' 'kbazzjca' 'lrircsnp'\n",
            " 'lzgpxyit' 'mlyzmhmf' 'oxchjgsf' 'qufhixun']\n",
            "['atmpeygn' 'bhuqouqj' 'dqpwygqj' 'fpwskwrf' 'kbazzjca' 'lrircsnp'\n",
            " 'lzgpxyit' 'mlyzmhmf' 'oxchjgsf' 'qufhixun']\n"
          ]
        },
        {
          "name": "stderr",
          "output_type": "stream",
          "text": [
            "C:\\Users\\Becky\\anaconda3\\lib\\site-packages\\pandas\\core\\indexing.py:1720: SettingWithCopyWarning: \n",
            "A value is trying to be set on a copy of a slice from a DataFrame.\n",
            "Try using .loc[row_indexer,col_indexer] = value instead\n",
            "\n",
            "See the caveats in the documentation: https://pandas.pydata.org/pandas-docs/stable/user_guide/indexing.html#returning-a-view-versus-a-copy\n",
            "  self._setitem_single_column(loc, value, pi)\n",
            "<ipython-input-157-5e77eb3e9c13>:27: SettingWithCopyWarning: \n",
            "A value is trying to be set on a copy of a slice from a DataFrame.\n",
            "Try using .loc[row_indexer,col_indexer] = value instead\n",
            "\n",
            "See the caveats in the documentation: https://pandas.pydata.org/pandas-docs/stable/user_guide/indexing.html#returning-a-view-versus-a-copy\n",
            "  df['hhs_geo_region'] = le.transform(df['hhs_geo_region'])\n"
          ]
        },
        {
          "name": "stdout",
          "output_type": "stream",
          "text": [
            "['atmpeygn' 'bhuqouqj' 'dqpwygqj' 'fpwskwrf' 'kbazzjca' 'lrircsnp'\n",
            " 'lzgpxyit' 'mlyzmhmf' 'oxchjgsf' 'qufhixun']\n",
            "['atmpeygn' 'bhuqouqj' 'dqpwygqj' 'fpwskwrf' 'kbazzjca' 'lrircsnp'\n",
            " 'lzgpxyit' 'mlyzmhmf' 'oxchjgsf' 'qufhixun']\n"
          ]
        },
        {
          "name": "stderr",
          "output_type": "stream",
          "text": [
            "<ipython-input-25-04e3191f367e>:26: SettingWithCopyWarning: \n",
            "A value is trying to be set on a copy of a slice from a DataFrame.\n",
            "Try using .loc[row_indexer,col_indexer] = value instead\n",
            "\n",
            "See the caveats in the documentation: https://pandas.pydata.org/pandas-docs/stable/user_guide/indexing.html#returning-a-view-versus-a-copy\n",
            "  df['hhs_geo_region'] = le.transform(df['hhs_geo_region'])\n"
          ]
        }
      ],
      "source": [
        "train_h1n1_1 = encoder1(train_h1n1)\n",
        "train_seasonal_1 = encoder1(train_seasonal)\n",
        "\n",
        "df_test_h1n1_1 = encoder1(test_features_h1n1)\n",
        "df_test_seasonal_1 = encoder(test_features_seasonal)"
      ]
    },
    {
      "cell_type": "code",
      "execution_count": null,
      "metadata": {
        "id": "rqBCly6Yc_a3"
      },
      "outputs": [],
      "source": [
        "## test - 'Nan'값 mean 으로 채우기\n",
        "df_test_h1n1_1 = df_test_h1n1_1.fillna(df_test_h1n1_1.mean())\n",
        "df_test_seasonal_1 = df_test_seasonal_1.fillna(df_test_seasonal_1.mean())"
      ]
    },
    {
      "cell_type": "code",
      "execution_count": null,
      "metadata": {
        "id": "ufwSLEkUc_a4"
      },
      "outputs": [],
      "source": [
        "train_h1n1_1.to_csv(\"./data/ver1/train_h1n1_ver1.csv\", index=False)\n",
        "train_seasonal_1.to_csv(\"./data/ver1/train_seasonal_ver1.csv\", index=False)"
      ]
    },
    {
      "cell_type": "code",
      "execution_count": null,
      "metadata": {
        "id": "8GnzrlzBc_a5"
      },
      "outputs": [],
      "source": [
        "df_test_h1n1_1.to_csv('./data/ver1/test_h1n1_ver1.csv', index = False)\n",
        "df_test_seasonal_1.to_csv('./data/ver1/test_seasonal_ver1.csv', index = False)"
      ]
    },
    {
      "cell_type": "markdown",
      "metadata": {
        "id": "JlLR0p70c_a6"
      },
      "source": [
        "## VER2"
      ]
    },
    {
      "cell_type": "code",
      "execution_count": null,
      "metadata": {
        "id": "1B1wNeXyc_a7"
      },
      "outputs": [],
      "source": [
        "def encoder2(df):\n",
        "    \n",
        "    ## age_group\n",
        "    df.loc[df['age_group'] == '18 - 34 Years', 'age_group'] = 1\n",
        "    df.loc[df['age_group'] == '35 - 44 Years', 'age_group'] = 2\n",
        "    df.loc[df['age_group'] == '45 - 54 Years', 'age_group'] = 3\n",
        "    df.loc[df['age_group'] == '55 - 64 Years', 'age_group'] = 4\n",
        "    df.loc[df['age_group'] == '65+ Years', 'age_group'] = 5\n",
        "\n",
        "\n",
        "    ## race - > 원핫 인코딩 적용\n",
        "    df = pd.get_dummies(df, columns = ['race'], prefix = 'race')\n",
        "    \n",
        "    ## sex\n",
        "    df.loc[df['sex'] == 'Female', 'sex'] = 1\n",
        "    df.loc[df['sex'] == 'Male', 'sex'] = 2\n",
        "    \n",
        "    ## hhs_geo_region - > 원핫 인코딩 적용\n",
        "    df = pd.get_dummies(df, columns = ['hhs_geo_region'], prefix = 'region')\n",
        "\n",
        "    ## census_msa - > 원핫 인코딩 적용\n",
        "    df = pd.get_dummies(df, columns = ['census_msa'], prefix = 'msa')\n",
        "\n",
        "    return df"
      ]
    },
    {
      "cell_type": "code",
      "execution_count": null,
      "metadata": {
        "id": "DRVpSypTc_a7",
        "outputId": "78c2ab96-0781-411d-93c5-fa3186ce331f"
      },
      "outputs": [
        {
          "name": "stderr",
          "output_type": "stream",
          "text": [
            "C:\\Users\\Becky\\anaconda3\\lib\\site-packages\\pandas\\core\\indexing.py:1720: SettingWithCopyWarning: \n",
            "A value is trying to be set on a copy of a slice from a DataFrame.\n",
            "Try using .loc[row_indexer,col_indexer] = value instead\n",
            "\n",
            "See the caveats in the documentation: https://pandas.pydata.org/pandas-docs/stable/user_guide/indexing.html#returning-a-view-versus-a-copy\n",
            "  self._setitem_single_column(loc, value, pi)\n"
          ]
        }
      ],
      "source": [
        "train_h1n1_2 = encoder2(train_h1n1)\n",
        "train_seasonal_2 = encoder2(train_seasonal)\n",
        "\n",
        "df_test_h1n1_2 = encoder2(test_features_h1n1)\n",
        "df_test_seasonal_2 = encoder2(test_features_seasonal)"
      ]
    },
    {
      "cell_type": "code",
      "execution_count": null,
      "metadata": {
        "id": "ASNR1SPac_a8"
      },
      "outputs": [],
      "source": [
        "## test - 'Nan'값 mean 으로 채우기\n",
        "df_test_h1n1_2 = df_test_h1n1_2.fillna(df_test_h1n1_2.mean())\n",
        "df_test_seasonal_2 = df_test_seasonal_2.fillna(df_test_seasonal_2.mean())"
      ]
    },
    {
      "cell_type": "code",
      "execution_count": null,
      "metadata": {
        "id": "vdqFQ6v0c_a8"
      },
      "outputs": [],
      "source": [
        "train_h1n1_2.to_csv(\"./data/ver2/train_h1n1_ver2.csv\", index=False)\n",
        "train_seasonal_2.to_csv(\"./data/ver2/train_seasonal_ver2.csv\", index=False)"
      ]
    },
    {
      "cell_type": "code",
      "execution_count": null,
      "metadata": {
        "id": "F4wR5f5Uc_a9"
      },
      "outputs": [],
      "source": [
        "df_test_h1n1_2.to_csv('./data/ver2/test_h1n1_ver2.csv', index = False)\n",
        "df_test_seasonal_2.to_csv('./data/ver2/test_seasonal_ver2.csv', index = False)"
      ]
    },
    {
      "cell_type": "code",
      "execution_count": null,
      "metadata": {
        "id": "x9Qi7MVsc_a9"
      },
      "outputs": [],
      "source": [
        ""
      ]
    },
    {
      "cell_type": "markdown",
      "metadata": {
        "id": "iIBLVNqnc_a-"
      },
      "source": [
        "# 머신러닝 모델"
      ]
    },
    {
      "cell_type": "code",
      "execution_count": null,
      "metadata": {
        "id": "35dKJQGpc_a-"
      },
      "outputs": [],
      "source": [
        "from sklearn.model_selection import train_test_split\n",
        "from sklearn.linear_model import LogisticRegression    \n",
        "from sklearn.naive_bayes import GaussianNB         \n",
        "from sklearn.tree import DecisionTreeClassifier \n",
        "from sklearn.ensemble import RandomForestClassifier\n",
        "\n",
        "from sklearn.metrics import accuracy_score\n",
        "from sklearn.metrics import f1_score\n",
        "from sklearn.metrics import recall_score\n",
        "from sklearn.metrics import precision_score"
      ]
    },
    {
      "cell_type": "code",
      "execution_count": null,
      "metadata": {
        "id": "XluB6jI1c_a-"
      },
      "outputs": [],
      "source": [
        "feature_h1n1 = train_h1n1.iloc[:,1:-1]\n",
        "target_h1n1 = train_h1n1['h1n1_vaccine']\n",
        "x_train1, x_valid1, y_train1, y_valid1 = train_test_split(feature_h1n1, target_h1n1, test_size=0.2,shuffle=True,      \n",
        "                                                          stratify=target_h1n1,  random_state=1234) "
      ]
    },
    {
      "cell_type": "code",
      "execution_count": null,
      "metadata": {
        "id": "WPJv4_Bsc_a_"
      },
      "outputs": [],
      "source": [
        "feature_seasonal = train_seasonal.iloc[:,1:-1]\n",
        "target_seasonal = train_seasonal['seasonal_vaccine']\n",
        "x_train2, x_valid2, y_train2, y_valid2 = train_test_split(feature_seasonal, target_seasonal, test_size=0.2,shuffle=True,      \n",
        "                                                          stratify=target_seasonal,  random_state=1234)"
      ]
    },
    {
      "cell_type": "code",
      "execution_count": null,
      "metadata": {
        "id": "uB1SWK9fc_a_"
      },
      "outputs": [],
      "source": [
        "# 분류 score 계산\n",
        "def score(pred, y_test):\n",
        "    print(' accuracy  : ', accuracy_score(y_test, pred))\n",
        "    print(' f1-score  : ', f1_score(y_test, pred))\n",
        "    print(' recall    : ', recall_score(y_test, pred))\n",
        "    print(' precision : ', precision_score(y_test, pred))\n",
        "    return accuracy_score(y_test, pred), f1_score(y_test, pred), recall_score(y_test, pred), precision_score(y_test, pred)"
      ]
    },
    {
      "cell_type": "code",
      "execution_count": null,
      "metadata": {
        "id": "tbY-WY46c_bA"
      },
      "outputs": [],
      "source": [
        "def logistic_reg(x_train, y_train, x_valid, y_valid):\n",
        "    \n",
        "    # 모델 분류 수행\n",
        "    reg = LogisticRegression(random_state=0, max_iter=500)\n",
        "    reg.fit(x_train, y_train)\n",
        "    pred = reg.predict(x_valid)   \n",
        "    print(reg.predict_proba(x_valid))\n",
        "    \n",
        "    # 분류 score 계산\n",
        "    accuracy, f1, recall, precision = score(pred, y_valid)\n",
        "    return accuracy, f1, recall, precision"
      ]
    },
    {
      "cell_type": "markdown",
      "metadata": {
        "id": "4bPGHpKDc_bB"
      },
      "source": [
        "## h1n1 모델"
      ]
    },
    {
      "cell_type": "code",
      "execution_count": null,
      "metadata": {
        "id": "ZQV6Yhrnc_bB"
      },
      "outputs": [],
      "source": [
        "df_test_h1n1 = df_test_h1n1.iloc[:,1:]\n",
        "df_test_seasonal = df_test_seasonal.iloc[:,1:]"
      ]
    },
    {
      "cell_type": "code",
      "execution_count": null,
      "metadata": {
        "id": "xU-rC8Vrc_bB"
      },
      "outputs": [],
      "source": [
        "# 모델 분류 수행\n",
        "reg1 = LogisticRegression(random_state=0, max_iter=500)\n",
        "reg1.fit(feature_h1n1, target_h1n1)\n",
        "pred1 = reg1.predict(df_test_h1n1)   \n",
        "pred_probability1 = reg1.predict_proba(df_test_h1n1)"
      ]
    },
    {
      "cell_type": "code",
      "execution_count": null,
      "metadata": {
        "id": "4p-PLa4nc_bC"
      },
      "outputs": [],
      "source": [
        "test_features['h1n1_vaccine'] = pred_probability1[:,1]"
      ]
    },
    {
      "cell_type": "markdown",
      "metadata": {
        "id": "pQnm56V2c_bC"
      },
      "source": [
        "## sasonal 모델"
      ]
    },
    {
      "cell_type": "code",
      "execution_count": null,
      "metadata": {
        "id": "pjpq7jS3c_bD"
      },
      "outputs": [],
      "source": [
        "# 모델 분류 수행\n",
        "reg2 = LogisticRegression(random_state=0, max_iter=500)\n",
        "reg2.fit(feature_seasonal, target_seasonal)\n",
        "pred2 = reg2.predict(df_test_seasonal)   \n",
        "pred_probability2 = reg2.predict_proba(df_test_seasonal)"
      ]
    },
    {
      "cell_type": "code",
      "execution_count": null,
      "metadata": {
        "id": "TA2Efulpc_bD"
      },
      "outputs": [],
      "source": [
        "test_features['seasonal_vaccine'] = pred_probability2[:,1]"
      ]
    },
    {
      "cell_type": "code",
      "execution_count": null,
      "metadata": {
        "id": "ZOLuW8XFc_bE"
      },
      "outputs": [],
      "source": [
        "submit = test_features[['respondent_id', 'h1n1_vaccine', 'seasonal_vaccine']]"
      ]
    },
    {
      "cell_type": "code",
      "execution_count": null,
      "metadata": {
        "id": "nm8F5oB9c_bE"
      },
      "outputs": [],
      "source": [
        "submit.to_csv('logistic_result.csv', index=False)"
      ]
    },
    {
      "cell_type": "code",
      "execution_count": null,
      "metadata": {
        "id": "widNL4Y1c_bE"
      },
      "outputs": [],
      "source": [
        ""
      ]
    },
    {
      "cell_type": "code",
      "execution_count": null,
      "metadata": {
        "id": "b-9UaRB0c_bF"
      },
      "outputs": [],
      "source": [
        ""
      ]
    },
    {
      "cell_type": "code",
      "execution_count": null,
      "metadata": {
        "id": "9CSMAUybc_bF"
      },
      "outputs": [],
      "source": [
        ""
      ]
    },
    {
      "cell_type": "code",
      "execution_count": null,
      "metadata": {
        "id": "Yc-l_WPOc_bF"
      },
      "outputs": [],
      "source": [
        "def dt_clf(x_train, y_train, x_valid, y_valid):\n",
        "    \n",
        "    # 모델 분류 수행\n",
        "    clf = DecisionTreeClassifier(max_depth=16, random_state=0)\n",
        "    clf.fit(x_train, y_train)\n",
        "    pred = clf.predict(x_valid)\n",
        "    k = clf.predict_log_proba\n",
        "    print(clf.predict_proba)\n",
        "          \n",
        "    \n",
        "    # 분류 score 계산\n",
        "    accuracy, f1, recall, precision = score(pred, y_valid)\n",
        "    return accuracy, f1, recall, precision"
      ]
    },
    {
      "cell_type": "code",
      "execution_count": null,
      "metadata": {
        "id": "kot2jPC_c_bG",
        "outputId": "95702d9f-71f0-4fc3-f0f0-37c67f48eee5"
      },
      "outputs": [
        {
          "name": "stdout",
          "output_type": "stream",
          "text": [
            "<bound method DecisionTreeClassifier.predict_proba of DecisionTreeClassifier(max_depth=16, random_state=0)>\n",
            " accuracy  :  0.7488924687877567\n",
            " f1-score  :  0.38419753086419756\n",
            " recall    :  0.3659454374412041\n",
            " precision :  0.40436590436590436\n"
          ]
        },
        {
          "data": {
            "text/plain": [
              "(0.7488924687877567,\n",
              " 0.38419753086419756,\n",
              " 0.3659454374412041,\n",
              " 0.40436590436590436)"
            ]
          },
          "execution_count": 106,
          "metadata": {},
          "output_type": "execute_result"
        }
      ],
      "source": [
        "dt_clf(x_train, y_train, x_valid, y_valid)"
      ]
    },
    {
      "cell_type": "code",
      "execution_count": null,
      "metadata": {
        "id": "467dOBWNc_bG"
      },
      "outputs": [],
      "source": [
        "def randomforest_clf(x_train, y_train, x_valid, y_valid):\n",
        "    \n",
        "    # 모델 분류 수행\n",
        "    clf = RandomForestClassifier(max_depth=16, random_state=0)\n",
        "    clf.fit(x_train, y_train)\n",
        "    pred = clf.predict(x_valid)\n",
        "    \n",
        "    # 분류 score 계산\n",
        "    accuracy, f1, recall, precision = score(pred, y_valid)\n",
        "    return accuracy, f1, recall, precision"
      ]
    },
    {
      "cell_type": "code",
      "execution_count": null,
      "metadata": {
        "id": "qMbjRpmac_bG",
        "outputId": "3ec76511-e892-4454-ba77-e0c64574f7f2"
      },
      "outputs": [
        {
          "name": "stdout",
          "output_type": "stream",
          "text": [
            " accuracy  :  0.8097060008054773\n",
            " f1-score  :  0.3977055449330784\n",
            " recall    :  0.29350893697083724\n",
            " precision :  0.616600790513834\n"
          ]
        },
        {
          "data": {
            "text/plain": [
              "(0.8097060008054773,\n",
              " 0.3977055449330784,\n",
              " 0.29350893697083724,\n",
              " 0.616600790513834)"
            ]
          },
          "execution_count": 99,
          "metadata": {},
          "output_type": "execute_result"
        }
      ],
      "source": [
        "randomforest_clf(x_train, y_train, x_valid, y_valid)"
      ]
    },
    {
      "cell_type": "code",
      "execution_count": null,
      "metadata": {
        "id": "peT7F5G7c_bH"
      },
      "outputs": [],
      "source": [
        "clf.predict_proba"
      ]
    },
    {
      "cell_type": "code",
      "execution_count": null,
      "metadata": {
        "id": "T7woyBSBc_bH"
      },
      "outputs": [],
      "source": [
        ""
      ]
    },
    {
      "cell_type": "code",
      "execution_count": null,
      "metadata": {
        "id": "dDR38xRac_bH"
      },
      "outputs": [],
      "source": [
        "# 모델 분류 수행\n",
        "clf1 = RandomForestClassifier(max_depth=16, random_state=0)\n",
        "clf1.fit(feature_h1n1, target_h1n1)\n",
        "pred1 = clf1.predict(df_test_h1n1)   \n",
        "pred_probability1 = clf1.predict_proba(df_test_h1n1)"
      ]
    },
    {
      "cell_type": "code",
      "execution_count": null,
      "metadata": {
        "id": "H4FSvqODc_bI"
      },
      "outputs": [],
      "source": [
        "clf2 = RandomForestClassifier(max_depth=16, random_state=0)\n",
        "clf2.fit(feature_seasonal, target_seasonal)\n",
        "pred2 = clf2.predict(df_test_seasonal)   \n",
        "pred_probability2 = clf2.predict_proba(df_test_seasonal)"
      ]
    },
    {
      "cell_type": "code",
      "execution_count": null,
      "metadata": {
        "id": "UjJOIUymc_bI"
      },
      "outputs": [],
      "source": [
        "test_features['h1n1_vaccine'] = pred_probability1[:,1]\n",
        "test_features['seasonal_vaccine'] = pred_probability2[:,1]\n",
        "submit2 = test_features[['respondent_id', 'h1n1_vaccine', 'seasonal_vaccine']]"
      ]
    },
    {
      "cell_type": "code",
      "execution_count": null,
      "metadata": {
        "id": "Y0YZFsk0c_bJ"
      },
      "outputs": [],
      "source": [
        "submit2.to_csv('randomforest_result.csv', index=False)"
      ]
    },
    {
      "cell_type": "code",
      "execution_count": null,
      "metadata": {
        "id": "Kw7dIduQc_bJ"
      },
      "outputs": [],
      "source": [
        ""
      ]
    }
  ],
  "metadata": {
    "kernelspec": {
      "display_name": "Python 3",
      "language": "python",
      "name": "python3"
    },
    "language_info": {
      "codemirror_mode": {
        "name": "ipython",
        "version": 3
      },
      "file_extension": ".py",
      "mimetype": "text/x-python",
      "name": "python",
      "nbconvert_exporter": "python",
      "pygments_lexer": "ipython3",
      "version": "3.8.3"
    },
    "toc": {
      "base_numbering": 1,
      "nav_menu": {},
      "number_sections": true,
      "sideBar": true,
      "skip_h1_title": false,
      "title_cell": "Table of Contents",
      "title_sidebar": "Contents",
      "toc_cell": false,
      "toc_position": {},
      "toc_section_display": true,
      "toc_window_display": false
    },
    "varInspector": {
      "cols": {
        "lenName": 16,
        "lenType": 16,
        "lenVar": 40
      },
      "kernels_config": {
        "python": {
          "delete_cmd_postfix": "",
          "delete_cmd_prefix": "del ",
          "library": "var_list.py",
          "varRefreshCmd": "print(var_dic_list())"
        },
        "r": {
          "delete_cmd_postfix": ") ",
          "delete_cmd_prefix": "rm(",
          "library": "var_list.r",
          "varRefreshCmd": "cat(var_dic_list()) "
        }
      },
      "types_to_exclude": [
        "module",
        "function",
        "builtin_function_or_method",
        "instance",
        "_Feature"
      ],
      "window_display": false
    },
    "colab": {
      "name": "data preprocessing.ipynb",
      "provenance": [],
      "include_colab_link": true
    }
  },
  "nbformat": 4,
  "nbformat_minor": 0
}