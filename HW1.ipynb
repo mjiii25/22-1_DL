{
  "nbformat": 4,
  "nbformat_minor": 0,
  "metadata": {
    "colab": {
      "name": "HW1.ipynb",
      "provenance": [],
      "collapsed_sections": [],
      "include_colab_link": true
    },
    "kernelspec": {
      "name": "python3",
      "display_name": "Python 3"
    },
    "language_info": {
      "name": "python"
    },
    "accelerator": "GPU"
  },
  "cells": [
    {
      "cell_type": "markdown",
      "metadata": {
        "id": "view-in-github",
        "colab_type": "text"
      },
      "source": [
        "<a href=\"https://colab.research.google.com/github/mjiii25/22-1_DLAI/blob/main/HW1.ipynb\" target=\"_parent\"><img src=\"https://colab.research.google.com/assets/colab-badge.svg\" alt=\"Open In Colab\"/></a>"
      ]
    },
    {
      "cell_type": "code",
      "source": [
        "import numpy as np\n",
        "import matplotlib.pyplot as plt\n",
        "import tensorflow as tf"
      ],
      "metadata": {
        "id": "ALu1ltBEh5s9"
      },
      "execution_count": 4,
      "outputs": []
    },
    {
      "cell_type": "code",
      "source": [
        "a, y = tf.constant(2.0), tf.constant(8.0)\n",
        "x = tf.Variable(10.0) # In practice, we start with a random value\n",
        "loss = tf.math.abs(a * x - y)\n",
        "loss"
      ],
      "metadata": {
        "id": "Qj5pxO36iFQ4",
        "outputId": "a52e3ffa-f266-4063-fc2a-a89180e0ea1c",
        "colab": {
          "base_uri": "https://localhost:8080/"
        }
      },
      "execution_count": 8,
      "outputs": [
        {
          "output_type": "execute_result",
          "data": {
            "text/plain": [
              "<tf.Tensor: shape=(), dtype=float32, numpy=12.0>"
            ]
          },
          "metadata": {},
          "execution_count": 8
        }
      ]
    },
    {
      "cell_type": "code",
      "source": [
        "# UDF for training\n",
        "\n",
        "def train_func():\n",
        "    with tf.GradientTape() as tape:\n",
        "        loss = tf.math.abs(a * x - y)\n",
        "\n",
        "    # calculate gradient\n",
        "\n",
        "    dx =  tape.gradient(loss, x)\n",
        "    print('x = {}, dx = {:.2f}'.format(x.numpy(), dx))\n",
        "\n",
        "    # update x <- x - dx\n",
        "    x.assign(x - dx)"
      ],
      "metadata": {
        "id": "-7W6my2Fhoql"
      },
      "execution_count": 9,
      "outputs": []
    },
    {
      "cell_type": "code",
      "source": [
        "# Run train_func() UDF repeately\n",
        "\n",
        "for i in range(4):\n",
        "\n",
        "    train_func()"
      ],
      "metadata": {
        "id": "f-BdqiLJhztg",
        "outputId": "b7170ddf-533c-472a-b402-2b10ed17c01d",
        "colab": {
          "base_uri": "https://localhost:8080/"
        }
      },
      "execution_count": 10,
      "outputs": [
        {
          "output_type": "stream",
          "name": "stdout",
          "text": [
            "x = 10.0, dx = 2.00\n",
            "x = 8.0, dx = 2.00\n",
            "x = 6.0, dx = 2.00\n",
            "x = 4.0, dx = 0.00\n"
          ]
        }
      ]
    },
    {
      "cell_type": "markdown",
      "source": [
        "---------------------------------------------------------------------------------------\n",
        "\n",
        "\n"
      ],
      "metadata": {
        "id": "rnLx2U2liyAX"
      }
    },
    {
      "cell_type": "code",
      "source": [
        "input_var = tf.Variable(initial_value=3.)\n",
        "with tf.GradientTape() as tape:\n",
        "   result = tf.square(input_var)\n",
        "gradient = tape.gradient(result, input_var)"
      ],
      "metadata": {
        "id": "_4Ap7Jq6jaKa"
      },
      "execution_count": 11,
      "outputs": []
    },
    {
      "cell_type": "code",
      "source": [
        "gradient"
      ],
      "metadata": {
        "id": "GQL2AWDWjb3Y",
        "outputId": "04fa27df-33ef-4db2-c29a-42063609a473",
        "colab": {
          "base_uri": "https://localhost:8080/"
        }
      },
      "execution_count": 12,
      "outputs": [
        {
          "output_type": "execute_result",
          "data": {
            "text/plain": [
              "<tf.Tensor: shape=(), dtype=float32, numpy=6.0>"
            ]
          },
          "metadata": {},
          "execution_count": 12
        }
      ]
    },
    {
      "cell_type": "code",
      "source": [
        "## self practice\n",
        "input_var = tf.Variable(initial_value=3.)\n",
        "with tf.GradientTape() as tape:\n",
        "   result = tf.square(input_var)\n",
        "   print(result)"
      ],
      "metadata": {
        "id": "WvtxBplEjiaP",
        "outputId": "d2ce275f-4ece-49bd-929d-cb91a96cb76a",
        "colab": {
          "base_uri": "https://localhost:8080/"
        }
      },
      "execution_count": 22,
      "outputs": [
        {
          "output_type": "stream",
          "name": "stdout",
          "text": [
            "tf.Tensor(9.0, shape=(), dtype=float32)\n"
          ]
        }
      ]
    },
    {
      "cell_type": "code",
      "source": [
        "tape.gradient(result, input_var)"
      ],
      "metadata": {
        "id": "SX9ihfHJj9tM",
        "outputId": "ea0e08a5-8603-4795-d04a-2f6b52564eb5",
        "colab": {
          "base_uri": "https://localhost:8080/"
        }
      },
      "execution_count": 23,
      "outputs": [
        {
          "output_type": "execute_result",
          "data": {
            "text/plain": [
              "<tf.Tensor: shape=(), dtype=float32, numpy=6.0>"
            ]
          },
          "metadata": {},
          "execution_count": 23
        }
      ]
    },
    {
      "cell_type": "code",
      "source": [
        "tape.gradient?"
      ],
      "metadata": {
        "id": "KmiazknZkCqv"
      },
      "execution_count": 17,
      "outputs": []
    },
    {
      "cell_type": "markdown",
      "source": [
        "## HW 1 \n",
        "Answer folloing questions using tensorflow's gradient tape.  \n",
        "\n",
        "EX)\n",
        "```\n",
        "input_var = tf.Variable(initial_value=3.)\n",
        "with tf.GradientTape() as tape:\n",
        "   result = tf.square(input_var)\n",
        "gradient = tape.gradient(result, input_var)\n",
        "```\n",
        "\n",
        "### Q1 Differentiate $y = x^2 + 3x + 1$ with respect to a scalar variable $x$."
      ],
      "metadata": {
        "id": "OwBySVVU5h6M"
      }
    },
    {
      "cell_type": "code",
      "source": [
        "import tensorflow as tf"
      ],
      "metadata": {
        "id": "CKVDT_x5TqKh"
      },
      "execution_count": null,
      "outputs": []
    },
    {
      "cell_type": "code",
      "execution_count": 32,
      "metadata": {
        "id": "aZSgHuiR5W1k",
        "outputId": "a8a2c89b-c974-46d6-c9d1-8362102c19d6",
        "colab": {
          "base_uri": "https://localhost:8080/"
        }
      },
      "outputs": [
        {
          "output_type": "execute_result",
          "data": {
            "text/plain": [
              "<tf.Tensor: shape=(), dtype=float32, numpy=9.0>"
            ]
          },
          "metadata": {},
          "execution_count": 32
        }
      ],
      "source": [
        "input_var = tf.Variable(initial_value=3.)\n",
        "\n",
        "with tf.GradientTape() as tape:\n",
        "   result = tf.square(input_var) + 3 * input_var + 1\n",
        "gradient = tape.gradient(result, input_var)\n",
        "\n",
        "gradient"
      ]
    },
    {
      "cell_type": "markdown",
      "source": [
        "### Q2 Differentiate $y = X^3 + 3X + 5$ with respect to a 2 by 2 matrix variable $X$."
      ],
      "metadata": {
        "id": "qEqK8L1k6PSd"
      }
    },
    {
      "cell_type": "code",
      "source": [
        "input_var = tf.Variable(initial_value=3.)\n",
        "\n",
        "with tf.GradientTape() as tape:\n",
        "   result = input_var**3 + 3 * input_var + 5\n",
        "gradient = tape.gradient(result, input_var)\n",
        "\n",
        "gradient"
      ],
      "metadata": {
        "id": "WKvVq8pQ6YNt",
        "outputId": "41c62cc0-715b-48a5-8bf8-1bc613c61980",
        "colab": {
          "base_uri": "https://localhost:8080/"
        }
      },
      "execution_count": 35,
      "outputs": [
        {
          "output_type": "execute_result",
          "data": {
            "text/plain": [
              "<tf.Tensor: shape=(), dtype=float32, numpy=30.0>"
            ]
          },
          "metadata": {},
          "execution_count": 35
        }
      ]
    },
    {
      "cell_type": "markdown",
      "source": [
        "### Q3 Differentiate $z = X^3 y^2 + 3X + 2Xy + 1$ with respect to a 2 by 2 matrix variable $X$ and a scalar variable $y$."
      ],
      "metadata": {
        "id": "AFsXMZmW6e6F"
      }
    },
    {
      "cell_type": "code",
      "source": [
        "input_X = tf.Variable(initial_value = 1., name = 'input_X')\n",
        "input_y = tf.Variable(initial_value = 1., name = 'input_y')\n",
        "\n",
        "with tf.GradientTape() as tape:\n",
        "  result = input_X**3 * input_y**2 + 3 * input_X + 2 * input_X * input_y + 1\n",
        "gradient = tape.gradient(result, input_X, input_y)\n",
        "\n",
        "gradient"
      ],
      "metadata": {
        "id": "mXXKBxo36kPl",
        "outputId": "ca078f53-373c-411d-c631-635e41f8f061",
        "colab": {
          "base_uri": "https://localhost:8080/"
        }
      },
      "execution_count": 46,
      "outputs": [
        {
          "output_type": "execute_result",
          "data": {
            "text/plain": [
              "<tf.Tensor: shape=(), dtype=float32, numpy=8.0>"
            ]
          },
          "metadata": {},
          "execution_count": 46
        }
      ]
    }
  ]
}