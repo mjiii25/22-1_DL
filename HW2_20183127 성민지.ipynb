{
  "nbformat": 4,
  "nbformat_minor": 0,
  "metadata": {
    "colab": {
      "name": "HW2.ipynb",
      "provenance": [],
      "collapsed_sections": [],
      "include_colab_link": true
    },
    "kernelspec": {
      "name": "python3",
      "display_name": "Python 3"
    },
    "language_info": {
      "name": "python"
    },
    "accelerator": "GPU"
  },
  "cells": [
    {
      "cell_type": "markdown",
      "metadata": {
        "id": "view-in-github",
        "colab_type": "text"
      },
      "source": [
        "<a href=\"https://colab.research.google.com/github/mjiii25/22-1_DLAI/blob/main/HW2_20183127%20%EC%84%B1%EB%AF%BC%EC%A7%80.ipynb\" target=\"_parent\"><img src=\"https://colab.research.google.com/assets/colab-badge.svg\" alt=\"Open In Colab\"/></a>"
      ]
    },
    {
      "cell_type": "markdown",
      "source": [
        "## HW 2\n",
        "Answer folloing questions \n",
        "\n"
      ],
      "metadata": {
        "id": "OwBySVVU5h6M"
      }
    },
    {
      "cell_type": "code",
      "execution_count": null,
      "metadata": {
        "id": "aZSgHuiR5W1k"
      },
      "outputs": [],
      "source": [
        ""
      ]
    },
    {
      "cell_type": "markdown",
      "source": [
        "### Below is one of the example code for binary-class classification problem on IMDB dataset"
      ],
      "metadata": {
        "id": "qEqK8L1k6PSd"
      }
    },
    {
      "cell_type": "code",
      "source": [
        "from tensorflow.keras.datasets import imdb\n",
        "(train_data, train_labels), (test_data, test_labels) = imdb.load_data(\n",
        "    num_words=10000)"
      ],
      "metadata": {
        "id": "WKvVq8pQ6YNt"
      },
      "execution_count": 31,
      "outputs": []
    },
    {
      "cell_type": "code",
      "source": [
        "import numpy as np\n",
        "def vectorize_sequences(sequences, dimension=10000):\n",
        "    results = np.zeros((len(sequences), dimension))\n",
        "    for i, sequence in enumerate(sequences):\n",
        "        for j in sequence:\n",
        "            results[i, j] = 1.\n",
        "    return results\n",
        "x_train = vectorize_sequences(train_data)\n",
        "x_test = vectorize_sequences(test_data)"
      ],
      "metadata": {
        "id": "IFml1LhPXCsk"
      },
      "execution_count": 32,
      "outputs": []
    },
    {
      "cell_type": "code",
      "source": [
        "y_train = np.asarray(train_labels).astype(\"float32\")\n",
        "y_test = np.asarray(test_labels).astype(\"float32\")"
      ],
      "metadata": {
        "id": "FCxmgWVYXHoD"
      },
      "execution_count": 33,
      "outputs": []
    },
    {
      "cell_type": "code",
      "source": [
        "y_train[:5]"
      ],
      "metadata": {
        "colab": {
          "base_uri": "https://localhost:8080/"
        },
        "id": "RMI28KpIXVYE",
        "outputId": "329d9259-7c22-4059-9c5e-a8f384d9e990"
      },
      "execution_count": 34,
      "outputs": [
        {
          "output_type": "execute_result",
          "data": {
            "text/plain": [
              "array([1., 0., 0., 1., 0.], dtype=float32)"
            ]
          },
          "metadata": {},
          "execution_count": 34
        }
      ]
    },
    {
      "cell_type": "markdown",
      "source": [
        "**Original model**"
      ],
      "metadata": {
        "id": "yo-SMFKofEVb"
      }
    },
    {
      "cell_type": "code",
      "source": [
        "from tensorflow import keras\n",
        "from tensorflow.keras import layers\n",
        "\n",
        "model = keras.Sequential([\n",
        "    layers.Dense(16, activation=\"relu\"),\n",
        "    layers.Dense(16, activation=\"relu\"),\n",
        "    layers.Dense(1, activation=\"sigmoid\")\n",
        "])"
      ],
      "metadata": {
        "id": "xgDMHxOVXKRE"
      },
      "execution_count": 35,
      "outputs": []
    },
    {
      "cell_type": "code",
      "source": [
        "model.compile(optimizer=\"rmsprop\",\n",
        "              loss=\"binary_crossentropy\",\n",
        "              metrics=[\"accuracy\"])"
      ],
      "metadata": {
        "id": "tT4KACL9XdNE"
      },
      "execution_count": 36,
      "outputs": []
    },
    {
      "cell_type": "code",
      "source": [
        "x_val = x_train[:10000]\n",
        "partial_x_train = x_train[10000:]\n",
        "y_val = y_train[:10000]\n",
        "partial_y_train = y_train[10000:]"
      ],
      "metadata": {
        "id": "k-Ufwj3iXc8l"
      },
      "execution_count": 37,
      "outputs": []
    },
    {
      "cell_type": "code",
      "source": [
        "history = model.fit(partial_x_train,\n",
        "                    partial_y_train,\n",
        "                    epochs=20,\n",
        "                    batch_size=512,\n",
        "                    validation_data=(x_val, y_val))"
      ],
      "metadata": {
        "id": "5kJLbfX3Xp_U",
        "outputId": "4a92d90f-f7aa-467a-c049-763b9ffb8c6d",
        "colab": {
          "base_uri": "https://localhost:8080/"
        }
      },
      "execution_count": 38,
      "outputs": [
        {
          "output_type": "stream",
          "name": "stdout",
          "text": [
            "Epoch 1/20\n",
            "30/30 [==============================] - 2s 38ms/step - loss: 0.5335 - accuracy: 0.7755 - val_loss: 0.4027 - val_accuracy: 0.8679\n",
            "Epoch 2/20\n",
            "30/30 [==============================] - 1s 21ms/step - loss: 0.3205 - accuracy: 0.9016 - val_loss: 0.3278 - val_accuracy: 0.8749\n",
            "Epoch 3/20\n",
            "30/30 [==============================] - 1s 25ms/step - loss: 0.2306 - accuracy: 0.9275 - val_loss: 0.2832 - val_accuracy: 0.8898\n",
            "Epoch 4/20\n",
            "30/30 [==============================] - 1s 21ms/step - loss: 0.1805 - accuracy: 0.9403 - val_loss: 0.2776 - val_accuracy: 0.8898\n",
            "Epoch 5/20\n",
            "30/30 [==============================] - 1s 22ms/step - loss: 0.1415 - accuracy: 0.9557 - val_loss: 0.2913 - val_accuracy: 0.8851\n",
            "Epoch 6/20\n",
            "30/30 [==============================] - 1s 21ms/step - loss: 0.1171 - accuracy: 0.9633 - val_loss: 0.2999 - val_accuracy: 0.8842\n",
            "Epoch 7/20\n",
            "30/30 [==============================] - 1s 22ms/step - loss: 0.0969 - accuracy: 0.9699 - val_loss: 0.3121 - val_accuracy: 0.8840\n",
            "Epoch 8/20\n",
            "30/30 [==============================] - 1s 26ms/step - loss: 0.0785 - accuracy: 0.9775 - val_loss: 0.3306 - val_accuracy: 0.8833\n",
            "Epoch 9/20\n",
            "30/30 [==============================] - 1s 21ms/step - loss: 0.0614 - accuracy: 0.9848 - val_loss: 0.3541 - val_accuracy: 0.8801\n",
            "Epoch 10/20\n",
            "30/30 [==============================] - 1s 21ms/step - loss: 0.0504 - accuracy: 0.9891 - val_loss: 0.3949 - val_accuracy: 0.8766\n",
            "Epoch 11/20\n",
            "30/30 [==============================] - 1s 21ms/step - loss: 0.0404 - accuracy: 0.9907 - val_loss: 0.4230 - val_accuracy: 0.8735\n",
            "Epoch 12/20\n",
            "30/30 [==============================] - 1s 21ms/step - loss: 0.0328 - accuracy: 0.9928 - val_loss: 0.4520 - val_accuracy: 0.8732\n",
            "Epoch 13/20\n",
            "30/30 [==============================] - 1s 22ms/step - loss: 0.0258 - accuracy: 0.9942 - val_loss: 0.4712 - val_accuracy: 0.8742\n",
            "Epoch 14/20\n",
            "30/30 [==============================] - 1s 22ms/step - loss: 0.0166 - accuracy: 0.9981 - val_loss: 0.5070 - val_accuracy: 0.8737\n",
            "Epoch 15/20\n",
            "30/30 [==============================] - 1s 21ms/step - loss: 0.0152 - accuracy: 0.9979 - val_loss: 0.5582 - val_accuracy: 0.8683\n",
            "Epoch 16/20\n",
            "30/30 [==============================] - 1s 21ms/step - loss: 0.0127 - accuracy: 0.9979 - val_loss: 0.5766 - val_accuracy: 0.8705\n",
            "Epoch 17/20\n",
            "30/30 [==============================] - 1s 22ms/step - loss: 0.0111 - accuracy: 0.9983 - val_loss: 0.6048 - val_accuracy: 0.8701\n",
            "Epoch 18/20\n",
            "30/30 [==============================] - 1s 21ms/step - loss: 0.0050 - accuracy: 0.9997 - val_loss: 0.6429 - val_accuracy: 0.8679\n",
            "Epoch 19/20\n",
            "30/30 [==============================] - 1s 21ms/step - loss: 0.0102 - accuracy: 0.9975 - val_loss: 0.6694 - val_accuracy: 0.8700\n",
            "Epoch 20/20\n",
            "30/30 [==============================] - 1s 22ms/step - loss: 0.0028 - accuracy: 0.9998 - val_loss: 0.6933 - val_accuracy: 0.8689\n"
          ]
        }
      ]
    },
    {
      "cell_type": "markdown",
      "source": [
        "### Q1 Binary classification is multi-class classification with two classes so we can modify our model as below:"
      ],
      "metadata": {
        "id": "AFsXMZmW6e6F"
      }
    },
    {
      "cell_type": "code",
      "source": [
        "model2 = keras.Sequential([\n",
        "    layers.Dense(16, activation=\"relu\"),\n",
        "    layers.Dense(16, activation=\"relu\"),\n",
        "    layers.Dense(2, activation=\"softmax\")\n",
        "])"
      ],
      "metadata": {
        "id": "mXXKBxo36kPl"
      },
      "execution_count": 39,
      "outputs": []
    },
    {
      "cell_type": "markdown",
      "source": [
        "### Complete the codes for compile and model fitting. "
      ],
      "metadata": {
        "id": "PsOrD_13YWn1"
      }
    },
    {
      "cell_type": "code",
      "source": [
        "#model2.compile()\n",
        "\n",
        "model2.compile(optimizer = \"rmsprop\",\n",
        "               loss = \"sparse_categorical_crossentropy\",\n",
        "               metrics = [\"accuracy\"])\n",
        "\n",
        "\n",
        "#model2.fit()\n",
        "\n",
        "history = model2.fit(partial_x_train,\n",
        "                    partial_y_train,\n",
        "                    epochs = 20,\n",
        "                    batch_size = 512,\n",
        "                    validation_data = (x_val, y_val))"
      ],
      "metadata": {
        "id": "Hj4AauQvYT7F",
        "outputId": "21063f2a-b60c-469d-9fdd-12df9b3ba57a",
        "colab": {
          "base_uri": "https://localhost:8080/"
        }
      },
      "execution_count": 40,
      "outputs": [
        {
          "output_type": "stream",
          "name": "stdout",
          "text": [
            "Epoch 1/20\n",
            "30/30 [==============================] - 2s 39ms/step - loss: 0.4993 - accuracy: 0.7814 - val_loss: 0.3676 - val_accuracy: 0.8669\n",
            "Epoch 2/20\n",
            "30/30 [==============================] - 1s 24ms/step - loss: 0.2826 - accuracy: 0.9057 - val_loss: 0.3637 - val_accuracy: 0.8478\n",
            "Epoch 3/20\n",
            "30/30 [==============================] - 1s 21ms/step - loss: 0.2100 - accuracy: 0.9304 - val_loss: 0.2792 - val_accuracy: 0.8905\n",
            "Epoch 4/20\n",
            "30/30 [==============================] - 1s 21ms/step - loss: 0.1635 - accuracy: 0.9475 - val_loss: 0.2767 - val_accuracy: 0.8895\n",
            "Epoch 5/20\n",
            "30/30 [==============================] - 1s 21ms/step - loss: 0.1344 - accuracy: 0.9573 - val_loss: 0.2867 - val_accuracy: 0.8875\n",
            "Epoch 6/20\n",
            "30/30 [==============================] - 1s 21ms/step - loss: 0.1068 - accuracy: 0.9661 - val_loss: 0.3039 - val_accuracy: 0.8846\n",
            "Epoch 7/20\n",
            "30/30 [==============================] - 1s 21ms/step - loss: 0.0896 - accuracy: 0.9722 - val_loss: 0.3354 - val_accuracy: 0.8789\n",
            "Epoch 8/20\n",
            "30/30 [==============================] - 1s 20ms/step - loss: 0.0686 - accuracy: 0.9806 - val_loss: 0.3515 - val_accuracy: 0.8819\n",
            "Epoch 9/20\n",
            "30/30 [==============================] - 1s 20ms/step - loss: 0.0598 - accuracy: 0.9832 - val_loss: 0.4008 - val_accuracy: 0.8715\n",
            "Epoch 10/20\n",
            "30/30 [==============================] - 1s 21ms/step - loss: 0.0440 - accuracy: 0.9897 - val_loss: 0.5369 - val_accuracy: 0.8509\n",
            "Epoch 11/20\n",
            "30/30 [==============================] - 1s 21ms/step - loss: 0.0387 - accuracy: 0.9905 - val_loss: 0.4404 - val_accuracy: 0.8755\n",
            "Epoch 12/20\n",
            "30/30 [==============================] - 1s 20ms/step - loss: 0.0278 - accuracy: 0.9943 - val_loss: 0.5277 - val_accuracy: 0.8620\n",
            "Epoch 13/20\n",
            "30/30 [==============================] - 1s 21ms/step - loss: 0.0242 - accuracy: 0.9956 - val_loss: 0.5159 - val_accuracy: 0.8695\n",
            "Epoch 14/20\n",
            "30/30 [==============================] - 1s 26ms/step - loss: 0.0186 - accuracy: 0.9966 - val_loss: 0.5365 - val_accuracy: 0.8706\n",
            "Epoch 15/20\n",
            "30/30 [==============================] - 1s 21ms/step - loss: 0.0201 - accuracy: 0.9949 - val_loss: 0.5719 - val_accuracy: 0.8700\n",
            "Epoch 16/20\n",
            "30/30 [==============================] - 1s 20ms/step - loss: 0.0076 - accuracy: 0.9997 - val_loss: 0.6273 - val_accuracy: 0.8650\n",
            "Epoch 17/20\n",
            "30/30 [==============================] - 1s 21ms/step - loss: 0.0144 - accuracy: 0.9958 - val_loss: 0.6405 - val_accuracy: 0.8710\n",
            "Epoch 18/20\n",
            "30/30 [==============================] - 1s 21ms/step - loss: 0.0043 - accuracy: 0.9998 - val_loss: 0.6758 - val_accuracy: 0.8691\n",
            "Epoch 19/20\n",
            "30/30 [==============================] - 1s 20ms/step - loss: 0.0109 - accuracy: 0.9974 - val_loss: 0.7115 - val_accuracy: 0.8659\n",
            "Epoch 20/20\n",
            "30/30 [==============================] - 1s 21ms/step - loss: 0.0025 - accuracy: 0.9999 - val_loss: 0.7389 - val_accuracy: 0.8679\n"
          ]
        }
      ]
    },
    {
      "cell_type": "markdown",
      "source": [
        "### Q2 Below is visualization of the validation loss. We can see overfitting after 5 epochs.  "
      ],
      "metadata": {
        "id": "6SGxXX70Ylr_"
      }
    },
    {
      "cell_type": "code",
      "source": [
        "import matplotlib.pyplot as plt\n",
        "history_dict = history.history\n",
        "loss_values = history_dict[\"loss\"]\n",
        "val_loss_values = history_dict[\"val_loss\"]\n",
        "epochs = range(1, len(loss_values) + 1)\n",
        "plt.plot(epochs, loss_values, \"bo\", label=\"Training loss\")\n",
        "plt.plot(epochs, val_loss_values, \"b\", label=\"Validation loss\")\n",
        "plt.title(\"Training and validation loss\")\n",
        "plt.xlabel(\"Epochs\")\n",
        "plt.ylabel(\"Loss\")\n",
        "plt.legend()\n",
        "plt.show()"
      ],
      "metadata": {
        "colab": {
          "base_uri": "https://localhost:8080/",
          "height": 295
        },
        "id": "X8rcODQ7Yk_E",
        "outputId": "a1af5384-56ea-438a-f95d-58d3973f78bb"
      },
      "execution_count": 41,
      "outputs": [
        {
          "output_type": "display_data",
          "data": {
            "text/plain": [
              "<Figure size 432x288 with 1 Axes>"
            ],
            "image/png": "[encoded data removed]"
          },
          "metadata": {
            "needs_background": "light"
          }
        }
      ]
    },
    {
      "cell_type": "markdown",
      "source": [
        "### Add dropout layers and visualize the validation loss of your new model."
      ],
      "metadata": {
        "id": "4LbAGmB-aD-d"
      }
    },
    {
      "cell_type": "code",
      "source": [
        "## Add dropout layers \n",
        "\n",
        "model2_dr = keras.Sequential([\n",
        "    layers.Dense(16, activation=\"relu\"),\n",
        "    layers.Dropout(0.5),\n",
        "    layers.Dense(16, activation=\"relu\"),\n",
        "    layers.Dropout(0.5),\n",
        "    layers.Dense(2, activation=\"softmax\")\n",
        "])\n",
        "\n",
        "\n",
        "\n",
        "## retrain our new model\n",
        "\n",
        "model2_dr.compile(optimizer = \"rmsprop\",\n",
        "                  loss = \"sparse_categorical_crossentropy\",\n",
        "                  metrics = [\"accuracy\"])\n",
        "\n",
        "history_dropout = model2_dr.fit(partial_x_train,\n",
        "                                partial_y_train,\n",
        "                                epochs = 20,\n",
        "                                batch_size = 512, \n",
        "                                validation_data = (x_val, y_val))\n"
      ],
      "metadata": {
        "id": "uY9QQxR1Z013",
        "outputId": "39ee9895-99da-4407-ccf8-becd3ae469e1",
        "colab": {
          "base_uri": "https://localhost:8080/"
        }
      },
      "execution_count": 42,
      "outputs": [
        {
          "output_type": "stream",
          "name": "stdout",
          "text": [
            "Epoch 1/20\n",
            "30/30 [==============================] - 2s 36ms/step - loss: 0.6344 - accuracy: 0.6405 - val_loss: 0.5203 - val_accuracy: 0.8170\n",
            "Epoch 2/20\n",
            "30/30 [==============================] - 1s 21ms/step - loss: 0.5187 - accuracy: 0.7652 - val_loss: 0.4148 - val_accuracy: 0.8709\n",
            "Epoch 3/20\n",
            "30/30 [==============================] - 1s 21ms/step - loss: 0.4364 - accuracy: 0.8249 - val_loss: 0.3489 - val_accuracy: 0.8784\n",
            "Epoch 4/20\n",
            "30/30 [==============================] - 1s 22ms/step - loss: 0.3757 - accuracy: 0.8577 - val_loss: 0.3094 - val_accuracy: 0.8820\n",
            "Epoch 5/20\n",
            "30/30 [==============================] - 1s 22ms/step - loss: 0.3219 - accuracy: 0.8835 - val_loss: 0.2939 - val_accuracy: 0.8870\n",
            "Epoch 6/20\n",
            "30/30 [==============================] - 1s 22ms/step - loss: 0.2826 - accuracy: 0.9049 - val_loss: 0.2817 - val_accuracy: 0.8851\n",
            "Epoch 7/20\n",
            "30/30 [==============================] - 1s 22ms/step - loss: 0.2470 - accuracy: 0.9144 - val_loss: 0.2836 - val_accuracy: 0.8867\n",
            "Epoch 8/20\n",
            "30/30 [==============================] - 1s 22ms/step - loss: 0.2194 - accuracy: 0.9252 - val_loss: 0.2902 - val_accuracy: 0.8835\n",
            "Epoch 9/20\n",
            "30/30 [==============================] - 1s 21ms/step - loss: 0.2024 - accuracy: 0.9313 - val_loss: 0.3022 - val_accuracy: 0.8859\n",
            "Epoch 10/20\n",
            "30/30 [==============================] - 1s 22ms/step - loss: 0.1818 - accuracy: 0.9391 - val_loss: 0.3367 - val_accuracy: 0.8748\n",
            "Epoch 11/20\n",
            "30/30 [==============================] - 1s 22ms/step - loss: 0.1603 - accuracy: 0.9454 - val_loss: 0.3528 - val_accuracy: 0.8870\n",
            "Epoch 12/20\n",
            "30/30 [==============================] - 1s 21ms/step - loss: 0.1523 - accuracy: 0.9476 - val_loss: 0.3794 - val_accuracy: 0.8869\n",
            "Epoch 13/20\n",
            "30/30 [==============================] - 1s 24ms/step - loss: 0.1391 - accuracy: 0.9549 - val_loss: 0.3995 - val_accuracy: 0.8843\n",
            "Epoch 14/20\n",
            "30/30 [==============================] - 1s 21ms/step - loss: 0.1271 - accuracy: 0.9572 - val_loss: 0.4368 - val_accuracy: 0.8858\n",
            "Epoch 15/20\n",
            "30/30 [==============================] - 1s 21ms/step - loss: 0.1195 - accuracy: 0.9608 - val_loss: 0.4313 - val_accuracy: 0.8817\n",
            "Epoch 16/20\n",
            "30/30 [==============================] - 1s 25ms/step - loss: 0.1103 - accuracy: 0.9621 - val_loss: 0.4565 - val_accuracy: 0.8784\n",
            "Epoch 17/20\n",
            "30/30 [==============================] - 1s 21ms/step - loss: 0.1049 - accuracy: 0.9641 - val_loss: 0.4976 - val_accuracy: 0.8813\n",
            "Epoch 18/20\n",
            "30/30 [==============================] - 1s 21ms/step - loss: 0.0966 - accuracy: 0.9668 - val_loss: 0.5433 - val_accuracy: 0.8834\n",
            "Epoch 19/20\n",
            "30/30 [==============================] - 1s 22ms/step - loss: 0.0970 - accuracy: 0.9661 - val_loss: 0.5622 - val_accuracy: 0.8803\n",
            "Epoch 20/20\n",
            "30/30 [==============================] - 1s 21ms/step - loss: 0.0937 - accuracy: 0.9679 - val_loss: 0.6009 - val_accuracy: 0.8821\n"
          ]
        }
      ]
    },
    {
      "cell_type": "code",
      "source": [
        "## Visualize the validation loss of our new model\n",
        "\n",
        "import matplotlib.pyplot as plt\n",
        "\n",
        "history_dict = history.history\n",
        "history_dict_dr = history_dropout.history\n",
        "\n",
        "val_loss_values = history_dict[\"val_loss\"]\n",
        "val_loss_values_dr = history_dict_dr[\"val_loss\"]\n",
        "epochs = range(1, len(val_loss_values) + 1)\n",
        "\n",
        "plt.plot(epochs, val_loss_values, \"b\", label=\"Validation loss of the original model\")\n",
        "plt.plot(epochs, val_loss_values_dr, \"bo\", label=\"Validation loss of new model\")\n",
        "plt.title(\"validation loss of original and new model\")\n",
        "plt.xlabel(\"Epochs\")\n",
        "plt.ylabel(\"Loss\")\n",
        "plt.legend()\n",
        "plt.show()"
      ],
      "metadata": {
        "colab": {
          "base_uri": "https://localhost:8080/",
          "height": 295
        },
        "id": "haOgMtUeFYxH",
        "outputId": "65e37c71-7bf8-425a-ae24-adb55574074c"
      },
      "execution_count": 43,
      "outputs": [
        {
          "output_type": "display_data",
          "data": {
            "text/plain": [
              "<Figure size 432x288 with 1 Axes>"
            ],
            "image/png": "[encoded data removed]"
          },
          "metadata": {
            "needs_background": "light"
          }
        }
      ]
    },
    {
      "cell_type": "markdown",
      "source": [
        "Overfitting in new model is observed after 7 epochs, while the original model was overfitted after 5 epochs. Our new model seems to have better performance than the original model."
      ],
      "metadata": {
        "id": "PWLm-EtZGGF2"
      }
    },
    {
      "cell_type": "markdown",
      "source": [
        "### Q3 Add l1 regularization on the second dense layer from the original model below. "
      ],
      "metadata": {
        "id": "Xs7jKhJKahhM"
      }
    },
    {
      "cell_type": "code",
      "source": [
        "## Add l1 regularization on the second dense layers \n",
        "\n",
        "from tensorflow.keras import regularizers\n",
        "\n",
        "\n",
        "model2_dr = keras.Sequential([\n",
        "    layers.Dense(16, activation=\"relu\"),\n",
        "    layers.Dense(16, activation=\"relu\", \n",
        "                 kernel_regularizer = regularizers.l1(0.002)),    ### add l1 regularization here\n",
        "    layers.Dense(2, activation=\"softmax\")\n",
        "])\n"
      ],
      "metadata": {
        "id": "VeuwleNJa9r9"
      },
      "execution_count": 44,
      "outputs": []
    },
    {
      "cell_type": "markdown",
      "source": [
        "### Finish the training and compare the dropout model(model from Q2) and l1 regularization model after visualizing their validation losses."
      ],
      "metadata": {
        "id": "e9yx1WLrbJUd"
      }
    },
    {
      "cell_type": "code",
      "source": [
        "# finish the training\n",
        "\n",
        "model2.compile(optimizer = \"rmsprop\",\n",
        "               loss = \"sparse_categorical_crossentropy\",\n",
        "               metrics = [\"accuracy\"])\n",
        "\n",
        "history_l1_reg = model2.fit(partial_x_train,\n",
        "                    partial_y_train,\n",
        "                    epochs = 20,\n",
        "                    batch_size = 512,\n",
        "                    validation_data = (x_val, y_val))"
      ],
      "metadata": {
        "id": "EyL_jfmNbWe_",
        "colab": {
          "base_uri": "https://localhost:8080/"
        },
        "outputId": "9a6a9870-c0ed-4647-acb5-336e7884991d"
      },
      "execution_count": 45,
      "outputs": [
        {
          "output_type": "stream",
          "name": "stdout",
          "text": [
            "Epoch 1/20\n",
            "30/30 [==============================] - 2s 35ms/step - loss: 0.0164 - accuracy: 0.9949 - val_loss: 0.7797 - val_accuracy: 0.8664\n",
            "Epoch 2/20\n",
            "30/30 [==============================] - 1s 20ms/step - loss: 0.0017 - accuracy: 0.9998 - val_loss: 0.8021 - val_accuracy: 0.8661\n",
            "Epoch 3/20\n",
            "30/30 [==============================] - 1s 21ms/step - loss: 0.0062 - accuracy: 0.9983 - val_loss: 0.8518 - val_accuracy: 0.8653\n",
            "Epoch 4/20\n",
            "30/30 [==============================] - 1s 21ms/step - loss: 9.2911e-04 - accuracy: 0.9999 - val_loss: 0.8770 - val_accuracy: 0.8650\n",
            "Epoch 5/20\n",
            "30/30 [==============================] - 1s 21ms/step - loss: 7.6187e-04 - accuracy: 0.9999 - val_loss: 0.9340 - val_accuracy: 0.8625\n",
            "Epoch 6/20\n",
            "30/30 [==============================] - 1s 20ms/step - loss: 0.0082 - accuracy: 0.9976 - val_loss: 0.9740 - val_accuracy: 0.8642\n",
            "Epoch 7/20\n",
            "30/30 [==============================] - 1s 24ms/step - loss: 4.2722e-04 - accuracy: 0.9999 - val_loss: 0.9925 - val_accuracy: 0.8633\n",
            "Epoch 8/20\n",
            "30/30 [==============================] - 1s 24ms/step - loss: 3.4819e-04 - accuracy: 0.9999 - val_loss: 1.0218 - val_accuracy: 0.8625\n",
            "Epoch 9/20\n",
            "30/30 [==============================] - 1s 20ms/step - loss: 0.0041 - accuracy: 0.9986 - val_loss: 1.0812 - val_accuracy: 0.8605\n",
            "Epoch 10/20\n",
            "30/30 [==============================] - 1s 20ms/step - loss: 2.3374e-04 - accuracy: 1.0000 - val_loss: 1.0769 - val_accuracy: 0.8626\n",
            "Epoch 11/20\n",
            "30/30 [==============================] - 1s 21ms/step - loss: 1.8232e-04 - accuracy: 1.0000 - val_loss: 1.1018 - val_accuracy: 0.8609\n",
            "Epoch 12/20\n",
            "30/30 [==============================] - 1s 24ms/step - loss: 1.4282e-04 - accuracy: 1.0000 - val_loss: 1.2017 - val_accuracy: 0.8578\n",
            "Epoch 13/20\n",
            "30/30 [==============================] - 1s 20ms/step - loss: 0.0051 - accuracy: 0.9985 - val_loss: 1.2111 - val_accuracy: 0.8587\n",
            "Epoch 14/20\n",
            "30/30 [==============================] - 1s 20ms/step - loss: 8.4426e-05 - accuracy: 1.0000 - val_loss: 1.2295 - val_accuracy: 0.8584\n",
            "Epoch 15/20\n",
            "30/30 [==============================] - 1s 21ms/step - loss: 6.7151e-05 - accuracy: 1.0000 - val_loss: 1.2471 - val_accuracy: 0.8585\n",
            "Epoch 16/20\n",
            "30/30 [==============================] - 1s 21ms/step - loss: 5.4550e-05 - accuracy: 1.0000 - val_loss: 1.2823 - val_accuracy: 0.8579\n",
            "Epoch 17/20\n",
            "30/30 [==============================] - 1s 21ms/step - loss: 0.0047 - accuracy: 0.9987 - val_loss: 1.3488 - val_accuracy: 0.8582\n",
            "Epoch 18/20\n",
            "30/30 [==============================] - 1s 20ms/step - loss: 3.3414e-05 - accuracy: 1.0000 - val_loss: 1.3475 - val_accuracy: 0.8577\n",
            "Epoch 19/20\n",
            "30/30 [==============================] - 1s 20ms/step - loss: 2.7813e-05 - accuracy: 1.0000 - val_loss: 1.3599 - val_accuracy: 0.8568\n",
            "Epoch 20/20\n",
            "30/30 [==============================] - 1s 20ms/step - loss: 2.3836e-05 - accuracy: 1.0000 - val_loss: 1.3821 - val_accuracy: 0.8566\n"
          ]
        }
      ]
    },
    {
      "cell_type": "code",
      "source": [
        "## Visualization of dropout and l1 regularization model\n",
        "\n",
        "import matplotlib.pyplot as plt\n",
        "\n",
        "history_dict_dr = history_dropout.history\n",
        "history_dict_l1 = history_l1_reg.history\n",
        "\n",
        "val_loss_values_dr = history_dict_dr[\"val_loss\"]\n",
        "val_loss_values_l1 = history_dict_l1[\"val_loss\"]\n",
        "epochs = range(1, len(val_loss_values) + 1)\n",
        "\n",
        "plt.plot(epochs, val_loss_values_dr, \"bo\", label=\"Validation loss of dropout model\")\n",
        "plt.plot(epochs, val_loss_values_l1, \"b--\", label=\"Validation loss of l1 model\")\n",
        "plt.title(\"Validation loss of dropout and l1 regularization model\")\n",
        "plt.xlabel(\"Epochs\")\n",
        "plt.ylabel(\"Loss\")\n",
        "plt.legend()\n",
        "plt.show()"
      ],
      "metadata": {
        "colab": {
          "base_uri": "https://localhost:8080/",
          "height": 295
        },
        "id": "JQZPPqy49RVh",
        "outputId": "a658ea68-9ffe-4f0f-ad40-147bea854555"
      },
      "execution_count": 46,
      "outputs": [
        {
          "output_type": "display_data",
          "data": {
            "text/plain": [
              "<Figure size 432x288 with 1 Axes>"
            ],
            "image/png": "[encoded data removed]"
          },
          "metadata": {
            "needs_background": "light"
          }
        }
      ]
    },
    {
      "cell_type": "markdown",
      "source": [
        "Plot above is the validation loss of dropout and l1 regularization model. \n",
        "\n",
        "- **L1 regularization model** seems to be overfitted since the validation loss increases drastically. \n",
        "- On the other hand, overfitting in **dropout model** starts later(after 7 epochs) than L1 regularized model(after 2 epochs).\n",
        "\n",
        "We can say that dropout model performs better than L1 regularized model."
      ],
      "metadata": {
        "id": "nXt3_gUHBZeY"
      }
    }
  ]
}