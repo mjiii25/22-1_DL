{
  "nbformat": 4,
  "nbformat_minor": 0,
  "metadata": {
    "colab": {
      "name": "Untitled4.ipynb",
      "provenance": [],
      "authorship_tag": "ABX9TyPFBjvmp0aKJbBOibm+S4v/",
      "include_colab_link": true
    },
    "kernelspec": {
      "name": "ir",
      "display_name": "R"
    },
    "language_info": {
      "name": "R"
    },
    "accelerator": "GPU"
  },
  "cells": [
    {
      "cell_type": "markdown",
      "metadata": {
        "id": "view-in-github",
        "colab_type": "text"
      },
      "source": [
        "<a href=\"https://colab.research.google.com/github/mjiii25/22-1_DLAI/blob/main/Untitled4.ipynb\" target=\"_parent\"><img src=\"https://colab.research.google.com/assets/colab-badge.svg\" alt=\"Open In Colab\"/></a>"
      ]
    },
    {
      "cell_type": "code",
      "execution_count": null,
      "metadata": {
        "id": "x8FfuPqf9PiV"
      },
      "outputs": [],
      "source": [
        "y <- sqrt(10)"
      ]
    },
    {
      "cell_type": "code",
      "source": [
        "y"
      ],
      "metadata": {
        "colab": {
          "base_uri": "https://localhost:8080/",
          "height": 34
        },
        "id": "FpEZcmM_-m0c",
        "outputId": "dae32585-d8b0-4eb6-f19c-5a6d540b15db"
      },
      "execution_count": null,
      "outputs": [
        {
          "output_type": "display_data",
          "data": {
            "text/html": [
              "3.16227766016838"
            ],
            "text/markdown": "3.16227766016838",
            "text/latex": "3.16227766016838",
            "text/plain": [
              "[1] 3.162278"
            ]
          },
          "metadata": {}
        }
      ]
    },
    {
      "cell_type": "code",
      "source": [
        "?sqrt"
      ],
      "metadata": {
        "id": "2mIbb-Hm-nzn"
      },
      "execution_count": null,
      "outputs": []
    },
    {
      "cell_type": "markdown",
      "source": [
        "#### 절댓값"
      ],
      "metadata": {
        "id": "RuhCuDVx_WFl"
      }
    },
    {
      "cell_type": "code",
      "source": [
        "abs(-10)"
      ],
      "metadata": {
        "colab": {
          "base_uri": "https://localhost:8080/",
          "height": 34
        },
        "id": "2sItQvzX_Tde",
        "outputId": "ac164a6b-54fe-41a0-c308-6bffe99190e0"
      },
      "execution_count": null,
      "outputs": [
        {
          "output_type": "display_data",
          "data": {
            "text/html": [
              "10"
            ],
            "text/markdown": "10",
            "text/latex": "10",
            "text/plain": [
              "[1] 10"
            ]
          },
          "metadata": {}
        }
      ]
    },
    {
      "cell_type": "code",
      "source": [
        "x <- 5"
      ],
      "metadata": {
        "id": "buzkaKWP-th3"
      },
      "execution_count": null,
      "outputs": []
    },
    {
      "cell_type": "code",
      "source": [
        "y"
      ],
      "metadata": {
        "id": "6UJI8BzV_f7p",
        "outputId": "f6787fdb-ff24-471e-b6e4-97c17cc67634",
        "colab": {
          "base_uri": "https://localhost:8080/",
          "height": 34
        }
      },
      "execution_count": null,
      "outputs": [
        {
          "output_type": "display_data",
          "data": {
            "text/html": [
              "3.16227766016838"
            ],
            "text/markdown": "3.16227766016838",
            "text/latex": "3.16227766016838",
            "text/plain": [
              "[1] 3.162278"
            ]
          },
          "metadata": {}
        }
      ]
    },
    {
      "cell_type": "code",
      "source": [
        "x+y"
      ],
      "metadata": {
        "id": "iFY-SYKr_gxD",
        "outputId": "41e88891-1d89-4e74-f725-47c59a4772ee",
        "colab": {
          "base_uri": "https://localhost:8080/",
          "height": 34
        }
      },
      "execution_count": null,
      "outputs": [
        {
          "output_type": "display_data",
          "data": {
            "text/html": [
              "8.16227766016838"
            ],
            "text/markdown": "8.16227766016838",
            "text/latex": "8.16227766016838",
            "text/plain": [
              "[1] 8.162278"
            ]
          },
          "metadata": {}
        }
      ]
    },
    {
      "cell_type": "code",
      "source": [
        "x-y"
      ],
      "metadata": {
        "id": "sMlnEMqA_iLR",
        "outputId": "96dfaeef-7cc7-46ce-aefc-60a0d2f05aa8",
        "colab": {
          "base_uri": "https://localhost:8080/",
          "height": 34
        }
      },
      "execution_count": null,
      "outputs": [
        {
          "output_type": "display_data",
          "data": {
            "text/html": [
              "1.83772233983162"
            ],
            "text/markdown": "1.83772233983162",
            "text/latex": "1.83772233983162",
            "text/plain": [
              "[1] 1.837722"
            ]
          },
          "metadata": {}
        }
      ]
    },
    {
      "cell_type": "code",
      "source": [
        "x*y"
      ],
      "metadata": {
        "id": "fqh7NACG_irK",
        "outputId": "6bd64ee2-2dc5-4adb-9f90-4c078cc476ff",
        "colab": {
          "base_uri": "https://localhost:8080/",
          "height": 34
        }
      },
      "execution_count": null,
      "outputs": [
        {
          "output_type": "display_data",
          "data": {
            "text/html": [
              "15.8113883008419"
            ],
            "text/markdown": "15.8113883008419",
            "text/latex": "15.8113883008419",
            "text/plain": [
              "[1] 15.81139"
            ]
          },
          "metadata": {}
        }
      ]
    },
    {
      "cell_type": "code",
      "source": [
        "x/y"
      ],
      "metadata": {
        "id": "zJMiCLNu_kjr",
        "outputId": "49e7918e-adde-4674-ca43-c0b7839b2623",
        "colab": {
          "base_uri": "https://localhost:8080/",
          "height": 34
        }
      },
      "execution_count": null,
      "outputs": [
        {
          "output_type": "display_data",
          "data": {
            "text/html": [
              "1.58113883008419"
            ],
            "text/markdown": "1.58113883008419",
            "text/latex": "1.58113883008419",
            "text/plain": [
              "[1] 1.581139"
            ]
          },
          "metadata": {}
        }
      ]
    },
    {
      "cell_type": "code",
      "source": [
        "x^2"
      ],
      "metadata": {
        "id": "EFawq6so_lQJ",
        "outputId": "06611350-b66c-432b-fec5-d1de8154f20a",
        "colab": {
          "base_uri": "https://localhost:8080/",
          "height": 34
        }
      },
      "execution_count": null,
      "outputs": [
        {
          "output_type": "display_data",
          "data": {
            "text/html": [
              "25"
            ],
            "text/markdown": "25",
            "text/latex": "25",
            "text/plain": [
              "[1] 25"
            ]
          },
          "metadata": {}
        }
      ]
    },
    {
      "cell_type": "code",
      "source": [
        ""
      ],
      "metadata": {
        "id": "Qizll51o_mFq"
      },
      "execution_count": null,
      "outputs": []
    }
  ]
}