{
  "cells": [
    {
      "cell_type": "markdown",
      "metadata": {
        "id": "view-in-github",
        "colab_type": "text"
      },
      "source": [
        "<a href=\"https://colab.research.google.com/github/mjiii25/22-1_DLAI/blob/main/data_preprocessing.ipynb\" target=\"_parent\"><img src=\"https://colab.research.google.com/assets/colab-badge.svg\" alt=\"Open In Colab\"/></a>"
      ]
    },
    {
      "cell_type": "code",
      "execution_count": null,
      "metadata": {
        "id": "IpugEw2h42iB"
      },
      "outputs": [],
      "source": [
        "import pandas as pd\n",
        "import numpy as np\n",
        "import matplotlib.pyplot as plt\n",
        "import seaborn as sns"
      ]
    },
    {
      "cell_type": "code",
      "execution_count": null,
      "metadata": {
        "id": "OPxcRSXE42iD"
      },
      "outputs": [],
      "source": [
        "train_features = pd.read_csv('training_set_features.csv')\n",
        "train_labels = pd.read_csv('training_set_labels.csv')"
      ]
    },
    {
      "cell_type": "code",
      "execution_count": null,
      "metadata": {
        "id": "iiaP1VVe42iE",
        "outputId": "1e541a47-db48-4fee-a174-b715c9d05635"
      },
      "outputs": [
        {
          "name": "stdout",
          "output_type": "stream",
          "text": [
            "<class 'pandas.core.frame.DataFrame'>\n",
            "RangeIndex: 26707 entries, 0 to 26706\n",
            "Data columns (total 3 columns):\n",
            " #   Column            Non-Null Count  Dtype\n",
            "---  ------            --------------  -----\n",
            " 0   respondent_id     26707 non-null  int64\n",
            " 1   h1n1_vaccine      26707 non-null  int64\n",
            " 2   seasonal_vaccine  26707 non-null  int64\n",
            "dtypes: int64(3)\n",
            "memory usage: 626.1 KB\n"
          ]
        }
      ],
      "source": [
        "train_labels.info()"
      ]
    },
    {
      "cell_type": "code",
      "execution_count": null,
      "metadata": {
        "id": "DiQuyzKg42iG",
        "outputId": "f61deb8b-ff2a-40e2-81e1-57875db8ea74"
      },
      "outputs": [
        {
          "data": {
            "text/plain": [
              "respondent_id                      0\n",
              "h1n1_concern                      92\n",
              "h1n1_knowledge                   116\n",
              "behavioral_antiviral_meds         71\n",
              "behavioral_avoidance             208\n",
              "behavioral_face_mask              19\n",
              "behavioral_wash_hands             42\n",
              "behavioral_large_gatherings       87\n",
              "behavioral_outside_home           82\n",
              "behavioral_touch_face            128\n",
              "doctor_recc_h1n1                2160\n",
              "doctor_recc_seasonal            2160\n",
              "chronic_med_condition            971\n",
              "child_under_6_months             820\n",
              "health_worker                    804\n",
              "health_insurance               12274\n",
              "opinion_h1n1_vacc_effective      391\n",
              "opinion_h1n1_risk                388\n",
              "opinion_h1n1_sick_from_vacc      395\n",
              "opinion_seas_vacc_effective      462\n",
              "opinion_seas_risk                514\n",
              "opinion_seas_sick_from_vacc      537\n",
              "age_group                          0\n",
              "education                       1407\n",
              "race                               0\n",
              "sex                                0\n",
              "income_poverty                  4423\n",
              "marital_status                  1408\n",
              "rent_or_own                     2042\n",
              "employment_status               1463\n",
              "hhs_geo_region                     0\n",
              "census_msa                         0\n",
              "household_adults                 249\n",
              "household_children               249\n",
              "employment_industry            13330\n",
              "employment_occupation          13470\n",
              "dtype: int64"
            ]
          },
          "execution_count": 28,
          "metadata": {},
          "output_type": "execute_result"
        }
      ],
      "source": [
        "train_features.isnull().sum()"
      ]
    },
    {
      "cell_type": "code",
      "execution_count": null,
      "metadata": {
        "id": "9yLt5tNU42iH",
        "outputId": "9d57e5a7-b918-41ef-d8c5-b164cd53b9da"
      },
      "outputs": [
        {
          "data": {
            "text/plain": [
              "1335.3500000000001"
            ]
          },
          "execution_count": 43,
          "metadata": {},
          "output_type": "execute_result"
        }
      ],
      "source": [
        "len(train_features)*0.05"
      ]
    },
    {
      "cell_type": "code",
      "execution_count": null,
      "metadata": {
        "id": "1BomSAb142iI"
      },
      "outputs": [],
      "source": [
        "# NA값이 전체 데이터수의 5% 이상 채워져 있는 칼럼의 경우 삭제\n",
        "# 아직 24개의 칼럼\n",
        "train_features2 = train_features[['respondent_id','h1n1_concern', 'h1n1_knowledge', 'behavioral_antiviral_meds',\n",
        "                                  'behavioral_avoidance', 'behavioral_face_mask', 'behavioral_wash_hands',\n",
        "                                  'behavioral_large_gatherings', 'behavioral_outside_home','behavioral_touch_face',\n",
        "                                  'chronic_med_condition', 'child_under_6_months', 'health_worker','opinion_h1n1_vacc_effective',\n",
        "                                  'opinion_h1n1_risk','opinion_h1n1_sick_from_vacc', 'opinion_seas_vacc_effective',\n",
        "                                  'opinion_seas_risk', 'opinion_seas_sick_from_vacc', 'age_group',\n",
        "                                  'race', 'sex', 'hhs_geo_region', 'census_msa','household_adults', 'household_children']]"
      ]
    },
    {
      "cell_type": "code",
      "execution_count": null,
      "metadata": {
        "id": "x44W9udT42iJ",
        "outputId": "8bc5329b-fa47-4cbb-b16d-c70d72314869"
      },
      "outputs": [
        {
          "data": {
            "text/plain": [
              "Index(['respondent_id', 'h1n1_concern', 'h1n1_knowledge',\n",
              "       'behavioral_antiviral_meds', 'behavioral_avoidance',\n",
              "       'behavioral_face_mask', 'behavioral_wash_hands',\n",
              "       'behavioral_large_gatherings', 'behavioral_outside_home',\n",
              "       'behavioral_touch_face', 'chronic_med_condition',\n",
              "       'child_under_6_months', 'health_worker', 'opinion_h1n1_vacc_effective',\n",
              "       'opinion_h1n1_risk', 'opinion_h1n1_sick_from_vacc',\n",
              "       'opinion_seas_vacc_effective', 'opinion_seas_risk',\n",
              "       'opinion_seas_sick_from_vacc', 'age_group', 'race', 'sex',\n",
              "       'hhs_geo_region', 'census_msa', 'household_adults',\n",
              "       'household_children'],\n",
              "      dtype='object')"
            ]
          },
          "execution_count": 45,
          "metadata": {},
          "output_type": "execute_result"
        }
      ],
      "source": [
        "train_features2.columns"
      ]
    },
    {
      "cell_type": "markdown",
      "metadata": {
        "id": "WpuvcO8742iK"
      },
      "source": [
        "# Train for h1n1 vaccine"
      ]
    },
    {
      "cell_type": "code",
      "execution_count": null,
      "metadata": {
        "id": "dhYjtbTw42iM"
      },
      "outputs": [],
      "source": [
        "train_h1n1 = train_features2[['respondent_id','h1n1_concern', 'h1n1_knowledge', \n",
        "                             'behavioral_antiviral_meds','behavioral_avoidance', 'behavioral_face_mask', 'behavioral_wash_hands',\n",
        "                             'behavioral_large_gatherings', 'behavioral_outside_home','behavioral_touch_face',\n",
        "                             'chronic_med_condition', 'child_under_6_months', 'health_worker',\n",
        "                             'opinion_h1n1_vacc_effective','opinion_h1n1_risk','opinion_h1n1_sick_from_vacc', \n",
        "                             'age_group','race', 'sex', 'hhs_geo_region', 'census_msa','household_adults', 'household_children']]\n",
        "train_h1n1 = pd.merge(train_h1n1,train_labels[['respondent_id', 'h1n1_vaccine']], how='inner', on= 'respondent_id')"
      ]
    },
    {
      "cell_type": "code",
      "execution_count": null,
      "metadata": {
        "id": "OINKfWrG42iO",
        "outputId": "acc46211-b897-4310-f14f-be37943fec28"
      },
      "outputs": [
        {
          "data": {
            "text/html": [
              "<div>\n",
              "<style scoped>\n",
              "    .dataframe tbody tr th:only-of-type {\n",
              "        vertical-align: middle;\n",
              "    }\n",
              "\n",
              "    .dataframe tbody tr th {\n",
              "        vertical-align: top;\n",
              "    }\n",
              "\n",
              "    .dataframe thead th {\n",
              "        text-align: right;\n",
              "    }\n",
              "</style>\n",
              "<table border=\"1\" class=\"dataframe\">\n",
              "  <thead>\n",
              "    <tr style=\"text-align: right;\">\n",
              "      <th></th>\n",
              "      <th>respondent_id</th>\n",
              "      <th>h1n1_concern</th>\n",
              "      <th>h1n1_knowledge</th>\n",
              "      <th>behavioral_antiviral_meds</th>\n",
              "      <th>behavioral_avoidance</th>\n",
              "      <th>behavioral_face_mask</th>\n",
              "      <th>behavioral_wash_hands</th>\n",
              "      <th>behavioral_large_gatherings</th>\n",
              "      <th>behavioral_outside_home</th>\n",
              "      <th>behavioral_touch_face</th>\n",
              "      <th>...</th>\n",
              "      <th>opinion_h1n1_risk</th>\n",
              "      <th>opinion_h1n1_sick_from_vacc</th>\n",
              "      <th>age_group</th>\n",
              "      <th>race</th>\n",
              "      <th>sex</th>\n",
              "      <th>hhs_geo_region</th>\n",
              "      <th>census_msa</th>\n",
              "      <th>household_adults</th>\n",
              "      <th>household_children</th>\n",
              "      <th>h1n1_vaccine</th>\n",
              "    </tr>\n",
              "  </thead>\n",
              "  <tbody>\n",
              "    <tr>\n",
              "      <th>26702</th>\n",
              "      <td>26702</td>\n",
              "      <td>2.0</td>\n",
              "      <td>0.0</td>\n",
              "      <td>0.0</td>\n",
              "      <td>1.0</td>\n",
              "      <td>0.0</td>\n",
              "      <td>0.0</td>\n",
              "      <td>0.0</td>\n",
              "      <td>1.0</td>\n",
              "      <td>0.0</td>\n",
              "      <td>...</td>\n",
              "      <td>1.0</td>\n",
              "      <td>1.0</td>\n",
              "      <td>65+ Years</td>\n",
              "      <td>White</td>\n",
              "      <td>Female</td>\n",
              "      <td>qufhixun</td>\n",
              "      <td>Non-MSA</td>\n",
              "      <td>0.0</td>\n",
              "      <td>0.0</td>\n",
              "      <td>0</td>\n",
              "    </tr>\n",
              "    <tr>\n",
              "      <th>26703</th>\n",
              "      <td>26703</td>\n",
              "      <td>1.0</td>\n",
              "      <td>2.0</td>\n",
              "      <td>0.0</td>\n",
              "      <td>1.0</td>\n",
              "      <td>0.0</td>\n",
              "      <td>1.0</td>\n",
              "      <td>0.0</td>\n",
              "      <td>0.0</td>\n",
              "      <td>0.0</td>\n",
              "      <td>...</td>\n",
              "      <td>2.0</td>\n",
              "      <td>2.0</td>\n",
              "      <td>18 - 34 Years</td>\n",
              "      <td>White</td>\n",
              "      <td>Male</td>\n",
              "      <td>lzgpxyit</td>\n",
              "      <td>MSA, Principle City</td>\n",
              "      <td>1.0</td>\n",
              "      <td>0.0</td>\n",
              "      <td>0</td>\n",
              "    </tr>\n",
              "    <tr>\n",
              "      <th>26704</th>\n",
              "      <td>26704</td>\n",
              "      <td>2.0</td>\n",
              "      <td>2.0</td>\n",
              "      <td>0.0</td>\n",
              "      <td>1.0</td>\n",
              "      <td>1.0</td>\n",
              "      <td>1.0</td>\n",
              "      <td>1.0</td>\n",
              "      <td>0.0</td>\n",
              "      <td>1.0</td>\n",
              "      <td>...</td>\n",
              "      <td>4.0</td>\n",
              "      <td>2.0</td>\n",
              "      <td>55 - 64 Years</td>\n",
              "      <td>White</td>\n",
              "      <td>Female</td>\n",
              "      <td>lzgpxyit</td>\n",
              "      <td>MSA, Not Principle  City</td>\n",
              "      <td>0.0</td>\n",
              "      <td>0.0</td>\n",
              "      <td>0</td>\n",
              "    </tr>\n",
              "    <tr>\n",
              "      <th>26705</th>\n",
              "      <td>26705</td>\n",
              "      <td>1.0</td>\n",
              "      <td>1.0</td>\n",
              "      <td>0.0</td>\n",
              "      <td>0.0</td>\n",
              "      <td>0.0</td>\n",
              "      <td>0.0</td>\n",
              "      <td>0.0</td>\n",
              "      <td>0.0</td>\n",
              "      <td>NaN</td>\n",
              "      <td>...</td>\n",
              "      <td>1.0</td>\n",
              "      <td>2.0</td>\n",
              "      <td>18 - 34 Years</td>\n",
              "      <td>Hispanic</td>\n",
              "      <td>Female</td>\n",
              "      <td>lrircsnp</td>\n",
              "      <td>Non-MSA</td>\n",
              "      <td>1.0</td>\n",
              "      <td>0.0</td>\n",
              "      <td>0</td>\n",
              "    </tr>\n",
              "    <tr>\n",
              "      <th>26706</th>\n",
              "      <td>26706</td>\n",
              "      <td>0.0</td>\n",
              "      <td>0.0</td>\n",
              "      <td>0.0</td>\n",
              "      <td>1.0</td>\n",
              "      <td>0.0</td>\n",
              "      <td>0.0</td>\n",
              "      <td>0.0</td>\n",
              "      <td>0.0</td>\n",
              "      <td>0.0</td>\n",
              "      <td>...</td>\n",
              "      <td>1.0</td>\n",
              "      <td>1.0</td>\n",
              "      <td>65+ Years</td>\n",
              "      <td>White</td>\n",
              "      <td>Male</td>\n",
              "      <td>mlyzmhmf</td>\n",
              "      <td>MSA, Principle City</td>\n",
              "      <td>1.0</td>\n",
              "      <td>0.0</td>\n",
              "      <td>0</td>\n",
              "    </tr>\n",
              "  </tbody>\n",
              "</table>\n",
              "<p>5 rows × 24 columns</p>\n",
              "</div>"
            ],
            "text/plain": [
              "       respondent_id  h1n1_concern  h1n1_knowledge  behavioral_antiviral_meds  \\\n",
              "26702          26702           2.0             0.0                        0.0   \n",
              "26703          26703           1.0             2.0                        0.0   \n",
              "26704          26704           2.0             2.0                        0.0   \n",
              "26705          26705           1.0             1.0                        0.0   \n",
              "26706          26706           0.0             0.0                        0.0   \n",
              "\n",
              "       behavioral_avoidance  behavioral_face_mask  behavioral_wash_hands  \\\n",
              "26702                   1.0                   0.0                    0.0   \n",
              "26703                   1.0                   0.0                    1.0   \n",
              "26704                   1.0                   1.0                    1.0   \n",
              "26705                   0.0                   0.0                    0.0   \n",
              "26706                   1.0                   0.0                    0.0   \n",
              "\n",
              "       behavioral_large_gatherings  behavioral_outside_home  \\\n",
              "26702                          0.0                      1.0   \n",
              "26703                          0.0                      0.0   \n",
              "26704                          1.0                      0.0   \n",
              "26705                          0.0                      0.0   \n",
              "26706                          0.0                      0.0   \n",
              "\n",
              "       behavioral_touch_face  ...  opinion_h1n1_risk  \\\n",
              "26702                    0.0  ...                1.0   \n",
              "26703                    0.0  ...                2.0   \n",
              "26704                    1.0  ...                4.0   \n",
              "26705                    NaN  ...                1.0   \n",
              "26706                    0.0  ...                1.0   \n",
              "\n",
              "       opinion_h1n1_sick_from_vacc      age_group      race     sex  \\\n",
              "26702                          1.0      65+ Years     White  Female   \n",
              "26703                          2.0  18 - 34 Years     White    Male   \n",
              "26704                          2.0  55 - 64 Years     White  Female   \n",
              "26705                          2.0  18 - 34 Years  Hispanic  Female   \n",
              "26706                          1.0      65+ Years     White    Male   \n",
              "\n",
              "       hhs_geo_region                census_msa household_adults  \\\n",
              "26702        qufhixun                   Non-MSA              0.0   \n",
              "26703        lzgpxyit       MSA, Principle City              1.0   \n",
              "26704        lzgpxyit  MSA, Not Principle  City              0.0   \n",
              "26705        lrircsnp                   Non-MSA              1.0   \n",
              "26706        mlyzmhmf       MSA, Principle City              1.0   \n",
              "\n",
              "      household_children h1n1_vaccine  \n",
              "26702                0.0            0  \n",
              "26703                0.0            0  \n",
              "26704                0.0            0  \n",
              "26705                0.0            0  \n",
              "26706                0.0            0  \n",
              "\n",
              "[5 rows x 24 columns]"
            ]
          },
          "execution_count": 57,
          "metadata": {},
          "output_type": "execute_result"
        }
      ],
      "source": [
        "train_h1n1.tail()"
      ]
    },
    {
      "cell_type": "code",
      "execution_count": null,
      "metadata": {
        "id": "_BhCwfDY42iO",
        "outputId": "f76e4d5c-0d4b-4c61-92de-9c8593dc02e6"
      },
      "outputs": [
        {
          "name": "stdout",
          "output_type": "stream",
          "text": [
            "1879 개의 (null이 하나 이상 포함된)행이 있음\n"
          ]
        }
      ],
      "source": [
        "list_h1n1_drop_index = train_h1n1[(train_h1n1['h1n1_concern'].isnull()==True)|(train_h1n1['h1n1_knowledge'].isnull()==True)|\n",
        "           (train_h1n1['behavioral_antiviral_meds'].isnull()==True)|(train_h1n1['behavioral_avoidance'].isnull()==True)|\n",
        "           (train_h1n1['behavioral_face_mask'].isnull()==True)|(train_h1n1['behavioral_wash_hands'].isnull()==True)|\n",
        "           (train_h1n1['behavioral_large_gatherings'].isnull()==True)|(train_h1n1['behavioral_outside_home'].isnull()==True)|\n",
        "           (train_h1n1['behavioral_touch_face'].isnull()==True)|(train_h1n1['chronic_med_condition'].isnull()==True)|\n",
        "           (train_h1n1['child_under_6_months'].isnull()==True)|(train_h1n1['health_worker'].isnull()==True)|\n",
        "           (train_h1n1['opinion_h1n1_vacc_effective'].isnull()==True)|(train_h1n1['opinion_h1n1_risk'].isnull()==True)|\n",
        "           (train_h1n1['opinion_h1n1_sick_from_vacc'].isnull()==True)|\n",
        "           (train_h1n1['household_adults'].isnull()==True)|(train_h1n1['household_children'].isnull()==True)].index.tolist()\n",
        "\n",
        "print(len(list_h1n1_drop_index), '개의 (null이 하나 이상 포함된)행이 있음')"
      ]
    },
    {
      "cell_type": "code",
      "execution_count": null,
      "metadata": {
        "id": "ks2-zKGM42iR"
      },
      "outputs": [],
      "source": [
        "# 그냥 저것들을 싹 날릴 경우, 대략 7%의 데이터 손실 발생\n",
        "train_h1n1 = train_h1n1.drop(list_h1n1_drop_index, axis=0)"
      ]
    },
    {
      "cell_type": "code",
      "execution_count": null,
      "metadata": {
        "id": "qVXHEqVN42iR",
        "outputId": "93fb708f-da11-4c50-972b-2da8f56f9fdf"
      },
      "outputs": [
        {
          "data": {
            "text/plain": [
              "respondent_id                  0\n",
              "h1n1_concern                   0\n",
              "h1n1_knowledge                 0\n",
              "behavioral_antiviral_meds      0\n",
              "behavioral_avoidance           0\n",
              "behavioral_face_mask           0\n",
              "behavioral_wash_hands          0\n",
              "behavioral_large_gatherings    0\n",
              "behavioral_outside_home        0\n",
              "behavioral_touch_face          0\n",
              "chronic_med_condition          0\n",
              "child_under_6_months           0\n",
              "health_worker                  0\n",
              "opinion_h1n1_vacc_effective    0\n",
              "opinion_h1n1_risk              0\n",
              "opinion_h1n1_sick_from_vacc    0\n",
              "age_group                      0\n",
              "race                           0\n",
              "sex                            0\n",
              "hhs_geo_region                 0\n",
              "census_msa                     0\n",
              "household_adults               0\n",
              "household_children             0\n",
              "h1n1_vaccine                   0\n",
              "dtype: int64"
            ]
          },
          "execution_count": 60,
          "metadata": {},
          "output_type": "execute_result"
        }
      ],
      "source": [
        "train_h1n1.isnull().sum()"
      ]
    },
    {
      "cell_type": "code",
      "execution_count": null,
      "metadata": {
        "id": "-ZHxavfl42iS"
      },
      "outputs": [],
      "source": [
        "# index 다시 부여\n",
        "train_h1n1 = train_h1n1.reset_index(drop=True)"
      ]
    },
    {
      "cell_type": "code",
      "execution_count": null,
      "metadata": {
        "id": "-RmoW-ny42iT",
        "outputId": "a1cde021-7151-4cd4-c6d6-36b511bac518"
      },
      "outputs": [
        {
          "data": {
            "text/html": [
              "<div>\n",
              "<style scoped>\n",
              "    .dataframe tbody tr th:only-of-type {\n",
              "        vertical-align: middle;\n",
              "    }\n",
              "\n",
              "    .dataframe tbody tr th {\n",
              "        vertical-align: top;\n",
              "    }\n",
              "\n",
              "    .dataframe thead th {\n",
              "        text-align: right;\n",
              "    }\n",
              "</style>\n",
              "<table border=\"1\" class=\"dataframe\">\n",
              "  <thead>\n",
              "    <tr style=\"text-align: right;\">\n",
              "      <th></th>\n",
              "      <th>respondent_id</th>\n",
              "      <th>h1n1_concern</th>\n",
              "      <th>h1n1_knowledge</th>\n",
              "      <th>behavioral_antiviral_meds</th>\n",
              "      <th>behavioral_avoidance</th>\n",
              "      <th>behavioral_face_mask</th>\n",
              "      <th>behavioral_wash_hands</th>\n",
              "      <th>behavioral_large_gatherings</th>\n",
              "      <th>behavioral_outside_home</th>\n",
              "      <th>behavioral_touch_face</th>\n",
              "      <th>...</th>\n",
              "      <th>opinion_h1n1_risk</th>\n",
              "      <th>opinion_h1n1_sick_from_vacc</th>\n",
              "      <th>age_group</th>\n",
              "      <th>race</th>\n",
              "      <th>sex</th>\n",
              "      <th>hhs_geo_region</th>\n",
              "      <th>census_msa</th>\n",
              "      <th>household_adults</th>\n",
              "      <th>household_children</th>\n",
              "      <th>h1n1_vaccine</th>\n",
              "    </tr>\n",
              "  </thead>\n",
              "  <tbody>\n",
              "    <tr>\n",
              "      <th>24823</th>\n",
              "      <td>26701</td>\n",
              "      <td>2.0</td>\n",
              "      <td>2.0</td>\n",
              "      <td>0.0</td>\n",
              "      <td>0.0</td>\n",
              "      <td>0.0</td>\n",
              "      <td>1.0</td>\n",
              "      <td>0.0</td>\n",
              "      <td>0.0</td>\n",
              "      <td>1.0</td>\n",
              "      <td>...</td>\n",
              "      <td>2.0</td>\n",
              "      <td>4.0</td>\n",
              "      <td>18 - 34 Years</td>\n",
              "      <td>White</td>\n",
              "      <td>Female</td>\n",
              "      <td>fpwskwrf</td>\n",
              "      <td>MSA, Principle City</td>\n",
              "      <td>3.0</td>\n",
              "      <td>0.0</td>\n",
              "      <td>0</td>\n",
              "    </tr>\n",
              "    <tr>\n",
              "      <th>24824</th>\n",
              "      <td>26702</td>\n",
              "      <td>2.0</td>\n",
              "      <td>0.0</td>\n",
              "      <td>0.0</td>\n",
              "      <td>1.0</td>\n",
              "      <td>0.0</td>\n",
              "      <td>0.0</td>\n",
              "      <td>0.0</td>\n",
              "      <td>1.0</td>\n",
              "      <td>0.0</td>\n",
              "      <td>...</td>\n",
              "      <td>1.0</td>\n",
              "      <td>1.0</td>\n",
              "      <td>65+ Years</td>\n",
              "      <td>White</td>\n",
              "      <td>Female</td>\n",
              "      <td>qufhixun</td>\n",
              "      <td>Non-MSA</td>\n",
              "      <td>0.0</td>\n",
              "      <td>0.0</td>\n",
              "      <td>0</td>\n",
              "    </tr>\n",
              "    <tr>\n",
              "      <th>24825</th>\n",
              "      <td>26703</td>\n",
              "      <td>1.0</td>\n",
              "      <td>2.0</td>\n",
              "      <td>0.0</td>\n",
              "      <td>1.0</td>\n",
              "      <td>0.0</td>\n",
              "      <td>1.0</td>\n",
              "      <td>0.0</td>\n",
              "      <td>0.0</td>\n",
              "      <td>0.0</td>\n",
              "      <td>...</td>\n",
              "      <td>2.0</td>\n",
              "      <td>2.0</td>\n",
              "      <td>18 - 34 Years</td>\n",
              "      <td>White</td>\n",
              "      <td>Male</td>\n",
              "      <td>lzgpxyit</td>\n",
              "      <td>MSA, Principle City</td>\n",
              "      <td>1.0</td>\n",
              "      <td>0.0</td>\n",
              "      <td>0</td>\n",
              "    </tr>\n",
              "    <tr>\n",
              "      <th>24826</th>\n",
              "      <td>26704</td>\n",
              "      <td>2.0</td>\n",
              "      <td>2.0</td>\n",
              "      <td>0.0</td>\n",
              "      <td>1.0</td>\n",
              "      <td>1.0</td>\n",
              "      <td>1.0</td>\n",
              "      <td>1.0</td>\n",
              "      <td>0.0</td>\n",
              "      <td>1.0</td>\n",
              "      <td>...</td>\n",
              "      <td>4.0</td>\n",
              "      <td>2.0</td>\n",
              "      <td>55 - 64 Years</td>\n",
              "      <td>White</td>\n",
              "      <td>Female</td>\n",
              "      <td>lzgpxyit</td>\n",
              "      <td>MSA, Not Principle  City</td>\n",
              "      <td>0.0</td>\n",
              "      <td>0.0</td>\n",
              "      <td>0</td>\n",
              "    </tr>\n",
              "    <tr>\n",
              "      <th>24827</th>\n",
              "      <td>26706</td>\n",
              "      <td>0.0</td>\n",
              "      <td>0.0</td>\n",
              "      <td>0.0</td>\n",
              "      <td>1.0</td>\n",
              "      <td>0.0</td>\n",
              "      <td>0.0</td>\n",
              "      <td>0.0</td>\n",
              "      <td>0.0</td>\n",
              "      <td>0.0</td>\n",
              "      <td>...</td>\n",
              "      <td>1.0</td>\n",
              "      <td>1.0</td>\n",
              "      <td>65+ Years</td>\n",
              "      <td>White</td>\n",
              "      <td>Male</td>\n",
              "      <td>mlyzmhmf</td>\n",
              "      <td>MSA, Principle City</td>\n",
              "      <td>1.0</td>\n",
              "      <td>0.0</td>\n",
              "      <td>0</td>\n",
              "    </tr>\n",
              "  </tbody>\n",
              "</table>\n",
              "<p>5 rows × 24 columns</p>\n",
              "</div>"
            ],
            "text/plain": [
              "       respondent_id  h1n1_concern  h1n1_knowledge  behavioral_antiviral_meds  \\\n",
              "24823          26701           2.0             2.0                        0.0   \n",
              "24824          26702           2.0             0.0                        0.0   \n",
              "24825          26703           1.0             2.0                        0.0   \n",
              "24826          26704           2.0             2.0                        0.0   \n",
              "24827          26706           0.0             0.0                        0.0   \n",
              "\n",
              "       behavioral_avoidance  behavioral_face_mask  behavioral_wash_hands  \\\n",
              "24823                   0.0                   0.0                    1.0   \n",
              "24824                   1.0                   0.0                    0.0   \n",
              "24825                   1.0                   0.0                    1.0   \n",
              "24826                   1.0                   1.0                    1.0   \n",
              "24827                   1.0                   0.0                    0.0   \n",
              "\n",
              "       behavioral_large_gatherings  behavioral_outside_home  \\\n",
              "24823                          0.0                      0.0   \n",
              "24824                          0.0                      1.0   \n",
              "24825                          0.0                      0.0   \n",
              "24826                          1.0                      0.0   \n",
              "24827                          0.0                      0.0   \n",
              "\n",
              "       behavioral_touch_face  ...  opinion_h1n1_risk  \\\n",
              "24823                    1.0  ...                2.0   \n",
              "24824                    0.0  ...                1.0   \n",
              "24825                    0.0  ...                2.0   \n",
              "24826                    1.0  ...                4.0   \n",
              "24827                    0.0  ...                1.0   \n",
              "\n",
              "       opinion_h1n1_sick_from_vacc      age_group   race     sex  \\\n",
              "24823                          4.0  18 - 34 Years  White  Female   \n",
              "24824                          1.0      65+ Years  White  Female   \n",
              "24825                          2.0  18 - 34 Years  White    Male   \n",
              "24826                          2.0  55 - 64 Years  White  Female   \n",
              "24827                          1.0      65+ Years  White    Male   \n",
              "\n",
              "       hhs_geo_region                census_msa household_adults  \\\n",
              "24823        fpwskwrf       MSA, Principle City              3.0   \n",
              "24824        qufhixun                   Non-MSA              0.0   \n",
              "24825        lzgpxyit       MSA, Principle City              1.0   \n",
              "24826        lzgpxyit  MSA, Not Principle  City              0.0   \n",
              "24827        mlyzmhmf       MSA, Principle City              1.0   \n",
              "\n",
              "      household_children h1n1_vaccine  \n",
              "24823                0.0            0  \n",
              "24824                0.0            0  \n",
              "24825                0.0            0  \n",
              "24826                0.0            0  \n",
              "24827                0.0            0  \n",
              "\n",
              "[5 rows x 24 columns]"
            ]
          },
          "execution_count": 64,
          "metadata": {},
          "output_type": "execute_result"
        }
      ],
      "source": [
        "train_h1n1.tail()"
      ]
    },
    {
      "cell_type": "markdown",
      "metadata": {
        "id": "DP5EJv5b42iU"
      },
      "source": [
        "# Train for Seasonal Vaccine"
      ]
    },
    {
      "cell_type": "code",
      "execution_count": null,
      "metadata": {
        "id": "M2CzKrsm42iV"
      },
      "outputs": [],
      "source": [
        "train_seasonal = train_features2[['respondent_id','behavioral_antiviral_meds','behavioral_avoidance', 'behavioral_face_mask', \n",
        "                                  'behavioral_wash_hands','behavioral_large_gatherings', 'behavioral_outside_home',\n",
        "                                  'behavioral_touch_face','chronic_med_condition', 'child_under_6_months', 'health_worker',\n",
        "                                  'opinion_seas_vacc_effective','opinion_seas_risk','opinion_seas_sick_from_vacc', \n",
        "                                  'age_group','race', 'sex', 'hhs_geo_region', 'census_msa','household_adults', 'household_children']]\n",
        "train_seasonal = pd.merge(train_seasonal,train_labels[['respondent_id', 'seasonal_vaccine']], how='inner', on= 'respondent_id')"
      ]
    },
    {
      "cell_type": "code",
      "execution_count": null,
      "metadata": {
        "id": "sFh5zt3B42iW",
        "outputId": "e63384eb-e62d-473f-8ce7-ff6b3d9e6722"
      },
      "outputs": [
        {
          "name": "stdout",
          "output_type": "stream",
          "text": [
            "1681 개의 (null이 하나 이상 포함된)행이 있음\n"
          ]
        }
      ],
      "source": [
        "list_seasonal_drop_index = train_seasonal[(train_seasonal['behavioral_antiviral_meds'].isnull()==True)|\n",
        "                                          (train_seasonal['behavioral_avoidance'].isnull()==True)|\n",
        "                                          (train_seasonal['behavioral_face_mask'].isnull()==True)|\n",
        "                                          (train_seasonal['behavioral_wash_hands'].isnull()==True)|\n",
        "                                          (train_seasonal['behavioral_large_gatherings'].isnull()==True)|\n",
        "                                          (train_seasonal['behavioral_outside_home'].isnull()==True)|\n",
        "                                          (train_seasonal['behavioral_touch_face'].isnull()==True)|\n",
        "                                          (train_seasonal['chronic_med_condition'].isnull()==True)|\n",
        "                                          (train_seasonal['child_under_6_months'].isnull()==True)|\n",
        "                                          (train_seasonal['health_worker'].isnull()==True)|\n",
        "                                          (train_seasonal['opinion_seas_vacc_effective'].isnull()==True)|\n",
        "                                          (train_seasonal['opinion_seas_risk'].isnull()==True)|\n",
        "                                          (train_seasonal['opinion_seas_sick_from_vacc'].isnull()==True)|\n",
        "                                          (train_seasonal['household_adults'].isnull()==True)|\n",
        "                                          (train_seasonal['household_children'].isnull()==True)].index.tolist()\n",
        "\n",
        "print(len(list_seasonal_drop_index), '개의 (null이 하나 이상 포함된)행이 있음')"
      ]
    },
    {
      "cell_type": "code",
      "execution_count": null,
      "metadata": {
        "id": "B_IWzuf142iX"
      },
      "outputs": [],
      "source": [
        "# 그냥 저것들을 싹 날릴 경우, 대략 6%의 데이터 손실 발생\n",
        "train_seasonal = train_seasonal.drop(list_seasonal_drop_index, axis=0)"
      ]
    },
    {
      "cell_type": "code",
      "execution_count": null,
      "metadata": {
        "id": "XZw9r9AN42iY"
      },
      "outputs": [],
      "source": [
        "# index 다시 부여\n",
        "train_seasonal = train_seasonal.reset_index(drop=True)"
      ]
    },
    {
      "cell_type": "code",
      "execution_count": null,
      "metadata": {
        "id": "Err4f4pN42iZ",
        "outputId": "0b3f382d-8a4c-4b4a-ee25-00623c5d9ce4"
      },
      "outputs": [
        {
          "data": {
            "text/html": [
              "<div>\n",
              "<style scoped>\n",
              "    .dataframe tbody tr th:only-of-type {\n",
              "        vertical-align: middle;\n",
              "    }\n",
              "\n",
              "    .dataframe tbody tr th {\n",
              "        vertical-align: top;\n",
              "    }\n",
              "\n",
              "    .dataframe thead th {\n",
              "        text-align: right;\n",
              "    }\n",
              "</style>\n",
              "<table border=\"1\" class=\"dataframe\">\n",
              "  <thead>\n",
              "    <tr style=\"text-align: right;\">\n",
              "      <th></th>\n",
              "      <th>respondent_id</th>\n",
              "      <th>behavioral_antiviral_meds</th>\n",
              "      <th>behavioral_avoidance</th>\n",
              "      <th>behavioral_face_mask</th>\n",
              "      <th>behavioral_wash_hands</th>\n",
              "      <th>behavioral_large_gatherings</th>\n",
              "      <th>behavioral_outside_home</th>\n",
              "      <th>behavioral_touch_face</th>\n",
              "      <th>chronic_med_condition</th>\n",
              "      <th>child_under_6_months</th>\n",
              "      <th>...</th>\n",
              "      <th>opinion_seas_risk</th>\n",
              "      <th>opinion_seas_sick_from_vacc</th>\n",
              "      <th>age_group</th>\n",
              "      <th>race</th>\n",
              "      <th>sex</th>\n",
              "      <th>hhs_geo_region</th>\n",
              "      <th>census_msa</th>\n",
              "      <th>household_adults</th>\n",
              "      <th>household_children</th>\n",
              "      <th>seasonal_vaccine</th>\n",
              "    </tr>\n",
              "  </thead>\n",
              "  <tbody>\n",
              "    <tr>\n",
              "      <th>25021</th>\n",
              "      <td>26701</td>\n",
              "      <td>0.0</td>\n",
              "      <td>0.0</td>\n",
              "      <td>0.0</td>\n",
              "      <td>1.0</td>\n",
              "      <td>0.0</td>\n",
              "      <td>0.0</td>\n",
              "      <td>1.0</td>\n",
              "      <td>0.0</td>\n",
              "      <td>1.0</td>\n",
              "      <td>...</td>\n",
              "      <td>2.0</td>\n",
              "      <td>4.0</td>\n",
              "      <td>18 - 34 Years</td>\n",
              "      <td>White</td>\n",
              "      <td>Female</td>\n",
              "      <td>fpwskwrf</td>\n",
              "      <td>MSA, Principle City</td>\n",
              "      <td>3.0</td>\n",
              "      <td>0.0</td>\n",
              "      <td>0</td>\n",
              "    </tr>\n",
              "    <tr>\n",
              "      <th>25022</th>\n",
              "      <td>26702</td>\n",
              "      <td>0.0</td>\n",
              "      <td>1.0</td>\n",
              "      <td>0.0</td>\n",
              "      <td>0.0</td>\n",
              "      <td>0.0</td>\n",
              "      <td>1.0</td>\n",
              "      <td>0.0</td>\n",
              "      <td>0.0</td>\n",
              "      <td>0.0</td>\n",
              "      <td>...</td>\n",
              "      <td>2.0</td>\n",
              "      <td>2.0</td>\n",
              "      <td>65+ Years</td>\n",
              "      <td>White</td>\n",
              "      <td>Female</td>\n",
              "      <td>qufhixun</td>\n",
              "      <td>Non-MSA</td>\n",
              "      <td>0.0</td>\n",
              "      <td>0.0</td>\n",
              "      <td>0</td>\n",
              "    </tr>\n",
              "    <tr>\n",
              "      <th>25023</th>\n",
              "      <td>26703</td>\n",
              "      <td>0.0</td>\n",
              "      <td>1.0</td>\n",
              "      <td>0.0</td>\n",
              "      <td>1.0</td>\n",
              "      <td>0.0</td>\n",
              "      <td>0.0</td>\n",
              "      <td>0.0</td>\n",
              "      <td>0.0</td>\n",
              "      <td>0.0</td>\n",
              "      <td>...</td>\n",
              "      <td>1.0</td>\n",
              "      <td>1.0</td>\n",
              "      <td>18 - 34 Years</td>\n",
              "      <td>White</td>\n",
              "      <td>Male</td>\n",
              "      <td>lzgpxyit</td>\n",
              "      <td>MSA, Principle City</td>\n",
              "      <td>1.0</td>\n",
              "      <td>0.0</td>\n",
              "      <td>0</td>\n",
              "    </tr>\n",
              "    <tr>\n",
              "      <th>25024</th>\n",
              "      <td>26704</td>\n",
              "      <td>0.0</td>\n",
              "      <td>1.0</td>\n",
              "      <td>1.0</td>\n",
              "      <td>1.0</td>\n",
              "      <td>1.0</td>\n",
              "      <td>0.0</td>\n",
              "      <td>1.0</td>\n",
              "      <td>0.0</td>\n",
              "      <td>0.0</td>\n",
              "      <td>...</td>\n",
              "      <td>4.0</td>\n",
              "      <td>2.0</td>\n",
              "      <td>55 - 64 Years</td>\n",
              "      <td>White</td>\n",
              "      <td>Female</td>\n",
              "      <td>lzgpxyit</td>\n",
              "      <td>MSA, Not Principle  City</td>\n",
              "      <td>0.0</td>\n",
              "      <td>0.0</td>\n",
              "      <td>1</td>\n",
              "    </tr>\n",
              "    <tr>\n",
              "      <th>25025</th>\n",
              "      <td>26706</td>\n",
              "      <td>0.0</td>\n",
              "      <td>1.0</td>\n",
              "      <td>0.0</td>\n",
              "      <td>0.0</td>\n",
              "      <td>0.0</td>\n",
              "      <td>0.0</td>\n",
              "      <td>0.0</td>\n",
              "      <td>0.0</td>\n",
              "      <td>0.0</td>\n",
              "      <td>...</td>\n",
              "      <td>1.0</td>\n",
              "      <td>1.0</td>\n",
              "      <td>65+ Years</td>\n",
              "      <td>White</td>\n",
              "      <td>Male</td>\n",
              "      <td>mlyzmhmf</td>\n",
              "      <td>MSA, Principle City</td>\n",
              "      <td>1.0</td>\n",
              "      <td>0.0</td>\n",
              "      <td>0</td>\n",
              "    </tr>\n",
              "  </tbody>\n",
              "</table>\n",
              "<p>5 rows × 22 columns</p>\n",
              "</div>"
            ],
            "text/plain": [
              "       respondent_id  behavioral_antiviral_meds  behavioral_avoidance  \\\n",
              "25021          26701                        0.0                   0.0   \n",
              "25022          26702                        0.0                   1.0   \n",
              "25023          26703                        0.0                   1.0   \n",
              "25024          26704                        0.0                   1.0   \n",
              "25025          26706                        0.0                   1.0   \n",
              "\n",
              "       behavioral_face_mask  behavioral_wash_hands  \\\n",
              "25021                   0.0                    1.0   \n",
              "25022                   0.0                    0.0   \n",
              "25023                   0.0                    1.0   \n",
              "25024                   1.0                    1.0   \n",
              "25025                   0.0                    0.0   \n",
              "\n",
              "       behavioral_large_gatherings  behavioral_outside_home  \\\n",
              "25021                          0.0                      0.0   \n",
              "25022                          0.0                      1.0   \n",
              "25023                          0.0                      0.0   \n",
              "25024                          1.0                      0.0   \n",
              "25025                          0.0                      0.0   \n",
              "\n",
              "       behavioral_touch_face  chronic_med_condition  child_under_6_months  \\\n",
              "25021                    1.0                    0.0                   1.0   \n",
              "25022                    0.0                    0.0                   0.0   \n",
              "25023                    0.0                    0.0                   0.0   \n",
              "25024                    1.0                    0.0                   0.0   \n",
              "25025                    0.0                    0.0                   0.0   \n",
              "\n",
              "       ...  opinion_seas_risk  opinion_seas_sick_from_vacc      age_group  \\\n",
              "25021  ...                2.0                          4.0  18 - 34 Years   \n",
              "25022  ...                2.0                          2.0      65+ Years   \n",
              "25023  ...                1.0                          1.0  18 - 34 Years   \n",
              "25024  ...                4.0                          2.0  55 - 64 Years   \n",
              "25025  ...                1.0                          1.0      65+ Years   \n",
              "\n",
              "        race     sex hhs_geo_region                census_msa  \\\n",
              "25021  White  Female       fpwskwrf       MSA, Principle City   \n",
              "25022  White  Female       qufhixun                   Non-MSA   \n",
              "25023  White    Male       lzgpxyit       MSA, Principle City   \n",
              "25024  White  Female       lzgpxyit  MSA, Not Principle  City   \n",
              "25025  White    Male       mlyzmhmf       MSA, Principle City   \n",
              "\n",
              "      household_adults household_children  seasonal_vaccine  \n",
              "25021              3.0                0.0                 0  \n",
              "25022              0.0                0.0                 0  \n",
              "25023              1.0                0.0                 0  \n",
              "25024              0.0                0.0                 1  \n",
              "25025              1.0                0.0                 0  \n",
              "\n",
              "[5 rows x 22 columns]"
            ]
          },
          "execution_count": 71,
          "metadata": {},
          "output_type": "execute_result"
        }
      ],
      "source": [
        "train_seasonal.tail()"
      ]
    },
    {
      "cell_type": "code",
      "execution_count": null,
      "metadata": {
        "id": "GQMBEOeq42ia",
        "outputId": "f6725f08-78b9-40ee-c361-fb95835c43a1"
      },
      "outputs": [
        {
          "name": "stdout",
          "output_type": "stream",
          "text": [
            "<class 'pandas.core.frame.DataFrame'>\n",
            "RangeIndex: 25026 entries, 0 to 25025\n",
            "Data columns (total 22 columns):\n",
            " #   Column                       Non-Null Count  Dtype  \n",
            "---  ------                       --------------  -----  \n",
            " 0   respondent_id                25026 non-null  int64  \n",
            " 1   behavioral_antiviral_meds    25026 non-null  float64\n",
            " 2   behavioral_avoidance         25026 non-null  float64\n",
            " 3   behavioral_face_mask         25026 non-null  float64\n",
            " 4   behavioral_wash_hands        25026 non-null  float64\n",
            " 5   behavioral_large_gatherings  25026 non-null  float64\n",
            " 6   behavioral_outside_home      25026 non-null  float64\n",
            " 7   behavioral_touch_face        25026 non-null  float64\n",
            " 8   chronic_med_condition        25026 non-null  float64\n",
            " 9   child_under_6_months         25026 non-null  float64\n",
            " 10  health_worker                25026 non-null  float64\n",
            " 11  opinion_seas_vacc_effective  25026 non-null  float64\n",
            " 12  opinion_seas_risk            25026 non-null  float64\n",
            " 13  opinion_seas_sick_from_vacc  25026 non-null  float64\n",
            " 14  age_group                    25026 non-null  object \n",
            " 15  race                         25026 non-null  object \n",
            " 16  sex                          25026 non-null  object \n",
            " 17  hhs_geo_region               25026 non-null  object \n",
            " 18  census_msa                   25026 non-null  object \n",
            " 19  household_adults             25026 non-null  float64\n",
            " 20  household_children           25026 non-null  float64\n",
            " 21  seasonal_vaccine             25026 non-null  int64  \n",
            "dtypes: float64(15), int64(2), object(5)\n",
            "memory usage: 4.2+ MB\n"
          ]
        }
      ],
      "source": [
        "train_seasonal.info()"
      ]
    },
    {
      "cell_type": "code",
      "execution_count": null,
      "metadata": {
        "id": "O_hu79iC42ib"
      },
      "outputs": [],
      "source": [
        "train_h1n1.to_csv(\"train_h1n1_ver1.csv\", index=False)"
      ]
    },
    {
      "cell_type": "code",
      "execution_count": null,
      "metadata": {
        "id": "7t2CQhTH42ib"
      },
      "outputs": [],
      "source": [
        "train_seasonal.to_csv(\"train_seasonal_ver1.csv\", index=False)"
      ]
    },
    {
      "cell_type": "code",
      "execution_count": null,
      "metadata": {
        "id": "0v0f26Jy42ic"
      },
      "outputs": [],
      "source": [
        ""
      ]
    },
    {
      "cell_type": "markdown",
      "metadata": {
        "id": "q3NqWLcj42ic"
      },
      "source": [
        "# 그냥 돌리기"
      ]
    },
    {
      "cell_type": "code",
      "execution_count": null,
      "metadata": {
        "id": "0wdlxagn42id"
      },
      "outputs": [],
      "source": [
        "from sklearn.model_selection import train_test_split\n",
        "from sklearn.linear_model import LogisticRegression    \n",
        "from sklearn.naive_bayes import GaussianNB         \n",
        "from sklearn.tree import DecisionTreeClassifier \n",
        "from sklearn.ensemble import RandomForestClassifier\n",
        "\n",
        "from sklearn.metrics import accuracy_score\n",
        "from sklearn.metrics import f1_score\n",
        "from sklearn.metrics import recall_score\n",
        "from sklearn.metrics import precision_score"
      ]
    },
    {
      "cell_type": "code",
      "execution_count": null,
      "metadata": {
        "id": "OMvtl7FC42id",
        "outputId": "407d22ad-f230-4b04-c2a8-f6e3b47814b2"
      },
      "outputs": [
        {
          "name": "stdout",
          "output_type": "stream",
          "text": [
            "[0 1 2 3 4 5 6 7 8 9]\n"
          ]
        }
      ],
      "source": [
        "## age_group\n",
        "\n",
        "train_h1n1.loc[train_h1n1['age_group'] == '18 - 34 Years', 'age_group'] = 1\n",
        "train_h1n1.loc[train_h1n1['age_group'] == '35 - 44 Years', 'age_group'] = 2\n",
        "train_h1n1.loc[train_h1n1['age_group'] == '45 - 54 Years', 'age_group'] = 3\n",
        "train_h1n1.loc[train_h1n1['age_group'] == '55 - 64 Years', 'age_group'] = 4\n",
        "train_h1n1.loc[train_h1n1['age_group'] == '65+ Years', 'age_group'] = 5\n",
        "\n",
        "\n",
        "## race\n",
        "\n",
        "train_h1n1.loc[train_h1n1['race'] == 'White', 'race'] = 1\n",
        "train_h1n1.loc[train_h1n1['race'] == 'Black', 'race'] = 2\n",
        "train_h1n1.loc[train_h1n1['race'] == 'Other or Multiple', 'race'] = 3\n",
        "train_h1n1.loc[train_h1n1['race'] == 'Hispanic', 'race'] = 4\n",
        "\n",
        "## sex\n",
        "\n",
        "train_h1n1.loc[train_h1n1['sex'] == 'Female', 'sex'] = 1\n",
        "train_h1n1.loc[train_h1n1['sex'] == 'Male', 'sex'] = 2\n",
        "\n",
        "from sklearn import preprocessing\n",
        "\n",
        "le = preprocessing.LabelEncoder()\n",
        "le.fit(train_h1n1['hhs_geo_region'])\n",
        "\n",
        "print(le.classes_)\n",
        "train_h1n1['hhs_geo_region'] = le.transform(train_h1n1['hhs_geo_region'])\n",
        "\n",
        "## census_msa\n",
        "\n",
        "train_h1n1.loc[train_h1n1['census_msa'] == 'Non-MSA', 'census_msa'] = 1\n",
        "train_h1n1.loc[train_h1n1['census_msa'] == 'MSA, Not Principle  City', 'census_msa'] = 2\n",
        "train_h1n1.loc[train_h1n1['census_msa'] == 'MSA, Principle City', 'census_msa'] = 3"
      ]
    },
    {
      "cell_type": "code",
      "execution_count": null,
      "metadata": {
        "id": "QcTykprM42ie"
      },
      "outputs": [],
      "source": [
        "feature = train_h1n1.iloc[:,1:-1]\n",
        "target = train_h1n1['h1n1_vaccine']\n",
        "x_train, x_valid, y_train, y_valid = train_test_split(feature, target, test_size=0.2,shuffle=True,      \n",
        "                                                          stratify=target,  random_state=1234) "
      ]
    },
    {
      "cell_type": "code",
      "execution_count": null,
      "metadata": {
        "id": "Df8UIgzB42if",
        "outputId": "cc2c4fe6-45b8-49d7-a9cd-9766bea6f91e"
      },
      "outputs": [
        {
          "data": {
            "text/html": [
              "<div>\n",
              "<style scoped>\n",
              "    .dataframe tbody tr th:only-of-type {\n",
              "        vertical-align: middle;\n",
              "    }\n",
              "\n",
              "    .dataframe tbody tr th {\n",
              "        vertical-align: top;\n",
              "    }\n",
              "\n",
              "    .dataframe thead th {\n",
              "        text-align: right;\n",
              "    }\n",
              "</style>\n",
              "<table border=\"1\" class=\"dataframe\">\n",
              "  <thead>\n",
              "    <tr style=\"text-align: right;\">\n",
              "      <th></th>\n",
              "      <th>respondent_id</th>\n",
              "      <th>h1n1_concern</th>\n",
              "      <th>h1n1_knowledge</th>\n",
              "      <th>behavioral_antiviral_meds</th>\n",
              "      <th>behavioral_avoidance</th>\n",
              "      <th>behavioral_face_mask</th>\n",
              "      <th>behavioral_wash_hands</th>\n",
              "      <th>behavioral_large_gatherings</th>\n",
              "      <th>behavioral_outside_home</th>\n",
              "      <th>behavioral_touch_face</th>\n",
              "      <th>...</th>\n",
              "      <th>opinion_h1n1_risk</th>\n",
              "      <th>opinion_h1n1_sick_from_vacc</th>\n",
              "      <th>age_group</th>\n",
              "      <th>race</th>\n",
              "      <th>sex</th>\n",
              "      <th>hhs_geo_region</th>\n",
              "      <th>census_msa</th>\n",
              "      <th>household_adults</th>\n",
              "      <th>household_children</th>\n",
              "      <th>h1n1_vaccine</th>\n",
              "    </tr>\n",
              "  </thead>\n",
              "  <tbody>\n",
              "    <tr>\n",
              "      <th>0</th>\n",
              "      <td>0</td>\n",
              "      <td>1.0</td>\n",
              "      <td>0.0</td>\n",
              "      <td>0.0</td>\n",
              "      <td>0.0</td>\n",
              "      <td>0.0</td>\n",
              "      <td>0.0</td>\n",
              "      <td>0.0</td>\n",
              "      <td>1.0</td>\n",
              "      <td>1.0</td>\n",
              "      <td>...</td>\n",
              "      <td>1.0</td>\n",
              "      <td>2.0</td>\n",
              "      <td>4</td>\n",
              "      <td>1</td>\n",
              "      <td>1</td>\n",
              "      <td>8</td>\n",
              "      <td>1</td>\n",
              "      <td>0.0</td>\n",
              "      <td>0.0</td>\n",
              "      <td>0</td>\n",
              "    </tr>\n",
              "    <tr>\n",
              "      <th>1</th>\n",
              "      <td>1</td>\n",
              "      <td>3.0</td>\n",
              "      <td>2.0</td>\n",
              "      <td>0.0</td>\n",
              "      <td>1.0</td>\n",
              "      <td>0.0</td>\n",
              "      <td>1.0</td>\n",
              "      <td>0.0</td>\n",
              "      <td>1.0</td>\n",
              "      <td>1.0</td>\n",
              "      <td>...</td>\n",
              "      <td>4.0</td>\n",
              "      <td>4.0</td>\n",
              "      <td>2</td>\n",
              "      <td>1</td>\n",
              "      <td>2</td>\n",
              "      <td>1</td>\n",
              "      <td>2</td>\n",
              "      <td>0.0</td>\n",
              "      <td>0.0</td>\n",
              "      <td>0</td>\n",
              "    </tr>\n",
              "    <tr>\n",
              "      <th>2</th>\n",
              "      <td>2</td>\n",
              "      <td>1.0</td>\n",
              "      <td>1.0</td>\n",
              "      <td>0.0</td>\n",
              "      <td>1.0</td>\n",
              "      <td>0.0</td>\n",
              "      <td>0.0</td>\n",
              "      <td>0.0</td>\n",
              "      <td>0.0</td>\n",
              "      <td>0.0</td>\n",
              "      <td>...</td>\n",
              "      <td>1.0</td>\n",
              "      <td>1.0</td>\n",
              "      <td>1</td>\n",
              "      <td>1</td>\n",
              "      <td>2</td>\n",
              "      <td>9</td>\n",
              "      <td>2</td>\n",
              "      <td>2.0</td>\n",
              "      <td>0.0</td>\n",
              "      <td>0</td>\n",
              "    </tr>\n",
              "    <tr>\n",
              "      <th>3</th>\n",
              "      <td>3</td>\n",
              "      <td>1.0</td>\n",
              "      <td>1.0</td>\n",
              "      <td>0.0</td>\n",
              "      <td>1.0</td>\n",
              "      <td>0.0</td>\n",
              "      <td>1.0</td>\n",
              "      <td>1.0</td>\n",
              "      <td>0.0</td>\n",
              "      <td>0.0</td>\n",
              "      <td>...</td>\n",
              "      <td>3.0</td>\n",
              "      <td>5.0</td>\n",
              "      <td>5</td>\n",
              "      <td>1</td>\n",
              "      <td>1</td>\n",
              "      <td>5</td>\n",
              "      <td>3</td>\n",
              "      <td>0.0</td>\n",
              "      <td>0.0</td>\n",
              "      <td>0</td>\n",
              "    </tr>\n",
              "    <tr>\n",
              "      <th>4</th>\n",
              "      <td>4</td>\n",
              "      <td>2.0</td>\n",
              "      <td>1.0</td>\n",
              "      <td>0.0</td>\n",
              "      <td>1.0</td>\n",
              "      <td>0.0</td>\n",
              "      <td>1.0</td>\n",
              "      <td>1.0</td>\n",
              "      <td>0.0</td>\n",
              "      <td>1.0</td>\n",
              "      <td>...</td>\n",
              "      <td>3.0</td>\n",
              "      <td>2.0</td>\n",
              "      <td>3</td>\n",
              "      <td>1</td>\n",
              "      <td>1</td>\n",
              "      <td>9</td>\n",
              "      <td>2</td>\n",
              "      <td>1.0</td>\n",
              "      <td>0.0</td>\n",
              "      <td>0</td>\n",
              "    </tr>\n",
              "    <tr>\n",
              "      <th>...</th>\n",
              "      <td>...</td>\n",
              "      <td>...</td>\n",
              "      <td>...</td>\n",
              "      <td>...</td>\n",
              "      <td>...</td>\n",
              "      <td>...</td>\n",
              "      <td>...</td>\n",
              "      <td>...</td>\n",
              "      <td>...</td>\n",
              "      <td>...</td>\n",
              "      <td>...</td>\n",
              "      <td>...</td>\n",
              "      <td>...</td>\n",
              "      <td>...</td>\n",
              "      <td>...</td>\n",
              "      <td>...</td>\n",
              "      <td>...</td>\n",
              "      <td>...</td>\n",
              "      <td>...</td>\n",
              "      <td>...</td>\n",
              "      <td>...</td>\n",
              "    </tr>\n",
              "    <tr>\n",
              "      <th>24823</th>\n",
              "      <td>26701</td>\n",
              "      <td>2.0</td>\n",
              "      <td>2.0</td>\n",
              "      <td>0.0</td>\n",
              "      <td>0.0</td>\n",
              "      <td>0.0</td>\n",
              "      <td>1.0</td>\n",
              "      <td>0.0</td>\n",
              "      <td>0.0</td>\n",
              "      <td>1.0</td>\n",
              "      <td>...</td>\n",
              "      <td>2.0</td>\n",
              "      <td>4.0</td>\n",
              "      <td>1</td>\n",
              "      <td>1</td>\n",
              "      <td>1</td>\n",
              "      <td>3</td>\n",
              "      <td>3</td>\n",
              "      <td>3.0</td>\n",
              "      <td>0.0</td>\n",
              "      <td>0</td>\n",
              "    </tr>\n",
              "    <tr>\n",
              "      <th>24824</th>\n",
              "      <td>26702</td>\n",
              "      <td>2.0</td>\n",
              "      <td>0.0</td>\n",
              "      <td>0.0</td>\n",
              "      <td>1.0</td>\n",
              "      <td>0.0</td>\n",
              "      <td>0.0</td>\n",
              "      <td>0.0</td>\n",
              "      <td>1.0</td>\n",
              "      <td>0.0</td>\n",
              "      <td>...</td>\n",
              "      <td>1.0</td>\n",
              "      <td>1.0</td>\n",
              "      <td>5</td>\n",
              "      <td>1</td>\n",
              "      <td>1</td>\n",
              "      <td>9</td>\n",
              "      <td>1</td>\n",
              "      <td>0.0</td>\n",
              "      <td>0.0</td>\n",
              "      <td>0</td>\n",
              "    </tr>\n",
              "    <tr>\n",
              "      <th>24825</th>\n",
              "      <td>26703</td>\n",
              "      <td>1.0</td>\n",
              "      <td>2.0</td>\n",
              "      <td>0.0</td>\n",
              "      <td>1.0</td>\n",
              "      <td>0.0</td>\n",
              "      <td>1.0</td>\n",
              "      <td>0.0</td>\n",
              "      <td>0.0</td>\n",
              "      <td>0.0</td>\n",
              "      <td>...</td>\n",
              "      <td>2.0</td>\n",
              "      <td>2.0</td>\n",
              "      <td>1</td>\n",
              "      <td>1</td>\n",
              "      <td>2</td>\n",
              "      <td>6</td>\n",
              "      <td>3</td>\n",
              "      <td>1.0</td>\n",
              "      <td>0.0</td>\n",
              "      <td>0</td>\n",
              "    </tr>\n",
              "    <tr>\n",
              "      <th>24826</th>\n",
              "      <td>26704</td>\n",
              "      <td>2.0</td>\n",
              "      <td>2.0</td>\n",
              "      <td>0.0</td>\n",
              "      <td>1.0</td>\n",
              "      <td>1.0</td>\n",
              "      <td>1.0</td>\n",
              "      <td>1.0</td>\n",
              "      <td>0.0</td>\n",
              "      <td>1.0</td>\n",
              "      <td>...</td>\n",
              "      <td>4.0</td>\n",
              "      <td>2.0</td>\n",
              "      <td>4</td>\n",
              "      <td>1</td>\n",
              "      <td>1</td>\n",
              "      <td>6</td>\n",
              "      <td>2</td>\n",
              "      <td>0.0</td>\n",
              "      <td>0.0</td>\n",
              "      <td>0</td>\n",
              "    </tr>\n",
              "    <tr>\n",
              "      <th>24827</th>\n",
              "      <td>26706</td>\n",
              "      <td>0.0</td>\n",
              "      <td>0.0</td>\n",
              "      <td>0.0</td>\n",
              "      <td>1.0</td>\n",
              "      <td>0.0</td>\n",
              "      <td>0.0</td>\n",
              "      <td>0.0</td>\n",
              "      <td>0.0</td>\n",
              "      <td>0.0</td>\n",
              "      <td>...</td>\n",
              "      <td>1.0</td>\n",
              "      <td>1.0</td>\n",
              "      <td>5</td>\n",
              "      <td>1</td>\n",
              "      <td>2</td>\n",
              "      <td>7</td>\n",
              "      <td>3</td>\n",
              "      <td>1.0</td>\n",
              "      <td>0.0</td>\n",
              "      <td>0</td>\n",
              "    </tr>\n",
              "  </tbody>\n",
              "</table>\n",
              "<p>24828 rows × 24 columns</p>\n",
              "</div>"
            ],
            "text/plain": [
              "       respondent_id  h1n1_concern  h1n1_knowledge  behavioral_antiviral_meds  \\\n",
              "0                  0           1.0             0.0                        0.0   \n",
              "1                  1           3.0             2.0                        0.0   \n",
              "2                  2           1.0             1.0                        0.0   \n",
              "3                  3           1.0             1.0                        0.0   \n",
              "4                  4           2.0             1.0                        0.0   \n",
              "...              ...           ...             ...                        ...   \n",
              "24823          26701           2.0             2.0                        0.0   \n",
              "24824          26702           2.0             0.0                        0.0   \n",
              "24825          26703           1.0             2.0                        0.0   \n",
              "24826          26704           2.0             2.0                        0.0   \n",
              "24827          26706           0.0             0.0                        0.0   \n",
              "\n",
              "       behavioral_avoidance  behavioral_face_mask  behavioral_wash_hands  \\\n",
              "0                       0.0                   0.0                    0.0   \n",
              "1                       1.0                   0.0                    1.0   \n",
              "2                       1.0                   0.0                    0.0   \n",
              "3                       1.0                   0.0                    1.0   \n",
              "4                       1.0                   0.0                    1.0   \n",
              "...                     ...                   ...                    ...   \n",
              "24823                   0.0                   0.0                    1.0   \n",
              "24824                   1.0                   0.0                    0.0   \n",
              "24825                   1.0                   0.0                    1.0   \n",
              "24826                   1.0                   1.0                    1.0   \n",
              "24827                   1.0                   0.0                    0.0   \n",
              "\n",
              "       behavioral_large_gatherings  behavioral_outside_home  \\\n",
              "0                              0.0                      1.0   \n",
              "1                              0.0                      1.0   \n",
              "2                              0.0                      0.0   \n",
              "3                              1.0                      0.0   \n",
              "4                              1.0                      0.0   \n",
              "...                            ...                      ...   \n",
              "24823                          0.0                      0.0   \n",
              "24824                          0.0                      1.0   \n",
              "24825                          0.0                      0.0   \n",
              "24826                          1.0                      0.0   \n",
              "24827                          0.0                      0.0   \n",
              "\n",
              "       behavioral_touch_face  ...  opinion_h1n1_risk  \\\n",
              "0                        1.0  ...                1.0   \n",
              "1                        1.0  ...                4.0   \n",
              "2                        0.0  ...                1.0   \n",
              "3                        0.0  ...                3.0   \n",
              "4                        1.0  ...                3.0   \n",
              "...                      ...  ...                ...   \n",
              "24823                    1.0  ...                2.0   \n",
              "24824                    0.0  ...                1.0   \n",
              "24825                    0.0  ...                2.0   \n",
              "24826                    1.0  ...                4.0   \n",
              "24827                    0.0  ...                1.0   \n",
              "\n",
              "       opinion_h1n1_sick_from_vacc  age_group  race  sex  hhs_geo_region  \\\n",
              "0                              2.0          4     1    1               8   \n",
              "1                              4.0          2     1    2               1   \n",
              "2                              1.0          1     1    2               9   \n",
              "3                              5.0          5     1    1               5   \n",
              "4                              2.0          3     1    1               9   \n",
              "...                            ...        ...   ...  ...             ...   \n",
              "24823                          4.0          1     1    1               3   \n",
              "24824                          1.0          5     1    1               9   \n",
              "24825                          2.0          1     1    2               6   \n",
              "24826                          2.0          4     1    1               6   \n",
              "24827                          1.0          5     1    2               7   \n",
              "\n",
              "      census_msa household_adults household_children  h1n1_vaccine  \n",
              "0              1              0.0                0.0             0  \n",
              "1              2              0.0                0.0             0  \n",
              "2              2              2.0                0.0             0  \n",
              "3              3              0.0                0.0             0  \n",
              "4              2              1.0                0.0             0  \n",
              "...          ...              ...                ...           ...  \n",
              "24823          3              3.0                0.0             0  \n",
              "24824          1              0.0                0.0             0  \n",
              "24825          3              1.0                0.0             0  \n",
              "24826          2              0.0                0.0             0  \n",
              "24827          3              1.0                0.0             0  \n",
              "\n",
              "[24828 rows x 24 columns]"
            ]
          },
          "execution_count": 91,
          "metadata": {},
          "output_type": "execute_result"
        }
      ],
      "source": [
        "train_h1n1"
      ]
    },
    {
      "cell_type": "code",
      "execution_count": null,
      "metadata": {
        "id": "C34Ax-o142if"
      },
      "outputs": [],
      "source": [
        "# 분류 score 계산\n",
        "def score(pred, y_test):\n",
        "    print(' accuracy  : ', accuracy_score(y_test, pred))\n",
        "    print(' f1-score  : ', f1_score(y_test, pred))\n",
        "    print(' recall    : ', recall_score(y_test, pred))\n",
        "    print(' precision : ', precision_score(y_test, pred))\n",
        "    return accuracy_score(y_test, pred), f1_score(y_test, pred), recall_score(y_test, pred), precision_score(y_test, pred)"
      ]
    },
    {
      "cell_type": "code",
      "execution_count": null,
      "metadata": {
        "id": "5ooh42sl42ig"
      },
      "outputs": [],
      "source": [
        "def logistic_reg(x_train, y_train, x_valid, y_valid):\n",
        "    \n",
        "    # 모델 분류 수행\n",
        "    reg = LogisticRegression(random_state=0, max_iter=500)\n",
        "    reg.fit(x_train, y_train)\n",
        "    pred = reg.predict(x_valid)   \n",
        "    print(reg.predict_proba(x_valid))\n",
        "    \n",
        "    # 분류 score 계산\n",
        "    accuracy, f1, recall, precision = score(pred, y_valid)\n",
        "    return accuracy, f1, recall, precision"
      ]
    },
    {
      "cell_type": "code",
      "execution_count": null,
      "metadata": {
        "id": "GbOpfDZ442ih",
        "outputId": "ab028d30-0b3b-4df2-e060-84fb1a271aab"
      },
      "outputs": [
        {
          "name": "stdout",
          "output_type": "stream",
          "text": [
            "[[0.73013113 0.26986887]\n",
            " [0.7068267  0.2931733 ]\n",
            " [0.97130567 0.02869433]\n",
            " ...\n",
            " [0.97920363 0.02079637]\n",
            " [0.8124359  0.1875641 ]\n",
            " [0.96938039 0.03061961]]\n",
            " accuracy  :  0.8076923076923077\n",
            " f1-score  :  0.39823566477630745\n",
            " recall    :  0.29727187206020694\n",
            " precision :  0.6030534351145038\n"
          ]
        },
        {
          "data": {
            "text/plain": [
              "(0.8076923076923077,\n",
              " 0.39823566477630745,\n",
              " 0.29727187206020694,\n",
              " 0.6030534351145038)"
            ]
          },
          "execution_count": 114,
          "metadata": {},
          "output_type": "execute_result"
        }
      ],
      "source": [
        "logistic_reg(x_train, y_train, x_valid, y_valid)"
      ]
    },
    {
      "cell_type": "code",
      "execution_count": null,
      "metadata": {
        "id": "BWc5J1wJ42ih"
      },
      "outputs": [],
      "source": [
        "def dt_clf(x_train, y_train, x_valid, y_valid):\n",
        "    \n",
        "    # 모델 분류 수행\n",
        "    clf = DecisionTreeClassifier(max_depth=16, random_state=0)\n",
        "    clf.fit(x_train, y_train)\n",
        "    pred = clf.predict(x_valid)\n",
        "    k = clf.predict_log_proba\n",
        "    print(clf.predict_proba)\n",
        "          \n",
        "    \n",
        "    # 분류 score 계산\n",
        "    accuracy, f1, recall, precision = score(pred, y_valid)\n",
        "    return accuracy, f1, recall, precision"
      ]
    },
    {
      "cell_type": "code",
      "execution_count": null,
      "metadata": {
        "id": "7VPzRc_C42ii",
        "outputId": "3aa28143-9bae-498f-9e34-af454e8233fb"
      },
      "outputs": [
        {
          "name": "stdout",
          "output_type": "stream",
          "text": [
            "<bound method DecisionTreeClassifier.predict_proba of DecisionTreeClassifier(max_depth=16, random_state=0)>\n",
            " accuracy  :  0.7488924687877567\n",
            " f1-score  :  0.38419753086419756\n",
            " recall    :  0.3659454374412041\n",
            " precision :  0.40436590436590436\n"
          ]
        },
        {
          "data": {
            "text/plain": [
              "(0.7488924687877567,\n",
              " 0.38419753086419756,\n",
              " 0.3659454374412041,\n",
              " 0.40436590436590436)"
            ]
          },
          "execution_count": 106,
          "metadata": {},
          "output_type": "execute_result"
        }
      ],
      "source": [
        "dt_clf(x_train, y_train, x_valid, y_valid)"
      ]
    },
    {
      "cell_type": "code",
      "execution_count": null,
      "metadata": {
        "id": "ZX-Bbhsw42ij"
      },
      "outputs": [],
      "source": [
        "def randomforest_clf(x_train, y_train, x_valid, y_valid):\n",
        "    \n",
        "    # 모델 분류 수행\n",
        "    clf = RandomForestClassifier(max_depth=16, random_state=0)\n",
        "    clf.fit(x_train, y_train)\n",
        "    pred = clf.predict(x_valid)\n",
        "    \n",
        "    # 분류 score 계산\n",
        "    accuracy, f1, recall, precision = score(pred, y_valid)\n",
        "    return accuracy, f1, recall, precision"
      ]
    },
    {
      "cell_type": "code",
      "execution_count": null,
      "metadata": {
        "id": "CmcscCrm42ik",
        "outputId": "3c1ad831-ca66-4f3f-a56c-31fbadd13a5e"
      },
      "outputs": [
        {
          "name": "stdout",
          "output_type": "stream",
          "text": [
            " accuracy  :  0.8097060008054773\n",
            " f1-score  :  0.3977055449330784\n",
            " recall    :  0.29350893697083724\n",
            " precision :  0.616600790513834\n"
          ]
        },
        {
          "data": {
            "text/plain": [
              "(0.8097060008054773,\n",
              " 0.3977055449330784,\n",
              " 0.29350893697083724,\n",
              " 0.616600790513834)"
            ]
          },
          "execution_count": 99,
          "metadata": {},
          "output_type": "execute_result"
        }
      ],
      "source": [
        "randomforest_clf(x_train, y_train, x_valid, y_valid)"
      ]
    },
    {
      "cell_type": "code",
      "execution_count": null,
      "metadata": {
        "id": "33Z7vqmu42ik"
      },
      "outputs": [],
      "source": [
        "clf.predict_proba"
      ]
    },
    {
      "cell_type": "code",
      "execution_count": null,
      "metadata": {
        "id": "soNPqQgw42il"
      },
      "outputs": [],
      "source": [
        ""
      ]
    },
    {
      "cell_type": "code",
      "execution_count": null,
      "metadata": {
        "id": "VzeqeWfY42il"
      },
      "outputs": [],
      "source": [
        ""
      ]
    }
  ],
  "metadata": {
    "kernelspec": {
      "display_name": "Python 3",
      "language": "python",
      "name": "python3"
    },
    "language_info": {
      "codemirror_mode": {
        "name": "ipython",
        "version": 3
      },
      "file_extension": ".py",
      "mimetype": "text/x-python",
      "name": "python",
      "nbconvert_exporter": "python",
      "pygments_lexer": "ipython3",
      "version": "3.8.3"
    },
    "toc": {
      "base_numbering": 1,
      "nav_menu": {},
      "number_sections": true,
      "sideBar": true,
      "skip_h1_title": false,
      "title_cell": "Table of Contents",
      "title_sidebar": "Contents",
      "toc_cell": false,
      "toc_position": {},
      "toc_section_display": true,
      "toc_window_display": false
    },
    "varInspector": {
      "cols": {
        "lenName": 16,
        "lenType": 16,
        "lenVar": 40
      },
      "kernels_config": {
        "python": {
          "delete_cmd_postfix": "",
          "delete_cmd_prefix": "del ",
          "library": "var_list.py",
          "varRefreshCmd": "print(var_dic_list())"
        },
        "r": {
          "delete_cmd_postfix": ") ",
          "delete_cmd_prefix": "rm(",
          "library": "var_list.r",
          "varRefreshCmd": "cat(var_dic_list()) "
        }
      },
      "types_to_exclude": [
        "module",
        "function",
        "builtin_function_or_method",
        "instance",
        "_Feature"
      ],
      "window_display": false
    },
    "colab": {
      "name": "data preprocessing.ipynb",
      "provenance": [],
      "include_colab_link": true
    }
  },
  "nbformat": 4,
  "nbformat_minor": 0
}