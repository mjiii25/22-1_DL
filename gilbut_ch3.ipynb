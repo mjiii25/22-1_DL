{
  "nbformat": 4,
  "nbformat_minor": 0,
  "metadata": {
    "colab": {
      "name": "Untitled8.ipynb",
      "provenance": [],
      "authorship_tag": "ABX9TyNSb3Trx4A25MN0F2aruOyo",
      "include_colab_link": true
    },
    "kernelspec": {
      "name": "python3",
      "display_name": "Python 3"
    },
    "language_info": {
      "name": "python"
    },
    "accelerator": "GPU"
  },
  "cells": [
    {
      "cell_type": "markdown",
      "metadata": {
        "id": "view-in-github",
        "colab_type": "text"
      },
      "source": [
        "<a href=\"https://colab.research.google.com/github/mjiii25/22-1_DLAI/blob/main/gilbut_ch3.ipynb\" target=\"_parent\"><img src=\"https://colab.research.google.com/assets/colab-badge.svg\" alt=\"Open In Colab\"/></a>"
      ]
    },
    {
      "cell_type": "markdown",
      "source": [
        "# Chapter 3"
      ],
      "metadata": {
        "id": "56Tg3zN63bQ9"
      }
    },
    {
      "cell_type": "markdown",
      "source": [
        "## 3.1 Mechanism of Neural Network"
      ],
      "metadata": {
        "id": "E4GzLrzL31bh"
      }
    },
    {
      "cell_type": "markdown",
      "source": [
        "- 'Dense' layer for 2D tensor\n",
        "- 'LSTM' layer for 3D tensor\n",
        "- 'Conv2D' layer for 4D tensor"
      ],
      "metadata": {
        "id": "sAL_B-934JKP"
      }
    },
    {
      "cell_type": "code",
      "execution_count": null,
      "metadata": {
        "id": "IpadIafB3Y-K"
      },
      "outputs": [],
      "source": [
        "from keras import layers"
      ]
    },
    {
      "cell_type": "code",
      "source": [
        "layer = layers.Dense(32, input_shape = (784,))                                    # dense layer with 32 units"
      ],
      "metadata": {
        "id": "MFskTCPX3ylG"
      },
      "execution_count": null,
      "outputs": []
    },
    {
      "cell_type": "code",
      "source": [
        "from keras import models\n",
        "from keras import layers\n",
        "\n",
        "model = models.Sequential()\n",
        "model.add(layers.Dense(32, input_shape = (784,)))\n",
        "model.add(layers.Dense(10))"
      ],
      "metadata": {
        "id": "UuUaXi2242oL"
      },
      "execution_count": null,
      "outputs": []
    },
    {
      "cell_type": "markdown",
      "source": [
        "Network"
      ],
      "metadata": {
        "id": "AcDRSQaJ5cGg"
      }
    },
    {
      "cell_type": "markdown",
      "source": [
        "Loss Function and Optimizer"
      ],
      "metadata": {
        "id": "VQZkHhbh5SS6"
      }
    },
    {
      "cell_type": "markdown",
      "source": [
        "## About Keras"
      ],
      "metadata": {
        "id": "xQa_gwBE5hzC"
      }
    },
    {
      "cell_type": "markdown",
      "source": [
        "1) Sequential model"
      ],
      "metadata": {
        "id": "_mp5zqt66RGF"
      }
    },
    {
      "cell_type": "code",
      "source": [
        "from keras import models\n",
        "from keras import layers"
      ],
      "metadata": {
        "id": "kH-7phL75KGX"
      },
      "execution_count": null,
      "outputs": []
    },
    {
      "cell_type": "code",
      "source": [
        "model = models.Sequential()\n",
        "model.add(layers.Dense(32, activation = 'relu', input_shape = (784,)))\n",
        "model.add(layers.Dense(10, activation = 'softmax'))"
      ],
      "metadata": {
        "id": "MLxxANtR6WfV"
      },
      "execution_count": null,
      "outputs": []
    },
    {
      "cell_type": "markdown",
      "source": [
        "2) Functional API"
      ],
      "metadata": {
        "id": "EWoW6iuT6lO0"
      }
    },
    {
      "cell_type": "code",
      "source": [
        "input_tensor = layers.Input(shape = (784,))\n",
        "x = layers.Dense(32, activation = 'relu')(input_tensor)\n",
        "output_tensor = layers.Dense(10, activation = 'softmax')(x)\n",
        "\n",
        "model = models.Model(inputs = input_tensor, outputs = output_tensor)"
      ],
      "metadata": {
        "id": "gSfen7qf6kTf"
      },
      "execution_count": null,
      "outputs": []
    },
    {
      "cell_type": "markdown",
      "source": [
        "Compile"
      ],
      "metadata": {
        "id": "gM6sqYL87DcC"
      }
    },
    {
      "cell_type": "code",
      "source": [
        "from keras import optimizers\n",
        "\n",
        "# model.compile(optimizer = optimizers.RMSprop(lr = 0.001),\n",
        "#               loss = 'mse',\n",
        "#               metrics = ['accuracy'])"
      ],
      "metadata": {
        "id": "sEtht20E66j9"
      },
      "execution_count": null,
      "outputs": []
    },
    {
      "cell_type": "markdown",
      "source": [
        "## Movie Review Classification (binary classification)"
      ],
      "metadata": {
        "id": "jVU-psSk92qV"
      }
    },
    {
      "cell_type": "code",
      "source": [
        "from keras.datasets import imdb\n",
        "\n",
        "(train_data, train_labels), (test_data, test_labels) = imdb.load_data(\n",
        "                                                        num_words = 10000)        # 10000 most frequent words"
      ],
      "metadata": {
        "id": "Msy2VBwU7WeD"
      },
      "execution_count": 3,
      "outputs": []
    },
    {
      "cell_type": "code",
      "source": [
        "train_data[0]"
      ],
      "metadata": {
        "colab": {
          "base_uri": "https://localhost:8080/"
        },
        "id": "KxBjhROs-VqA",
        "outputId": "c3126663-9aa9-41ce-e261-3b39ef9c7eaa"
      },
      "execution_count": 2,
      "outputs": [
        {
          "output_type": "execute_result",
          "data": {
            "text/plain": [
              "[1,\n",
              " 14,\n",
              " 22,\n",
              " 16,\n",
              " 43,\n",
              " 530,\n",
              " 973,\n",
              " 1622,\n",
              " 1385,\n",
              " 65,\n",
              " 458,\n",
              " 4468,\n",
              " 66,\n",
              " 3941,\n",
              " 4,\n",
              " 173,\n",
              " 36,\n",
              " 256,\n",
              " 5,\n",
              " 25,\n",
              " 100,\n",
              " 43,\n",
              " 838,\n",
              " 112,\n",
              " 50,\n",
              " 670,\n",
              " 2,\n",
              " 9,\n",
              " 35,\n",
              " 480,\n",
              " 284,\n",
              " 5,\n",
              " 150,\n",
              " 4,\n",
              " 172,\n",
              " 112,\n",
              " 167,\n",
              " 2,\n",
              " 336,\n",
              " 385,\n",
              " 39,\n",
              " 4,\n",
              " 172,\n",
              " 4536,\n",
              " 1111,\n",
              " 17,\n",
              " 546,\n",
              " 38,\n",
              " 13,\n",
              " 447,\n",
              " 4,\n",
              " 192,\n",
              " 50,\n",
              " 16,\n",
              " 6,\n",
              " 147,\n",
              " 2025,\n",
              " 19,\n",
              " 14,\n",
              " 22,\n",
              " 4,\n",
              " 1920,\n",
              " 4613,\n",
              " 469,\n",
              " 4,\n",
              " 22,\n",
              " 71,\n",
              " 87,\n",
              " 12,\n",
              " 16,\n",
              " 43,\n",
              " 530,\n",
              " 38,\n",
              " 76,\n",
              " 15,\n",
              " 13,\n",
              " 1247,\n",
              " 4,\n",
              " 22,\n",
              " 17,\n",
              " 515,\n",
              " 17,\n",
              " 12,\n",
              " 16,\n",
              " 626,\n",
              " 18,\n",
              " 2,\n",
              " 5,\n",
              " 62,\n",
              " 386,\n",
              " 12,\n",
              " 8,\n",
              " 316,\n",
              " 8,\n",
              " 106,\n",
              " 5,\n",
              " 4,\n",
              " 2223,\n",
              " 5244,\n",
              " 16,\n",
              " 480,\n",
              " 66,\n",
              " 3785,\n",
              " 33,\n",
              " 4,\n",
              " 130,\n",
              " 12,\n",
              " 16,\n",
              " 38,\n",
              " 619,\n",
              " 5,\n",
              " 25,\n",
              " 124,\n",
              " 51,\n",
              " 36,\n",
              " 135,\n",
              " 48,\n",
              " 25,\n",
              " 1415,\n",
              " 33,\n",
              " 6,\n",
              " 22,\n",
              " 12,\n",
              " 215,\n",
              " 28,\n",
              " 77,\n",
              " 52,\n",
              " 5,\n",
              " 14,\n",
              " 407,\n",
              " 16,\n",
              " 82,\n",
              " 2,\n",
              " 8,\n",
              " 4,\n",
              " 107,\n",
              " 117,\n",
              " 5952,\n",
              " 15,\n",
              " 256,\n",
              " 4,\n",
              " 2,\n",
              " 7,\n",
              " 3766,\n",
              " 5,\n",
              " 723,\n",
              " 36,\n",
              " 71,\n",
              " 43,\n",
              " 530,\n",
              " 476,\n",
              " 26,\n",
              " 400,\n",
              " 317,\n",
              " 46,\n",
              " 7,\n",
              " 4,\n",
              " 2,\n",
              " 1029,\n",
              " 13,\n",
              " 104,\n",
              " 88,\n",
              " 4,\n",
              " 381,\n",
              " 15,\n",
              " 297,\n",
              " 98,\n",
              " 32,\n",
              " 2071,\n",
              " 56,\n",
              " 26,\n",
              " 141,\n",
              " 6,\n",
              " 194,\n",
              " 7486,\n",
              " 18,\n",
              " 4,\n",
              " 226,\n",
              " 22,\n",
              " 21,\n",
              " 134,\n",
              " 476,\n",
              " 26,\n",
              " 480,\n",
              " 5,\n",
              " 144,\n",
              " 30,\n",
              " 5535,\n",
              " 18,\n",
              " 51,\n",
              " 36,\n",
              " 28,\n",
              " 224,\n",
              " 92,\n",
              " 25,\n",
              " 104,\n",
              " 4,\n",
              " 226,\n",
              " 65,\n",
              " 16,\n",
              " 38,\n",
              " 1334,\n",
              " 88,\n",
              " 12,\n",
              " 16,\n",
              " 283,\n",
              " 5,\n",
              " 16,\n",
              " 4472,\n",
              " 113,\n",
              " 103,\n",
              " 32,\n",
              " 15,\n",
              " 16,\n",
              " 5345,\n",
              " 19,\n",
              " 178,\n",
              " 32]"
            ]
          },
          "metadata": {},
          "execution_count": 2
        }
      ]
    },
    {
      "cell_type": "code",
      "source": [
        "train_labels[0]"
      ],
      "metadata": {
        "colab": {
          "base_uri": "https://localhost:8080/"
        },
        "id": "hVzFjxR4-aor",
        "outputId": "c76e0d07-9ec1-4840-e046-8fb5e41c2df6"
      },
      "execution_count": 3,
      "outputs": [
        {
          "output_type": "execute_result",
          "data": {
            "text/plain": [
              "1"
            ]
          },
          "metadata": {},
          "execution_count": 3
        }
      ]
    },
    {
      "cell_type": "code",
      "source": [
        "train_data.shape"
      ],
      "metadata": {
        "id": "uraYUUE4axSl",
        "outputId": "79de2c06-103d-4778-9c2f-c76af7edef41",
        "colab": {
          "base_uri": "https://localhost:8080/"
        }
      },
      "execution_count": 5,
      "outputs": [
        {
          "output_type": "execute_result",
          "data": {
            "text/plain": [
              "(25000,)"
            ]
          },
          "metadata": {},
          "execution_count": 5
        }
      ]
    },
    {
      "cell_type": "code",
      "source": [
        "train_labels.shape"
      ],
      "metadata": {
        "id": "yQXmVlRtazWT",
        "outputId": "f1d90dfb-a11f-4077-e3b0-e9eef7e3e93b",
        "colab": {
          "base_uri": "https://localhost:8080/"
        }
      },
      "execution_count": 6,
      "outputs": [
        {
          "output_type": "execute_result",
          "data": {
            "text/plain": [
              "(25000,)"
            ]
          },
          "metadata": {},
          "execution_count": 6
        }
      ]
    },
    {
      "cell_type": "code",
      "source": [
        "max([max(sequence) for sequence in train_data])                                   # Not over 9999 since 10000 words"
      ],
      "metadata": {
        "colab": {
          "base_uri": "https://localhost:8080/"
        },
        "id": "dp5ES6ub-cIM",
        "outputId": "8fd63487-f296-49a6-aeec-e6541c3a88f4"
      },
      "execution_count": 4,
      "outputs": [
        {
          "output_type": "execute_result",
          "data": {
            "text/plain": [
              "9999"
            ]
          },
          "metadata": {},
          "execution_count": 4
        }
      ]
    },
    {
      "cell_type": "markdown",
      "source": [
        "How to change these data to the original words?"
      ],
      "metadata": {
        "id": "Fa5LCVST-3bL"
      }
    },
    {
      "cell_type": "code",
      "source": [
        "word_index = imdb.get_word_index()                                                # dictionary of (word,integer index)\n",
        "reverse_word_index = dict(\n",
        "    [(value,key) for (key,value) in word_index.items()]                           # return (integer index, word)\n",
        ")\n",
        "decoded_review = ''.join(\n",
        "    [reverse_word_index.get(i - 3, '?') for i in train_data[0]]                   # remove non-review index\n",
        ")"
      ],
      "metadata": {
        "id": "qgR_BrD9-u6J"
      },
      "execution_count": null,
      "outputs": []
    },
    {
      "cell_type": "markdown",
      "source": [
        "Prepare data\n",
        "- using one-hot encoding"
      ],
      "metadata": {
        "id": "ZhUI8Pv0_-H5"
      }
    },
    {
      "cell_type": "code",
      "source": [
        "import numpy as np\n",
        "\n",
        "def vectorize_sequences(sequences, dimension = 10000):\n",
        "  results = np.zeros((len(sequences), dimension))                                 # zero matrix with size of (len(sequences), dimension)\n",
        "  for i, sequence in enumerate(sequences):\n",
        "    results[i, sequence] = 1.\n",
        "  return results\n",
        "\n",
        "x_train = vectorize_sequences(train_data)\n",
        "x_test = vectorize_sequences(test_data)"
      ],
      "metadata": {
        "id": "UV08xuIyAADK"
      },
      "execution_count": 4,
      "outputs": []
    },
    {
      "cell_type": "code",
      "source": [
        "x_train[0]"
      ],
      "metadata": {
        "id": "pKHL7xpZcipI",
        "outputId": "5329d56c-dc0f-48e7-fa04-8fce7883d82d",
        "colab": {
          "base_uri": "https://localhost:8080/"
        }
      },
      "execution_count": 8,
      "outputs": [
        {
          "output_type": "execute_result",
          "data": {
            "text/plain": [
              "array([0., 1., 1., ..., 0., 0., 0.])"
            ]
          },
          "metadata": {},
          "execution_count": 8
        }
      ]
    },
    {
      "cell_type": "code",
      "source": [
        "x_test[0]"
      ],
      "metadata": {
        "id": "85byOfapcrgt",
        "outputId": "bddc2662-a664-4a91-e967-dea493550b34",
        "colab": {
          "base_uri": "https://localhost:8080/"
        }
      },
      "execution_count": 10,
      "outputs": [
        {
          "output_type": "execute_result",
          "data": {
            "text/plain": [
              "array([0., 1., 1., ..., 0., 0., 0.])"
            ]
          },
          "metadata": {},
          "execution_count": 10
        }
      ]
    },
    {
      "cell_type": "code",
      "source": [
        "y_train = np.asarray(train_labels).astype('float32')\n",
        "y_test = np.asarray(test_labels).astype('float32')"
      ],
      "metadata": {
        "id": "-UN0py8Yc7b9"
      },
      "execution_count": 7,
      "outputs": []
    },
    {
      "cell_type": "code",
      "source": [
        "y_train[0]"
      ],
      "metadata": {
        "id": "uBCf0ZuKdG_c",
        "outputId": "325de651-dd8a-4c5e-bebb-4555a2cb620a",
        "colab": {
          "base_uri": "https://localhost:8080/"
        }
      },
      "execution_count": 15,
      "outputs": [
        {
          "output_type": "execute_result",
          "data": {
            "text/plain": [
              "1.0"
            ]
          },
          "metadata": {},
          "execution_count": 15
        }
      ]
    },
    {
      "cell_type": "code",
      "source": [
        "y_test[0]"
      ],
      "metadata": {
        "id": "AgiklnV8dIp6",
        "outputId": "b2f83e46-38a0-4851-b320-d3d41633f2ed",
        "colab": {
          "base_uri": "https://localhost:8080/"
        }
      },
      "execution_count": 16,
      "outputs": [
        {
          "output_type": "execute_result",
          "data": {
            "text/plain": [
              "0.0"
            ]
          },
          "metadata": {},
          "execution_count": 16
        }
      ]
    },
    {
      "cell_type": "markdown",
      "source": [
        "Building our Neural Network model"
      ],
      "metadata": {
        "id": "dmqSCVyedeD3"
      }
    },
    {
      "cell_type": "code",
      "source": [
        "from keras import models\n",
        "from keras import layers\n",
        "\n",
        "model = models.Sequential()\n",
        "model.add(layers.Dense(16, activation = 'relu', input_shape = (10000,)))\n",
        "model.add(layers.Dense(16, activation = 'relu'))\n",
        "model.add(layers.Dense(1, activation = 'sigmoid'))"
      ],
      "metadata": {
        "id": "bHSmxHCqdKVU"
      },
      "execution_count": 18,
      "outputs": []
    },
    {
      "cell_type": "code",
      "source": [
        "model.compile(optimizer = 'rmsprop',\n",
        "              loss = 'binary_crossentropy',                                       # 'binary_crossentropy' since binary classification processs & sigmoid = probability\n",
        "              metrics = ['accuracy'])"
      ],
      "metadata": {
        "id": "JRnchcreeUVb"
      },
      "execution_count": 19,
      "outputs": []
    },
    {
      "cell_type": "code",
      "source": [
        "# from keras.backend import binary_crossentropy\n",
        "# ## optimizer의 매개변수를 바꿀 경우\n",
        "# optimizer = optimizers.RMSprop(lr = 0.001)\n",
        "\n",
        "# ## 자신만의 loss function, 측정 함수 전달하는 경우\n",
        "# loss = losses,binary_crossentropy,\n",
        "# metrics = [metrics.binary_accuracy]"
      ],
      "metadata": {
        "id": "Dyj4m47IfAYo"
      },
      "execution_count": null,
      "outputs": []
    },
    {
      "cell_type": "markdown",
      "source": [
        "- binary classification(이중분류) : binary_accuracy\n",
        "- multi-class binary classification(다중분류) : categorical_accuracy"
      ],
      "metadata": {
        "id": "QiodhjM8gh_3"
      }
    },
    {
      "cell_type": "markdown",
      "source": [
        "Training validation"
      ],
      "metadata": {
        "id": "9ZpcVHbZfvjU"
      }
    },
    {
      "cell_type": "code",
      "source": [
        "## Validation set\n",
        "\n",
        "x_val = x_train[:10000]\n",
        "partial_x_train = x_train[10000:]\n",
        "y_val = y_train[:10000]\n",
        "partial_y_train = y_train[10000:]"
      ],
      "metadata": {
        "id": "x8vt7loRfy10"
      },
      "execution_count": 8,
      "outputs": []
    },
    {
      "cell_type": "markdown",
      "source": [
        "Compile and fit"
      ],
      "metadata": {
        "id": "-KlHrjcQgKP0"
      }
    },
    {
      "cell_type": "code",
      "source": [
        "model.compile(optimizer = 'rmsprop',\n",
        "              loss = 'binary_crossentropy',\n",
        "              metrics = ['accuracy'])\n",
        "\n",
        "history = model.fit(partial_x_train,\n",
        "                    partial_y_train,\n",
        "                    epochs = 20,\n",
        "                    batch_size = 512,\n",
        "                    validation_data = (x_val, y_val))"
      ],
      "metadata": {
        "id": "4BP2Pf8Hf-9M",
        "outputId": "ddefe27e-97d5-465d-a03c-e76acec4a255",
        "colab": {
          "base_uri": "https://localhost:8080/"
        }
      },
      "execution_count": 22,
      "outputs": [
        {
          "output_type": "stream",
          "name": "stdout",
          "text": [
            "Epoch 1/20\n",
            "30/30 [==============================] - 2s 25ms/step - loss: 0.2003 - accuracy: 0.9277 - val_loss: 0.2726 - val_accuracy: 0.8917\n",
            "Epoch 2/20\n",
            "30/30 [==============================] - 1s 21ms/step - loss: 0.1510 - accuracy: 0.9501 - val_loss: 0.2792 - val_accuracy: 0.8879\n",
            "Epoch 3/20\n",
            "30/30 [==============================] - 1s 20ms/step - loss: 0.1258 - accuracy: 0.9595 - val_loss: 0.2886 - val_accuracy: 0.8871\n",
            "Epoch 4/20\n",
            "30/30 [==============================] - 1s 21ms/step - loss: 0.1017 - accuracy: 0.9693 - val_loss: 0.3041 - val_accuracy: 0.8855\n",
            "Epoch 5/20\n",
            "30/30 [==============================] - 1s 20ms/step - loss: 0.0852 - accuracy: 0.9756 - val_loss: 0.3282 - val_accuracy: 0.8823\n",
            "Epoch 6/20\n",
            "30/30 [==============================] - 1s 21ms/step - loss: 0.0720 - accuracy: 0.9797 - val_loss: 0.3535 - val_accuracy: 0.8786\n",
            "Epoch 7/20\n",
            "30/30 [==============================] - 1s 21ms/step - loss: 0.0586 - accuracy: 0.9849 - val_loss: 0.4033 - val_accuracy: 0.8671\n",
            "Epoch 8/20\n",
            "30/30 [==============================] - 1s 21ms/step - loss: 0.0491 - accuracy: 0.9879 - val_loss: 0.4001 - val_accuracy: 0.8766\n",
            "Epoch 9/20\n",
            "30/30 [==============================] - 1s 21ms/step - loss: 0.0390 - accuracy: 0.9910 - val_loss: 0.4476 - val_accuracy: 0.8750\n",
            "Epoch 10/20\n",
            "30/30 [==============================] - 1s 24ms/step - loss: 0.0328 - accuracy: 0.9925 - val_loss: 0.4567 - val_accuracy: 0.8741\n",
            "Epoch 11/20\n",
            "30/30 [==============================] - 1s 25ms/step - loss: 0.0259 - accuracy: 0.9948 - val_loss: 0.5161 - val_accuracy: 0.8637\n",
            "Epoch 12/20\n",
            "30/30 [==============================] - 1s 23ms/step - loss: 0.0223 - accuracy: 0.9959 - val_loss: 0.5242 - val_accuracy: 0.8708\n",
            "Epoch 13/20\n",
            "30/30 [==============================] - 1s 22ms/step - loss: 0.0181 - accuracy: 0.9969 - val_loss: 0.5842 - val_accuracy: 0.8616\n",
            "Epoch 14/20\n",
            "30/30 [==============================] - 1s 20ms/step - loss: 0.0152 - accuracy: 0.9975 - val_loss: 0.5861 - val_accuracy: 0.8674\n",
            "Epoch 15/20\n",
            "30/30 [==============================] - 1s 21ms/step - loss: 0.0087 - accuracy: 0.9997 - val_loss: 0.7190 - val_accuracy: 0.8497\n",
            "Epoch 16/20\n",
            "30/30 [==============================] - 1s 21ms/step - loss: 0.0109 - accuracy: 0.9987 - val_loss: 0.6560 - val_accuracy: 0.8655\n",
            "Epoch 17/20\n",
            "30/30 [==============================] - 1s 21ms/step - loss: 0.0069 - accuracy: 0.9995 - val_loss: 0.7071 - val_accuracy: 0.8589\n",
            "Epoch 18/20\n",
            "30/30 [==============================] - 1s 21ms/step - loss: 0.0041 - accuracy: 0.9999 - val_loss: 0.7602 - val_accuracy: 0.8610\n",
            "Epoch 19/20\n",
            "30/30 [==============================] - 1s 21ms/step - loss: 0.0074 - accuracy: 0.9986 - val_loss: 0.7623 - val_accuracy: 0.8636\n",
            "Epoch 20/20\n",
            "30/30 [==============================] - 1s 24ms/step - loss: 0.0023 - accuracy: 0.9999 - val_loss: 0.7926 - val_accuracy: 0.8623\n"
          ]
        }
      ]
    },
    {
      "cell_type": "code",
      "source": [
        "## Visualize loss\n",
        "\n",
        "import matplotlib.pyplot as plt\n",
        "\n",
        "history_dict = history.history\n",
        "loss = history_dict['loss']\n",
        "val_loss = history_dict['val_loss']\n",
        "\n",
        "epochs = range(1, len(loss) + 1)\n",
        "\n",
        "plt.plot(epochs, loss, 'bo', label = 'Training loss')\n",
        "plt.plot(epochs, val_loss, 'b', label = 'Validation loss')\n",
        "plt.title('Training and validation loss')\n",
        "plt.xlabel('Epochs')\n",
        "plt.ylabel('Loss')\n",
        "plt.legend()\n",
        "\n",
        "plt.show()"
      ],
      "metadata": {
        "id": "5Ar8zkMShON6",
        "outputId": "4ff70591-19d7-49a6-f3db-8080e8319d64",
        "colab": {
          "base_uri": "https://localhost:8080/",
          "height": 295
        }
      },
      "execution_count": 23,
      "outputs": [
        {
          "output_type": "display_data",
          "data": {
            "text/plain": [
              "<Figure size 432x288 with 1 Axes>"
            ],
            "image/png": "[encoded data removed]"
          },
          "metadata": {
            "needs_background": "light"
          }
        }
      ]
    },
    {
      "cell_type": "code",
      "source": [
        "## Visualize accuracy\n",
        "\n",
        "plt.clf()                                                                         # clear the plot\n",
        "acc = history_dict['accuracy']\n",
        "val_acc = history_dict['val_accuracy']\n",
        "\n",
        "plt.plot(epochs, acc, 'bo', label = 'Training accuracy')\n",
        "plt.plot(epochs, val_acc, 'b', label = 'Validation accuracy')\n",
        "plt.title('Training and valiation accuracy')\n",
        "plt.xlabel('epochs')\n",
        "plt.ylabel('accuracy')\n",
        "plt.legend()\n",
        "\n",
        "plt.show()"
      ],
      "metadata": {
        "id": "mWPRXMLmjhTw",
        "outputId": "645ca582-c036-4b13-b47a-9009380cd518",
        "colab": {
          "base_uri": "https://localhost:8080/",
          "height": 295
        }
      },
      "execution_count": 26,
      "outputs": [
        {
          "output_type": "display_data",
          "data": {
            "text/plain": [
              "<Figure size 432x288 with 1 Axes>"
            ],
            "image/png": "[encoded data removed]"
          },
          "metadata": {
            "needs_background": "light"
          }
        }
      ]
    },
    {
      "cell_type": "markdown",
      "source": [
        "- training loss decreases and training accuracy increases as epoch goes up.\n",
        "- poor validation loss, maybe overfitted"
      ],
      "metadata": {
        "id": "D-W5mGq8kVix"
      }
    },
    {
      "cell_type": "markdown",
      "source": [
        "train with training data (not validation set)"
      ],
      "metadata": {
        "id": "mamYBiiTnQRu"
      }
    },
    {
      "cell_type": "code",
      "source": [
        "from keras import models\n",
        "from keras import layers\n",
        "\n",
        "model = models.Sequential()\n",
        "model.add(layers.Dense(16, activation = 'relu', input_shape = (10000,)))\n",
        "model.add(layers.Dense(16, activation = 'relu'))\n",
        "model.add(layers.Dense(1, activation = 'sigmoid'))\n",
        "\n",
        "model.compile(optimizer = 'rmsprop',\n",
        "              loss = 'binary_crossentropy',\n",
        "              metrics = ['accuracy'])\n",
        "\n",
        "model.fit(x_train,\n",
        "          y_train,\n",
        "          epochs = 4,\n",
        "          batch_size = 512)\n",
        "\n",
        "results = model.evaluate(x_test, y_test)"
      ],
      "metadata": {
        "id": "WtQMP7i0kF8M",
        "outputId": "59f8ad86-b873-4d77-cae3-d41570444501",
        "colab": {
          "base_uri": "https://localhost:8080/"
        }
      },
      "execution_count": 13,
      "outputs": [
        {
          "output_type": "stream",
          "name": "stdout",
          "text": [
            "Epoch 1/4\n",
            "49/49 [==============================] - 2s 18ms/step - loss: 0.4489 - accuracy: 0.8271\n",
            "Epoch 2/4\n",
            "49/49 [==============================] - 1s 14ms/step - loss: 0.2557 - accuracy: 0.9097\n",
            "Epoch 3/4\n",
            "49/49 [==============================] - 1s 14ms/step - loss: 0.1980 - accuracy: 0.9293\n",
            "Epoch 4/4\n",
            "49/49 [==============================] - 1s 14ms/step - loss: 0.1675 - accuracy: 0.9404\n",
            "782/782 [==============================] - 3s 4ms/step - loss: 0.3063 - accuracy: 0.8789\n"
          ]
        }
      ]
    },
    {
      "cell_type": "code",
      "source": [
        "results                                                                           # (loss, accuracy)"
      ],
      "metadata": {
        "id": "gyKdFf68lpQw",
        "outputId": "68023d4b-4d9f-4a93-e528-2517e1435a15",
        "colab": {
          "base_uri": "https://localhost:8080/"
        }
      },
      "execution_count": 15,
      "outputs": [
        {
          "output_type": "execute_result",
          "data": {
            "text/plain": [
              "[0.3062753975391388, 0.8788800239562988]"
            ]
          },
          "metadata": {},
          "execution_count": 15
        }
      ]
    },
    {
      "cell_type": "markdown",
      "source": [
        "Predict"
      ],
      "metadata": {
        "id": "2TbOL7vLnHBc"
      }
    },
    {
      "cell_type": "code",
      "source": [
        "model.predict(x_test)"
      ],
      "metadata": {
        "id": "klyMx0ESmp3_",
        "outputId": "1a1c153d-d6c8-4fb4-c392-d28bd3aea9b3",
        "colab": {
          "base_uri": "https://localhost:8080/"
        }
      },
      "execution_count": 16,
      "outputs": [
        {
          "output_type": "execute_result",
          "data": {
            "text/plain": [
              "array([[0.20889874],\n",
              "       [0.9997372 ],\n",
              "       [0.73599374],\n",
              "       ...,\n",
              "       [0.08719678],\n",
              "       [0.0403223 ],\n",
              "       [0.41034093]], dtype=float32)"
            ]
          },
          "metadata": {},
          "execution_count": 16
        }
      ]
    }
  ]
}