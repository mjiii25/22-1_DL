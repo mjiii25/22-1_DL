{
  "nbformat": 4,
  "nbformat_minor": 0,
  "metadata": {
    "colab": {
      "name": "Untitled9.ipynb",
      "provenance": [],
      "authorship_tag": "ABX9TyPvd1krtS2QaMCt+FOjNI5R",
      "include_colab_link": true
    },
    "kernelspec": {
      "name": "python3",
      "display_name": "Python 3"
    },
    "language_info": {
      "name": "python"
    },
    "accelerator": "GPU"
  },
  "cells": [
    {
      "cell_type": "markdown",
      "metadata": {
        "id": "view-in-github",
        "colab_type": "text"
      },
      "source": [
        "<a href=\"https://colab.research.google.com/github/mjiii25/22-1_DLAI/blob/main/gilbut_ch4.ipynb\" target=\"_parent\"><img src=\"https://colab.research.google.com/assets/colab-badge.svg\" alt=\"Open In Colab\"/></a>"
      ]
    },
    {
      "cell_type": "markdown",
      "source": [
        "# Chapter 4"
      ],
      "metadata": {
        "id": "R2z3VnvrwfVg"
      }
    },
    {
      "cell_type": "markdown",
      "source": [
        "## Train, test and validation"
      ],
      "metadata": {
        "id": "tYc5UObowiJh"
      }
    },
    {
      "cell_type": "markdown",
      "source": [
        "Holdout validation"
      ],
      "metadata": {
        "id": "ZsaNwo2Fwof6"
      }
    },
    {
      "cell_type": "code",
      "execution_count": null,
      "metadata": {
        "id": "-KDyXHDBs-U_"
      },
      "outputs": [],
      "source": [
        "# num_validation_samples = 10000\n",
        "\n",
        "# np.random.shuffle(data)\n",
        "\n",
        "# validation_data = data[: num_validation_samples]\n",
        "# data = data[num_validation_samples :]\n",
        "\n",
        "# training_data = data[:]\n",
        "\n",
        "# model = get_model()\n",
        "# model.train(training_data)\n",
        "# validation_score = model.evaluate(validation_data)\n",
        "\n",
        "# ###################################\n",
        "# #  tuning, retrain, evaluate, ... #\n",
        "# ###################################\n",
        "\n",
        "# model = get_model()\n",
        "# model.train(np.concatenate([training_data, validation_data]))\n",
        "\n",
        "# tset_score = model.evaluate(test_data)"
      ]
    },
    {
      "cell_type": "markdown",
      "source": [
        "K-Fold cross validation"
      ],
      "metadata": {
        "id": "wcdxSJl4xoui"
      }
    },
    {
      "cell_type": "code",
      "source": [
        "k = 4\n",
        "num_validation_samples = len(data) // k\n",
        "\n",
        "np.random.shuffle(data)\n",
        "\n",
        "validation_scores = []\n",
        "for fold in range(k):\n",
        "  validation_data = data[num_validation_samples * fold : num_validation_samples * (fold + 1)]\n",
        "  training_data = data[: num_validation_samples * fold] + data[num_validation_samples * (fold + 1) :]\n",
        "\n",
        "  model = get_model()\n",
        "  model.train(training_data)\n",
        "  validation_score = model.evaluate(validation_data)\n",
        "  validation_scores.append(validation_score)\n",
        "\n",
        "\n",
        "validation_score = np.average(validation_scores)\n",
        "\n",
        "model = get_model()\n",
        "model.train(data)\n",
        "test_score = model.evaluate(test_data)"
      ],
      "metadata": {
        "id": "qzjkxV2-xrGC"
      },
      "execution_count": null,
      "outputs": []
    },
    {
      "cell_type": "markdown",
      "source": [
        "## Ways to prevent overfitting"
      ],
      "metadata": {
        "id": "nBBcu_Bu0XXV"
      }
    },
    {
      "cell_type": "code",
      "source": [
        "from keras.datasets import imdb\n",
        "\n",
        "(train_data, train_labels), (test_data, test_labels) = imdb.load_data(\n",
        "                                                        num_words = 10000)        # 10000 most frequent words"
      ],
      "metadata": {
        "colab": {
          "base_uri": "https://localhost:8080/"
        },
        "id": "RMVvEkFP0fh2",
        "outputId": "9b73c979-c654-48f9-9b5b-440119d43e82"
      },
      "execution_count": 1,
      "outputs": [
        {
          "output_type": "stream",
          "name": "stdout",
          "text": [
            "Downloading data from https://storage.googleapis.com/tensorflow/tf-keras-datasets/imdb.npz\n",
            "17465344/17464789 [==============================] - 0s 0us/step\n",
            "17473536/17464789 [==============================] - 0s 0us/step\n"
          ]
        }
      ]
    },
    {
      "cell_type": "code",
      "source": [
        "import numpy as np\n",
        "\n",
        "def vectorize_sequences(sequences, dimension = 10000):\n",
        "  results = np.zeros((len(sequences), dimension))                                 # zero matrix with size of (len(sequences), dimension)\n",
        "  for i, sequence in enumerate(sequences):\n",
        "    results[i, sequence] = 1.\n",
        "  return results\n",
        "\n",
        "x_train = vectorize_sequences(train_data)\n",
        "x_test = vectorize_sequences(test_data)"
      ],
      "metadata": {
        "id": "1PKRL3mF1qiT"
      },
      "execution_count": 6,
      "outputs": []
    },
    {
      "cell_type": "code",
      "source": [
        "y_train = np.asarray(train_labels).astype('float32')\n",
        "y_test = np.asarray(test_labels).astype('float32')"
      ],
      "metadata": {
        "id": "LxGMR03N2Bbh"
      },
      "execution_count": 7,
      "outputs": []
    },
    {
      "cell_type": "code",
      "source": [
        "## Validation set\n",
        "\n",
        "x_val = x_train[:10000]\n",
        "partial_x_train = x_train[10000:]\n",
        "y_val = y_train[:10000]\n",
        "partial_y_train = y_train[10000:]"
      ],
      "metadata": {
        "id": "uSOHN0241_fk"
      },
      "execution_count": 8,
      "outputs": []
    },
    {
      "cell_type": "markdown",
      "source": [
        "Original model"
      ],
      "metadata": {
        "id": "zdP61MY70t3y"
      }
    },
    {
      "cell_type": "code",
      "source": [
        "from keras import models\n",
        "from keras import layers\n",
        "\n",
        "model = models.Sequential()\n",
        "model.add(layers.Dense(16, activation = 'relu', input_shape= (10000,)))\n",
        "model.add(layers.Dense(16, activation = 'relu'))\n",
        "model.add(layers.Dense(1, activation = 'sigmoid'))"
      ],
      "metadata": {
        "id": "9ub29Doc0mm-"
      },
      "execution_count": 9,
      "outputs": []
    },
    {
      "cell_type": "code",
      "source": [
        "model.compile(optimizer = 'rmsprop',\n",
        "              loss = 'binary_crossentropy',\n",
        "              metrics = ['accuracy'])\n",
        "\n",
        "history = model.fit(partial_x_train,\n",
        "                    partial_y_train,\n",
        "                    epochs = 20,\n",
        "                    batch_size = 512,\n",
        "                    validation_data = (x_val, y_val))"
      ],
      "metadata": {
        "colab": {
          "base_uri": "https://localhost:8080/"
        },
        "id": "DbjON62819Ia",
        "outputId": "89c9efb4-f417-476b-90d3-9d6ea617ff5c"
      },
      "execution_count": 10,
      "outputs": [
        {
          "output_type": "stream",
          "name": "stdout",
          "text": [
            "Epoch 1/20\n",
            "30/30 [==============================] - 5s 43ms/step - loss: 0.5209 - accuracy: 0.7970 - val_loss: 0.3992 - val_accuracy: 0.8726\n",
            "Epoch 2/20\n",
            "30/30 [==============================] - 1s 21ms/step - loss: 0.3198 - accuracy: 0.9018 - val_loss: 0.3103 - val_accuracy: 0.8895\n",
            "Epoch 3/20\n",
            "30/30 [==============================] - 1s 20ms/step - loss: 0.2357 - accuracy: 0.9253 - val_loss: 0.2808 - val_accuracy: 0.8902\n",
            "Epoch 4/20\n",
            "30/30 [==============================] - 1s 21ms/step - loss: 0.1867 - accuracy: 0.9415 - val_loss: 0.2738 - val_accuracy: 0.8900\n",
            "Epoch 5/20\n",
            "30/30 [==============================] - 1s 21ms/step - loss: 0.1511 - accuracy: 0.9519 - val_loss: 0.3063 - val_accuracy: 0.8779\n",
            "Epoch 6/20\n",
            "30/30 [==============================] - 1s 21ms/step - loss: 0.1244 - accuracy: 0.9617 - val_loss: 0.2871 - val_accuracy: 0.8882\n",
            "Epoch 7/20\n",
            "30/30 [==============================] - 1s 21ms/step - loss: 0.1043 - accuracy: 0.9692 - val_loss: 0.3012 - val_accuracy: 0.8876\n",
            "Epoch 8/20\n",
            "30/30 [==============================] - 1s 24ms/step - loss: 0.0866 - accuracy: 0.9755 - val_loss: 0.3295 - val_accuracy: 0.8785\n",
            "Epoch 9/20\n",
            "30/30 [==============================] - 1s 21ms/step - loss: 0.0712 - accuracy: 0.9809 - val_loss: 0.3519 - val_accuracy: 0.8768\n",
            "Epoch 10/20\n",
            "30/30 [==============================] - 1s 25ms/step - loss: 0.0596 - accuracy: 0.9848 - val_loss: 0.4438 - val_accuracy: 0.8619\n",
            "Epoch 11/20\n",
            "30/30 [==============================] - 1s 20ms/step - loss: 0.0485 - accuracy: 0.9882 - val_loss: 0.4082 - val_accuracy: 0.8764\n",
            "Epoch 12/20\n",
            "30/30 [==============================] - 1s 20ms/step - loss: 0.0394 - accuracy: 0.9913 - val_loss: 0.4204 - val_accuracy: 0.8777\n",
            "Epoch 13/20\n",
            "30/30 [==============================] - 1s 21ms/step - loss: 0.0324 - accuracy: 0.9931 - val_loss: 0.4648 - val_accuracy: 0.8691\n",
            "Epoch 14/20\n",
            "30/30 [==============================] - 1s 20ms/step - loss: 0.0251 - accuracy: 0.9960 - val_loss: 0.4895 - val_accuracy: 0.8705\n",
            "Epoch 15/20\n",
            "30/30 [==============================] - 1s 21ms/step - loss: 0.0226 - accuracy: 0.9955 - val_loss: 0.5174 - val_accuracy: 0.8690\n",
            "Epoch 16/20\n",
            "30/30 [==============================] - 1s 21ms/step - loss: 0.0136 - accuracy: 0.9985 - val_loss: 0.5507 - val_accuracy: 0.8695\n",
            "Epoch 17/20\n",
            "30/30 [==============================] - 1s 21ms/step - loss: 0.0133 - accuracy: 0.9981 - val_loss: 0.5957 - val_accuracy: 0.8671\n",
            "Epoch 18/20\n",
            "30/30 [==============================] - 1s 21ms/step - loss: 0.0111 - accuracy: 0.9985 - val_loss: 0.6180 - val_accuracy: 0.8678\n",
            "Epoch 19/20\n",
            "30/30 [==============================] - 1s 20ms/step - loss: 0.0061 - accuracy: 0.9998 - val_loss: 0.6610 - val_accuracy: 0.8648\n",
            "Epoch 20/20\n",
            "30/30 [==============================] - 1s 20ms/step - loss: 0.0067 - accuracy: 0.9994 - val_loss: 0.6941 - val_accuracy: 0.8649\n"
          ]
        }
      ]
    },
    {
      "cell_type": "markdown",
      "source": [
        "### Reducing the size of network"
      ],
      "metadata": {
        "id": "w1BsuBO74Kt9"
      }
    },
    {
      "cell_type": "markdown",
      "source": [
        "Smaller model"
      ],
      "metadata": {
        "id": "RIKcCMK-1ET4"
      }
    },
    {
      "cell_type": "code",
      "source": [
        "model_s = models.Sequential()\n",
        "model_s.add(layers.Dense(6, activation = 'relu', input_shape= (10000,)))\n",
        "model_s.add(layers.Dense(6, activation = 'relu'))\n",
        "model_s.add(layers.Dense(1, activation = 'sigmoid'))"
      ],
      "metadata": {
        "id": "OlcEUaxa1DSO"
      },
      "execution_count": 11,
      "outputs": []
    },
    {
      "cell_type": "code",
      "source": [
        "model_s.compile(optimizer = 'rmsprop',\n",
        "              loss = 'binary_crossentropy',\n",
        "              metrics = ['accuracy'])\n",
        "\n",
        "history_s = model_s.fit(partial_x_train,\n",
        "                    partial_y_train,\n",
        "                    epochs = 20,\n",
        "                    batch_size = 512,\n",
        "                    validation_data = (x_val, y_val))"
      ],
      "metadata": {
        "colab": {
          "base_uri": "https://localhost:8080/"
        },
        "id": "54MtgFI02Wzd",
        "outputId": "34d5e72b-8185-491e-a095-b3f3f0ff108a"
      },
      "execution_count": 12,
      "outputs": [
        {
          "output_type": "stream",
          "name": "stdout",
          "text": [
            "Epoch 1/20\n",
            "30/30 [==============================] - 2s 35ms/step - loss: 0.5530 - accuracy: 0.7832 - val_loss: 0.4502 - val_accuracy: 0.8513\n",
            "Epoch 2/20\n",
            "30/30 [==============================] - 1s 21ms/step - loss: 0.3746 - accuracy: 0.8953 - val_loss: 0.3604 - val_accuracy: 0.8784\n",
            "Epoch 3/20\n",
            "30/30 [==============================] - 1s 21ms/step - loss: 0.2840 - accuracy: 0.9168 - val_loss: 0.3077 - val_accuracy: 0.8891\n",
            "Epoch 4/20\n",
            "30/30 [==============================] - 1s 25ms/step - loss: 0.2280 - accuracy: 0.9309 - val_loss: 0.2894 - val_accuracy: 0.8884\n",
            "Epoch 5/20\n",
            "30/30 [==============================] - 1s 21ms/step - loss: 0.1913 - accuracy: 0.9419 - val_loss: 0.2838 - val_accuracy: 0.8863\n",
            "Epoch 6/20\n",
            "30/30 [==============================] - 1s 21ms/step - loss: 0.1617 - accuracy: 0.9517 - val_loss: 0.2767 - val_accuracy: 0.8890\n",
            "Epoch 7/20\n",
            "30/30 [==============================] - 1s 22ms/step - loss: 0.1398 - accuracy: 0.9587 - val_loss: 0.2768 - val_accuracy: 0.8889\n",
            "Epoch 8/20\n",
            "30/30 [==============================] - 1s 26ms/step - loss: 0.1194 - accuracy: 0.9656 - val_loss: 0.2862 - val_accuracy: 0.8876\n",
            "Epoch 9/20\n",
            "30/30 [==============================] - 1s 28ms/step - loss: 0.1035 - accuracy: 0.9719 - val_loss: 0.2931 - val_accuracy: 0.8857\n",
            "Epoch 10/20\n",
            "30/30 [==============================] - 1s 25ms/step - loss: 0.0884 - accuracy: 0.9775 - val_loss: 0.3085 - val_accuracy: 0.8832\n",
            "Epoch 11/20\n",
            "30/30 [==============================] - 1s 24ms/step - loss: 0.0768 - accuracy: 0.9815 - val_loss: 0.3220 - val_accuracy: 0.8817\n",
            "Epoch 12/20\n",
            "30/30 [==============================] - 1s 26ms/step - loss: 0.0656 - accuracy: 0.9852 - val_loss: 0.3409 - val_accuracy: 0.8806\n",
            "Epoch 13/20\n",
            "30/30 [==============================] - 1s 25ms/step - loss: 0.0559 - accuracy: 0.9883 - val_loss: 0.3541 - val_accuracy: 0.8807\n",
            "Epoch 14/20\n",
            "30/30 [==============================] - 1s 24ms/step - loss: 0.0479 - accuracy: 0.9899 - val_loss: 0.3721 - val_accuracy: 0.8799\n",
            "Epoch 15/20\n",
            "30/30 [==============================] - 1s 24ms/step - loss: 0.0393 - accuracy: 0.9929 - val_loss: 0.4189 - val_accuracy: 0.8669\n",
            "Epoch 16/20\n",
            "30/30 [==============================] - 1s 23ms/step - loss: 0.0346 - accuracy: 0.9941 - val_loss: 0.4193 - val_accuracy: 0.8777\n",
            "Epoch 17/20\n",
            "30/30 [==============================] - 1s 25ms/step - loss: 0.0269 - accuracy: 0.9957 - val_loss: 0.4376 - val_accuracy: 0.8718\n",
            "Epoch 18/20\n",
            "30/30 [==============================] - 1s 24ms/step - loss: 0.0229 - accuracy: 0.9967 - val_loss: 0.4741 - val_accuracy: 0.8673\n",
            "Epoch 19/20\n",
            "30/30 [==============================] - 1s 26ms/step - loss: 0.0180 - accuracy: 0.9979 - val_loss: 0.4975 - val_accuracy: 0.8670\n",
            "Epoch 20/20\n",
            "30/30 [==============================] - 1s 24ms/step - loss: 0.0143 - accuracy: 0.9987 - val_loss: 0.5201 - val_accuracy: 0.8712\n"
          ]
        }
      ]
    },
    {
      "cell_type": "code",
      "source": [
        "## Loss of original model vs smaller model\n",
        "\n",
        "import matplotlib.pyplot as plt\n",
        "\n",
        "history_dict = history.history\n",
        "history_dict_s = history_s.history\n",
        "\n",
        "val_loss = history_dict['val_loss']\n",
        "val_loss_s = history_dict_s['val_loss']\n",
        "\n",
        "epochs = range(1, len(val_loss) + 1)\n",
        "\n",
        "plt.plot(epochs, val_loss, 'bo', label = 'Original model')\n",
        "plt.plot(epochs, val_loss_s, 'b+', label = 'Smaller model')\n",
        "plt.title('Validation loss of original and smaller model')\n",
        "plt.ylim(0,1)\n",
        "plt.xlabel('Epochs')\n",
        "plt.ylabel('Loss')\n",
        "plt.legend()\n",
        "\n",
        "plt.show()"
      ],
      "metadata": {
        "colab": {
          "base_uri": "https://localhost:8080/",
          "height": 295
        },
        "id": "lY5D0cMy1MQJ",
        "outputId": "7d8f50a6-2d89-4291-ef29-4576ec735175"
      },
      "execution_count": 19,
      "outputs": [
        {
          "output_type": "display_data",
          "data": {
            "text/plain": [
              "<Figure size 432x288 with 1 Axes>"
            ],
            "image/png": "[encoded data removed]"
          },
          "metadata": {
            "needs_background": "light"
          }
        }
      ]
    },
    {
      "cell_type": "markdown",
      "source": [
        "Smaller model이 더 나중에 과대적합됟다. ==> good"
      ],
      "metadata": {
        "id": "tEXUnm3A2_eu"
      }
    },
    {
      "cell_type": "markdown",
      "source": [
        "Bigger model"
      ],
      "metadata": {
        "id": "oRVKnDJM3KWg"
      }
    },
    {
      "cell_type": "code",
      "source": [
        "model_b = models.Sequential()\n",
        "model_b.add(layers.Dense(1024, activation = 'relu', input_shape= (10000,)))\n",
        "model_b.add(layers.Dense(1024, activation = 'relu'))\n",
        "model_b.add(layers.Dense(1, activation = 'sigmoid'))"
      ],
      "metadata": {
        "id": "fbTi0v7q22u3"
      },
      "execution_count": 15,
      "outputs": []
    },
    {
      "cell_type": "code",
      "source": [
        "model_b.compile(optimizer = 'rmsprop',\n",
        "              loss = 'binary_crossentropy',\n",
        "              metrics = ['accuracy'])\n",
        "\n",
        "history_b = model_s.fit(partial_x_train,\n",
        "                    partial_y_train,\n",
        "                    epochs = 20,\n",
        "                    batch_size = 512,\n",
        "                    validation_data = (x_val, y_val))"
      ],
      "metadata": {
        "colab": {
          "base_uri": "https://localhost:8080/"
        },
        "id": "krChXnU83SoC",
        "outputId": "d5b58fed-18e7-4839-db43-357257c15ff3"
      },
      "execution_count": 16,
      "outputs": [
        {
          "output_type": "stream",
          "name": "stdout",
          "text": [
            "Epoch 1/20\n",
            "30/30 [==============================] - 1s 45ms/step - loss: 0.0115 - accuracy: 0.9991 - val_loss: 0.5677 - val_accuracy: 0.8681\n",
            "Epoch 2/20\n",
            "30/30 [==============================] - 1s 21ms/step - loss: 0.0089 - accuracy: 0.9994 - val_loss: 0.5875 - val_accuracy: 0.8691\n",
            "Epoch 3/20\n",
            "30/30 [==============================] - 1s 21ms/step - loss: 0.0069 - accuracy: 0.9997 - val_loss: 0.6282 - val_accuracy: 0.8677\n",
            "Epoch 4/20\n",
            "30/30 [==============================] - 1s 21ms/step - loss: 0.0052 - accuracy: 0.9997 - val_loss: 0.6505 - val_accuracy: 0.8686\n",
            "Epoch 5/20\n",
            "30/30 [==============================] - 1s 21ms/step - loss: 0.0042 - accuracy: 0.9997 - val_loss: 0.6966 - val_accuracy: 0.8668\n",
            "Epoch 6/20\n",
            "30/30 [==============================] - 1s 22ms/step - loss: 0.0030 - accuracy: 0.9999 - val_loss: 0.7280 - val_accuracy: 0.8656\n",
            "Epoch 7/20\n",
            "30/30 [==============================] - 1s 21ms/step - loss: 0.0025 - accuracy: 0.9999 - val_loss: 0.7518 - val_accuracy: 0.8641\n",
            "Epoch 8/20\n",
            "30/30 [==============================] - 1s 25ms/step - loss: 0.0016 - accuracy: 0.9999 - val_loss: 0.7923 - val_accuracy: 0.8629\n",
            "Epoch 9/20\n",
            "30/30 [==============================] - 1s 22ms/step - loss: 0.0014 - accuracy: 0.9999 - val_loss: 0.8273 - val_accuracy: 0.8619\n",
            "Epoch 10/20\n",
            "30/30 [==============================] - 1s 21ms/step - loss: 0.0010 - accuracy: 1.0000 - val_loss: 0.8837 - val_accuracy: 0.8617\n",
            "Epoch 11/20\n",
            "30/30 [==============================] - 1s 21ms/step - loss: 7.0897e-04 - accuracy: 1.0000 - val_loss: 0.9577 - val_accuracy: 0.8619\n",
            "Epoch 12/20\n",
            "30/30 [==============================] - 1s 21ms/step - loss: 6.5867e-04 - accuracy: 1.0000 - val_loss: 0.9749 - val_accuracy: 0.8635\n",
            "Epoch 13/20\n",
            "30/30 [==============================] - 1s 21ms/step - loss: 3.5830e-04 - accuracy: 1.0000 - val_loss: 0.9838 - val_accuracy: 0.8593\n",
            "Epoch 14/20\n",
            "30/30 [==============================] - 1s 21ms/step - loss: 2.8657e-04 - accuracy: 1.0000 - val_loss: 1.0202 - val_accuracy: 0.8609\n",
            "Epoch 15/20\n",
            "30/30 [==============================] - 1s 21ms/step - loss: 2.6610e-04 - accuracy: 1.0000 - val_loss: 1.0632 - val_accuracy: 0.8601\n",
            "Epoch 16/20\n",
            "30/30 [==============================] - 1s 21ms/step - loss: 2.1694e-04 - accuracy: 1.0000 - val_loss: 1.1335 - val_accuracy: 0.8546\n",
            "Epoch 17/20\n",
            "30/30 [==============================] - 1s 22ms/step - loss: 1.2736e-04 - accuracy: 1.0000 - val_loss: 1.1263 - val_accuracy: 0.8612\n",
            "Epoch 18/20\n",
            "30/30 [==============================] - 1s 21ms/step - loss: 9.4924e-05 - accuracy: 1.0000 - val_loss: 1.1624 - val_accuracy: 0.8606\n",
            "Epoch 19/20\n",
            "30/30 [==============================] - 1s 22ms/step - loss: 1.1948e-04 - accuracy: 1.0000 - val_loss: 1.1981 - val_accuracy: 0.8609\n",
            "Epoch 20/20\n",
            "30/30 [==============================] - 1s 21ms/step - loss: 5.3001e-05 - accuracy: 1.0000 - val_loss: 1.2324 - val_accuracy: 0.8601\n"
          ]
        }
      ]
    },
    {
      "cell_type": "code",
      "source": [
        "## Loss of original model vs bigger model\n",
        "\n",
        "import matplotlib.pyplot as plt\n",
        "\n",
        "history_dict = history.history\n",
        "history_dict_b = history_b.history\n",
        "\n",
        "val_loss = history_dict['val_loss']\n",
        "val_loss_b = history_dict_b['val_loss']\n",
        "\n",
        "epochs = range(1, len(val_loss) + 1)\n",
        "\n",
        "plt.plot(epochs, val_loss, 'bo', label = 'Original model')\n",
        "plt.plot(epochs, val_loss_b, 'b+', label = 'Bigger model')\n",
        "plt.title('Validation loss of original and bigger model')\n",
        "plt.ylim(0,2)\n",
        "plt.xlabel('Epochs')\n",
        "plt.ylabel('Loss')\n",
        "plt.legend()\n",
        "\n",
        "plt.show()"
      ],
      "metadata": {
        "colab": {
          "base_uri": "https://localhost:8080/",
          "height": 295
        },
        "id": "qnia2DcM3WZi",
        "outputId": "414866f7-0ee0-4ba0-e882-6cd6f9afd89a"
      },
      "execution_count": 18,
      "outputs": [
        {
          "output_type": "display_data",
          "data": {
            "text/plain": [
              "<Figure size 432x288 with 1 Axes>"
            ],
            "image/png": "[encoded data removed]"
          },
          "metadata": {
            "needs_background": "light"
          }
        }
      ]
    },
    {
      "cell_type": "markdown",
      "source": [
        "Bigger model은 처음부터 과대적합 시작됨 ==> bad"
      ],
      "metadata": {
        "id": "gA2Pz8RH4YaN"
      }
    },
    {
      "cell_type": "markdown",
      "source": [
        "### Adding weight regularization"
      ],
      "metadata": {
        "id": "aNB8wpNw4d53"
      }
    },
    {
      "cell_type": "markdown",
      "source": [
        "L2 weight regularization"
      ],
      "metadata": {
        "id": "2OYEWDrG4p_W"
      }
    },
    {
      "cell_type": "code",
      "source": [
        "# movie review data\n",
        "\n",
        "from keras import regularizers\n",
        "\n",
        "model_l2 = models. Sequential()\n",
        "model_l2.add(layers.Dense(16, kernel_regularizer = regularizers.l2(0.001),           # l2(0.001) = 가중치 행렬의 모든 원소를 제곱하고 0.001을 곱해 네트워크의 전체 손실에 더해짐.\n",
        "                       activation = 'relu', input_shape = (10000,)))\n",
        "model_l2.add(layers.Dense(16, kernel_regularizer = regularizers.l2(0.001),\n",
        "                       activation = 'relu'))\n",
        "model_l2.add(layers.Dense(1, activation = 'sigmoid'))"
      ],
      "metadata": {
        "id": "eD2H4n4O3eAM"
      },
      "execution_count": 23,
      "outputs": []
    },
    {
      "cell_type": "code",
      "source": [
        "model_l2.compile(optimizer = 'rmsprop',\n",
        "                 loss = 'binary_crossentropy',\n",
        "                 metrics = ['accuracy'])\n",
        "\n",
        "history_l2 = model_l2.fit(partial_x_train,\n",
        "                    partial_y_train,\n",
        "                    epochs = 20,\n",
        "                    batch_size = 512,\n",
        "                    validation_data = (x_val, y_val))"
      ],
      "metadata": {
        "colab": {
          "base_uri": "https://localhost:8080/"
        },
        "id": "GB9-npbC5rel",
        "outputId": "d247b659-05ef-46ed-b63e-bc98f578687f"
      },
      "execution_count": 24,
      "outputs": [
        {
          "output_type": "stream",
          "name": "stdout",
          "text": [
            "Epoch 1/20\n",
            "30/30 [==============================] - 2s 36ms/step - loss: 0.5803 - accuracy: 0.7899 - val_loss: 0.4650 - val_accuracy: 0.8662\n",
            "Epoch 2/20\n",
            "30/30 [==============================] - 1s 21ms/step - loss: 0.3945 - accuracy: 0.8900 - val_loss: 0.3850 - val_accuracy: 0.8774\n",
            "Epoch 3/20\n",
            "30/30 [==============================] - 1s 21ms/step - loss: 0.3199 - accuracy: 0.9133 - val_loss: 0.3595 - val_accuracy: 0.8798\n",
            "Epoch 4/20\n",
            "30/30 [==============================] - 1s 20ms/step - loss: 0.2786 - accuracy: 0.9247 - val_loss: 0.3358 - val_accuracy: 0.8860\n",
            "Epoch 5/20\n",
            "30/30 [==============================] - 1s 21ms/step - loss: 0.2532 - accuracy: 0.9329 - val_loss: 0.3342 - val_accuracy: 0.8883\n",
            "Epoch 6/20\n",
            "30/30 [==============================] - 1s 24ms/step - loss: 0.2359 - accuracy: 0.9393 - val_loss: 0.3341 - val_accuracy: 0.8860\n",
            "Epoch 7/20\n",
            "30/30 [==============================] - 1s 22ms/step - loss: 0.2241 - accuracy: 0.9449 - val_loss: 0.3417 - val_accuracy: 0.8834\n",
            "Epoch 8/20\n",
            "30/30 [==============================] - 1s 26ms/step - loss: 0.2093 - accuracy: 0.9523 - val_loss: 0.3511 - val_accuracy: 0.8837\n",
            "Epoch 9/20\n",
            "30/30 [==============================] - 1s 26ms/step - loss: 0.2034 - accuracy: 0.9535 - val_loss: 0.3569 - val_accuracy: 0.8837\n",
            "Epoch 10/20\n",
            "30/30 [==============================] - 1s 28ms/step - loss: 0.1979 - accuracy: 0.9550 - val_loss: 0.3584 - val_accuracy: 0.8834\n",
            "Epoch 11/20\n",
            "30/30 [==============================] - 1s 21ms/step - loss: 0.1883 - accuracy: 0.9595 - val_loss: 0.3634 - val_accuracy: 0.8807\n",
            "Epoch 12/20\n",
            "30/30 [==============================] - 1s 21ms/step - loss: 0.1858 - accuracy: 0.9611 - val_loss: 0.4140 - val_accuracy: 0.8650\n",
            "Epoch 13/20\n",
            "30/30 [==============================] - 1s 21ms/step - loss: 0.1811 - accuracy: 0.9613 - val_loss: 0.3774 - val_accuracy: 0.8786\n",
            "Epoch 14/20\n",
            "30/30 [==============================] - 1s 21ms/step - loss: 0.1769 - accuracy: 0.9622 - val_loss: 0.3986 - val_accuracy: 0.8759\n",
            "Epoch 15/20\n",
            "30/30 [==============================] - 1s 21ms/step - loss: 0.1686 - accuracy: 0.9675 - val_loss: 0.4020 - val_accuracy: 0.8768\n",
            "Epoch 16/20\n",
            "30/30 [==============================] - 1s 22ms/step - loss: 0.1697 - accuracy: 0.9663 - val_loss: 0.4173 - val_accuracy: 0.8739\n",
            "Epoch 17/20\n",
            "30/30 [==============================] - 1s 25ms/step - loss: 0.1691 - accuracy: 0.9653 - val_loss: 0.4080 - val_accuracy: 0.8758\n",
            "Epoch 18/20\n",
            "30/30 [==============================] - 1s 27ms/step - loss: 0.1688 - accuracy: 0.9666 - val_loss: 0.4116 - val_accuracy: 0.8740\n",
            "Epoch 19/20\n",
            "30/30 [==============================] - 1s 20ms/step - loss: 0.1583 - accuracy: 0.9711 - val_loss: 0.4160 - val_accuracy: 0.8730\n",
            "Epoch 20/20\n",
            "30/30 [==============================] - 1s 20ms/step - loss: 0.1575 - accuracy: 0.9709 - val_loss: 0.4240 - val_accuracy: 0.8717\n"
          ]
        }
      ]
    },
    {
      "cell_type": "code",
      "source": [
        "## Loss of original model vs L2 regularization model\n",
        "\n",
        "import matplotlib.pyplot as plt\n",
        "\n",
        "history_dict = history.history\n",
        "history_dict_l2 = history_l2.history\n",
        "\n",
        "val_loss = history_dict['val_loss']\n",
        "val_loss_l2 = history_dict_l2['val_loss']\n",
        "\n",
        "epochs = range(1, len(val_loss) + 1)\n",
        "\n",
        "plt.plot(epochs, val_loss, 'bo', label = 'Original model')\n",
        "plt.plot(epochs, val_loss_l2, 'b+', label = 'L2 regularization model')\n",
        "plt.title('Validation loss of original and L2 regularization model')\n",
        "# plt.ylim(0,2)\n",
        "plt.xlabel('Epochs')\n",
        "plt.ylabel('Loss')\n",
        "plt.legend()\n",
        "\n",
        "plt.show()"
      ],
      "metadata": {
        "colab": {
          "base_uri": "https://localhost:8080/",
          "height": 295
        },
        "id": "mFCAd7hI6DEh",
        "outputId": "7f864a7c-b8c2-4a4b-84bd-422e9709ca57"
      },
      "execution_count": 26,
      "outputs": [
        {
          "output_type": "display_data",
          "data": {
            "text/plain": [
              "<Figure size 432x288 with 1 Axes>"
            ],
            "image/png": "[encoded data removed]"
          },
          "metadata": {
            "needs_background": "light"
          }
        }
      ]
    },
    {
      "cell_type": "code",
      "source": [
        "# ## another weight regularization\n",
        "\n",
        "# from keras import regularizers\n",
        "\n",
        "# regularizers.l1(0.001)\n",
        "# regularizers.l1_l2(l1 = 0.001, l2 = 0.001)"
      ],
      "metadata": {
        "id": "AwYmIWoH6oQV"
      },
      "execution_count": 27,
      "outputs": []
    },
    {
      "cell_type": "markdown",
      "source": [
        "### Adding dropout"
      ],
      "metadata": {
        "id": "PM0MmlXa62GI"
      }
    },
    {
      "cell_type": "code",
      "source": [
        "from keras.datasets import imdb\n",
        "\n",
        "(train_data, train_labels), (test_data, test_labels) = imdb.load_data(num_words = 10000)"
      ],
      "metadata": {
        "id": "jH84aWCy60Oh"
      },
      "execution_count": 29,
      "outputs": []
    },
    {
      "cell_type": "code",
      "source": [
        "import numpy as np\n",
        "\n",
        "def vectorize_sequences(sequences, dimension = 10000):\n",
        "  results = np.zeros((len(sequences), dimension))                                 # zero matrix with size of (len(sequences), dimension)\n",
        "  for i, sequence in enumerate(sequences):\n",
        "    results[i, sequence] = 1.\n",
        "  return results\n",
        "\n",
        "x_train = vectorize_sequences(train_data)\n",
        "x_test = vectorize_sequences(test_data)"
      ],
      "metadata": {
        "id": "kPEmZCd87X4z"
      },
      "execution_count": 30,
      "outputs": []
    },
    {
      "cell_type": "code",
      "source": [
        "y_train = np.asarray(train_labels).astype('float32')\n",
        "y_test = np.asarray(test_labels).astype('float32')"
      ],
      "metadata": {
        "id": "_RdStJuh7fpl"
      },
      "execution_count": 31,
      "outputs": []
    },
    {
      "cell_type": "code",
      "source": [
        "## Validation set\n",
        "\n",
        "x_val = x_train[:10000]\n",
        "partial_x_train = x_train[10000:]\n",
        "y_val = y_train[:10000]\n",
        "partial_y_train = y_train[10000:]"
      ],
      "metadata": {
        "id": "30GWoMyH7ihw"
      },
      "execution_count": 32,
      "outputs": []
    },
    {
      "cell_type": "markdown",
      "source": [
        "Original model"
      ],
      "metadata": {
        "id": "GPiZET_r75OK"
      }
    },
    {
      "cell_type": "code",
      "source": [
        "model = models.Sequential()\n",
        "model.add(layers.Dense(16, activation = 'relu', input_shape = (10000,)))\n",
        "model.add(layers.Dense(16, activation = 'relu'))\n",
        "model.add(layers.Dense(1, activation = 'sigmoid'))"
      ],
      "metadata": {
        "id": "L1f3DCJz7fmy"
      },
      "execution_count": 35,
      "outputs": []
    },
    {
      "cell_type": "code",
      "source": [
        "model.compile(optimizer = 'rmsprop',\n",
        "              loss = 'binary_crossentropy',\n",
        "              metrics = ['accuracy'])\n",
        "\n",
        "history = model.fit(partial_x_train,\n",
        "                    partial_y_train,\n",
        "                    epochs = 20,\n",
        "                    batch_size = 512,\n",
        "                    validation_data = (x_val, y_val))"
      ],
      "metadata": {
        "colab": {
          "base_uri": "https://localhost:8080/"
        },
        "id": "kMaQQ7xP8d6t",
        "outputId": "f4966c64-ee37-4a2b-8837-1a80f3975414"
      },
      "execution_count": 37,
      "outputs": [
        {
          "output_type": "stream",
          "name": "stdout",
          "text": [
            "Epoch 1/20\n",
            "30/30 [==============================] - 3s 66ms/step - loss: 0.5246 - accuracy: 0.7884 - val_loss: 0.4111 - val_accuracy: 0.8614\n",
            "Epoch 2/20\n",
            "30/30 [==============================] - 1s 27ms/step - loss: 0.3229 - accuracy: 0.9009 - val_loss: 0.3150 - val_accuracy: 0.8896\n",
            "Epoch 3/20\n",
            "30/30 [==============================] - 1s 21ms/step - loss: 0.2396 - accuracy: 0.9233 - val_loss: 0.2837 - val_accuracy: 0.8901\n",
            "Epoch 4/20\n",
            "30/30 [==============================] - 1s 22ms/step - loss: 0.1903 - accuracy: 0.9390 - val_loss: 0.2761 - val_accuracy: 0.8889\n",
            "Epoch 5/20\n",
            "30/30 [==============================] - 1s 21ms/step - loss: 0.1522 - accuracy: 0.9529 - val_loss: 0.2938 - val_accuracy: 0.8825\n",
            "Epoch 6/20\n",
            "30/30 [==============================] - 1s 22ms/step - loss: 0.1263 - accuracy: 0.9609 - val_loss: 0.2871 - val_accuracy: 0.8860\n",
            "Epoch 7/20\n",
            "30/30 [==============================] - 1s 24ms/step - loss: 0.1048 - accuracy: 0.9687 - val_loss: 0.2976 - val_accuracy: 0.8852\n",
            "Epoch 8/20\n",
            "30/30 [==============================] - 1s 26ms/step - loss: 0.0843 - accuracy: 0.9767 - val_loss: 0.3272 - val_accuracy: 0.8783\n",
            "Epoch 9/20\n",
            "30/30 [==============================] - 1s 28ms/step - loss: 0.0696 - accuracy: 0.9823 - val_loss: 0.3370 - val_accuracy: 0.8807\n",
            "Epoch 10/20\n",
            "30/30 [==============================] - 1s 25ms/step - loss: 0.0552 - accuracy: 0.9866 - val_loss: 0.3667 - val_accuracy: 0.8805\n",
            "Epoch 11/20\n",
            "30/30 [==============================] - 1s 30ms/step - loss: 0.0464 - accuracy: 0.9899 - val_loss: 0.3847 - val_accuracy: 0.8770\n",
            "Epoch 12/20\n",
            "30/30 [==============================] - 1s 34ms/step - loss: 0.0370 - accuracy: 0.9917 - val_loss: 0.4192 - val_accuracy: 0.8724\n",
            "Epoch 13/20\n",
            "30/30 [==============================] - 1s 34ms/step - loss: 0.0282 - accuracy: 0.9947 - val_loss: 0.4398 - val_accuracy: 0.8737\n",
            "Epoch 14/20\n",
            "30/30 [==============================] - 1s 29ms/step - loss: 0.0195 - accuracy: 0.9972 - val_loss: 0.5441 - val_accuracy: 0.8634\n",
            "Epoch 15/20\n",
            "30/30 [==============================] - 1s 31ms/step - loss: 0.0156 - accuracy: 0.9987 - val_loss: 0.5151 - val_accuracy: 0.8673\n",
            "Epoch 16/20\n",
            "30/30 [==============================] - 1s 34ms/step - loss: 0.0122 - accuracy: 0.9991 - val_loss: 0.5335 - val_accuracy: 0.8720\n",
            "Epoch 17/20\n",
            "30/30 [==============================] - 1s 28ms/step - loss: 0.0103 - accuracy: 0.9987 - val_loss: 0.5737 - val_accuracy: 0.8683\n",
            "Epoch 18/20\n",
            "30/30 [==============================] - 1s 21ms/step - loss: 0.0097 - accuracy: 0.9981 - val_loss: 0.5921 - val_accuracy: 0.8687\n",
            "Epoch 19/20\n",
            "30/30 [==============================] - 1s 25ms/step - loss: 0.0040 - accuracy: 0.9999 - val_loss: 0.6290 - val_accuracy: 0.8679\n",
            "Epoch 20/20\n",
            "30/30 [==============================] - 1s 21ms/step - loss: 0.0056 - accuracy: 0.9990 - val_loss: 0.6524 - val_accuracy: 0.8688\n"
          ]
        }
      ]
    },
    {
      "cell_type": "markdown",
      "source": [
        "dropout model"
      ],
      "metadata": {
        "id": "N7HYrIG9778a"
      }
    },
    {
      "cell_type": "code",
      "source": [
        "model_dr = models.Sequential()\n",
        "model_dr.add(layers.Dense(16, activation = 'relu', input_shape = (10000,)))\n",
        "model_dr.add(layers.Dropout(0.5))\n",
        "model_dr.add(layers.Dense(16, activation = 'relu'))\n",
        "model_dr.add(layers.Dropout(0.5))\n",
        "model_dr.add(layers.Dense(1, activation = 'sigmoid'))"
      ],
      "metadata": {
        "id": "lrzp_fHU7fko"
      },
      "execution_count": 36,
      "outputs": []
    },
    {
      "cell_type": "code",
      "source": [
        "model_dr.compile(optimizer = 'rmsprop',\n",
        "              loss = 'binary_crossentropy',\n",
        "              metrics = ['accuracy'])\n",
        "\n",
        "history_dr = model_dr.fit(partial_x_train,\n",
        "                          partial_y_train,\n",
        "                          epochs = 20,\n",
        "                          batch_size = 512,\n",
        "                          validation_data = (x_val, y_val))"
      ],
      "metadata": {
        "colab": {
          "base_uri": "https://localhost:8080/"
        },
        "id": "XNGFZ0gy7fiq",
        "outputId": "3fd12736-d26a-4aeb-e162-931065974c24"
      },
      "execution_count": 38,
      "outputs": [
        {
          "output_type": "stream",
          "name": "stdout",
          "text": [
            "Epoch 1/20\n",
            "30/30 [==============================] - 2s 38ms/step - loss: 0.6108 - accuracy: 0.6615 - val_loss: 0.4752 - val_accuracy: 0.8555\n",
            "Epoch 2/20\n",
            "30/30 [==============================] - 1s 22ms/step - loss: 0.4830 - accuracy: 0.7925 - val_loss: 0.3918 - val_accuracy: 0.8766\n",
            "Epoch 3/20\n",
            "30/30 [==============================] - 1s 22ms/step - loss: 0.3991 - accuracy: 0.8423 - val_loss: 0.3169 - val_accuracy: 0.8831\n",
            "Epoch 4/20\n",
            "30/30 [==============================] - 1s 25ms/step - loss: 0.3441 - accuracy: 0.8699 - val_loss: 0.2944 - val_accuracy: 0.8824\n",
            "Epoch 5/20\n",
            "30/30 [==============================] - 1s 22ms/step - loss: 0.2955 - accuracy: 0.8894 - val_loss: 0.2810 - val_accuracy: 0.8900\n",
            "Epoch 6/20\n",
            "30/30 [==============================] - 1s 22ms/step - loss: 0.2611 - accuracy: 0.9106 - val_loss: 0.2701 - val_accuracy: 0.8929\n",
            "Epoch 7/20\n",
            "30/30 [==============================] - 1s 21ms/step - loss: 0.2317 - accuracy: 0.9205 - val_loss: 0.2739 - val_accuracy: 0.8921\n",
            "Epoch 8/20\n",
            "30/30 [==============================] - 1s 23ms/step - loss: 0.2004 - accuracy: 0.9319 - val_loss: 0.2861 - val_accuracy: 0.8915\n",
            "Epoch 9/20\n",
            "30/30 [==============================] - 1s 22ms/step - loss: 0.1760 - accuracy: 0.9415 - val_loss: 0.2987 - val_accuracy: 0.8911\n",
            "Epoch 10/20\n",
            "30/30 [==============================] - 1s 22ms/step - loss: 0.1591 - accuracy: 0.9471 - val_loss: 0.3118 - val_accuracy: 0.8926\n",
            "Epoch 11/20\n",
            "30/30 [==============================] - 1s 22ms/step - loss: 0.1413 - accuracy: 0.9522 - val_loss: 0.3528 - val_accuracy: 0.8877\n",
            "Epoch 12/20\n",
            "30/30 [==============================] - 1s 25ms/step - loss: 0.1231 - accuracy: 0.9559 - val_loss: 0.3626 - val_accuracy: 0.8888\n",
            "Epoch 13/20\n",
            "30/30 [==============================] - 1s 22ms/step - loss: 0.1178 - accuracy: 0.9593 - val_loss: 0.3865 - val_accuracy: 0.8898\n",
            "Epoch 14/20\n",
            "30/30 [==============================] - 1s 22ms/step - loss: 0.1108 - accuracy: 0.9629 - val_loss: 0.4264 - val_accuracy: 0.8877\n",
            "Epoch 15/20\n",
            "30/30 [==============================] - 1s 22ms/step - loss: 0.0998 - accuracy: 0.9651 - val_loss: 0.4412 - val_accuracy: 0.8842\n",
            "Epoch 16/20\n",
            "30/30 [==============================] - 1s 30ms/step - loss: 0.0891 - accuracy: 0.9673 - val_loss: 0.4678 - val_accuracy: 0.8894\n",
            "Epoch 17/20\n",
            "30/30 [==============================] - 1s 26ms/step - loss: 0.0868 - accuracy: 0.9706 - val_loss: 0.4675 - val_accuracy: 0.8852\n",
            "Epoch 18/20\n",
            "30/30 [==============================] - 1s 22ms/step - loss: 0.0861 - accuracy: 0.9697 - val_loss: 0.5007 - val_accuracy: 0.8875\n",
            "Epoch 19/20\n",
            "30/30 [==============================] - 1s 21ms/step - loss: 0.0770 - accuracy: 0.9706 - val_loss: 0.5299 - val_accuracy: 0.8859\n",
            "Epoch 20/20\n",
            "30/30 [==============================] - 1s 25ms/step - loss: 0.0724 - accuracy: 0.9722 - val_loss: 0.5479 - val_accuracy: 0.8844\n"
          ]
        }
      ]
    },
    {
      "cell_type": "code",
      "source": [
        "## Loss of original model vs dropout model\n",
        "\n",
        "import matplotlib.pyplot as plt\n",
        "\n",
        "history_dict = history.history\n",
        "history_dict_dr = history_dr.history\n",
        "\n",
        "val_loss = history_dict['val_loss']\n",
        "val_loss_dr = history_dict_dr['val_loss']\n",
        "\n",
        "epochs = range(1, len(val_loss) + 1)\n",
        "\n",
        "plt.plot(epochs, val_loss, 'bo', label = 'Original model')\n",
        "plt.plot(epochs, val_loss_dr, 'b+', label = 'Dropout model')\n",
        "plt.title('Validation loss of original and dropout model')\n",
        "# plt.ylim(0,2)\n",
        "plt.xlabel('Epochs')\n",
        "plt.ylabel('Loss')\n",
        "plt.legend()\n",
        "\n",
        "plt.show()"
      ],
      "metadata": {
        "colab": {
          "base_uri": "https://localhost:8080/",
          "height": 295
        },
        "id": "LeRSeR9H7ffU",
        "outputId": "e92fb2a4-5099-4e9a-acd0-2266a4da378d"
      },
      "execution_count": 39,
      "outputs": [
        {
          "output_type": "display_data",
          "data": {
            "text/plain": [
              "<Figure size 432x288 with 1 Axes>"
            ],
            "image/png": "[encoded data removed]"
          },
          "metadata": {
            "needs_background": "light"
          }
        }
      ]
    },
    {
      "cell_type": "code",
      "source": [
        ""
      ],
      "metadata": {
        "id": "Ih7d_t_o7fbu"
      },
      "execution_count": null,
      "outputs": []
    },
    {
      "cell_type": "code",
      "source": [
        ""
      ],
      "metadata": {
        "id": "Er0OqTai7fZn"
      },
      "execution_count": null,
      "outputs": []
    },
    {
      "cell_type": "code",
      "source": [
        ""
      ],
      "metadata": {
        "id": "OJZGu7AE7fRg"
      },
      "execution_count": null,
      "outputs": []
    }
  ]
}