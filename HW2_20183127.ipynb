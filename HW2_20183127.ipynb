{
  "nbformat": 4,
  "nbformat_minor": 0,
  "metadata": {
    "colab": {
      "name": "HW2.ipynb",
      "provenance": [],
      "collapsed_sections": [],
      "include_colab_link": true
    },
    "kernelspec": {
      "name": "python3",
      "display_name": "Python 3"
    },
    "language_info": {
      "name": "python"
    },
    "accelerator": "GPU"
  },
  "cells": [
    {
      "cell_type": "markdown",
      "metadata": {
        "id": "view-in-github",
        "colab_type": "text"
      },
      "source": [
        "<a href=\"https://colab.research.google.com/github/mjiii25/22-1_DLAI/blob/main/HW2_20183127.ipynb\" target=\"_parent\"><img src=\"https://colab.research.google.com/assets/colab-badge.svg\" alt=\"Open In Colab\"/></a>"
      ]
    },
    {
      "cell_type": "markdown",
      "source": [
        "## HW 2\n",
        "Answer folloing questions \n",
        "\n"
      ],
      "metadata": {
        "id": "OwBySVVU5h6M"
      }
    },
    {
      "cell_type": "code",
      "execution_count": null,
      "metadata": {
        "id": "aZSgHuiR5W1k"
      },
      "outputs": [],
      "source": [
        ""
      ]
    },
    {
      "cell_type": "markdown",
      "source": [
        "### Below is one of the example code for binary-class classification problem on IMDB dataset"
      ],
      "metadata": {
        "id": "qEqK8L1k6PSd"
      }
    },
    {
      "cell_type": "code",
      "source": [
        "from tensorflow.keras.datasets import imdb\n",
        "(train_data, train_labels), (test_data, test_labels) = imdb.load_data(\n",
        "    num_words=10000)"
      ],
      "metadata": {
        "id": "WKvVq8pQ6YNt",
        "outputId": "5ff58b99-5085-40bd-99fe-3f677d60a633",
        "colab": {
          "base_uri": "https://localhost:8080/"
        }
      },
      "execution_count": 3,
      "outputs": [
        {
          "output_type": "stream",
          "name": "stdout",
          "text": [
            "Downloading data from https://storage.googleapis.com/tensorflow/tf-keras-datasets/imdb.npz\n",
            "17465344/17464789 [==============================] - 1s 0us/step\n",
            "17473536/17464789 [==============================] - 1s 0us/step\n"
          ]
        }
      ]
    },
    {
      "cell_type": "code",
      "source": [
        "import numpy as np\n",
        "def vectorize_sequences(sequences, dimension=10000):\n",
        "    results = np.zeros((len(sequences), dimension))\n",
        "    for i, sequence in enumerate(sequences):\n",
        "        for j in sequence:\n",
        "            results[i, j] = 1.\n",
        "    return results\n",
        "x_train = vectorize_sequences(train_data)\n",
        "x_test = vectorize_sequences(test_data)"
      ],
      "metadata": {
        "id": "IFml1LhPXCsk"
      },
      "execution_count": 4,
      "outputs": []
    },
    {
      "cell_type": "code",
      "source": [
        "y_train = np.asarray(train_labels).astype(\"float32\")\n",
        "y_test = np.asarray(test_labels).astype(\"float32\")"
      ],
      "metadata": {
        "id": "FCxmgWVYXHoD"
      },
      "execution_count": 5,
      "outputs": []
    },
    {
      "cell_type": "code",
      "source": [
        "y_train[:5]"
      ],
      "metadata": {
        "colab": {
          "base_uri": "https://localhost:8080/"
        },
        "id": "RMI28KpIXVYE",
        "outputId": "a3578ea0-3e04-4023-95a1-87ce480e2fad"
      },
      "execution_count": 6,
      "outputs": [
        {
          "output_type": "execute_result",
          "data": {
            "text/plain": [
              "array([1., 0., 0., 1., 0.], dtype=float32)"
            ]
          },
          "metadata": {},
          "execution_count": 6
        }
      ]
    },
    {
      "cell_type": "markdown",
      "source": [
        "**Original model**"
      ],
      "metadata": {
        "id": "yo-SMFKofEVb"
      }
    },
    {
      "cell_type": "code",
      "source": [
        "from tensorflow import keras\n",
        "from tensorflow.keras import layers\n",
        "\n",
        "model = keras.Sequential([\n",
        "    layers.Dense(16, activation=\"relu\"),\n",
        "    layers.Dense(16, activation=\"relu\"),\n",
        "    layers.Dense(1, activation=\"sigmoid\")\n",
        "])"
      ],
      "metadata": {
        "id": "xgDMHxOVXKRE"
      },
      "execution_count": 7,
      "outputs": []
    },
    {
      "cell_type": "code",
      "source": [
        "model.compile(optimizer=\"rmsprop\",\n",
        "              loss=\"binary_crossentropy\",\n",
        "              metrics=[\"accuracy\"])"
      ],
      "metadata": {
        "id": "tT4KACL9XdNE"
      },
      "execution_count": 8,
      "outputs": []
    },
    {
      "cell_type": "code",
      "source": [
        "x_val = x_train[:10000]\n",
        "partial_x_train = x_train[10000:]\n",
        "y_val = y_train[:10000]\n",
        "partial_y_train = y_train[10000:]"
      ],
      "metadata": {
        "id": "k-Ufwj3iXc8l"
      },
      "execution_count": 9,
      "outputs": []
    },
    {
      "cell_type": "code",
      "source": [
        "history = model.fit(partial_x_train,\n",
        "                    partial_y_train,\n",
        "                    epochs=20,\n",
        "                    batch_size=512,\n",
        "                    validation_data=(x_val, y_val))"
      ],
      "metadata": {
        "id": "5kJLbfX3Xp_U",
        "outputId": "62332638-e4bd-4ae7-8e4c-f14450317eaf",
        "colab": {
          "base_uri": "https://localhost:8080/"
        }
      },
      "execution_count": 10,
      "outputs": [
        {
          "output_type": "stream",
          "name": "stdout",
          "text": [
            "Epoch 1/20\n",
            "30/30 [==============================] - 5s 45ms/step - loss: 0.5176 - accuracy: 0.7963 - val_loss: 0.4066 - val_accuracy: 0.8565\n",
            "Epoch 2/20\n",
            "30/30 [==============================] - 1s 21ms/step - loss: 0.3138 - accuracy: 0.8990 - val_loss: 0.3127 - val_accuracy: 0.8840\n",
            "Epoch 3/20\n",
            "30/30 [==============================] - 1s 21ms/step - loss: 0.2329 - accuracy: 0.9251 - val_loss: 0.2811 - val_accuracy: 0.8924\n",
            "Epoch 4/20\n",
            "30/30 [==============================] - 1s 21ms/step - loss: 0.1859 - accuracy: 0.9389 - val_loss: 0.3107 - val_accuracy: 0.8737\n",
            "Epoch 5/20\n",
            "30/30 [==============================] - 1s 21ms/step - loss: 0.1523 - accuracy: 0.9507 - val_loss: 0.2784 - val_accuracy: 0.8897\n",
            "Epoch 6/20\n",
            "30/30 [==============================] - 1s 21ms/step - loss: 0.1283 - accuracy: 0.9600 - val_loss: 0.2847 - val_accuracy: 0.8875\n",
            "Epoch 7/20\n",
            "30/30 [==============================] - 1s 21ms/step - loss: 0.1067 - accuracy: 0.9668 - val_loss: 0.3073 - val_accuracy: 0.8847\n",
            "Epoch 8/20\n",
            "30/30 [==============================] - 1s 21ms/step - loss: 0.0915 - accuracy: 0.9719 - val_loss: 0.3169 - val_accuracy: 0.8818\n",
            "Epoch 9/20\n",
            "30/30 [==============================] - 1s 20ms/step - loss: 0.0738 - accuracy: 0.9805 - val_loss: 0.3372 - val_accuracy: 0.8798\n",
            "Epoch 10/20\n",
            "30/30 [==============================] - 1s 20ms/step - loss: 0.0620 - accuracy: 0.9838 - val_loss: 0.3612 - val_accuracy: 0.8791\n",
            "Epoch 11/20\n",
            "30/30 [==============================] - 1s 21ms/step - loss: 0.0530 - accuracy: 0.9867 - val_loss: 0.3846 - val_accuracy: 0.8789\n",
            "Epoch 12/20\n",
            "30/30 [==============================] - 1s 21ms/step - loss: 0.0418 - accuracy: 0.9901 - val_loss: 0.4198 - val_accuracy: 0.8730\n",
            "Epoch 13/20\n",
            "30/30 [==============================] - 1s 24ms/step - loss: 0.0351 - accuracy: 0.9911 - val_loss: 0.4454 - val_accuracy: 0.8745\n",
            "Epoch 14/20\n",
            "30/30 [==============================] - 1s 21ms/step - loss: 0.0275 - accuracy: 0.9947 - val_loss: 0.4686 - val_accuracy: 0.8731\n",
            "Epoch 15/20\n",
            "30/30 [==============================] - 1s 21ms/step - loss: 0.0224 - accuracy: 0.9957 - val_loss: 0.5051 - val_accuracy: 0.8719\n",
            "Epoch 16/20\n",
            "30/30 [==============================] - 1s 20ms/step - loss: 0.0165 - accuracy: 0.9976 - val_loss: 0.5553 - val_accuracy: 0.8701\n",
            "Epoch 17/20\n",
            "30/30 [==============================] - 1s 22ms/step - loss: 0.0135 - accuracy: 0.9981 - val_loss: 0.5847 - val_accuracy: 0.8657\n",
            "Epoch 18/20\n",
            "30/30 [==============================] - 1s 21ms/step - loss: 0.0113 - accuracy: 0.9985 - val_loss: 0.6187 - val_accuracy: 0.8637\n",
            "Epoch 19/20\n",
            "30/30 [==============================] - 1s 21ms/step - loss: 0.0077 - accuracy: 0.9994 - val_loss: 0.6429 - val_accuracy: 0.8677\n",
            "Epoch 20/20\n",
            "30/30 [==============================] - 1s 24ms/step - loss: 0.0070 - accuracy: 0.9992 - val_loss: 0.6764 - val_accuracy: 0.8643\n"
          ]
        }
      ]
    },
    {
      "cell_type": "markdown",
      "source": [
        "### Q1 Binary classification is multi-class classification with two classes so we can modify our model as below:"
      ],
      "metadata": {
        "id": "AFsXMZmW6e6F"
      }
    },
    {
      "cell_type": "code",
      "source": [
        "model2 = keras.Sequential([\n",
        "    layers.Dense(16, activation=\"relu\"),\n",
        "    layers.Dense(16, activation=\"relu\"),\n",
        "    layers.Dense(2, activation=\"softmax\")\n",
        "])"
      ],
      "metadata": {
        "id": "mXXKBxo36kPl"
      },
      "execution_count": 13,
      "outputs": []
    },
    {
      "cell_type": "markdown",
      "source": [
        "### Complete the codes for compile and model fitting. "
      ],
      "metadata": {
        "id": "PsOrD_13YWn1"
      }
    },
    {
      "cell_type": "code",
      "source": [
        "#model2.compile()\n",
        "\n",
        "model2.compile(optimizer = \"rmsprop\",\n",
        "               loss = \"sparse_categorical_crossentropy\",\n",
        "               metrics = [\"accuracy\"])\n",
        "\n",
        "\n",
        "\n",
        "#model2.fit()\n",
        "\n",
        "history = model2.fit(partial_x_train,\n",
        "                    partial_y_train,\n",
        "                    epochs = 20,\n",
        "                    batch_size = 512,\n",
        "                    validation_data = (x_val, y_val))\n",
        "\n"
      ],
      "metadata": {
        "id": "Hj4AauQvYT7F",
        "outputId": "7fb6964b-d2c1-463d-a851-37077af9de21",
        "colab": {
          "base_uri": "https://localhost:8080/"
        }
      },
      "execution_count": 15,
      "outputs": [
        {
          "output_type": "stream",
          "name": "stdout",
          "text": [
            "Epoch 1/20\n",
            "30/30 [==============================] - 2s 41ms/step - loss: 0.4700 - accuracy: 0.7977 - val_loss: 0.3505 - val_accuracy: 0.8687\n",
            "Epoch 2/20\n",
            "30/30 [==============================] - 1s 20ms/step - loss: 0.2700 - accuracy: 0.9053 - val_loss: 0.2962 - val_accuracy: 0.8850\n",
            "Epoch 3/20\n",
            "30/30 [==============================] - 1s 24ms/step - loss: 0.1972 - accuracy: 0.9327 - val_loss: 0.2800 - val_accuracy: 0.8882\n",
            "Epoch 4/20\n",
            "30/30 [==============================] - 1s 20ms/step - loss: 0.1606 - accuracy: 0.9447 - val_loss: 0.3086 - val_accuracy: 0.8781\n",
            "Epoch 5/20\n",
            "30/30 [==============================] - 1s 20ms/step - loss: 0.1254 - accuracy: 0.9597 - val_loss: 0.2937 - val_accuracy: 0.8842\n",
            "Epoch 6/20\n",
            "30/30 [==============================] - 1s 20ms/step - loss: 0.0987 - accuracy: 0.9696 - val_loss: 0.3315 - val_accuracy: 0.8735\n",
            "Epoch 7/20\n",
            "30/30 [==============================] - 1s 21ms/step - loss: 0.0812 - accuracy: 0.9762 - val_loss: 0.3739 - val_accuracy: 0.8675\n",
            "Epoch 8/20\n",
            "30/30 [==============================] - 1s 20ms/step - loss: 0.0714 - accuracy: 0.9786 - val_loss: 0.3581 - val_accuracy: 0.8783\n",
            "Epoch 9/20\n",
            "30/30 [==============================] - 1s 20ms/step - loss: 0.0446 - accuracy: 0.9899 - val_loss: 0.3971 - val_accuracy: 0.8722\n",
            "Epoch 10/20\n",
            "30/30 [==============================] - 1s 21ms/step - loss: 0.0410 - accuracy: 0.9897 - val_loss: 0.4995 - val_accuracy: 0.8633\n",
            "Epoch 11/20\n",
            "30/30 [==============================] - 1s 20ms/step - loss: 0.0330 - accuracy: 0.9920 - val_loss: 0.4499 - val_accuracy: 0.8759\n",
            "Epoch 12/20\n",
            "30/30 [==============================] - 1s 20ms/step - loss: 0.0248 - accuracy: 0.9949 - val_loss: 0.4778 - val_accuracy: 0.8746\n",
            "Epoch 13/20\n",
            "30/30 [==============================] - 1s 24ms/step - loss: 0.0169 - accuracy: 0.9977 - val_loss: 0.5123 - val_accuracy: 0.8713\n",
            "Epoch 14/20\n",
            "30/30 [==============================] - 1s 24ms/step - loss: 0.0214 - accuracy: 0.9951 - val_loss: 0.5441 - val_accuracy: 0.8715\n",
            "Epoch 15/20\n",
            "30/30 [==============================] - 1s 24ms/step - loss: 0.0070 - accuracy: 0.9997 - val_loss: 0.5857 - val_accuracy: 0.8711\n",
            "Epoch 16/20\n",
            "30/30 [==============================] - 1s 21ms/step - loss: 0.0159 - accuracy: 0.9961 - val_loss: 0.6043 - val_accuracy: 0.8669\n",
            "Epoch 17/20\n",
            "30/30 [==============================] - 1s 20ms/step - loss: 0.0040 - accuracy: 0.9999 - val_loss: 0.6338 - val_accuracy: 0.8689\n",
            "Epoch 18/20\n",
            "30/30 [==============================] - 1s 20ms/step - loss: 0.0108 - accuracy: 0.9968 - val_loss: 0.6673 - val_accuracy: 0.8660\n",
            "Epoch 19/20\n",
            "30/30 [==============================] - 1s 20ms/step - loss: 0.0021 - accuracy: 0.9999 - val_loss: 0.6968 - val_accuracy: 0.8688\n",
            "Epoch 20/20\n",
            "30/30 [==============================] - 1s 20ms/step - loss: 0.0077 - accuracy: 0.9976 - val_loss: 0.7424 - val_accuracy: 0.8628\n"
          ]
        }
      ]
    },
    {
      "cell_type": "markdown",
      "source": [
        "### Q2 Below is visualization of the validation loss. We can see overfitting after 5 epochs.  "
      ],
      "metadata": {
        "id": "6SGxXX70Ylr_"
      }
    },
    {
      "cell_type": "code",
      "source": [
        "import matplotlib.pyplot as plt\n",
        "history_dict = history.history\n",
        "loss_values = history_dict[\"loss\"]\n",
        "val_loss_values = history_dict[\"val_loss\"]\n",
        "epochs = range(1, len(loss_values) + 1)\n",
        "plt.plot(epochs, loss_values, \"bo\", label=\"Training loss\")\n",
        "plt.plot(epochs, val_loss_values, \"b\", label=\"Validation loss\")\n",
        "plt.title(\"Training and validation loss\")\n",
        "plt.xlabel(\"Epochs\")\n",
        "plt.ylabel(\"Loss\")\n",
        "plt.legend()\n",
        "plt.show()"
      ],
      "metadata": {
        "colab": {
          "base_uri": "https://localhost:8080/",
          "height": 295
        },
        "id": "X8rcODQ7Yk_E",
        "outputId": "9be65171-f510-472f-ec30-6c82a84b4731"
      },
      "execution_count": null,
      "outputs": [
        {
          "output_type": "display_data",
          "data": {
            "text/plain": [
              "<Figure size 432x288 with 1 Axes>"
            ],
            "image/png": "[encoded data removed]"
          },
          "metadata": {
            "needs_background": "light"
          }
        }
      ]
    },
    {
      "cell_type": "markdown",
      "source": [
        "### Add dropout layers and visualize the validation loss of your new model."
      ],
      "metadata": {
        "id": "4LbAGmB-aD-d"
      }
    },
    {
      "cell_type": "code",
      "source": [
        "## Add dropout layers \n",
        "\n",
        "model2_dr = keras.Sequential([\n",
        "    layers.Dense(16, activation=\"relu\"),\n",
        "    layers.Dropout(0.5),\n",
        "    layers.Dense(16, activation=\"relu\"),\n",
        "    layers.Dropout(0.5),\n",
        "    layers.Dense(2, activation=\"softmax\")\n",
        "])\n",
        "\n",
        "## retrain and visualize the validation loss of new model\n",
        "\n",
        "model2_dr.compile(optimizer = \"rmsprop\",\n",
        "                  loss = \"sparse_categorical_crossentropy\",\n",
        "                  metrics = [\"accuracy\"])\n",
        "\n",
        "history_dropout = model2_dr.fit(partial_x_train,\n",
        "                                partial_y_train,\n",
        "                                epochs = 20,\n",
        "                                batch_size = 512, \n",
        "                                validation_data = (x_val, y_val))\n"
      ],
      "metadata": {
        "id": "uY9QQxR1Z013",
        "outputId": "6208ce0c-b6be-47c2-f910-66b31476651d",
        "colab": {
          "base_uri": "https://localhost:8080/"
        }
      },
      "execution_count": 17,
      "outputs": [
        {
          "output_type": "stream",
          "name": "stdout",
          "text": [
            "Epoch 1/20\n",
            "30/30 [==============================] - 2s 46ms/step - loss: 0.6277 - accuracy: 0.6390 - val_loss: 0.5014 - val_accuracy: 0.8388\n",
            "Epoch 2/20\n",
            "30/30 [==============================] - 1s 21ms/step - loss: 0.5049 - accuracy: 0.7605 - val_loss: 0.3704 - val_accuracy: 0.8727\n",
            "Epoch 3/20\n",
            "30/30 [==============================] - 1s 25ms/step - loss: 0.4162 - accuracy: 0.8201 - val_loss: 0.3180 - val_accuracy: 0.8859\n",
            "Epoch 4/20\n",
            "30/30 [==============================] - 1s 21ms/step - loss: 0.3565 - accuracy: 0.8497 - val_loss: 0.2889 - val_accuracy: 0.8906\n",
            "Epoch 5/20\n",
            "30/30 [==============================] - 1s 21ms/step - loss: 0.3076 - accuracy: 0.8730 - val_loss: 0.2755 - val_accuracy: 0.8895\n",
            "Epoch 6/20\n",
            "30/30 [==============================] - 1s 21ms/step - loss: 0.2701 - accuracy: 0.8953 - val_loss: 0.2730 - val_accuracy: 0.8893\n",
            "Epoch 7/20\n",
            "30/30 [==============================] - 1s 21ms/step - loss: 0.2331 - accuracy: 0.9104 - val_loss: 0.2756 - val_accuracy: 0.8912\n",
            "Epoch 8/20\n",
            "30/30 [==============================] - 1s 23ms/step - loss: 0.2156 - accuracy: 0.9226 - val_loss: 0.2839 - val_accuracy: 0.8904\n",
            "Epoch 9/20\n",
            "30/30 [==============================] - 1s 22ms/step - loss: 0.1900 - accuracy: 0.9343 - val_loss: 0.3032 - val_accuracy: 0.8900\n",
            "Epoch 10/20\n",
            "30/30 [==============================] - 1s 25ms/step - loss: 0.1701 - accuracy: 0.9410 - val_loss: 0.3272 - val_accuracy: 0.8904\n",
            "Epoch 11/20\n",
            "30/30 [==============================] - 1s 20ms/step - loss: 0.1510 - accuracy: 0.9502 - val_loss: 0.3765 - val_accuracy: 0.8840\n",
            "Epoch 12/20\n",
            "30/30 [==============================] - 1s 20ms/step - loss: 0.1352 - accuracy: 0.9546 - val_loss: 0.3732 - val_accuracy: 0.8874\n",
            "Epoch 13/20\n",
            "30/30 [==============================] - 1s 20ms/step - loss: 0.1322 - accuracy: 0.9562 - val_loss: 0.4066 - val_accuracy: 0.8879\n",
            "Epoch 14/20\n",
            "30/30 [==============================] - 1s 20ms/step - loss: 0.1169 - accuracy: 0.9617 - val_loss: 0.4114 - val_accuracy: 0.8849\n",
            "Epoch 15/20\n",
            "30/30 [==============================] - 1s 20ms/step - loss: 0.1103 - accuracy: 0.9621 - val_loss: 0.4606 - val_accuracy: 0.8859\n",
            "Epoch 16/20\n",
            "30/30 [==============================] - 1s 20ms/step - loss: 0.1014 - accuracy: 0.9634 - val_loss: 0.4877 - val_accuracy: 0.8848\n",
            "Epoch 17/20\n",
            "30/30 [==============================] - 1s 24ms/step - loss: 0.1002 - accuracy: 0.9652 - val_loss: 0.5150 - val_accuracy: 0.8834\n",
            "Epoch 18/20\n",
            "30/30 [==============================] - 1s 21ms/step - loss: 0.0913 - accuracy: 0.9694 - val_loss: 0.5411 - val_accuracy: 0.8836\n",
            "Epoch 19/20\n",
            "30/30 [==============================] - 1s 20ms/step - loss: 0.0914 - accuracy: 0.9666 - val_loss: 0.5608 - val_accuracy: 0.8842\n",
            "Epoch 20/20\n",
            "30/30 [==============================] - 1s 20ms/step - loss: 0.0842 - accuracy: 0.9691 - val_loss: 0.6018 - val_accuracy: 0.8847\n"
          ]
        }
      ]
    },
    {
      "cell_type": "markdown",
      "source": [
        "### Q3 Add l1 regularization on the second dense layer from the original model below. "
      ],
      "metadata": {
        "id": "Xs7jKhJKahhM"
      }
    },
    {
      "cell_type": "code",
      "source": [
        "## Add l1 regularization on the second dense layers \n",
        "\n",
        "from tensorflow.keras import regularizers\n",
        "\n",
        "\n",
        "model2_dr = keras.Sequential([\n",
        "    layers.Dense(16, activation=\"relu\"),\n",
        "    layers.Dense(16, activation=\"relu\", \n",
        "                 kernel_regularizer = regularizers.l1(0.002)),    ### add l1 regularization here\n",
        "    layers.Dense(2, activation=\"softmax\")\n",
        "])\n"
      ],
      "metadata": {
        "id": "VeuwleNJa9r9"
      },
      "execution_count": 18,
      "outputs": []
    },
    {
      "cell_type": "markdown",
      "source": [
        "### Finish the training and compare the dropout model(model from Q2) and l1 regularization model after visualizing their validation losses."
      ],
      "metadata": {
        "id": "e9yx1WLrbJUd"
      }
    },
    {
      "cell_type": "code",
      "source": [
        "# finish the training\n",
        "\n",
        "model2.compile(optimizer = \"rmsprop\",\n",
        "               loss = \"sparse_categorical_crossentropy\",\n",
        "               metrics = [\"accuracy\"])\n",
        "\n",
        "history_l1_reg = model2.fit(partial_x_train,\n",
        "                    partial_y_train,\n",
        "                    epochs = 20,\n",
        "                    batch_size = 512,\n",
        "                    validation_data = (x_val, y_val))"
      ],
      "metadata": {
        "id": "EyL_jfmNbWe_",
        "outputId": "f0cd883d-fad5-4415-a79e-c89849fd9adf",
        "colab": {
          "base_uri": "https://localhost:8080/"
        }
      },
      "execution_count": 19,
      "outputs": [
        {
          "output_type": "stream",
          "name": "stdout",
          "text": [
            "Epoch 1/20\n",
            "30/30 [==============================] - 2s 52ms/step - loss: 0.0182 - accuracy: 0.9957 - val_loss: 0.7607 - val_accuracy: 0.8667\n",
            "Epoch 2/20\n",
            "30/30 [==============================] - 1s 20ms/step - loss: 0.0011 - accuracy: 1.0000 - val_loss: 0.7856 - val_accuracy: 0.8664\n",
            "Epoch 3/20\n",
            "30/30 [==============================] - 1s 20ms/step - loss: 8.1450e-04 - accuracy: 1.0000 - val_loss: 0.8504 - val_accuracy: 0.8623\n",
            "Epoch 4/20\n",
            "30/30 [==============================] - 1s 20ms/step - loss: 0.0043 - accuracy: 0.9988 - val_loss: 0.8789 - val_accuracy: 0.8651\n",
            "Epoch 5/20\n",
            "30/30 [==============================] - 1s 24ms/step - loss: 3.8803e-04 - accuracy: 1.0000 - val_loss: 0.9056 - val_accuracy: 0.8647\n",
            "Epoch 6/20\n",
            "30/30 [==============================] - 1s 20ms/step - loss: 2.9686e-04 - accuracy: 1.0000 - val_loss: 0.9657 - val_accuracy: 0.8584\n",
            "Epoch 7/20\n",
            "30/30 [==============================] - 1s 20ms/step - loss: 0.0065 - accuracy: 0.9979 - val_loss: 1.0124 - val_accuracy: 0.8622\n",
            "Epoch 8/20\n",
            "30/30 [==============================] - 1s 20ms/step - loss: 1.3432e-04 - accuracy: 1.0000 - val_loss: 1.0254 - val_accuracy: 0.8632\n",
            "Epoch 9/20\n",
            "30/30 [==============================] - 1s 21ms/step - loss: 1.0827e-04 - accuracy: 1.0000 - val_loss: 1.0462 - val_accuracy: 0.8619\n",
            "Epoch 10/20\n",
            "30/30 [==============================] - 1s 21ms/step - loss: 8.6980e-05 - accuracy: 1.0000 - val_loss: 1.0846 - val_accuracy: 0.8603\n",
            "Epoch 11/20\n",
            "30/30 [==============================] - 1s 21ms/step - loss: 0.0042 - accuracy: 0.9989 - val_loss: 1.1460 - val_accuracy: 0.8605\n",
            "Epoch 12/20\n",
            "30/30 [==============================] - 1s 20ms/step - loss: 6.9036e-05 - accuracy: 1.0000 - val_loss: 1.1475 - val_accuracy: 0.8602\n",
            "Epoch 13/20\n",
            "30/30 [==============================] - 1s 20ms/step - loss: 4.3520e-05 - accuracy: 1.0000 - val_loss: 1.1638 - val_accuracy: 0.8607\n",
            "Epoch 14/20\n",
            "30/30 [==============================] - 1s 20ms/step - loss: 3.3674e-05 - accuracy: 1.0000 - val_loss: 1.1935 - val_accuracy: 0.8593\n",
            "Epoch 15/20\n",
            "30/30 [==============================] - 1s 20ms/step - loss: 2.4451e-05 - accuracy: 1.0000 - val_loss: 1.2887 - val_accuracy: 0.8534\n",
            "Epoch 16/20\n",
            "30/30 [==============================] - 1s 20ms/step - loss: 0.0022 - accuracy: 0.9991 - val_loss: 1.3235 - val_accuracy: 0.8563\n",
            "Epoch 17/20\n",
            "30/30 [==============================] - 1s 20ms/step - loss: 2.4549e-05 - accuracy: 1.0000 - val_loss: 1.3220 - val_accuracy: 0.8566\n",
            "Epoch 18/20\n",
            "30/30 [==============================] - 1s 21ms/step - loss: 1.4058e-05 - accuracy: 1.0000 - val_loss: 1.3296 - val_accuracy: 0.8568\n",
            "Epoch 19/20\n",
            "30/30 [==============================] - 1s 24ms/step - loss: 1.0117e-05 - accuracy: 1.0000 - val_loss: 1.3484 - val_accuracy: 0.8577\n",
            "Epoch 20/20\n",
            "30/30 [==============================] - 1s 25ms/step - loss: 7.1863e-06 - accuracy: 1.0000 - val_loss: 1.3884 - val_accuracy: 0.8571\n"
          ]
        }
      ]
    },
    {
      "cell_type": "code",
      "source": [
        "# Visualization of dropout and l1 regularization model\n",
        "\n",
        "import matplotlib.pyplot as plt\n",
        "\n",
        "\n",
        "# history_dict = history.history                                                  # for the original model\n",
        "history_dict_dr = history_dropout.history\n",
        "history_dict_l1 = history_l1_reg.history\n",
        "\n",
        "# val_loss_values = history_dict[\"val_loss\"]\n",
        "val_loss_values_dr = history_dict_dr[\"val_loss\"]\n",
        "val_loss_values_l1 = history_dict_l1[\"val_loss\"]\n",
        "epochs = range(1, len(val_loss_values) + 1)\n",
        "\n",
        "# plt.plot(epochs, val_loss_values, \"b\", label=\"Validation loss of original model\")\n",
        "plt.plot(epochs, val_loss_values_dr, \"b--\", label=\"Validation loss of dropout model\")\n",
        "plt.plot(epochs, val_loss_values_l1, \"bo\", label=\"Validation loss of l1 model\")\n",
        "plt.title(\"Validation loss of dropout and l1 regularization model\")\n",
        "plt.xlabel(\"Epochs\")\n",
        "plt.ylabel(\"Loss\")\n",
        "plt.legend()\n",
        "plt.show()"
      ],
      "metadata": {
        "id": "JQZPPqy49RVh",
        "outputId": "b8f115d3-602f-482a-e072-ad5af8be1b61",
        "colab": {
          "base_uri": "https://localhost:8080/",
          "height": 295
        }
      },
      "execution_count": 28,
      "outputs": [
        {
          "output_type": "display_data",
          "data": {
            "text/plain": [
              "<Figure size 432x288 with 1 Axes>"
            ],
            "image/png": "[encoded data removed]"
          },
          "metadata": {
            "needs_background": "light"
          }
        }
      ]
    },
    {
      "cell_type": "markdown",
      "source": [
        "Plot above is the validation loss of dropout and l1 regularization model. \n",
        "\n",
        "- **Dropout model** seems to be overfitted since the validaion loss increases drastically. \n",
        "- On the other hand, **l1 regularization model** is more robust than dropout model. Overfitting starts later(at epoch #5) than dropout model(at epoch #2).\n",
        "\n",
        "In conclusion, l1 regularized model performs better than dropout model."
      ],
      "metadata": {
        "id": "nXt3_gUHBZeY"
      }
    }
  ]
}